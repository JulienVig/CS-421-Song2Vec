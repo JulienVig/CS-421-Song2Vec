{
 "cells": [
  {
   "cell_type": "code",
   "execution_count": 1,
   "id": "hawaiian-palmer",
   "metadata": {
    "ExecuteTime": {
     "end_time": "2021-06-10T10:12:07.987352Z",
     "start_time": "2021-06-10T10:12:05.183162Z"
    }
   },
   "outputs": [],
   "source": [
    "import pandas as pd\n",
    "from gensim.models import Word2Vec\n",
    "import matplotlib.pyplot as plt\n",
    "from tqdm import tqdm\n",
    "import seaborn as sns\n",
    "import numpy as np\n",
    "from scipy.spatial import distance\n",
    "from sklearn.decomposition import PCA\n",
    "from sklearn.cluster import KMeans\n",
    "from sklearn.metrics import silhouette_score\n",
    "from sklearn.neighbors import kneighbors_graph\n",
    "\n",
    "from utils import load_model, build_vocab"
   ]
  },
  {
   "cell_type": "code",
   "execution_count": 3,
   "id": "opening-lawyer",
   "metadata": {
    "ExecuteTime": {
     "end_time": "2021-05-01T13:23:52.736374Z",
     "start_time": "2021-05-01T13:23:52.732178Z"
    }
   },
   "outputs": [],
   "source": [
    "SEED = 42"
   ]
  },
  {
   "cell_type": "code",
   "execution_count": 5,
   "id": "studied-modification",
   "metadata": {
    "ExecuteTime": {
     "end_time": "2021-05-01T13:16:51.808983Z",
     "start_time": "2021-05-01T13:16:43.167018Z"
    }
   },
   "outputs": [],
   "source": [
    "emb_vectors, model = load_model(\"data/word2vec/word2vec.model\")\n",
    "X = np.array([list(v) for k, v in emb_vectors.items()])"
   ]
  },
  {
   "cell_type": "markdown",
   "id": "changed-shield",
   "metadata": {},
   "source": [
    "## Getting song information"
   ]
  },
  {
   "cell_type": "code",
   "execution_count": 6,
   "id": "critical-performance",
   "metadata": {},
   "outputs": [],
   "source": [
    "song_ids = np.array([k for k, v in emb_vectors.items()])"
   ]
  },
  {
   "cell_type": "code",
   "execution_count": 7,
   "id": "devoted-bahamas",
   "metadata": {},
   "outputs": [],
   "source": [
    "sample = pd.read_pickle('data/pickle/sample')"
   ]
  },
  {
   "cell_type": "code",
   "execution_count": 9,
   "id": "super-uniform",
   "metadata": {},
   "outputs": [
    {
     "data": {
      "text/plain": [
       "(19098850, 7)"
      ]
     },
     "execution_count": 9,
     "metadata": {},
     "output_type": "execute_result"
    }
   ],
   "source": [
    "sample.shape"
   ]
  },
  {
   "cell_type": "code",
   "execution_count": 20,
   "id": "derived-expression",
   "metadata": {},
   "outputs": [],
   "source": [
    "sample2 = sample.drop(columns=['user_id', 'timestamp', 'artist_id','track_id'])"
   ]
  },
  {
   "cell_type": "code",
   "execution_count": 25,
   "id": "dense-fisher",
   "metadata": {},
   "outputs": [],
   "source": [
    "count = sample2.value_counts(['artist_name', 'track_name'])"
   ]
  },
  {
   "cell_type": "code",
   "execution_count": 37,
   "id": "equivalent-andrews",
   "metadata": {},
   "outputs": [],
   "source": [
    "song_counts = pd.DataFrame(count)"
   ]
  },
  {
   "cell_type": "code",
   "execution_count": 34,
   "id": "spoken-ribbon",
   "metadata": {},
   "outputs": [],
   "source": [
    "sample_songs = sample.drop(columns=['user_id', 'timestamp', 'artist_id','track_id'])\n",
    "sample_songs = sample_songs.drop_duplicates(subset=['song_id'])\n",
    "sample_songs = sample_songs[sample_songs['song_id'].isin(song_ids)]"
   ]
  },
  {
   "cell_type": "code",
   "execution_count": 39,
   "id": "concrete-march",
   "metadata": {},
   "outputs": [],
   "source": [
    "sample_songs = pd.merge(sample_songs, song_counts, how='left', on=['artist_name','track_name'])"
   ]
  },
  {
   "cell_type": "code",
   "execution_count": 62,
   "id": "disabled-explanation",
   "metadata": {},
   "outputs": [],
   "source": [
    "sample_songs = sample_songs.rename(columns={0: \"occur\"})"
   ]
  },
  {
   "cell_type": "code",
   "execution_count": 41,
   "id": "occupied-infrastructure",
   "metadata": {},
   "outputs": [],
   "source": [
    "song_id_dict = {}\n",
    "for i in range(len(song_ids)):\n",
    "    song_id_dict[song_ids[i]] = i "
   ]
  },
  {
   "cell_type": "code",
   "execution_count": 42,
   "id": "dried-bibliography",
   "metadata": {},
   "outputs": [],
   "source": [
    "sample_songs['X_index'] = sample_songs['song_id'].map(song_id_dict)"
   ]
  },
  {
   "cell_type": "code",
   "execution_count": 43,
   "id": "restricted-thing",
   "metadata": {},
   "outputs": [],
   "source": [
    "sample_songs = sample_songs.set_index('X_index')"
   ]
  },
  {
   "cell_type": "code",
   "execution_count": 44,
   "id": "north-pierce",
   "metadata": {},
   "outputs": [
    {
     "data": {
      "text/html": [
       "<div>\n",
       "<style scoped>\n",
       "    .dataframe tbody tr th:only-of-type {\n",
       "        vertical-align: middle;\n",
       "    }\n",
       "\n",
       "    .dataframe tbody tr th {\n",
       "        vertical-align: top;\n",
       "    }\n",
       "\n",
       "    .dataframe thead th {\n",
       "        text-align: right;\n",
       "    }\n",
       "</style>\n",
       "<table border=\"1\" class=\"dataframe\">\n",
       "  <thead>\n",
       "    <tr style=\"text-align: right;\">\n",
       "      <th></th>\n",
       "      <th>artist_name</th>\n",
       "      <th>track_name</th>\n",
       "      <th>song_id</th>\n",
       "      <th>0</th>\n",
       "    </tr>\n",
       "    <tr>\n",
       "      <th>X_index</th>\n",
       "      <th></th>\n",
       "      <th></th>\n",
       "      <th></th>\n",
       "      <th></th>\n",
       "    </tr>\n",
       "  </thead>\n",
       "  <tbody>\n",
       "    <tr>\n",
       "      <th>0</th>\n",
       "      <td>The Postal Service</td>\n",
       "      <td>Such Great Heights</td>\n",
       "      <td>4616724870</td>\n",
       "      <td>3991</td>\n",
       "    </tr>\n",
       "    <tr>\n",
       "      <th>1</th>\n",
       "      <td>Boy Division</td>\n",
       "      <td>Love Will Tear Us Apart</td>\n",
       "      <td>670684783</td>\n",
       "      <td>3651</td>\n",
       "    </tr>\n",
       "    <tr>\n",
       "      <th>2</th>\n",
       "      <td>Radiohead</td>\n",
       "      <td>Karma Police</td>\n",
       "      <td>3583077772</td>\n",
       "      <td>3533</td>\n",
       "    </tr>\n",
       "    <tr>\n",
       "      <th>3</th>\n",
       "      <td>Death Cab For Cutie</td>\n",
       "      <td>Soul Meets Body</td>\n",
       "      <td>1166923991</td>\n",
       "      <td>3479</td>\n",
       "    </tr>\n",
       "    <tr>\n",
       "      <th>4</th>\n",
       "      <td>Muse</td>\n",
       "      <td>Supermassive Black Hole</td>\n",
       "      <td>3090101702</td>\n",
       "      <td>3463</td>\n",
       "    </tr>\n",
       "    <tr>\n",
       "      <th>...</th>\n",
       "      <td>...</td>\n",
       "      <td>...</td>\n",
       "      <td>...</td>\n",
       "      <td>...</td>\n",
       "    </tr>\n",
       "    <tr>\n",
       "      <th>527547</th>\n",
       "      <td>Dylan Vs Korn</td>\n",
       "      <td>Falling Away (Dylan Remix)</td>\n",
       "      <td>132745488902</td>\n",
       "      <td>5</td>\n",
       "    </tr>\n",
       "    <tr>\n",
       "      <th>527548</th>\n",
       "      <td>Dream Theater</td>\n",
       "      <td>Disposable Heroes</td>\n",
       "      <td>1386951220</td>\n",
       "      <td>5</td>\n",
       "    </tr>\n",
       "    <tr>\n",
       "      <th>527549</th>\n",
       "      <td>Britney Spears</td>\n",
       "      <td>Body And Soul</td>\n",
       "      <td>703180912</td>\n",
       "      <td>5</td>\n",
       "    </tr>\n",
       "    <tr>\n",
       "      <th>527550</th>\n",
       "      <td>Drumsound &amp; Simon 'Bassline' Smith</td>\n",
       "      <td>Feel The Sunset</td>\n",
       "      <td>40207629099</td>\n",
       "      <td>5</td>\n",
       "    </tr>\n",
       "    <tr>\n",
       "      <th>527551</th>\n",
       "      <td>Cake</td>\n",
       "      <td>War Pigs (Live) (Feat. Steven Drozd)</td>\n",
       "      <td>760112365</td>\n",
       "      <td>5</td>\n",
       "    </tr>\n",
       "  </tbody>\n",
       "</table>\n",
       "<p>527552 rows × 4 columns</p>\n",
       "</div>"
      ],
      "text/plain": [
       "                                artist_name  \\\n",
       "X_index                                       \n",
       "0                        The Postal Service   \n",
       "1                              Boy Division   \n",
       "2                                 Radiohead   \n",
       "3                       Death Cab For Cutie   \n",
       "4                                      Muse   \n",
       "...                                     ...   \n",
       "527547                        Dylan Vs Korn   \n",
       "527548                        Dream Theater   \n",
       "527549                       Britney Spears   \n",
       "527550   Drumsound & Simon 'Bassline' Smith   \n",
       "527551                                 Cake   \n",
       "\n",
       "                                   track_name       song_id     0  \n",
       "X_index                                                            \n",
       "0                          Such Great Heights    4616724870  3991  \n",
       "1                     Love Will Tear Us Apart     670684783  3651  \n",
       "2                                Karma Police    3583077772  3533  \n",
       "3                             Soul Meets Body    1166923991  3479  \n",
       "4                     Supermassive Black Hole    3090101702  3463  \n",
       "...                                       ...           ...   ...  \n",
       "527547             Falling Away (Dylan Remix)  132745488902     5  \n",
       "527548                      Disposable Heroes    1386951220     5  \n",
       "527549                          Body And Soul     703180912     5  \n",
       "527550                        Feel The Sunset   40207629099     5  \n",
       "527551   War Pigs (Live) (Feat. Steven Drozd)     760112365     5  \n",
       "\n",
       "[527552 rows x 4 columns]"
      ]
     },
     "execution_count": 44,
     "metadata": {},
     "output_type": "execute_result"
    }
   ],
   "source": [
    "sample_songs = sample_songs.sort_index()\n",
    "sample_songs"
   ]
  },
  {
   "cell_type": "code",
   "execution_count": 45,
   "id": "underlying-intention",
   "metadata": {},
   "outputs": [],
   "source": [
    "song_tags = pd.read_pickle('data/pickle/song_tags_top1')"
   ]
  },
  {
   "cell_type": "code",
   "execution_count": 46,
   "id": "legendary-complement",
   "metadata": {},
   "outputs": [
    {
     "data": {
      "text/html": [
       "<div>\n",
       "<style scoped>\n",
       "    .dataframe tbody tr th:only-of-type {\n",
       "        vertical-align: middle;\n",
       "    }\n",
       "\n",
       "    .dataframe tbody tr th {\n",
       "        vertical-align: top;\n",
       "    }\n",
       "\n",
       "    .dataframe thead th {\n",
       "        text-align: right;\n",
       "    }\n",
       "</style>\n",
       "<table border=\"1\" class=\"dataframe\">\n",
       "  <thead>\n",
       "    <tr style=\"text-align: right;\">\n",
       "      <th></th>\n",
       "      <th>user_id</th>\n",
       "      <th>timestamp</th>\n",
       "      <th>artist_id</th>\n",
       "      <th>artist_name</th>\n",
       "      <th>track_id</th>\n",
       "      <th>track_name</th>\n",
       "      <th>top_tag</th>\n",
       "    </tr>\n",
       "  </thead>\n",
       "  <tbody>\n",
       "    <tr>\n",
       "      <th>0</th>\n",
       "      <td>user_000001</td>\n",
       "      <td>2009-05-04 23:08:57+00:00</td>\n",
       "      <td>f1b1cf71-bd35-4e99-8624-24a6e15f133a</td>\n",
       "      <td>Deep Dish</td>\n",
       "      <td>NaN</td>\n",
       "      <td>Fuck Me Im Famous (Pacha Ibiza)-09-28-2007</td>\n",
       "      <td>dance</td>\n",
       "    </tr>\n",
       "    <tr>\n",
       "      <th>1</th>\n",
       "      <td>user_000001</td>\n",
       "      <td>2009-05-04 13:54:10+00:00</td>\n",
       "      <td>a7f7df4a-77d8-4f12-8acd-5c60c93f4de8</td>\n",
       "      <td>坂本龍一</td>\n",
       "      <td>NaN</td>\n",
       "      <td>Composition 0919 (Live_2009_4_15)</td>\n",
       "      <td></td>\n",
       "    </tr>\n",
       "    <tr>\n",
       "      <th>2</th>\n",
       "      <td>user_000001</td>\n",
       "      <td>2009-04-25 14:09:18+00:00</td>\n",
       "      <td>a7f7df4a-77d8-4f12-8acd-5c60c93f4de8</td>\n",
       "      <td>坂本龍一</td>\n",
       "      <td>NaN</td>\n",
       "      <td>Composition 0919 (Live_2009_4_15)</td>\n",
       "      <td></td>\n",
       "    </tr>\n",
       "    <tr>\n",
       "      <th>3</th>\n",
       "      <td>user_000001</td>\n",
       "      <td>2009-04-21 18:23:34+00:00</td>\n",
       "      <td>a7f7df4a-77d8-4f12-8acd-5c60c93f4de8</td>\n",
       "      <td>坂本龍一</td>\n",
       "      <td>NaN</td>\n",
       "      <td>Composition 0919 (Live_2009_4_15)</td>\n",
       "      <td></td>\n",
       "    </tr>\n",
       "    <tr>\n",
       "      <th>4</th>\n",
       "      <td>user_000001</td>\n",
       "      <td>2009-04-20 13:27:17+00:00</td>\n",
       "      <td>a7f7df4a-77d8-4f12-8acd-5c60c93f4de8</td>\n",
       "      <td>坂本龍一</td>\n",
       "      <td>NaN</td>\n",
       "      <td>Composition 0919 (Live_2009_4_15)</td>\n",
       "      <td></td>\n",
       "    </tr>\n",
       "  </tbody>\n",
       "</table>\n",
       "</div>"
      ],
      "text/plain": [
       "       user_id                 timestamp  \\\n",
       "0  user_000001 2009-05-04 23:08:57+00:00   \n",
       "1  user_000001 2009-05-04 13:54:10+00:00   \n",
       "2  user_000001 2009-04-25 14:09:18+00:00   \n",
       "3  user_000001 2009-04-21 18:23:34+00:00   \n",
       "4  user_000001 2009-04-20 13:27:17+00:00   \n",
       "\n",
       "                              artist_id artist_name track_id  \\\n",
       "0  f1b1cf71-bd35-4e99-8624-24a6e15f133a   Deep Dish      NaN   \n",
       "1  a7f7df4a-77d8-4f12-8acd-5c60c93f4de8        坂本龍一      NaN   \n",
       "2  a7f7df4a-77d8-4f12-8acd-5c60c93f4de8        坂本龍一      NaN   \n",
       "3  a7f7df4a-77d8-4f12-8acd-5c60c93f4de8        坂本龍一      NaN   \n",
       "4  a7f7df4a-77d8-4f12-8acd-5c60c93f4de8        坂本龍一      NaN   \n",
       "\n",
       "                                   track_name top_tag  \n",
       "0  Fuck Me Im Famous (Pacha Ibiza)-09-28-2007   dance  \n",
       "1           Composition 0919 (Live_2009_4_15)          \n",
       "2           Composition 0919 (Live_2009_4_15)          \n",
       "3           Composition 0919 (Live_2009_4_15)          \n",
       "4           Composition 0919 (Live_2009_4_15)          "
      ]
     },
     "execution_count": 46,
     "metadata": {},
     "output_type": "execute_result"
    }
   ],
   "source": [
    "song_tags.head()"
   ]
  },
  {
   "cell_type": "code",
   "execution_count": 47,
   "id": "single-tracy",
   "metadata": {},
   "outputs": [],
   "source": [
    "song_tags = song_tags.drop_duplicates(subset=['track_name'])"
   ]
  },
  {
   "cell_type": "code",
   "execution_count": 48,
   "id": "impossible-trading",
   "metadata": {},
   "outputs": [],
   "source": [
    "song_tags = song_tags.drop(columns=['user_id', 'timestamp', 'artist_id','track_id'])"
   ]
  },
  {
   "cell_type": "code",
   "execution_count": 49,
   "id": "accurate-franchise",
   "metadata": {},
   "outputs": [],
   "source": [
    "sample_songs = pd.merge(sample_songs, song_tags, how='left', on=['artist_name','track_name'])"
   ]
  },
  {
   "cell_type": "code",
   "execution_count": 63,
   "id": "liberal-aluminum",
   "metadata": {},
   "outputs": [
    {
     "data": {
      "text/html": [
       "<div>\n",
       "<style scoped>\n",
       "    .dataframe tbody tr th:only-of-type {\n",
       "        vertical-align: middle;\n",
       "    }\n",
       "\n",
       "    .dataframe tbody tr th {\n",
       "        vertical-align: top;\n",
       "    }\n",
       "\n",
       "    .dataframe thead th {\n",
       "        text-align: right;\n",
       "    }\n",
       "</style>\n",
       "<table border=\"1\" class=\"dataframe\">\n",
       "  <thead>\n",
       "    <tr style=\"text-align: right;\">\n",
       "      <th></th>\n",
       "      <th>artist_name</th>\n",
       "      <th>track_name</th>\n",
       "      <th>song_id</th>\n",
       "      <th>occur</th>\n",
       "      <th>top_tag</th>\n",
       "    </tr>\n",
       "  </thead>\n",
       "  <tbody>\n",
       "    <tr>\n",
       "      <th>0</th>\n",
       "      <td>The Postal Service</td>\n",
       "      <td>Such Great Heights</td>\n",
       "      <td>4616724870</td>\n",
       "      <td>3991</td>\n",
       "      <td>NaN</td>\n",
       "    </tr>\n",
       "    <tr>\n",
       "      <th>1</th>\n",
       "      <td>Boy Division</td>\n",
       "      <td>Love Will Tear Us Apart</td>\n",
       "      <td>670684783</td>\n",
       "      <td>3651</td>\n",
       "      <td>rock</td>\n",
       "    </tr>\n",
       "    <tr>\n",
       "      <th>2</th>\n",
       "      <td>Radiohead</td>\n",
       "      <td>Karma Police</td>\n",
       "      <td>3583077772</td>\n",
       "      <td>3533</td>\n",
       "      <td>alternative</td>\n",
       "    </tr>\n",
       "    <tr>\n",
       "      <th>3</th>\n",
       "      <td>Death Cab For Cutie</td>\n",
       "      <td>Soul Meets Body</td>\n",
       "      <td>1166923991</td>\n",
       "      <td>3479</td>\n",
       "      <td>indie</td>\n",
       "    </tr>\n",
       "    <tr>\n",
       "      <th>4</th>\n",
       "      <td>Muse</td>\n",
       "      <td>Supermassive Black Hole</td>\n",
       "      <td>3090101702</td>\n",
       "      <td>3463</td>\n",
       "      <td>alternative rock</td>\n",
       "    </tr>\n",
       "  </tbody>\n",
       "</table>\n",
       "</div>"
      ],
      "text/plain": [
       "           artist_name               track_name     song_id  occur  \\\n",
       "0   The Postal Service       Such Great Heights  4616724870   3991   \n",
       "1         Boy Division  Love Will Tear Us Apart   670684783   3651   \n",
       "2            Radiohead             Karma Police  3583077772   3533   \n",
       "3  Death Cab For Cutie          Soul Meets Body  1166923991   3479   \n",
       "4                 Muse  Supermassive Black Hole  3090101702   3463   \n",
       "\n",
       "            top_tag  \n",
       "0               NaN  \n",
       "1              rock  \n",
       "2       alternative  \n",
       "3             indie  \n",
       "4  alternative rock  "
      ]
     },
     "execution_count": 63,
     "metadata": {},
     "output_type": "execute_result"
    }
   ],
   "source": [
    "sample_songs.head()"
   ]
  },
  {
   "cell_type": "code",
   "execution_count": 144,
   "id": "suspected-ethnic",
   "metadata": {},
   "outputs": [],
   "source": [
    "usr_counts = sample[['user_id', 'song_id']]\n",
    "usr_counts = usr_counts.drop_duplicates()\n",
    "usr_counts = usr_counts.value_counts('song_id')\n",
    "usr_counts_df = pd.DataFrame(usr_counts, columns=['usr_count'])"
   ]
  },
  {
   "cell_type": "code",
   "execution_count": 145,
   "id": "fresh-marathon",
   "metadata": {},
   "outputs": [],
   "source": [
    "sample_songs = pd.merge(sample_songs, usr_counts_df, how='left', on=['song_id'])"
   ]
  },
  {
   "cell_type": "code",
   "execution_count": 163,
   "id": "improved-device",
   "metadata": {},
   "outputs": [
    {
     "data": {
      "text/html": [
       "<div>\n",
       "<style scoped>\n",
       "    .dataframe tbody tr th:only-of-type {\n",
       "        vertical-align: middle;\n",
       "    }\n",
       "\n",
       "    .dataframe tbody tr th {\n",
       "        vertical-align: top;\n",
       "    }\n",
       "\n",
       "    .dataframe thead th {\n",
       "        text-align: right;\n",
       "    }\n",
       "</style>\n",
       "<table border=\"1\" class=\"dataframe\">\n",
       "  <thead>\n",
       "    <tr style=\"text-align: right;\">\n",
       "      <th></th>\n",
       "      <th>artist_name</th>\n",
       "      <th>track_name</th>\n",
       "      <th>song_id</th>\n",
       "      <th>occur</th>\n",
       "      <th>top_tag</th>\n",
       "      <th>usr_count</th>\n",
       "      <th>usr_spread</th>\n",
       "      <th>avg_listens</th>\n",
       "    </tr>\n",
       "  </thead>\n",
       "  <tbody>\n",
       "    <tr>\n",
       "      <th>0</th>\n",
       "      <td>The Postal Service</td>\n",
       "      <td>Such Great Heights</td>\n",
       "      <td>4616724870</td>\n",
       "      <td>3991</td>\n",
       "      <td>NaN</td>\n",
       "      <td>321</td>\n",
       "      <td>0.324</td>\n",
       "      <td>12.4</td>\n",
       "    </tr>\n",
       "    <tr>\n",
       "      <th>1</th>\n",
       "      <td>Boy Division</td>\n",
       "      <td>Love Will Tear Us Apart</td>\n",
       "      <td>670684783</td>\n",
       "      <td>3651</td>\n",
       "      <td>rock</td>\n",
       "      <td>318</td>\n",
       "      <td>0.321</td>\n",
       "      <td>11.5</td>\n",
       "    </tr>\n",
       "    <tr>\n",
       "      <th>2</th>\n",
       "      <td>Radiohead</td>\n",
       "      <td>Karma Police</td>\n",
       "      <td>3583077772</td>\n",
       "      <td>3533</td>\n",
       "      <td>alternative</td>\n",
       "      <td>346</td>\n",
       "      <td>0.349</td>\n",
       "      <td>10.2</td>\n",
       "    </tr>\n",
       "    <tr>\n",
       "      <th>3</th>\n",
       "      <td>Death Cab For Cutie</td>\n",
       "      <td>Soul Meets Body</td>\n",
       "      <td>1166923991</td>\n",
       "      <td>3479</td>\n",
       "      <td>indie</td>\n",
       "      <td>233</td>\n",
       "      <td>0.235</td>\n",
       "      <td>14.9</td>\n",
       "    </tr>\n",
       "    <tr>\n",
       "      <th>4</th>\n",
       "      <td>Muse</td>\n",
       "      <td>Supermassive Black Hole</td>\n",
       "      <td>3090101702</td>\n",
       "      <td>3463</td>\n",
       "      <td>alternative rock</td>\n",
       "      <td>263</td>\n",
       "      <td>0.265</td>\n",
       "      <td>13.2</td>\n",
       "    </tr>\n",
       "  </tbody>\n",
       "</table>\n",
       "</div>"
      ],
      "text/plain": [
       "           artist_name               track_name     song_id  occur  \\\n",
       "0   The Postal Service       Such Great Heights  4616724870   3991   \n",
       "1         Boy Division  Love Will Tear Us Apart   670684783   3651   \n",
       "2            Radiohead             Karma Police  3583077772   3533   \n",
       "3  Death Cab For Cutie          Soul Meets Body  1166923991   3479   \n",
       "4                 Muse  Supermassive Black Hole  3090101702   3463   \n",
       "\n",
       "            top_tag  usr_count  usr_spread  avg_listens  \n",
       "0               NaN        321       0.324         12.4  \n",
       "1              rock        318       0.321         11.5  \n",
       "2       alternative        346       0.349         10.2  \n",
       "3             indie        233       0.235         14.9  \n",
       "4  alternative rock        263       0.265         13.2  "
      ]
     },
     "execution_count": 163,
     "metadata": {},
     "output_type": "execute_result"
    }
   ],
   "source": [
    "sample_songs.head()"
   ]
  },
  {
   "cell_type": "code",
   "execution_count": 162,
   "id": "breeding-wallace",
   "metadata": {},
   "outputs": [],
   "source": [
    "sample_songs['usr_spread'] = np.round(sample_songs['usr_count'] / sample['user_id'].nunique(), 3)"
   ]
  },
  {
   "cell_type": "code",
   "execution_count": 160,
   "id": "applied-johnston",
   "metadata": {},
   "outputs": [],
   "source": [
    "sample_songs['avg_listens'] = np.round(sample_songs['occur'] / sample_songs['usr_count'], 1)"
   ]
  },
  {
   "cell_type": "markdown",
   "id": "composed-december",
   "metadata": {},
   "source": [
    "## Clustering"
   ]
  },
  {
   "cell_type": "code",
   "execution_count": 50,
   "id": "imperial-conjunction",
   "metadata": {
    "ExecuteTime": {
     "end_time": "2021-05-01T13:44:05.976490Z",
     "start_time": "2021-05-01T13:44:05.963883Z"
    }
   },
   "outputs": [],
   "source": [
    "def compute_bic(kmeans, X):\n",
    "    \"\"\"\n",
    "    Computes the BIC metric\n",
    "\n",
    "    :param kmeans: clustering object from scikit learn\n",
    "    :param X: np array of data points\n",
    "    :return: BIC\n",
    "    \"\"\"\n",
    "    # assign centers and labels\n",
    "    centers = [kmeans.cluster_centers_]\n",
    "    labels = kmeans.labels_\n",
    "    # number of clusters\n",
    "    k = kmeans.n_clusters\n",
    "    # size of the clusters\n",
    "    n = np.bincount(labels)\n",
    "    # size of data set\n",
    "    N, D = X.shape\n",
    "    # compute variance for all clusters beforehand\n",
    "    cl_var = (1.0 / (N - k) / D) * sum([sum(distance.cdist(X[np.where(labels == i)], \\\n",
    "                                    [centers[0][i]],'euclidean') ** 2) for i in range(k)])\n",
    "    LL = np.sum([n[i] * np.log(n[i]) -\n",
    "                  n[i] * np.log(N) -\n",
    "                  ((n[i] * D) / 2) * np.log(2 * np.pi * cl_var) -\n",
    "                  ((D / 2)*(n[i] - 1))  for i in range(k)])\n",
    "    \n",
    "    d = (k - 1) + 1 + k * D\n",
    "    const_term = (d / 2) * np.log(N)\n",
    "    BIC = LL - const_term\n",
    "    return BIC\n",
    "    \n",
    "def plot_metrics(n_clusters_list, metric_dictionary):\n",
    "    \"\"\"\n",
    "    Plots metric dictionary (auxilary function)\n",
    "    [Optional]\n",
    "    :param n_clusters_list: List of number of clusters to explore\n",
    "    :param metric_dictionary: \n",
    "    :return: \n",
    "    \"\"\"\n",
    "    fig = plt.figure(figsize=(12, 10), dpi=80)\n",
    "    i = 1\n",
    "\n",
    "    for metric in metric_dictionary.keys():\n",
    "        plt.subplot(2, 2, i)\n",
    "        plt.plot(n_clusters_list, metric_dictionary[metric], '-o')\n",
    "        plt.xlabel('Number of clusters')\n",
    "        plt.ylabel(metric)\n",
    "        plt.xticks(n_clusters_list)\n",
    "        i += 1\n",
    "\n",
    "    \n",
    "def get_heuristics_kmeans(X, n_clusters_list = range(2,10)):\n",
    "    \"\"\"\n",
    "    Calculates heuristics for optimal number of clusters with K-Means \n",
    "    \n",
    "    :param n_clusters_list: List of number of clusters to explore\n",
    "    :param X: np array of data points \n",
    "    \"\"\"\n",
    "    silhouette_list = []\n",
    "    distortion_list = []\n",
    "    bic_list = []\n",
    "   \n",
    "    for n in tqdm(n_clusters_list):\n",
    "        kmeans = KMeans(n_clusters=n, random_state=SEED)\n",
    "        y_pred = kmeans.fit_predict(X)\n",
    "\n",
    "#         silhouette = silhouette_score(X, y_pred) #Commented out because too long to compute\n",
    "#         silhouette_list.append(silhouette)\n",
    "        distortion = kmeans.inertia_\n",
    "        distortion_list.append(distortion)\n",
    "        bic = compute_bic(kmeans, X)\n",
    "        bic_list.append(bic)\n",
    "        \n",
    "    metric_dictionary = {'BIC': bic_list,\n",
    "                         'Distortion': distortion_list,\n",
    "#                          'Silhouette': silhouette_list\n",
    "                        }\n",
    "    \n",
    "    plot_metrics(n_clusters_list, metric_dictionary)"
   ]
  },
  {
   "cell_type": "code",
   "execution_count": 51,
   "id": "incomplete-register",
   "metadata": {
    "ExecuteTime": {
     "end_time": "2021-05-01T14:00:26.725486Z",
     "start_time": "2021-05-01T13:56:07.824627Z"
    }
   },
   "outputs": [],
   "source": [
    "# n_clusters_list = range(2,10)    \n",
    "# get_heuristics_kmeans(X, n_clusters_list)"
   ]
  },
  {
   "cell_type": "code",
   "execution_count": 188,
   "id": "wooden-interpretation",
   "metadata": {
    "ExecuteTime": {
     "end_time": "2021-05-01T14:07:17.767680Z",
     "start_time": "2021-05-01T14:06:55.572069Z"
    }
   },
   "outputs": [],
   "source": [
    "#The cluster assignments for each embedding\n",
    "clusters = KMeans(n_clusters=10, random_state=SEED).fit_predict(X)"
   ]
  },
  {
   "cell_type": "code",
   "execution_count": 53,
   "id": "fantastic-germany",
   "metadata": {},
   "outputs": [],
   "source": [
    "import plotly.express as px"
   ]
  },
  {
   "cell_type": "code",
   "execution_count": 54,
   "id": "boring-sunglasses",
   "metadata": {
    "ExecuteTime": {
     "end_time": "2021-05-01T14:07:36.308120Z",
     "start_time": "2021-05-01T14:07:24.197133Z"
    }
   },
   "outputs": [],
   "source": [
    "def plot_clusters_2D(X, clusters):\n",
    "    # apply PCA\n",
    "    pca = PCA(n_components=2)\n",
    "    components = pca.fit_transform(X).T\n",
    "    x, y = components[0], components[1]\n",
    "    fig, ax = plt.subplots(figsize=(15, 8))\n",
    "    plt.scatter(x=x, y=y, c=clusters)\n",
    "    plt.xlabel('PCA first dimension')\n",
    "    plt.ylabel('PCA second dimension')\n",
    "    plt.title(f\"Clusters on 2 dimensions of the song embeddings\")\n",
    "    fig.show()\n",
    "    \n",
    "# plot_clusters_2D(X, clusters)"
   ]
  },
  {
   "cell_type": "code",
   "execution_count": 189,
   "id": "rural-moore",
   "metadata": {},
   "outputs": [],
   "source": [
    "def plot_clusters_2D(X, clusters):\n",
    "    # apply PCA\n",
    "    pca = PCA(n_components=2)\n",
    "    components = pca.fit_transform(X).T\n",
    "    \n",
    "    x, y = components[0], components[1]\n",
    "    \n",
    "    data = {'x' : x, 'y' : y, 'artist_name' : list(sample_songs['artist_name']), 'track_name' : list(sample_songs['track_name']), 'top_tag' : list(sample_songs['top_tag']), 'occur' : list(sample_songs['occur']), 'usr_count' : list(sample_songs['usr_count']), 'usr_spread' : list(sample_songs['usr_spread']),  'avg_listens' : list(sample_songs['avg_listens'])}\n",
    "    df = pd.DataFrame(data, columns = ['x', 'y', 'artist_name', 'track_name', 'top_tag', 'occur', 'usr_count', 'usr_spread', 'avg_listens'])\n",
    "    \n",
    "    fig, ax = plt.subplots(figsize=(15, 8))\n",
    "    fig = px.scatter(df, x='x', y='y', color=clusters, hover_data=['artist_name', 'track_name', 'top_tag', 'occur', 'usr_count', 'usr_spread', 'avg_listens'])\n",
    "    #plt.xlabel('PCA first dimension')\n",
    "    #plt.ylabel('PCA second dimension')\n",
    "    #fig.title(f\"Clusters on 2 dimensions of the song embeddings\")\n",
    "    fig.show()\n",
    "    \n",
    "# plot_clusters_2D(X, clusters)"
   ]
  },
  {
   "cell_type": "code",
   "execution_count": null,
   "id": "hispanic-infrastructure",
   "metadata": {},
   "outputs": [],
   "source": [
    "plot_clusters_2D(X, clusters)"
   ]
  },
  {
   "cell_type": "code",
   "execution_count": null,
   "id": "vanilla-electricity",
   "metadata": {},
   "outputs": [],
   "source": []
  }
 ],
 "metadata": {
  "kernelspec": {
   "display_name": "mlbd",
   "language": "python",
   "name": "mlbd"
  },
  "language_info": {
   "codemirror_mode": {
    "name": "ipython",
    "version": 3
   },
   "file_extension": ".py",
   "mimetype": "text/x-python",
   "name": "python",
   "nbconvert_exporter": "python",
   "pygments_lexer": "ipython3",
   "version": "3.7.9"
  },
  "toc": {
   "base_numbering": 1,
   "nav_menu": {},
   "number_sections": true,
   "sideBar": true,
   "skip_h1_title": false,
   "title_cell": "Table of Contents",
   "title_sidebar": "Contents",
   "toc_cell": false,
   "toc_position": {},
   "toc_section_display": true,
   "toc_window_display": false
  }
 },
 "nbformat": 4,
 "nbformat_minor": 5
}
