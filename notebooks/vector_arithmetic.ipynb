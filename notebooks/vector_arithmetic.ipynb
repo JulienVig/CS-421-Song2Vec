{
 "cells": [
  {
   "cell_type": "markdown",
   "id": "continued-girlfriend",
   "metadata": {},
   "source": [
    "# Embeddings arithmetic\n",
    "\n",
    "Ideas:\n",
    "* Song / song\n",
    "* Song / genre\n",
    "* Song - its artist representative + other artist representative\n",
    "* If representative meaningful: artist / genre"
   ]
  },
  {
   "cell_type": "code",
   "execution_count": 2,
   "id": "affecting-masters",
   "metadata": {
    "ExecuteTime": {
     "end_time": "2021-06-10T10:03:08.921784Z",
     "start_time": "2021-06-10T10:03:08.916431Z"
    }
   },
   "outputs": [],
   "source": [
    "import pandas as pd\n",
    "from zipfile import ZipFile\n",
    "from gensim.models import Word2Vec\n",
    "import matplotlib.pyplot as plt\n",
    "from tqdm import tqdm\n",
    "import seaborn as sns\n",
    "import numpy as np\n",
    "from scipy import spatial\n",
    "from utils import read_lastfm, build_vocab, load_model"
   ]
  },
  {
   "cell_type": "markdown",
   "id": "breathing-hunter",
   "metadata": {},
   "source": [
    "Let's load the dataset and the song2vec model."
   ]
  },
  {
   "cell_type": "code",
   "execution_count": 3,
   "id": "informed-suspect",
   "metadata": {
    "ExecuteTime": {
     "end_time": "2021-06-10T10:06:28.315700Z",
     "start_time": "2021-06-10T10:03:33.607876Z"
    }
   },
   "outputs": [
    {
     "data": {
      "text/html": [
       "<div>\n",
       "<style scoped>\n",
       "    .dataframe tbody tr th:only-of-type {\n",
       "        vertical-align: middle;\n",
       "    }\n",
       "\n",
       "    .dataframe tbody tr th {\n",
       "        vertical-align: top;\n",
       "    }\n",
       "\n",
       "    .dataframe thead th {\n",
       "        text-align: right;\n",
       "    }\n",
       "</style>\n",
       "<table border=\"1\" class=\"dataframe\">\n",
       "  <thead>\n",
       "    <tr style=\"text-align: right;\">\n",
       "      <th></th>\n",
       "      <th>user_id</th>\n",
       "      <th>timestamp</th>\n",
       "      <th>artist_id</th>\n",
       "      <th>artist_name</th>\n",
       "      <th>track_id</th>\n",
       "      <th>track_name</th>\n",
       "    </tr>\n",
       "  </thead>\n",
       "  <tbody>\n",
       "    <tr>\n",
       "      <th>0</th>\n",
       "      <td>user_000001</td>\n",
       "      <td>2009-05-04 23:08:57+00:00</td>\n",
       "      <td>f1b1cf71-bd35-4e99-8624-24a6e15f133a</td>\n",
       "      <td>Deep Dish</td>\n",
       "      <td>NaN</td>\n",
       "      <td>Fuck Me Im Famous (Pacha Ibiza)-09-28-2007</td>\n",
       "    </tr>\n",
       "    <tr>\n",
       "      <th>1</th>\n",
       "      <td>user_000001</td>\n",
       "      <td>2009-05-04 13:54:10+00:00</td>\n",
       "      <td>a7f7df4a-77d8-4f12-8acd-5c60c93f4de8</td>\n",
       "      <td>坂本龍一</td>\n",
       "      <td>NaN</td>\n",
       "      <td>Composition 0919 (Live_2009_4_15)</td>\n",
       "    </tr>\n",
       "    <tr>\n",
       "      <th>2</th>\n",
       "      <td>user_000001</td>\n",
       "      <td>2009-05-04 13:52:04+00:00</td>\n",
       "      <td>a7f7df4a-77d8-4f12-8acd-5c60c93f4de8</td>\n",
       "      <td>坂本龍一</td>\n",
       "      <td>NaN</td>\n",
       "      <td>Mc2 (Live_2009_4_15)</td>\n",
       "    </tr>\n",
       "    <tr>\n",
       "      <th>3</th>\n",
       "      <td>user_000001</td>\n",
       "      <td>2009-05-04 13:42:52+00:00</td>\n",
       "      <td>a7f7df4a-77d8-4f12-8acd-5c60c93f4de8</td>\n",
       "      <td>坂本龍一</td>\n",
       "      <td>NaN</td>\n",
       "      <td>Hibari (Live_2009_4_15)</td>\n",
       "    </tr>\n",
       "    <tr>\n",
       "      <th>4</th>\n",
       "      <td>user_000001</td>\n",
       "      <td>2009-05-04 13:42:11+00:00</td>\n",
       "      <td>a7f7df4a-77d8-4f12-8acd-5c60c93f4de8</td>\n",
       "      <td>坂本龍一</td>\n",
       "      <td>NaN</td>\n",
       "      <td>Mc1 (Live_2009_4_15)</td>\n",
       "    </tr>\n",
       "  </tbody>\n",
       "</table>\n",
       "</div>"
      ],
      "text/plain": [
       "       user_id                 timestamp  \\\n",
       "0  user_000001 2009-05-04 23:08:57+00:00   \n",
       "1  user_000001 2009-05-04 13:54:10+00:00   \n",
       "2  user_000001 2009-05-04 13:52:04+00:00   \n",
       "3  user_000001 2009-05-04 13:42:52+00:00   \n",
       "4  user_000001 2009-05-04 13:42:11+00:00   \n",
       "\n",
       "                              artist_id artist_name track_id  \\\n",
       "0  f1b1cf71-bd35-4e99-8624-24a6e15f133a   Deep Dish      NaN   \n",
       "1  a7f7df4a-77d8-4f12-8acd-5c60c93f4de8        坂本龍一      NaN   \n",
       "2  a7f7df4a-77d8-4f12-8acd-5c60c93f4de8        坂本龍一      NaN   \n",
       "3  a7f7df4a-77d8-4f12-8acd-5c60c93f4de8        坂本龍一      NaN   \n",
       "4  a7f7df4a-77d8-4f12-8acd-5c60c93f4de8        坂本龍一      NaN   \n",
       "\n",
       "                                   track_name  \n",
       "0  Fuck Me Im Famous (Pacha Ibiza)-09-28-2007  \n",
       "1           Composition 0919 (Live_2009_4_15)  \n",
       "2                        Mc2 (Live_2009_4_15)  \n",
       "3                     Hibari (Live_2009_4_15)  \n",
       "4                        Mc1 (Live_2009_4_15)  "
      ]
     },
     "execution_count": 3,
     "metadata": {},
     "output_type": "execute_result"
    }
   ],
   "source": [
    "songs, users = read_lastfm(\"data/lastfm-dataset-1K.zip\")\n",
    "songs.head()"
   ]
  },
  {
   "cell_type": "code",
   "execution_count": 4,
   "id": "played-lloyd",
   "metadata": {
    "ExecuteTime": {
     "end_time": "2021-05-08T12:01:02.750946Z",
     "start_time": "2021-05-08T12:00:32.459208Z"
    }
   },
   "outputs": [],
   "source": [
    "emb_vectors, model = load_model(\"data/word2vec/word2vec.model\")\n",
    "emb_list = list(emb_vectors.keys())\n",
    "X = np.array([list(v) for k, v in emb_vectors.items()])"
   ]
  },
  {
   "cell_type": "code",
   "execution_count": 5,
   "id": "potential-farming",
   "metadata": {
    "ExecuteTime": {
     "end_time": "2021-05-08T12:01:05.811728Z",
     "start_time": "2021-05-08T12:01:02.761369Z"
    }
   },
   "outputs": [],
   "source": [
    "tree = spatial.KDTree(X)"
   ]
  },
  {
   "cell_type": "markdown",
   "id": "compliant-sunday",
   "metadata": {},
   "source": [
    "We use of a KD tree to find the closest vector to any given song representation."
   ]
  },
  {
   "cell_type": "code",
   "execution_count": 6,
   "id": "authorized-addiction",
   "metadata": {
    "ExecuteTime": {
     "end_time": "2021-05-08T12:01:18.472446Z",
     "start_time": "2021-05-08T12:01:05.817942Z"
    }
   },
   "outputs": [],
   "source": [
    "def create_song_id(df):\n",
    "    \"\"\"Add the song ID's to the dataset\"\"\"\n",
    "    df = df.copy()\n",
    "    df = df[~df.track_name.isna()]\n",
    "    df[\"song_id\"]= df.artist_name.cat.codes.astype(\"int64\") * df.track_name.nunique() \\\n",
    "                            + df.track_name.cat.codes\n",
    "    df = df.drop_duplicates(\"song_id\")[[\"song_id\", \"artist_name\", \"track_name\"]]\n",
    "    return df\n",
    "\n",
    "mapping = create_song_id(songs)"
   ]
  },
  {
   "cell_type": "code",
   "execution_count": 7,
   "id": "induced-nevada",
   "metadata": {
    "ExecuteTime": {
     "end_time": "2021-05-08T12:01:18.489226Z",
     "start_time": "2021-05-08T12:01:18.482402Z"
    }
   },
   "outputs": [],
   "source": [
    "def emb2song(emb):\n",
    "    \"\"\"Convert a vector to the corresponding song\"\"\"\n",
    "    if type(emb) == int:\n",
    "        emb = [emb]\n",
    "    return mapping[mapping.song_id.isin(emb)]\n",
    "\n",
    "def song2emb(artist, song):\n",
    "    \"\"\"Convert a song to its vector representation\"\"\"\n",
    "    return mapping.query(\"(artist_name == @artist) & (track_name == @song)\").song_id.values[0]"
   ]
  },
  {
   "cell_type": "code",
   "execution_count": 8,
   "id": "heavy-guess",
   "metadata": {
    "ExecuteTime": {
     "end_time": "2021-05-08T12:01:18.524795Z",
     "start_time": "2021-05-08T12:01:18.508272Z"
    }
   },
   "outputs": [
    {
     "data": {
      "text/html": [
       "<div>\n",
       "<style scoped>\n",
       "    .dataframe tbody tr th:only-of-type {\n",
       "        vertical-align: middle;\n",
       "    }\n",
       "\n",
       "    .dataframe tbody tr th {\n",
       "        vertical-align: top;\n",
       "    }\n",
       "\n",
       "    .dataframe thead th {\n",
       "        text-align: right;\n",
       "    }\n",
       "</style>\n",
       "<table border=\"1\" class=\"dataframe\">\n",
       "  <thead>\n",
       "    <tr style=\"text-align: right;\">\n",
       "      <th></th>\n",
       "      <th>song_id</th>\n",
       "      <th>artist_name</th>\n",
       "      <th>track_name</th>\n",
       "    </tr>\n",
       "  </thead>\n",
       "  <tbody>\n",
       "    <tr>\n",
       "      <th>24969</th>\n",
       "      <td>4616724870</td>\n",
       "      <td>The Postal Service</td>\n",
       "      <td>Such Great Heights</td>\n",
       "    </tr>\n",
       "  </tbody>\n",
       "</table>\n",
       "</div>"
      ],
      "text/plain": [
       "          song_id         artist_name          track_name\n",
       "24969  4616724870  The Postal Service  Such Great Heights"
      ]
     },
     "execution_count": 8,
     "metadata": {},
     "output_type": "execute_result"
    }
   ],
   "source": [
    "emb2song(4616724870)"
   ]
  },
  {
   "cell_type": "code",
   "execution_count": 9,
   "id": "experimental-embassy",
   "metadata": {
    "ExecuteTime": {
     "end_time": "2021-05-08T12:01:19.968829Z",
     "start_time": "2021-05-08T12:01:18.529233Z"
    }
   },
   "outputs": [
    {
     "data": {
      "text/plain": [
       "4616724870"
      ]
     },
     "execution_count": 9,
     "metadata": {},
     "output_type": "execute_result"
    }
   ],
   "source": [
    "song2emb(\"The Postal Service\", \"Such Great Heights\")"
   ]
  },
  {
   "cell_type": "code",
   "execution_count": 10,
   "id": "prescription-prefix",
   "metadata": {
    "ExecuteTime": {
     "end_time": "2021-05-08T12:01:19.978377Z",
     "start_time": "2021-05-08T12:01:19.971774Z"
    }
   },
   "outputs": [],
   "source": [
    "def avg(artist1, song1, artist2, song2, topn=10):\n",
    "    \"\"\"\n",
    "    Computes the averages between two song representations and \n",
    "    return the closest song to that average\n",
    "    \"\"\"\n",
    "    emb1 = song2emb(artist1, song1)\n",
    "    emb2 = song2emb(artist2, song2)\n",
    "    result = (emb_vectors[emb1] + emb_vectors[emb2]) / 2\n",
    "    index = tree.query(result, k=topn)[1]\n",
    "    result_embs = [emb_list[i] for i in index]\n",
    "    return emb2song(result_embs)"
   ]
  },
  {
   "cell_type": "code",
   "execution_count": 11,
   "id": "promising-warrior",
   "metadata": {
    "ExecuteTime": {
     "end_time": "2021-05-08T12:01:22.133667Z",
     "start_time": "2021-05-08T12:01:19.981196Z"
    }
   },
   "outputs": [
    {
     "data": {
      "text/html": [
       "<div>\n",
       "<style scoped>\n",
       "    .dataframe tbody tr th:only-of-type {\n",
       "        vertical-align: middle;\n",
       "    }\n",
       "\n",
       "    .dataframe tbody tr th {\n",
       "        vertical-align: top;\n",
       "    }\n",
       "\n",
       "    .dataframe thead th {\n",
       "        text-align: right;\n",
       "    }\n",
       "</style>\n",
       "<table border=\"1\" class=\"dataframe\">\n",
       "  <thead>\n",
       "    <tr style=\"text-align: right;\">\n",
       "      <th></th>\n",
       "      <th>song_id</th>\n",
       "      <th>artist_name</th>\n",
       "      <th>track_name</th>\n",
       "    </tr>\n",
       "  </thead>\n",
       "  <tbody>\n",
       "    <tr>\n",
       "      <th>24969</th>\n",
       "      <td>4616724870</td>\n",
       "      <td>The Postal Service</td>\n",
       "      <td>Such Great Heights</td>\n",
       "    </tr>\n",
       "    <tr>\n",
       "      <th>31248</th>\n",
       "      <td>4616710818</td>\n",
       "      <td>The Postal Service</td>\n",
       "      <td>Brand New Colony</td>\n",
       "    </tr>\n",
       "    <tr>\n",
       "      <th>46215</th>\n",
       "      <td>4616711620</td>\n",
       "      <td>The Postal Service</td>\n",
       "      <td>Clark Gable</td>\n",
       "    </tr>\n",
       "    <tr>\n",
       "      <th>46216</th>\n",
       "      <td>4616722437</td>\n",
       "      <td>The Postal Service</td>\n",
       "      <td>Recycled Air</td>\n",
       "    </tr>\n",
       "    <tr>\n",
       "      <th>46217</th>\n",
       "      <td>4616720761</td>\n",
       "      <td>The Postal Service</td>\n",
       "      <td>Nothing Better</td>\n",
       "    </tr>\n",
       "    <tr>\n",
       "      <th>46219</th>\n",
       "      <td>4616723888</td>\n",
       "      <td>The Postal Service</td>\n",
       "      <td>Sleeping In</td>\n",
       "    </tr>\n",
       "    <tr>\n",
       "      <th>46222</th>\n",
       "      <td>4616725808</td>\n",
       "      <td>The Postal Service</td>\n",
       "      <td>The District Sleeps Alone Tonight</td>\n",
       "    </tr>\n",
       "    <tr>\n",
       "      <th>50532</th>\n",
       "      <td>4616728247</td>\n",
       "      <td>The Postal Service</td>\n",
       "      <td>We Will Become Silhouettes</td>\n",
       "    </tr>\n",
       "    <tr>\n",
       "      <th>50534</th>\n",
       "      <td>4616726846</td>\n",
       "      <td>The Postal Service</td>\n",
       "      <td>This Place Is A Prison</td>\n",
       "    </tr>\n",
       "    <tr>\n",
       "      <th>50537</th>\n",
       "      <td>4616720331</td>\n",
       "      <td>The Postal Service</td>\n",
       "      <td>Natural Anthem</td>\n",
       "    </tr>\n",
       "  </tbody>\n",
       "</table>\n",
       "</div>"
      ],
      "text/plain": [
       "          song_id         artist_name                         track_name\n",
       "24969  4616724870  The Postal Service                 Such Great Heights\n",
       "31248  4616710818  The Postal Service                   Brand New Colony\n",
       "46215  4616711620  The Postal Service                        Clark Gable\n",
       "46216  4616722437  The Postal Service                       Recycled Air\n",
       "46217  4616720761  The Postal Service                     Nothing Better\n",
       "46219  4616723888  The Postal Service                        Sleeping In\n",
       "46222  4616725808  The Postal Service  The District Sleeps Alone Tonight\n",
       "50532  4616728247  The Postal Service         We Will Become Silhouettes\n",
       "50534  4616726846  The Postal Service             This Place Is A Prison\n",
       "50537  4616720331  The Postal Service                     Natural Anthem"
      ]
     },
     "execution_count": 11,
     "metadata": {},
     "output_type": "execute_result"
    }
   ],
   "source": [
    "avg(\"The Postal Service\", \"Nothing Better\", \"The Postal Service\", \"Such Great Heights\")"
   ]
  },
  {
   "cell_type": "markdown",
   "id": "experimental-america",
   "metadata": {},
   "source": [
    "As expected the average of two songs from the same artist is closest to other songs of the same artist."
   ]
  },
  {
   "cell_type": "code",
   "execution_count": 12,
   "id": "victorian-charles",
   "metadata": {
    "ExecuteTime": {
     "end_time": "2021-05-08T12:01:24.262560Z",
     "start_time": "2021-05-08T12:01:22.137960Z"
    }
   },
   "outputs": [
    {
     "data": {
      "text/html": [
       "<div>\n",
       "<style scoped>\n",
       "    .dataframe tbody tr th:only-of-type {\n",
       "        vertical-align: middle;\n",
       "    }\n",
       "\n",
       "    .dataframe tbody tr th {\n",
       "        vertical-align: top;\n",
       "    }\n",
       "\n",
       "    .dataframe thead th {\n",
       "        text-align: right;\n",
       "    }\n",
       "</style>\n",
       "<table border=\"1\" class=\"dataframe\">\n",
       "  <thead>\n",
       "    <tr style=\"text-align: right;\">\n",
       "      <th></th>\n",
       "      <th>song_id</th>\n",
       "      <th>artist_name</th>\n",
       "      <th>track_name</th>\n",
       "    </tr>\n",
       "  </thead>\n",
       "  <tbody>\n",
       "    <tr>\n",
       "      <th>102950</th>\n",
       "      <td>2341413539</td>\n",
       "      <td>Joy Division</td>\n",
       "      <td>Passover</td>\n",
       "    </tr>\n",
       "    <tr>\n",
       "      <th>231432</th>\n",
       "      <td>2341422409</td>\n",
       "      <td>Joy Division</td>\n",
       "      <td>A Means To An End</td>\n",
       "    </tr>\n",
       "    <tr>\n",
       "      <th>308223</th>\n",
       "      <td>2341458102</td>\n",
       "      <td>Joy Division</td>\n",
       "      <td>Novelty</td>\n",
       "    </tr>\n",
       "    <tr>\n",
       "      <th>308228</th>\n",
       "      <td>2341449850</td>\n",
       "      <td>Joy Division</td>\n",
       "      <td>Day Of The Lords</td>\n",
       "    </tr>\n",
       "    <tr>\n",
       "      <th>308233</th>\n",
       "      <td>2341453792</td>\n",
       "      <td>Joy Division</td>\n",
       "      <td>I Remember Nothing</td>\n",
       "    </tr>\n",
       "    <tr>\n",
       "      <th>308234</th>\n",
       "      <td>2341454473</td>\n",
       "      <td>Joy Division</td>\n",
       "      <td>Interzone</td>\n",
       "    </tr>\n",
       "    <tr>\n",
       "      <th>308235</th>\n",
       "      <td>2341420776</td>\n",
       "      <td>Joy Division</td>\n",
       "      <td>Wilderness</td>\n",
       "    </tr>\n",
       "    <tr>\n",
       "      <th>308236</th>\n",
       "      <td>2341415443</td>\n",
       "      <td>Joy Division</td>\n",
       "      <td>Shadowplay</td>\n",
       "    </tr>\n",
       "    <tr>\n",
       "      <th>311049</th>\n",
       "      <td>2341406910</td>\n",
       "      <td>Joy Division</td>\n",
       "      <td>Glass</td>\n",
       "    </tr>\n",
       "    <tr>\n",
       "      <th>485234</th>\n",
       "      <td>2341473500</td>\n",
       "      <td>Joy Division</td>\n",
       "      <td>No Love Lost</td>\n",
       "    </tr>\n",
       "  </tbody>\n",
       "</table>\n",
       "</div>"
      ],
      "text/plain": [
       "           song_id   artist_name          track_name\n",
       "102950  2341413539  Joy Division            Passover\n",
       "231432  2341422409  Joy Division   A Means To An End\n",
       "308223  2341458102  Joy Division             Novelty\n",
       "308228  2341449850  Joy Division    Day Of The Lords\n",
       "308233  2341453792  Joy Division  I Remember Nothing\n",
       "308234  2341454473  Joy Division           Interzone\n",
       "308235  2341420776  Joy Division          Wilderness\n",
       "308236  2341415443  Joy Division          Shadowplay\n",
       "311049  2341406910  Joy Division               Glass\n",
       "485234  2341473500  Joy Division        No Love Lost"
      ]
     },
     "execution_count": 12,
     "metadata": {},
     "output_type": "execute_result"
    }
   ],
   "source": [
    "avg(\"Britney Spears\", \"Gimme More\", \"Boy Division\", \"Love Will Tear Us Apart\")"
   ]
  },
  {
   "cell_type": "markdown",
   "id": "northern-concern",
   "metadata": {},
   "source": [
    "Interestingly the closest songs to Gimme More and Love will Tear Us Apart are songs from Joy Division. Is it a coincidence that the names are similar? Moreover, Joy Division also has a song called Love Will Tear Us Apart."
   ]
  },
  {
   "cell_type": "code",
   "execution_count": 13,
   "id": "divine-keeping",
   "metadata": {
    "ExecuteTime": {
     "end_time": "2021-05-08T12:01:24.269969Z",
     "start_time": "2021-05-08T12:01:24.265632Z"
    }
   },
   "outputs": [],
   "source": [
    "def artist_emb(artist):\n",
    "    \"\"\"Create an artist representation as the centroid of all the artist's song representations\"\"\"\n",
    "    artist_songs = mapping.query(\"artist_name == @artist\").song_id.values\n",
    "    centroid = np.zeros(100)\n",
    "    for emb in artist_songs:\n",
    "        if emb in emb_vectors:\n",
    "            centroid += emb_vectors[emb]\n",
    "    centroid /= len(artist_songs)\n",
    "    return centroid"
   ]
  },
  {
   "cell_type": "code",
   "execution_count": 14,
   "id": "integral-superintendent",
   "metadata": {
    "ExecuteTime": {
     "end_time": "2021-05-08T12:01:24.459729Z",
     "start_time": "2021-05-08T12:01:24.272972Z"
    }
   },
   "outputs": [
    {
     "data": {
      "text/html": [
       "<div>\n",
       "<style scoped>\n",
       "    .dataframe tbody tr th:only-of-type {\n",
       "        vertical-align: middle;\n",
       "    }\n",
       "\n",
       "    .dataframe tbody tr th {\n",
       "        vertical-align: top;\n",
       "    }\n",
       "\n",
       "    .dataframe thead th {\n",
       "        text-align: right;\n",
       "    }\n",
       "</style>\n",
       "<table border=\"1\" class=\"dataframe\">\n",
       "  <thead>\n",
       "    <tr style=\"text-align: right;\">\n",
       "      <th></th>\n",
       "      <th>song_id</th>\n",
       "      <th>artist_name</th>\n",
       "      <th>track_name</th>\n",
       "    </tr>\n",
       "  </thead>\n",
       "  <tbody>\n",
       "    <tr>\n",
       "      <th>2696383</th>\n",
       "      <td>3583355688</td>\n",
       "      <td>Radiohead</td>\n",
       "      <td>Polyethylene, Part 1 &amp; 2</td>\n",
       "    </tr>\n",
       "  </tbody>\n",
       "</table>\n",
       "</div>"
      ],
      "text/plain": [
       "            song_id artist_name                track_name\n",
       "2696383  3583355688   Radiohead  Polyethylene, Part 1 & 2"
      ]
     },
     "execution_count": 14,
     "metadata": {},
     "output_type": "execute_result"
    }
   ],
   "source": [
    "radiohead = artist_emb(\"Radiohead\")\n",
    "emb2song(emb_list[tree.query(radiohead)[1]])"
   ]
  },
  {
   "cell_type": "markdown",
   "id": "excessive-freight",
   "metadata": {},
   "source": [
    "The radioheadest song of radiohead looks to be Polyethylene."
   ]
  },
  {
   "cell_type": "code",
   "execution_count": 15,
   "id": "seasonal-dimension",
   "metadata": {
    "ExecuteTime": {
     "end_time": "2021-05-08T12:01:24.467595Z",
     "start_time": "2021-05-08T12:01:24.462344Z"
    }
   },
   "outputs": [],
   "source": [
    "def change_artist(artist1, song, artist2, topn=10):\n",
    "    \"\"\"\n",
    "    Change the artist of a song by substracting the original artist's representation\n",
    "    and adding the new artist representation\n",
    "    \"\"\"\n",
    "    artist_emb1 = artist_emb(artist1)\n",
    "    artist_emb2 = artist_emb(artist2)\n",
    "    song_emb = song2emb(artist1, song)\n",
    "    result = song_emb - artist_emb1 + artist_emb2\n",
    "    index = tree.query(result, k=topn)[1]\n",
    "    result_embs = [emb_list[i] for i in index]\n",
    "    return emb2song(result_embs)"
   ]
  },
  {
   "cell_type": "code",
   "execution_count": 16,
   "id": "recent-address",
   "metadata": {
    "ExecuteTime": {
     "end_time": "2021-05-08T12:01:25.894781Z",
     "start_time": "2021-05-08T12:01:24.470530Z"
    }
   },
   "outputs": [
    {
     "data": {
      "text/html": [
       "<div>\n",
       "<style scoped>\n",
       "    .dataframe tbody tr th:only-of-type {\n",
       "        vertical-align: middle;\n",
       "    }\n",
       "\n",
       "    .dataframe tbody tr th {\n",
       "        vertical-align: top;\n",
       "    }\n",
       "\n",
       "    .dataframe thead th {\n",
       "        text-align: right;\n",
       "    }\n",
       "</style>\n",
       "<table border=\"1\" class=\"dataframe\">\n",
       "  <thead>\n",
       "    <tr style=\"text-align: right;\">\n",
       "      <th></th>\n",
       "      <th>song_id</th>\n",
       "      <th>artist_name</th>\n",
       "      <th>track_name</th>\n",
       "    </tr>\n",
       "  </thead>\n",
       "  <tbody>\n",
       "    <tr>\n",
       "      <th>33926</th>\n",
       "      <td>3488825901</td>\n",
       "      <td>Pixies</td>\n",
       "      <td>Where Is My Mind?</td>\n",
       "    </tr>\n",
       "    <tr>\n",
       "      <th>67875</th>\n",
       "      <td>3488809975</td>\n",
       "      <td>Pixies</td>\n",
       "      <td>Dig For Fire</td>\n",
       "    </tr>\n",
       "    <tr>\n",
       "      <th>67879</th>\n",
       "      <td>3488809728</td>\n",
       "      <td>Pixies</td>\n",
       "      <td>Debaser</td>\n",
       "    </tr>\n",
       "    <tr>\n",
       "      <th>67918</th>\n",
       "      <td>4419517436</td>\n",
       "      <td>The Cure</td>\n",
       "      <td>Boys Don'T Cry</td>\n",
       "    </tr>\n",
       "    <tr>\n",
       "      <th>68411</th>\n",
       "      <td>4419524268</td>\n",
       "      <td>The Cure</td>\n",
       "      <td>Just Like Heaven</td>\n",
       "    </tr>\n",
       "    <tr>\n",
       "      <th>236522</th>\n",
       "      <td>3488835438</td>\n",
       "      <td>Pixies</td>\n",
       "      <td>Here Comes Your Man</td>\n",
       "    </tr>\n",
       "    <tr>\n",
       "      <th>241128</th>\n",
       "      <td>3488839745</td>\n",
       "      <td>Pixies</td>\n",
       "      <td>Monkey Gone To Heaven</td>\n",
       "    </tr>\n",
       "    <tr>\n",
       "      <th>241132</th>\n",
       "      <td>3488848790</td>\n",
       "      <td>Pixies</td>\n",
       "      <td>Wave Of Mutilation</td>\n",
       "    </tr>\n",
       "    <tr>\n",
       "      <th>241145</th>\n",
       "      <td>3488848435</td>\n",
       "      <td>Pixies</td>\n",
       "      <td>Velouria</td>\n",
       "    </tr>\n",
       "    <tr>\n",
       "      <th>244570</th>\n",
       "      <td>3488813029</td>\n",
       "      <td>Pixies</td>\n",
       "      <td>Hey</td>\n",
       "    </tr>\n",
       "  </tbody>\n",
       "</table>\n",
       "</div>"
      ],
      "text/plain": [
       "           song_id artist_name             track_name\n",
       "33926   3488825901      Pixies      Where Is My Mind?\n",
       "67875   3488809975      Pixies           Dig For Fire\n",
       "67879   3488809728      Pixies                Debaser\n",
       "67918   4419517436    The Cure         Boys Don'T Cry\n",
       "68411   4419524268    The Cure       Just Like Heaven\n",
       "236522  3488835438      Pixies    Here Comes Your Man\n",
       "241128  3488839745      Pixies  Monkey Gone To Heaven\n",
       "241132  3488848790      Pixies     Wave Of Mutilation\n",
       "241145  3488848435      Pixies               Velouria\n",
       "244570  3488813029      Pixies                    Hey"
      ]
     },
     "execution_count": 16,
     "metadata": {},
     "output_type": "execute_result"
    }
   ],
   "source": [
    "change_artist(\"Radiohead\", \"Karma Police\", \"Metallica\")"
   ]
  },
  {
   "cell_type": "markdown",
   "id": "textile-greenhouse",
   "metadata": {},
   "source": [
    "Let's note two interesting facts:\n",
    "* The most popular song of Radiohead has been mapped to the most popular song of the Pixies\n",
    "* Where is My Mind sounds similar to Karma Police, with a more rock style but that is left to interpretation"
   ]
  },
  {
   "cell_type": "code",
   "execution_count": null,
   "id": "strange-insulin",
   "metadata": {},
   "outputs": [],
   "source": []
  }
 ],
 "metadata": {
  "kernelspec": {
   "display_name": "mlbd",
   "language": "python",
   "name": "mlbd"
  },
  "language_info": {
   "codemirror_mode": {
    "name": "ipython",
    "version": 3
   },
   "file_extension": ".py",
   "mimetype": "text/x-python",
   "name": "python",
   "nbconvert_exporter": "python",
   "pygments_lexer": "ipython3",
   "version": "3.7.9"
  },
  "toc": {
   "base_numbering": 1,
   "nav_menu": {},
   "number_sections": true,
   "sideBar": true,
   "skip_h1_title": false,
   "title_cell": "Table of Contents",
   "title_sidebar": "Contents",
   "toc_cell": false,
   "toc_position": {},
   "toc_section_display": true,
   "toc_window_display": false
  }
 },
 "nbformat": 4,
 "nbformat_minor": 5
}
