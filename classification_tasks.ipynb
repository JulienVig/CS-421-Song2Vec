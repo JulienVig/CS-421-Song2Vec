{
 "cells": [
  {
   "cell_type": "code",
   "execution_count": 1,
   "id": "turned-majority",
   "metadata": {
    "ExecuteTime": {
     "end_time": "2021-05-18T20:52:32.750933Z",
     "start_time": "2021-05-18T20:52:08.785951Z"
    }
   },
   "outputs": [],
   "source": [
    "from tqdm import tqdm\n",
    "import pandas as pd\n",
    "import matplotlib.pyplot as plt\n",
    "import seaborn as sns\n",
    "import numpy as np\n",
    "from utils import read_lastfm\n",
    "from gensim.models import Word2Vec\n",
    "\n",
    "from sklearn.feature_extraction.text import TfidfVectorizer\n",
    "from sklearn.model_selection import train_test_split, GridSearchCV, KFold\n",
    "from sklearn.ensemble import RandomForestClassifier\n",
    "from sklearn.metrics import accuracy_score, f1_score, roc_auc_score, confusion_matrix, make_scorer\n",
    "from sklearn.dummy import DummyClassifier"
   ]
  },
  {
   "cell_type": "code",
   "execution_count": 3,
   "id": "proper-netherlands",
   "metadata": {
    "ExecuteTime": {
     "end_time": "2021-05-18T20:56:04.166214Z",
     "start_time": "2021-05-18T20:52:32.809186Z"
    }
   },
   "outputs": [],
   "source": [
    "songs, users = read_lastfm(zip_name=\"data/lastfm-dataset-1K.zip\")"
   ]
  },
  {
   "cell_type": "code",
   "execution_count": 4,
   "id": "impressive-courage",
   "metadata": {
    "ExecuteTime": {
     "end_time": "2021-05-18T20:56:06.225900Z",
     "start_time": "2021-05-18T20:56:04.173274Z"
    }
   },
   "outputs": [],
   "source": [
    "songs[\"song_id\"]= songs.artist_name.cat.codes.astype(\"int64\") * songs.track_name.nunique() \\\n",
    "                            + songs.track_name.cat.codes"
   ]
  },
  {
   "cell_type": "markdown",
   "id": "signal-national",
   "metadata": {},
   "source": [
    "# Song2vec loading"
   ]
  },
  {
   "cell_type": "code",
   "execution_count": 11,
   "id": "interstate-complexity",
   "metadata": {
    "ExecuteTime": {
     "end_time": "2021-05-18T20:57:19.367764Z",
     "start_time": "2021-05-18T20:57:19.358214Z"
    }
   },
   "outputs": [],
   "source": [
    "def build_vocab(model):\n",
    "    emb_vectors = {}\n",
    "    for n in model.wv.index_to_key:\n",
    "        emb_vectors[n] = model.wv[n]\n",
    "    return emb_vectors\n",
    "\n",
    "def load_model(filename):\n",
    "    model = Word2Vec.load(filename)\n",
    "    emb_vectors = build_vocab(model)\n",
    "    return emb_vectors, model\n",
    "\n",
    "def get_embeddings(df, min_count=5):\n",
    "    df = df.sort_values(\"timestamp\")\n",
    "    df = df[~df.track_name.isna()]\n",
    "#     df[\"song_id\"]= df.artist_name.cat.codes.astype(\"int64\") * df.track_name.nunique() \\\n",
    "#                         + df.track_name.cat.codes\n",
    "    print(f\"Number of entries: {len(df)}\")\n",
    "    assert len(df.query(\"song_id < 0\")) == 0 #Check underflow\n",
    "    \n",
    "    document = df.groupby(\"user_id\").agg(sentences=(\"song_id\", list))\n",
    "    model = Word2Vec(document.sentences.values, **{'vector_size': 100, 'window': 3, 'min_count': 5, 'negative': 10, 'ns_exponent': 0})\n",
    "    \n",
    "    emb_vectors = build_vocab(model)\n",
    "    print(f\"Number of song embeddings: {len(emb_vectors)}\")\n",
    "    return df, emb_vectors, model"
   ]
  },
  {
   "cell_type": "code",
   "execution_count": 12,
   "id": "varied-optics",
   "metadata": {
    "ExecuteTime": {
     "end_time": "2021-05-18T21:00:41.424083Z",
     "start_time": "2021-05-18T20:57:26.531725Z"
    }
   },
   "outputs": [
    {
     "name": "stdout",
     "output_type": "stream",
     "text": [
      "Number of entries: 19098850\n",
      "Number of song embeddings: 527552\n"
     ]
    }
   ],
   "source": [
    "users = songs.user_id.unique()\n",
    "sample = songs[songs.user_id.isin(users)]\n",
    "sample, emb_vectors, model = get_embeddings(sample)\n",
    "model.save(\"data/word2vec/122.model\")"
   ]
  },
  {
   "cell_type": "code",
   "execution_count": 13,
   "id": "placed-arena",
   "metadata": {
    "ExecuteTime": {
     "end_time": "2021-05-18T21:01:27.336140Z",
     "start_time": "2021-05-18T21:00:41.452070Z"
    }
   },
   "outputs": [],
   "source": [
    "# emb_vectors, model = load_model(\"data/word2vec/word2vec.model\")\n",
    "s2v_df = pd.DataFrame(data=emb_vectors.values(), index=emb_vectors.keys())"
   ]
  },
  {
   "cell_type": "markdown",
   "id": "promotional-celebrity",
   "metadata": {},
   "source": [
    "# TF-IDF initialization"
   ]
  },
  {
   "cell_type": "code",
   "execution_count": 5,
   "id": "close-albania",
   "metadata": {
    "ExecuteTime": {
     "end_time": "2021-05-18T20:56:44.950111Z",
     "start_time": "2021-05-18T20:56:06.230057Z"
    }
   },
   "outputs": [],
   "source": [
    "corpus_df = songs.sort_values([\"user_id\", \"timestamp\"]).groupby(\"user_id\")\\\n",
    "                .agg(sequence=(\"song_id\", list))"
   ]
  },
  {
   "cell_type": "code",
   "execution_count": 6,
   "id": "documentary-sacramento",
   "metadata": {
    "ExecuteTime": {
     "end_time": "2021-05-18T20:56:45.088695Z",
     "start_time": "2021-05-18T20:56:45.047290Z"
    }
   },
   "outputs": [],
   "source": [
    "corpus = corpus_df.values[:,0]"
   ]
  },
  {
   "cell_type": "code",
   "execution_count": 7,
   "id": "interested-sterling",
   "metadata": {
    "ExecuteTime": {
     "end_time": "2021-05-18T20:57:05.905248Z",
     "start_time": "2021-05-18T20:56:45.095959Z"
    }
   },
   "outputs": [],
   "source": [
    "vectorizer = TfidfVectorizer(tokenizer=lambda x: x, lowercase=False)\n",
    "X = vectorizer.fit_transform(corpus)"
   ]
  },
  {
   "cell_type": "code",
   "execution_count": 8,
   "id": "reasonable-subcommittee",
   "metadata": {
    "ExecuteTime": {
     "end_time": "2021-05-18T20:57:06.044323Z",
     "start_time": "2021-05-18T20:57:05.916379Z"
    }
   },
   "outputs": [],
   "source": [
    "song_ids = list(vectorizer.vocabulary_.keys())\n",
    "indices = list(vectorizer.vocabulary_.values())"
   ]
  },
  {
   "cell_type": "code",
   "execution_count": 9,
   "id": "latin-county",
   "metadata": {
    "ExecuteTime": {
     "end_time": "2021-05-18T20:57:11.066606Z",
     "start_time": "2021-05-18T20:57:06.061064Z"
    }
   },
   "outputs": [],
   "source": [
    "song_ids = [x for _,x in sorted(zip(indices,song_ids))]"
   ]
  },
  {
   "cell_type": "code",
   "execution_count": 10,
   "id": "independent-struggle",
   "metadata": {
    "ExecuteTime": {
     "end_time": "2021-05-18T20:57:15.029713Z",
     "start_time": "2021-05-18T20:57:11.068996Z"
    }
   },
   "outputs": [],
   "source": [
    "tfidf_df = pd.DataFrame(data=X.T.todense(), index=song_ids)"
   ]
  },
  {
   "cell_type": "markdown",
   "id": "interesting-parameter",
   "metadata": {},
   "source": [
    "# Classification Tasks\n",
    "\n",
    "* Predict if two songs appear in the same context\n",
    "* Predict if two songs are from the same artist\n",
    "* Predict the artist of a song\n",
    "* Predict the tag of a song"
   ]
  },
  {
   "cell_type": "code",
   "execution_count": 14,
   "id": "raising-deputy",
   "metadata": {
    "ExecuteTime": {
     "end_time": "2021-05-18T21:01:27.399029Z",
     "start_time": "2021-05-18T21:01:27.354926Z"
    }
   },
   "outputs": [],
   "source": [
    "SEED = 42"
   ]
  },
  {
   "cell_type": "code",
   "execution_count": 15,
   "id": "accurate-gabriel",
   "metadata": {
    "ExecuteTime": {
     "end_time": "2021-05-18T21:01:27.466587Z",
     "start_time": "2021-05-18T21:01:27.437940Z"
    }
   },
   "outputs": [],
   "source": [
    "def compute_metrics(y_test, y_pred, y_proba, multi=False):\n",
    "    acc = accuracy_score(y_test, y_pred)\n",
    "    if not multi:\n",
    "        f1 = f1_score(y_test, y_pred)\n",
    "        auc = roc_auc_score(y_test, y_proba)\n",
    "        return acc, f1, auc\n",
    "    else:\n",
    "        acc = accuracy_score(y_test, y_pred)\n",
    "        f1 = f1_score(y_test, y_pred, average='weighted')\n",
    "        cm = confusion_matrix(y_test, y_pred)\n",
    "        return acc, f1, cm"
   ]
  },
  {
   "cell_type": "code",
   "execution_count": 26,
   "id": "ongoing-vitamin",
   "metadata": {
    "ExecuteTime": {
     "end_time": "2021-05-18T21:03:33.542335Z",
     "start_time": "2021-05-18T21:03:33.510913Z"
    }
   },
   "outputs": [],
   "source": [
    "def predict_RF(X_train, X_test, y_train, y_test, scoring='f1', multi=False,\n",
    "               param_grid = {'n_estimators': [2,100, 150, 200, 300],\n",
    "                      'criterion': ['gini', 'entropy']}):    \n",
    "    model = RandomForestClassifier(random_state=SEED)\n",
    "    cv = KFold(n_splits=5, shuffle=True, random_state=SEED)\n",
    "    grid = GridSearchCV(model, param_grid, cv=cv, scoring=scoring, verbose=4)\n",
    "    grid.fit(X_train, y_train)\n",
    "    best_model = grid.best_estimator_\n",
    "    print(f\"Best parameters are: {grid.best_params_}\")\n",
    "    y_pred = best_model.predict(X_test)\n",
    "    y_proba = best_model.predict_proba(X_test)[:,1]\n",
    "    return compute_metrics(y_test, y_pred, y_proba, multi=multi)\n"
   ]
  },
  {
   "cell_type": "code",
   "execution_count": 17,
   "id": "conventional-publisher",
   "metadata": {
    "ExecuteTime": {
     "end_time": "2021-05-18T21:01:27.631069Z",
     "start_time": "2021-05-18T21:01:27.575436Z"
    }
   },
   "outputs": [],
   "source": [
    "def predict_random(X_train, y_train, X_test, y_test, multi=False):\n",
    "    random = DummyClassifier(strategy='uniform', random_state=SEED)\n",
    "    random.fit(X_train, y_train)\n",
    "    y_pred = random.predict(X_test)\n",
    "    y_proba = random.predict_proba(X_test)[:, 1]\n",
    "    return compute_metrics(y_test, y_pred, y_proba, multi=multi)\n",
    "\n",
    "def predict_majority(X_train, y_train, X_test, y_test, multi=False):\n",
    "    majority = DummyClassifier(strategy='most_frequent', random_state=SEED)\n",
    "    majority.fit(X_train, y_train)\n",
    "    y_pred = majority.predict(X_test)\n",
    "    y_proba = majority.predict_proba(X_test)[:, 1]\n",
    "    return compute_metrics(y_test, y_pred, y_proba, multi=multi)"
   ]
  },
  {
   "cell_type": "code",
   "execution_count": 18,
   "id": "excess-jurisdiction",
   "metadata": {
    "ExecuteTime": {
     "end_time": "2021-05-18T21:01:27.658499Z",
     "start_time": "2021-05-18T21:01:27.638300Z"
    }
   },
   "outputs": [],
   "source": [
    "def create_vectors_pairs(vectors, song_pairs):\n",
    "    vector_pairs = vectors.merge(song_pairs, right_on=\"song1\", left_index=True)\\\n",
    "            .merge(vectors, left_on=\"song2\", right_index=True)\\\n",
    "            .drop(['song1', 'song2'], axis=1)\n",
    "    print(len(vector_pairs))\n",
    "    print(len(song_pairs))\n",
    "    assert len(vector_pairs) == len(song_pairs)\n",
    "    assert vector_pairs.shape[1] == vectors.shape[1] * 2\n",
    "    return vector_pairs"
   ]
  },
  {
   "cell_type": "markdown",
   "id": "placed-greek",
   "metadata": {},
   "source": [
    "## Same context classification"
   ]
  },
  {
   "cell_type": "code",
   "execution_count": 19,
   "id": "jewish-fields",
   "metadata": {
    "ExecuteTime": {
     "end_time": "2021-05-18T21:02:05.026344Z",
     "start_time": "2021-05-18T21:01:27.682278Z"
    }
   },
   "outputs": [],
   "source": [
    "sorted_songs = songs.sort_values([\"user_id\", \"timestamp\"])"
   ]
  },
  {
   "cell_type": "code",
   "execution_count": 20,
   "id": "brief-omega",
   "metadata": {
    "ExecuteTime": {
     "end_time": "2021-05-18T21:02:05.140503Z",
     "start_time": "2021-05-18T21:02:05.051160Z"
    }
   },
   "outputs": [],
   "source": [
    "def pick_song_in_same_context(songs, half_n):\n",
    "    \"\"\"Simply chooses random songs pair them with the previous or following one\"\"\"\n",
    "    np.random.seed(SEED)\n",
    "    idx1 = np.random.randint(1, len(songs) - 1, half_n) #Exclude first and last song\n",
    "    idx2 = idx1.copy() #Offset the first index by -1 or 1 \n",
    "    idx2[::2] += 1\n",
    "    idx2[1::2] -= 1\n",
    "    songs1 = songs.iloc[idx1].song_id.values\n",
    "    songs2 = songs.iloc[idx2].song_id.values\n",
    "    X = np.c_[songs1, songs2]\n",
    "    y = np.ones(half_n)\n",
    "    return X, y\n",
    "    \n",
    "def pick_songs_in_diff_context(songs, half_n):\n",
    "    songs1 = songs.sample(half_n, random_state=SEED).song_id.values\n",
    "    songs2 = songs.sample(half_n, random_state=SEED + 1).song_id.values\n",
    "    X = np.c_[songs1, songs2]\n",
    "    y = np.zeros(half_n)\n",
    "    return X, y\n",
    "\n",
    "def create_context_dataset(sorted_songs, n=20000):\n",
    "    \"\"\"Create a dataset of song pairs that either appeared in the same context or not\"\"\" \n",
    "    X_pos, y_pos = pick_song_in_same_context(sorted_songs, n//2)\n",
    "    X_neg, y_neg = pick_songs_in_diff_context(sorted_songs, n//2)\n",
    "    old_X = np.r_[X_pos, X_neg]\n",
    "    old_y = np.r_[y_pos, y_neg]\n",
    "    dataset = list(zip(old_X, old_y))\n",
    "    np.random.seed(SEED)\n",
    "    np.random.shuffle(dataset)\n",
    "    X, y = zip(*dataset)\n",
    "    return pd.DataFrame(X, columns=[\"song1\", \"song2\"]), np.array(y)"
   ]
  },
  {
   "cell_type": "code",
   "execution_count": 21,
   "id": "changing-friendly",
   "metadata": {
    "ExecuteTime": {
     "end_time": "2021-05-18T21:02:08.325558Z",
     "start_time": "2021-05-18T21:02:05.150839Z"
    }
   },
   "outputs": [],
   "source": [
    "song_pairs, labels = create_context_dataset(sorted_songs, n= 10000)"
   ]
  },
  {
   "cell_type": "code",
   "execution_count": 22,
   "id": "solid-infection",
   "metadata": {
    "ExecuteTime": {
     "end_time": "2021-05-18T21:02:08.477817Z",
     "start_time": "2021-05-18T21:02:08.347031Z"
    }
   },
   "outputs": [],
   "source": [
    "#Only keep song with s2v embeddings\n",
    "song_pairs = song_pairs.copy()\n",
    "song_pairs['labels'] = labels\n",
    "song_pairs = song_pairs[song_pairs.song1.isin(s2v_df.index) & song_pairs.song2.isin(s2v_df.index)]\n",
    "labels = song_pairs.labels\n",
    "song_pairs.drop('labels', axis=1, inplace=True)"
   ]
  },
  {
   "cell_type": "markdown",
   "id": "obvious-tragedy",
   "metadata": {},
   "source": [
    "### TF-IDF"
   ]
  },
  {
   "cell_type": "code",
   "execution_count": 23,
   "id": "incorporated-stuart",
   "metadata": {
    "ExecuteTime": {
     "end_time": "2021-05-18T21:02:31.711497Z",
     "start_time": "2021-05-18T21:02:08.512406Z"
    }
   },
   "outputs": [
    {
     "name": "stdout",
     "output_type": "stream",
     "text": [
      "8485\n",
      "8485\n"
     ]
    }
   ],
   "source": [
    "tfidf_pairs = create_vectors_pairs(tfidf_df, song_pairs)"
   ]
  },
  {
   "cell_type": "code",
   "execution_count": 24,
   "id": "cosmetic-syndicate",
   "metadata": {
    "ExecuteTime": {
     "end_time": "2021-05-18T21:02:32.151536Z",
     "start_time": "2021-05-18T21:02:31.719202Z"
    }
   },
   "outputs": [
    {
     "data": {
      "text/html": [
       "<div>\n",
       "<style scoped>\n",
       "    .dataframe tbody tr th:only-of-type {\n",
       "        vertical-align: middle;\n",
       "    }\n",
       "\n",
       "    .dataframe tbody tr th {\n",
       "        vertical-align: top;\n",
       "    }\n",
       "\n",
       "    .dataframe thead th {\n",
       "        text-align: right;\n",
       "    }\n",
       "</style>\n",
       "<table border=\"1\" class=\"dataframe\">\n",
       "  <thead>\n",
       "    <tr style=\"text-align: right;\">\n",
       "      <th></th>\n",
       "      <th>0_x</th>\n",
       "      <th>1_x</th>\n",
       "      <th>2_x</th>\n",
       "      <th>3_x</th>\n",
       "      <th>4_x</th>\n",
       "      <th>5_x</th>\n",
       "      <th>6_x</th>\n",
       "      <th>7_x</th>\n",
       "      <th>8_x</th>\n",
       "      <th>9_x</th>\n",
       "      <th>...</th>\n",
       "      <th>982_y</th>\n",
       "      <th>983_y</th>\n",
       "      <th>984_y</th>\n",
       "      <th>985_y</th>\n",
       "      <th>986_y</th>\n",
       "      <th>987_y</th>\n",
       "      <th>988_y</th>\n",
       "      <th>989_y</th>\n",
       "      <th>990_y</th>\n",
       "      <th>991_y</th>\n",
       "    </tr>\n",
       "  </thead>\n",
       "  <tbody>\n",
       "    <tr>\n",
       "      <th>1382</th>\n",
       "      <td>0.0</td>\n",
       "      <td>0.000000</td>\n",
       "      <td>0.0</td>\n",
       "      <td>0.009143</td>\n",
       "      <td>0.0</td>\n",
       "      <td>0.0</td>\n",
       "      <td>0.0</td>\n",
       "      <td>0.0</td>\n",
       "      <td>0.0</td>\n",
       "      <td>0.0</td>\n",
       "      <td>...</td>\n",
       "      <td>0.003974</td>\n",
       "      <td>0.0</td>\n",
       "      <td>0.0</td>\n",
       "      <td>0.002027</td>\n",
       "      <td>0.0</td>\n",
       "      <td>0.0</td>\n",
       "      <td>0.0</td>\n",
       "      <td>0.0</td>\n",
       "      <td>0.0</td>\n",
       "      <td>0.0</td>\n",
       "    </tr>\n",
       "    <tr>\n",
       "      <th>6851</th>\n",
       "      <td>0.0</td>\n",
       "      <td>0.000000</td>\n",
       "      <td>0.0</td>\n",
       "      <td>0.005735</td>\n",
       "      <td>0.0</td>\n",
       "      <td>0.0</td>\n",
       "      <td>0.0</td>\n",
       "      <td>0.0</td>\n",
       "      <td>0.0</td>\n",
       "      <td>0.0</td>\n",
       "      <td>...</td>\n",
       "      <td>0.000000</td>\n",
       "      <td>0.0</td>\n",
       "      <td>0.0</td>\n",
       "      <td>0.000000</td>\n",
       "      <td>0.0</td>\n",
       "      <td>0.0</td>\n",
       "      <td>0.0</td>\n",
       "      <td>0.0</td>\n",
       "      <td>0.0</td>\n",
       "      <td>0.0</td>\n",
       "    </tr>\n",
       "    <tr>\n",
       "      <th>8584</th>\n",
       "      <td>0.0</td>\n",
       "      <td>0.000000</td>\n",
       "      <td>0.0</td>\n",
       "      <td>0.000000</td>\n",
       "      <td>0.0</td>\n",
       "      <td>0.0</td>\n",
       "      <td>0.0</td>\n",
       "      <td>0.0</td>\n",
       "      <td>0.0</td>\n",
       "      <td>0.0</td>\n",
       "      <td>...</td>\n",
       "      <td>0.000000</td>\n",
       "      <td>0.0</td>\n",
       "      <td>0.0</td>\n",
       "      <td>0.000000</td>\n",
       "      <td>0.0</td>\n",
       "      <td>0.0</td>\n",
       "      <td>0.0</td>\n",
       "      <td>0.0</td>\n",
       "      <td>0.0</td>\n",
       "      <td>0.0</td>\n",
       "    </tr>\n",
       "    <tr>\n",
       "      <th>3106</th>\n",
       "      <td>0.0</td>\n",
       "      <td>0.000804</td>\n",
       "      <td>0.0</td>\n",
       "      <td>0.000000</td>\n",
       "      <td>0.0</td>\n",
       "      <td>0.0</td>\n",
       "      <td>0.0</td>\n",
       "      <td>0.0</td>\n",
       "      <td>0.0</td>\n",
       "      <td>0.0</td>\n",
       "      <td>...</td>\n",
       "      <td>0.000000</td>\n",
       "      <td>0.0</td>\n",
       "      <td>0.0</td>\n",
       "      <td>0.000000</td>\n",
       "      <td>0.0</td>\n",
       "      <td>0.0</td>\n",
       "      <td>0.0</td>\n",
       "      <td>0.0</td>\n",
       "      <td>0.0</td>\n",
       "      <td>0.0</td>\n",
       "    </tr>\n",
       "    <tr>\n",
       "      <th>9648</th>\n",
       "      <td>0.0</td>\n",
       "      <td>0.000790</td>\n",
       "      <td>0.0</td>\n",
       "      <td>0.000000</td>\n",
       "      <td>0.0</td>\n",
       "      <td>0.0</td>\n",
       "      <td>0.0</td>\n",
       "      <td>0.0</td>\n",
       "      <td>0.0</td>\n",
       "      <td>0.0</td>\n",
       "      <td>...</td>\n",
       "      <td>0.000000</td>\n",
       "      <td>0.0</td>\n",
       "      <td>0.0</td>\n",
       "      <td>0.000000</td>\n",
       "      <td>0.0</td>\n",
       "      <td>0.0</td>\n",
       "      <td>0.0</td>\n",
       "      <td>0.0</td>\n",
       "      <td>0.0</td>\n",
       "      <td>0.0</td>\n",
       "    </tr>\n",
       "  </tbody>\n",
       "</table>\n",
       "<p>5 rows × 1984 columns</p>\n",
       "</div>"
      ],
      "text/plain": [
       "      0_x       1_x  2_x       3_x  4_x  5_x  6_x  7_x  8_x  9_x  ...  \\\n",
       "1382  0.0  0.000000  0.0  0.009143  0.0  0.0  0.0  0.0  0.0  0.0  ...   \n",
       "6851  0.0  0.000000  0.0  0.005735  0.0  0.0  0.0  0.0  0.0  0.0  ...   \n",
       "8584  0.0  0.000000  0.0  0.000000  0.0  0.0  0.0  0.0  0.0  0.0  ...   \n",
       "3106  0.0  0.000804  0.0  0.000000  0.0  0.0  0.0  0.0  0.0  0.0  ...   \n",
       "9648  0.0  0.000790  0.0  0.000000  0.0  0.0  0.0  0.0  0.0  0.0  ...   \n",
       "\n",
       "         982_y  983_y  984_y     985_y  986_y  987_y  988_y  989_y  990_y  \\\n",
       "1382  0.003974    0.0    0.0  0.002027    0.0    0.0    0.0    0.0    0.0   \n",
       "6851  0.000000    0.0    0.0  0.000000    0.0    0.0    0.0    0.0    0.0   \n",
       "8584  0.000000    0.0    0.0  0.000000    0.0    0.0    0.0    0.0    0.0   \n",
       "3106  0.000000    0.0    0.0  0.000000    0.0    0.0    0.0    0.0    0.0   \n",
       "9648  0.000000    0.0    0.0  0.000000    0.0    0.0    0.0    0.0    0.0   \n",
       "\n",
       "      991_y  \n",
       "1382    0.0  \n",
       "6851    0.0  \n",
       "8584    0.0  \n",
       "3106    0.0  \n",
       "9648    0.0  \n",
       "\n",
       "[5 rows x 1984 columns]"
      ]
     },
     "execution_count": 24,
     "metadata": {},
     "output_type": "execute_result"
    }
   ],
   "source": [
    "tfidf_pairs.head()"
   ]
  },
  {
   "cell_type": "code",
   "execution_count": 27,
   "id": "chronic-windows",
   "metadata": {
    "ExecuteTime": {
     "end_time": "2021-05-18T21:16:03.290150Z",
     "start_time": "2021-05-18T21:03:36.705372Z"
    },
    "scrolled": true
   },
   "outputs": [
    {
     "name": "stdout",
     "output_type": "stream",
     "text": [
      "Fitting 5 folds for each of 10 candidates, totalling 50 fits\n",
      "[CV 1/5] END .................criterion=gini, n_estimators=2; total time=   0.8s\n",
      "[CV 2/5] END .................criterion=gini, n_estimators=2; total time=   0.4s\n",
      "[CV 3/5] END .................criterion=gini, n_estimators=2; total time=   0.4s\n",
      "[CV 4/5] END .................criterion=gini, n_estimators=2; total time=   0.4s\n",
      "[CV 5/5] END .................criterion=gini, n_estimators=2; total time=   0.3s\n",
      "[CV 1/5] END ...............criterion=gini, n_estimators=100; total time=  11.1s\n",
      "[CV 2/5] END ...............criterion=gini, n_estimators=100; total time=   8.6s\n",
      "[CV 3/5] END ...............criterion=gini, n_estimators=100; total time=   9.6s\n",
      "[CV 4/5] END ...............criterion=gini, n_estimators=100; total time=   8.7s\n",
      "[CV 5/5] END ...............criterion=gini, n_estimators=100; total time=   8.4s\n",
      "[CV 1/5] END ...............criterion=gini, n_estimators=150; total time=  12.5s\n",
      "[CV 2/5] END ...............criterion=gini, n_estimators=150; total time=  12.5s\n",
      "[CV 3/5] END ...............criterion=gini, n_estimators=150; total time=  12.9s\n",
      "[CV 4/5] END ...............criterion=gini, n_estimators=150; total time=  12.6s\n",
      "[CV 5/5] END ...............criterion=gini, n_estimators=150; total time=  12.6s\n",
      "[CV 1/5] END ...............criterion=gini, n_estimators=200; total time=  16.2s\n",
      "[CV 2/5] END ...............criterion=gini, n_estimators=200; total time=  16.4s\n",
      "[CV 3/5] END ...............criterion=gini, n_estimators=200; total time=  17.2s\n",
      "[CV 4/5] END ...............criterion=gini, n_estimators=200; total time=  16.4s\n",
      "[CV 5/5] END ...............criterion=gini, n_estimators=200; total time=  16.2s\n",
      "[CV 1/5] END ...............criterion=gini, n_estimators=300; total time=  24.2s\n",
      "[CV 2/5] END ...............criterion=gini, n_estimators=300; total time=  24.1s\n",
      "[CV 3/5] END ...............criterion=gini, n_estimators=300; total time=  25.0s\n",
      "[CV 4/5] END ...............criterion=gini, n_estimators=300; total time=  24.9s\n",
      "[CV 5/5] END ...............criterion=gini, n_estimators=300; total time=  24.4s\n",
      "[CV 1/5] END ..............criterion=entropy, n_estimators=2; total time=   0.4s\n",
      "[CV 2/5] END ..............criterion=entropy, n_estimators=2; total time=   0.3s\n",
      "[CV 3/5] END ..............criterion=entropy, n_estimators=2; total time=   0.3s\n",
      "[CV 4/5] END ..............criterion=entropy, n_estimators=2; total time=   0.4s\n",
      "[CV 5/5] END ..............criterion=entropy, n_estimators=2; total time=   0.3s\n",
      "[CV 1/5] END ............criterion=entropy, n_estimators=100; total time=  10.8s\n",
      "[CV 2/5] END ............criterion=entropy, n_estimators=100; total time=  10.4s\n",
      "[CV 3/5] END ............criterion=entropy, n_estimators=100; total time=  10.4s\n",
      "[CV 4/5] END ............criterion=entropy, n_estimators=100; total time=  10.3s\n",
      "[CV 5/5] END ............criterion=entropy, n_estimators=100; total time=  10.3s\n",
      "[CV 1/5] END ............criterion=entropy, n_estimators=150; total time=  15.8s\n",
      "[CV 2/5] END ............criterion=entropy, n_estimators=150; total time=  15.5s\n",
      "[CV 3/5] END ............criterion=entropy, n_estimators=150; total time=  16.2s\n",
      "[CV 4/5] END ............criterion=entropy, n_estimators=150; total time=  15.3s\n",
      "[CV 5/5] END ............criterion=entropy, n_estimators=150; total time=  15.4s\n",
      "[CV 1/5] END ............criterion=entropy, n_estimators=200; total time=  20.7s\n",
      "[CV 2/5] END ............criterion=entropy, n_estimators=200; total time=  20.5s\n",
      "[CV 3/5] END ............criterion=entropy, n_estimators=200; total time=  21.3s\n",
      "[CV 4/5] END ............criterion=entropy, n_estimators=200; total time=  21.8s\n",
      "[CV 5/5] END ............criterion=entropy, n_estimators=200; total time=  20.7s\n",
      "[CV 1/5] END ............criterion=entropy, n_estimators=300; total time=  32.4s\n",
      "[CV 2/5] END ............criterion=entropy, n_estimators=300; total time=  31.2s\n",
      "[CV 3/5] END ............criterion=entropy, n_estimators=300; total time=  32.2s\n",
      "[CV 4/5] END ............criterion=entropy, n_estimators=300; total time=  30.5s\n",
      "[CV 5/5] END ............criterion=entropy, n_estimators=300; total time=  30.6s\n",
      "Best parameters are: {'criterion': 'gini', 'n_estimators': 300}\n"
     ]
    }
   ],
   "source": [
    "X_train, X_test, y_train, y_test = \\\n",
    "                train_test_split(tfidf_pairs, labels, train_size=0.8, random_state=SEED)\n",
    "acc, f1, auc = predict_RF(X_train, X_test, y_train, y_test)"
   ]
  },
  {
   "cell_type": "code",
   "execution_count": 28,
   "id": "enabling-nevada",
   "metadata": {
    "ExecuteTime": {
     "end_time": "2021-05-18T21:16:03.380412Z",
     "start_time": "2021-05-18T21:16:03.328129Z"
    }
   },
   "outputs": [
    {
     "name": "stdout",
     "output_type": "stream",
     "text": [
      "TF-IDF: 0.502651738361815 0.5143843498273878 0.5059037560642182\n",
      "Random: (0.49616971125515613, 0.48955223880597015, 0.5)\n",
      "Majority: (0.4926340601060695, 0.6600868535333597, 0.5)\n"
     ]
    }
   ],
   "source": [
    "print(\"TF-IDF:\", acc, f1, auc)\n",
    "print(\"Random:\", predict_random(X_train, y_train, X_test, y_test))\n",
    "print(\"Majority:\",predict_majority(X_train, y_train, X_test, y_test))"
   ]
  },
  {
   "cell_type": "markdown",
   "id": "gentle-government",
   "metadata": {},
   "source": [
    "### song2vec"
   ]
  },
  {
   "cell_type": "code",
   "execution_count": 29,
   "id": "fixed-husband",
   "metadata": {
    "ExecuteTime": {
     "end_time": "2021-05-18T21:16:04.467642Z",
     "start_time": "2021-05-18T21:16:03.441764Z"
    }
   },
   "outputs": [
    {
     "name": "stdout",
     "output_type": "stream",
     "text": [
      "8485\n",
      "8485\n"
     ]
    }
   ],
   "source": [
    "s2v_pairs = create_vectors_pairs(s2v_df, song_pairs)"
   ]
  },
  {
   "cell_type": "code",
   "execution_count": 30,
   "id": "signal-theory",
   "metadata": {
    "ExecuteTime": {
     "end_time": "2021-05-18T21:16:04.566506Z",
     "start_time": "2021-05-18T21:16:04.488001Z"
    }
   },
   "outputs": [
    {
     "data": {
      "text/html": [
       "<div>\n",
       "<style scoped>\n",
       "    .dataframe tbody tr th:only-of-type {\n",
       "        vertical-align: middle;\n",
       "    }\n",
       "\n",
       "    .dataframe tbody tr th {\n",
       "        vertical-align: top;\n",
       "    }\n",
       "\n",
       "    .dataframe thead th {\n",
       "        text-align: right;\n",
       "    }\n",
       "</style>\n",
       "<table border=\"1\" class=\"dataframe\">\n",
       "  <thead>\n",
       "    <tr style=\"text-align: right;\">\n",
       "      <th></th>\n",
       "      <th>0_x</th>\n",
       "      <th>1_x</th>\n",
       "      <th>2_x</th>\n",
       "      <th>3_x</th>\n",
       "      <th>4_x</th>\n",
       "      <th>5_x</th>\n",
       "      <th>6_x</th>\n",
       "      <th>7_x</th>\n",
       "      <th>8_x</th>\n",
       "      <th>9_x</th>\n",
       "      <th>...</th>\n",
       "      <th>90_y</th>\n",
       "      <th>91_y</th>\n",
       "      <th>92_y</th>\n",
       "      <th>93_y</th>\n",
       "      <th>94_y</th>\n",
       "      <th>95_y</th>\n",
       "      <th>96_y</th>\n",
       "      <th>97_y</th>\n",
       "      <th>98_y</th>\n",
       "      <th>99_y</th>\n",
       "    </tr>\n",
       "  </thead>\n",
       "  <tbody>\n",
       "    <tr>\n",
       "      <th>2416</th>\n",
       "      <td>0.080099</td>\n",
       "      <td>0.864616</td>\n",
       "      <td>0.471436</td>\n",
       "      <td>0.074726</td>\n",
       "      <td>1.148908</td>\n",
       "      <td>-0.630399</td>\n",
       "      <td>-0.530655</td>\n",
       "      <td>0.495115</td>\n",
       "      <td>-0.939442</td>\n",
       "      <td>0.538262</td>\n",
       "      <td>...</td>\n",
       "      <td>1.304962</td>\n",
       "      <td>-0.043532</td>\n",
       "      <td>-1.467525</td>\n",
       "      <td>-0.106839</td>\n",
       "      <td>-0.201679</td>\n",
       "      <td>-0.174556</td>\n",
       "      <td>-0.375344</td>\n",
       "      <td>-0.553966</td>\n",
       "      <td>-0.414131</td>\n",
       "      <td>-0.060302</td>\n",
       "    </tr>\n",
       "    <tr>\n",
       "      <th>3249</th>\n",
       "      <td>0.092656</td>\n",
       "      <td>1.021982</td>\n",
       "      <td>0.482486</td>\n",
       "      <td>0.162953</td>\n",
       "      <td>1.458531</td>\n",
       "      <td>-0.456922</td>\n",
       "      <td>-0.808088</td>\n",
       "      <td>0.469913</td>\n",
       "      <td>-1.109759</td>\n",
       "      <td>0.834617</td>\n",
       "      <td>...</td>\n",
       "      <td>1.304962</td>\n",
       "      <td>-0.043532</td>\n",
       "      <td>-1.467525</td>\n",
       "      <td>-0.106839</td>\n",
       "      <td>-0.201679</td>\n",
       "      <td>-0.174556</td>\n",
       "      <td>-0.375344</td>\n",
       "      <td>-0.553966</td>\n",
       "      <td>-0.414131</td>\n",
       "      <td>-0.060302</td>\n",
       "    </tr>\n",
       "    <tr>\n",
       "      <th>2532</th>\n",
       "      <td>0.080099</td>\n",
       "      <td>0.864616</td>\n",
       "      <td>0.471436</td>\n",
       "      <td>0.074726</td>\n",
       "      <td>1.148908</td>\n",
       "      <td>-0.630399</td>\n",
       "      <td>-0.530655</td>\n",
       "      <td>0.495115</td>\n",
       "      <td>-0.939442</td>\n",
       "      <td>0.538262</td>\n",
       "      <td>...</td>\n",
       "      <td>0.994198</td>\n",
       "      <td>-0.072898</td>\n",
       "      <td>-1.162338</td>\n",
       "      <td>-0.054488</td>\n",
       "      <td>-0.212095</td>\n",
       "      <td>-0.196816</td>\n",
       "      <td>-0.265199</td>\n",
       "      <td>-0.362052</td>\n",
       "      <td>-0.326012</td>\n",
       "      <td>-0.056850</td>\n",
       "    </tr>\n",
       "    <tr>\n",
       "      <th>1651</th>\n",
       "      <td>-0.023731</td>\n",
       "      <td>1.001483</td>\n",
       "      <td>0.474537</td>\n",
       "      <td>0.046131</td>\n",
       "      <td>1.076092</td>\n",
       "      <td>-0.592924</td>\n",
       "      <td>-0.783837</td>\n",
       "      <td>0.444142</td>\n",
       "      <td>-1.063470</td>\n",
       "      <td>0.717101</td>\n",
       "      <td>...</td>\n",
       "      <td>0.622503</td>\n",
       "      <td>-0.048610</td>\n",
       "      <td>-0.731744</td>\n",
       "      <td>-0.043423</td>\n",
       "      <td>-0.129149</td>\n",
       "      <td>-0.123916</td>\n",
       "      <td>-0.152679</td>\n",
       "      <td>-0.234185</td>\n",
       "      <td>-0.208944</td>\n",
       "      <td>-0.046655</td>\n",
       "    </tr>\n",
       "    <tr>\n",
       "      <th>4873</th>\n",
       "      <td>-0.023731</td>\n",
       "      <td>1.001483</td>\n",
       "      <td>0.474537</td>\n",
       "      <td>0.046131</td>\n",
       "      <td>1.076092</td>\n",
       "      <td>-0.592924</td>\n",
       "      <td>-0.783837</td>\n",
       "      <td>0.444142</td>\n",
       "      <td>-1.063470</td>\n",
       "      <td>0.717101</td>\n",
       "      <td>...</td>\n",
       "      <td>1.523960</td>\n",
       "      <td>-0.228382</td>\n",
       "      <td>-2.151627</td>\n",
       "      <td>0.289972</td>\n",
       "      <td>-0.400530</td>\n",
       "      <td>-0.138025</td>\n",
       "      <td>-0.379053</td>\n",
       "      <td>-0.788297</td>\n",
       "      <td>-0.606921</td>\n",
       "      <td>-0.089377</td>\n",
       "    </tr>\n",
       "  </tbody>\n",
       "</table>\n",
       "<p>5 rows × 200 columns</p>\n",
       "</div>"
      ],
      "text/plain": [
       "           0_x       1_x       2_x       3_x       4_x       5_x       6_x  \\\n",
       "2416  0.080099  0.864616  0.471436  0.074726  1.148908 -0.630399 -0.530655   \n",
       "3249  0.092656  1.021982  0.482486  0.162953  1.458531 -0.456922 -0.808088   \n",
       "2532  0.080099  0.864616  0.471436  0.074726  1.148908 -0.630399 -0.530655   \n",
       "1651 -0.023731  1.001483  0.474537  0.046131  1.076092 -0.592924 -0.783837   \n",
       "4873 -0.023731  1.001483  0.474537  0.046131  1.076092 -0.592924 -0.783837   \n",
       "\n",
       "           7_x       8_x       9_x  ...      90_y      91_y      92_y  \\\n",
       "2416  0.495115 -0.939442  0.538262  ...  1.304962 -0.043532 -1.467525   \n",
       "3249  0.469913 -1.109759  0.834617  ...  1.304962 -0.043532 -1.467525   \n",
       "2532  0.495115 -0.939442  0.538262  ...  0.994198 -0.072898 -1.162338   \n",
       "1651  0.444142 -1.063470  0.717101  ...  0.622503 -0.048610 -0.731744   \n",
       "4873  0.444142 -1.063470  0.717101  ...  1.523960 -0.228382 -2.151627   \n",
       "\n",
       "          93_y      94_y      95_y      96_y      97_y      98_y      99_y  \n",
       "2416 -0.106839 -0.201679 -0.174556 -0.375344 -0.553966 -0.414131 -0.060302  \n",
       "3249 -0.106839 -0.201679 -0.174556 -0.375344 -0.553966 -0.414131 -0.060302  \n",
       "2532 -0.054488 -0.212095 -0.196816 -0.265199 -0.362052 -0.326012 -0.056850  \n",
       "1651 -0.043423 -0.129149 -0.123916 -0.152679 -0.234185 -0.208944 -0.046655  \n",
       "4873  0.289972 -0.400530 -0.138025 -0.379053 -0.788297 -0.606921 -0.089377  \n",
       "\n",
       "[5 rows x 200 columns]"
      ]
     },
     "execution_count": 30,
     "metadata": {},
     "output_type": "execute_result"
    }
   ],
   "source": [
    "s2v_pairs.head()"
   ]
  },
  {
   "cell_type": "code",
   "execution_count": 31,
   "id": "accessory-trunk",
   "metadata": {
    "ExecuteTime": {
     "end_time": "2021-05-18T21:33:58.318447Z",
     "start_time": "2021-05-18T21:16:04.577874Z"
    },
    "scrolled": true
   },
   "outputs": [
    {
     "name": "stdout",
     "output_type": "stream",
     "text": [
      "Fitting 5 folds for each of 10 candidates, totalling 50 fits\n",
      "[CV 1/5] END .................criterion=gini, n_estimators=2; total time=   0.4s\n",
      "[CV 2/5] END .................criterion=gini, n_estimators=2; total time=   0.4s\n",
      "[CV 3/5] END .................criterion=gini, n_estimators=2; total time=   0.2s\n",
      "[CV 4/5] END .................criterion=gini, n_estimators=2; total time=   0.2s\n",
      "[CV 5/5] END .................criterion=gini, n_estimators=2; total time=   0.2s\n",
      "[CV 1/5] END ...............criterion=gini, n_estimators=100; total time=   9.8s\n",
      "[CV 2/5] END ...............criterion=gini, n_estimators=100; total time=   9.2s\n",
      "[CV 3/5] END ...............criterion=gini, n_estimators=100; total time=   9.4s\n",
      "[CV 4/5] END ...............criterion=gini, n_estimators=100; total time=  11.3s\n",
      "[CV 5/5] END ...............criterion=gini, n_estimators=100; total time=  12.5s\n",
      "[CV 1/5] END ...............criterion=gini, n_estimators=150; total time=  15.4s\n",
      "[CV 2/5] END ...............criterion=gini, n_estimators=150; total time=  14.0s\n",
      "[CV 3/5] END ...............criterion=gini, n_estimators=150; total time=  14.5s\n",
      "[CV 4/5] END ...............criterion=gini, n_estimators=150; total time=  13.6s\n",
      "[CV 5/5] END ...............criterion=gini, n_estimators=150; total time=  14.3s\n",
      "[CV 1/5] END ...............criterion=gini, n_estimators=200; total time=  26.5s\n",
      "[CV 2/5] END ...............criterion=gini, n_estimators=200; total time=  23.0s\n",
      "[CV 3/5] END ...............criterion=gini, n_estimators=200; total time=  22.8s\n",
      "[CV 4/5] END ...............criterion=gini, n_estimators=200; total time=  24.8s\n",
      "[CV 5/5] END ...............criterion=gini, n_estimators=200; total time=  18.9s\n",
      "[CV 1/5] END ...............criterion=gini, n_estimators=300; total time=  28.2s\n",
      "[CV 2/5] END ...............criterion=gini, n_estimators=300; total time=  26.7s\n",
      "[CV 3/5] END ...............criterion=gini, n_estimators=300; total time=  28.4s\n",
      "[CV 4/5] END ...............criterion=gini, n_estimators=300; total time=  27.5s\n",
      "[CV 5/5] END ...............criterion=gini, n_estimators=300; total time=  28.9s\n",
      "[CV 1/5] END ..............criterion=entropy, n_estimators=2; total time=   0.3s\n",
      "[CV 2/5] END ..............criterion=entropy, n_estimators=2; total time=   0.4s\n",
      "[CV 3/5] END ..............criterion=entropy, n_estimators=2; total time=   0.3s\n",
      "[CV 4/5] END ..............criterion=entropy, n_estimators=2; total time=   0.5s\n",
      "[CV 5/5] END ..............criterion=entropy, n_estimators=2; total time=   0.7s\n",
      "[CV 1/5] END ............criterion=entropy, n_estimators=100; total time=  17.5s\n",
      "[CV 2/5] END ............criterion=entropy, n_estimators=100; total time=  17.1s\n",
      "[CV 3/5] END ............criterion=entropy, n_estimators=100; total time=  19.1s\n",
      "[CV 4/5] END ............criterion=entropy, n_estimators=100; total time=  18.4s\n",
      "[CV 5/5] END ............criterion=entropy, n_estimators=100; total time=  18.7s\n",
      "[CV 1/5] END ............criterion=entropy, n_estimators=150; total time=  25.8s\n",
      "[CV 2/5] END ............criterion=entropy, n_estimators=150; total time=  23.9s\n",
      "[CV 3/5] END ............criterion=entropy, n_estimators=150; total time=  24.9s\n",
      "[CV 4/5] END ............criterion=entropy, n_estimators=150; total time=  24.2s\n",
      "[CV 5/5] END ............criterion=entropy, n_estimators=150; total time=  24.8s\n",
      "[CV 1/5] END ............criterion=entropy, n_estimators=200; total time=  33.4s\n",
      "[CV 2/5] END ............criterion=entropy, n_estimators=200; total time=  31.6s\n",
      "[CV 3/5] END ............criterion=entropy, n_estimators=200; total time=  33.1s\n",
      "[CV 4/5] END ............criterion=entropy, n_estimators=200; total time=  32.3s\n",
      "[CV 5/5] END ............criterion=entropy, n_estimators=200; total time=  33.8s\n",
      "[CV 1/5] END ............criterion=entropy, n_estimators=300; total time=  50.4s\n",
      "[CV 2/5] END ............criterion=entropy, n_estimators=300; total time=  57.4s\n",
      "[CV 3/5] END ............criterion=entropy, n_estimators=300; total time=  51.1s\n",
      "[CV 4/5] END ............criterion=entropy, n_estimators=300; total time=  49.6s\n",
      "[CV 5/5] END ............criterion=entropy, n_estimators=300; total time=  51.1s\n",
      "Best parameters are: {'criterion': 'entropy', 'n_estimators': 200}\n"
     ]
    }
   ],
   "source": [
    "X_train, X_test, y_train, y_test = \\\n",
    "                train_test_split(s2v_pairs, labels, train_size=0.8, random_state=SEED)\n",
    "acc, f1, auc = predict_RF(X_train, X_test, y_train, y_test)"
   ]
  },
  {
   "cell_type": "code",
   "execution_count": 32,
   "id": "liquid-regulation",
   "metadata": {
    "ExecuteTime": {
     "end_time": "2021-05-18T21:33:58.385807Z",
     "start_time": "2021-05-18T21:33:58.348752Z"
    }
   },
   "outputs": [
    {
     "name": "stdout",
     "output_type": "stream",
     "text": [
      "Song2Vec: 0.5203299941072481 0.5380249716231555 0.5226571139600664\n"
     ]
    }
   ],
   "source": [
    "print(\"Song2Vec:\", acc, f1, auc)"
   ]
  },
  {
   "cell_type": "markdown",
   "id": "sapphire-trademark",
   "metadata": {},
   "source": [
    "## Same artist classification"
   ]
  },
  {
   "cell_type": "code",
   "execution_count": 33,
   "id": "analyzed-parcel",
   "metadata": {
    "ExecuteTime": {
     "end_time": "2021-05-18T21:34:09.775070Z",
     "start_time": "2021-05-18T21:33:58.402663Z"
    }
   },
   "outputs": [],
   "source": [
    "discography = songs[[\"artist_name\", \"track_name\", \"song_id\"]].drop_duplicates()"
   ]
  },
  {
   "cell_type": "code",
   "execution_count": 34,
   "id": "vocal-adolescent",
   "metadata": {
    "ExecuteTime": {
     "end_time": "2021-05-18T21:34:09.924767Z",
     "start_time": "2021-05-18T21:34:09.822309Z"
    }
   },
   "outputs": [],
   "source": [
    "def pick_songs_from_same_artist(discography, half_n):\n",
    "    \"\"\"Simply chooses random songs pair them with the previous or following one\"\"\"\n",
    "    artist_with_multiple_songs = discography.groupby(\"artist_name\")\\\n",
    "                                .agg(count=(\"track_name\", \"count\")).reset_index()\n",
    "    discography = discography.merge(artist_with_multiple_songs)\n",
    "    \n",
    "    song_pairs = discography.groupby(\"artist_name\").agg(song1=(\"song_id\", \"first\"), \n",
    "                                                        song2=(\"song_id\", \"last\"))\n",
    "    X = song_pairs.sample(half_n, random_state=SEED).values\n",
    "    y = np.ones(half_n)\n",
    "    return X, y\n",
    "    \n",
    "def pick_songs_from_diff_artist(discography, half_n):\n",
    "    discography = discography.drop_duplicates(\"artist_name\")\n",
    "    songs = discography.sample(2*half_n, random_state=SEED).song_id.values\n",
    "    songs1 = songs[:half_n]\n",
    "    songs2 = songs[half_n:]\n",
    "    X = np.c_[songs1, songs2]\n",
    "    y = np.zeros(half_n)\n",
    "    return X, y\n",
    "\n",
    "def create_artist_dataset(discography, n=20000):\n",
    "    \"\"\"Create a dataset of song pairs that either appeared in the same context or not\"\"\" \n",
    "    discography = discography.merge(s2v_df, left_on=\"song_id\", right_index=True)\n",
    "    discography = discography.merge(tfidf_df, left_on=\"song_id\", right_index=True)\n",
    "    X_pos, y_pos = pick_songs_from_same_artist(discography, n//2)\n",
    "    X_neg, y_neg = pick_songs_from_diff_artist(discography, n//2)\n",
    "    old_X = np.r_[X_pos, X_neg]\n",
    "    old_y = np.r_[y_pos, y_neg]\n",
    "    dataset = list(zip(old_X, old_y))\n",
    "    np.random.seed(SEED)\n",
    "    np.random.shuffle(dataset)\n",
    "    X, y = zip(*dataset)\n",
    "    return pd.DataFrame(X, columns=[\"song1\", \"song2\"]), np.array(y)"
   ]
  },
  {
   "cell_type": "code",
   "execution_count": 35,
   "id": "homeless-content",
   "metadata": {
    "ExecuteTime": {
     "end_time": "2021-05-18T21:35:45.191323Z",
     "start_time": "2021-05-18T21:34:09.941397Z"
    }
   },
   "outputs": [],
   "source": [
    "song_pairs, labels = create_artist_dataset(discography, 20000)"
   ]
  },
  {
   "cell_type": "code",
   "execution_count": 36,
   "id": "surface-collar",
   "metadata": {
    "ExecuteTime": {
     "end_time": "2021-05-18T21:35:45.637830Z",
     "start_time": "2021-05-18T21:35:45.206486Z"
    }
   },
   "outputs": [],
   "source": [
    "#Only keep song with s2v embeddings\n",
    "song_pairs = song_pairs.copy()\n",
    "song_pairs['labels'] = labels\n",
    "song_pairs = song_pairs[song_pairs.song1.isin(s2v_df.index) & song_pairs.song2.isin(s2v_df.index)]\n",
    "song_pairs = song_pairs[song_pairs.song1.isin(tfidf_df.index) & song_pairs.song2.isin(tfidf_df.index)]\n",
    "labels = song_pairs.labels\n",
    "# song_pairs.drop('labels', axis=1, inplace=True)"
   ]
  },
  {
   "cell_type": "code",
   "execution_count": 37,
   "id": "broad-western",
   "metadata": {
    "ExecuteTime": {
     "end_time": "2021-05-18T21:35:45.725848Z",
     "start_time": "2021-05-18T21:35:45.641799Z"
    }
   },
   "outputs": [],
   "source": [
    "song_pairs_neg = song_pairs.query(\"labels == 0\").iloc[:3547]\n",
    "song_pairs_pos = song_pairs.query(\"labels == 1\")"
   ]
  },
  {
   "cell_type": "code",
   "execution_count": 38,
   "id": "israeli-transfer",
   "metadata": {
    "ExecuteTime": {
     "end_time": "2021-05-18T21:35:45.801355Z",
     "start_time": "2021-05-18T21:35:45.753989Z"
    }
   },
   "outputs": [],
   "source": [
    "song_pairs = pd.concat([song_pairs_neg, song_pairs_pos])\n",
    "labels = song_pairs.labels\n",
    "song_pairs.drop('labels', axis=1, inplace=True)"
   ]
  },
  {
   "cell_type": "markdown",
   "id": "pursuant-trinidad",
   "metadata": {},
   "source": [
    "### TF-IDF"
   ]
  },
  {
   "cell_type": "code",
   "execution_count": 39,
   "id": "scientific-lewis",
   "metadata": {
    "ExecuteTime": {
     "end_time": "2021-05-18T21:36:06.320308Z",
     "start_time": "2021-05-18T21:35:45.812411Z"
    }
   },
   "outputs": [
    {
     "name": "stdout",
     "output_type": "stream",
     "text": [
      "7094\n",
      "7094\n"
     ]
    }
   ],
   "source": [
    "tfidf_pairs = create_vectors_pairs(tfidf_df, song_pairs)"
   ]
  },
  {
   "cell_type": "code",
   "execution_count": 40,
   "id": "existing-tuesday",
   "metadata": {
    "ExecuteTime": {
     "end_time": "2021-05-18T21:36:06.659180Z",
     "start_time": "2021-05-18T21:36:06.333566Z"
    }
   },
   "outputs": [],
   "source": [
    "X_train, X_test, y_train, y_test = \\\n",
    "                train_test_split(tfidf_pairs, labels, train_size=0.8, random_state=SEED)"
   ]
  },
  {
   "cell_type": "code",
   "execution_count": 41,
   "id": "aggregate-passing",
   "metadata": {
    "ExecuteTime": {
     "end_time": "2021-05-18T21:45:51.281103Z",
     "start_time": "2021-05-18T21:36:06.673931Z"
    },
    "scrolled": false
   },
   "outputs": [
    {
     "name": "stdout",
     "output_type": "stream",
     "text": [
      "Fitting 5 folds for each of 10 candidates, totalling 50 fits\n",
      "[CV 1/5] END .................criterion=gini, n_estimators=2; total time=   0.4s\n",
      "[CV 2/5] END .................criterion=gini, n_estimators=2; total time=   0.4s\n",
      "[CV 3/5] END .................criterion=gini, n_estimators=2; total time=   0.3s\n",
      "[CV 4/5] END .................criterion=gini, n_estimators=2; total time=   0.3s\n",
      "[CV 5/5] END .................criterion=gini, n_estimators=2; total time=   0.3s\n",
      "[CV 1/5] END ...............criterion=gini, n_estimators=100; total time=   8.1s\n",
      "[CV 2/5] END ...............criterion=gini, n_estimators=100; total time=   8.0s\n",
      "[CV 3/5] END ...............criterion=gini, n_estimators=100; total time=   7.7s\n",
      "[CV 4/5] END ...............criterion=gini, n_estimators=100; total time=   7.6s\n",
      "[CV 5/5] END ...............criterion=gini, n_estimators=100; total time=   7.3s\n",
      "[CV 1/5] END ...............criterion=gini, n_estimators=150; total time=  11.1s\n",
      "[CV 2/5] END ...............criterion=gini, n_estimators=150; total time=  11.2s\n",
      "[CV 3/5] END ...............criterion=gini, n_estimators=150; total time=  11.1s\n",
      "[CV 4/5] END ...............criterion=gini, n_estimators=150; total time=  10.8s\n",
      "[CV 5/5] END ...............criterion=gini, n_estimators=150; total time=  11.0s\n",
      "[CV 1/5] END ...............criterion=gini, n_estimators=200; total time=  14.7s\n",
      "[CV 2/5] END ...............criterion=gini, n_estimators=200; total time=  15.0s\n",
      "[CV 3/5] END ...............criterion=gini, n_estimators=200; total time=  14.7s\n",
      "[CV 4/5] END ...............criterion=gini, n_estimators=200; total time=  14.4s\n",
      "[CV 5/5] END ...............criterion=gini, n_estimators=200; total time=  14.6s\n",
      "[CV 1/5] END ...............criterion=gini, n_estimators=300; total time=  22.4s\n",
      "[CV 2/5] END ...............criterion=gini, n_estimators=300; total time=  22.3s\n",
      "[CV 3/5] END ...............criterion=gini, n_estimators=300; total time=  21.7s\n",
      "[CV 4/5] END ...............criterion=gini, n_estimators=300; total time=  21.9s\n",
      "[CV 5/5] END ...............criterion=gini, n_estimators=300; total time=  21.6s\n",
      "[CV 1/5] END ..............criterion=entropy, n_estimators=2; total time=   0.3s\n",
      "[CV 2/5] END ..............criterion=entropy, n_estimators=2; total time=   0.2s\n",
      "[CV 3/5] END ..............criterion=entropy, n_estimators=2; total time=   0.2s\n",
      "[CV 4/5] END ..............criterion=entropy, n_estimators=2; total time=   0.3s\n",
      "[CV 5/5] END ..............criterion=entropy, n_estimators=2; total time=   0.2s\n",
      "[CV 1/5] END ............criterion=entropy, n_estimators=100; total time=   7.3s\n",
      "[CV 2/5] END ............criterion=entropy, n_estimators=100; total time=   7.4s\n",
      "[CV 3/5] END ............criterion=entropy, n_estimators=100; total time=   7.3s\n",
      "[CV 4/5] END ............criterion=entropy, n_estimators=100; total time=   7.1s\n",
      "[CV 5/5] END ............criterion=entropy, n_estimators=100; total time=   7.3s\n",
      "[CV 1/5] END ............criterion=entropy, n_estimators=150; total time=  10.7s\n",
      "[CV 2/5] END ............criterion=entropy, n_estimators=150; total time=  11.0s\n",
      "[CV 3/5] END ............criterion=entropy, n_estimators=150; total time=  10.8s\n",
      "[CV 4/5] END ............criterion=entropy, n_estimators=150; total time=  11.4s\n",
      "[CV 5/5] END ............criterion=entropy, n_estimators=150; total time=  12.0s\n",
      "[CV 1/5] END ............criterion=entropy, n_estimators=200; total time=  16.4s\n",
      "[CV 2/5] END ............criterion=entropy, n_estimators=200; total time=  16.2s\n",
      "[CV 3/5] END ............criterion=entropy, n_estimators=200; total time=  15.2s\n",
      "[CV 4/5] END ............criterion=entropy, n_estimators=200; total time=  16.9s\n",
      "[CV 5/5] END ............criterion=entropy, n_estimators=200; total time=  16.3s\n",
      "[CV 1/5] END ............criterion=entropy, n_estimators=300; total time=  24.8s\n",
      "[CV 2/5] END ............criterion=entropy, n_estimators=300; total time=  23.4s\n",
      "[CV 3/5] END ............criterion=entropy, n_estimators=300; total time=  21.7s\n",
      "[CV 4/5] END ............criterion=entropy, n_estimators=300; total time=  22.2s\n",
      "[CV 5/5] END ............criterion=entropy, n_estimators=300; total time=  22.0s\n",
      "Best parameters are: {'criterion': 'entropy', 'n_estimators': 150}\n"
     ]
    }
   ],
   "source": [
    "X_train, X_test, y_train, y_test = \\\n",
    "                train_test_split(tfidf_pairs, labels, train_size=0.8, random_state=SEED)\n",
    "acc, f1, auc = predict_RF(X_train, X_test, y_train, y_test)"
   ]
  },
  {
   "cell_type": "code",
   "execution_count": 42,
   "id": "psychological-corporation",
   "metadata": {
    "ExecuteTime": {
     "end_time": "2021-05-18T21:45:51.315456Z",
     "start_time": "2021-05-18T21:45:51.290812Z"
    }
   },
   "outputs": [
    {
     "name": "stdout",
     "output_type": "stream",
     "text": [
      "TF-IDF: 0.8837209302325582 0.8870636550308009 0.927620987777005\n"
     ]
    }
   ],
   "source": [
    "print(\"TF-IDF:\", acc, f1, auc)"
   ]
  },
  {
   "cell_type": "markdown",
   "id": "modern-netscape",
   "metadata": {},
   "source": [
    "### Song2vec"
   ]
  },
  {
   "cell_type": "code",
   "execution_count": 43,
   "id": "radical-veteran",
   "metadata": {
    "ExecuteTime": {
     "end_time": "2021-05-18T21:45:54.022405Z",
     "start_time": "2021-05-18T21:45:51.357910Z"
    }
   },
   "outputs": [
    {
     "name": "stdout",
     "output_type": "stream",
     "text": [
      "7094\n",
      "7094\n"
     ]
    }
   ],
   "source": [
    "s2v_pairs = create_vectors_pairs(s2v_df, song_pairs)"
   ]
  },
  {
   "cell_type": "code",
   "execution_count": 44,
   "id": "military-processor",
   "metadata": {
    "ExecuteTime": {
     "end_time": "2021-05-18T21:54:37.047442Z",
     "start_time": "2021-05-18T21:45:54.045900Z"
    }
   },
   "outputs": [
    {
     "name": "stdout",
     "output_type": "stream",
     "text": [
      "Fitting 5 folds for each of 10 candidates, totalling 50 fits\n",
      "[CV 1/5] END .................criterion=gini, n_estimators=2; total time=   0.2s\n",
      "[CV 2/5] END .................criterion=gini, n_estimators=2; total time=   0.2s\n",
      "[CV 3/5] END .................criterion=gini, n_estimators=2; total time=   0.2s\n",
      "[CV 4/5] END .................criterion=gini, n_estimators=2; total time=   0.1s\n",
      "[CV 5/5] END .................criterion=gini, n_estimators=2; total time=   0.2s\n",
      "[CV 1/5] END ...............criterion=gini, n_estimators=100; total time=   5.3s\n",
      "[CV 2/5] END ...............criterion=gini, n_estimators=100; total time=   5.2s\n",
      "[CV 3/5] END ...............criterion=gini, n_estimators=100; total time=   5.4s\n",
      "[CV 4/5] END ...............criterion=gini, n_estimators=100; total time=   5.3s\n",
      "[CV 5/5] END ...............criterion=gini, n_estimators=100; total time=   5.4s\n",
      "[CV 1/5] END ...............criterion=gini, n_estimators=150; total time=   8.1s\n",
      "[CV 2/5] END ...............criterion=gini, n_estimators=150; total time=   8.6s\n",
      "[CV 3/5] END ...............criterion=gini, n_estimators=150; total time=   7.9s\n",
      "[CV 4/5] END ...............criterion=gini, n_estimators=150; total time=   7.9s\n",
      "[CV 5/5] END ...............criterion=gini, n_estimators=150; total time=   8.0s\n",
      "[CV 1/5] END ...............criterion=gini, n_estimators=200; total time=  10.8s\n",
      "[CV 2/5] END ...............criterion=gini, n_estimators=200; total time=  11.1s\n",
      "[CV 3/5] END ...............criterion=gini, n_estimators=200; total time=  10.6s\n",
      "[CV 4/5] END ...............criterion=gini, n_estimators=200; total time=  10.6s\n",
      "[CV 5/5] END ...............criterion=gini, n_estimators=200; total time=  10.8s\n",
      "[CV 1/5] END ...............criterion=gini, n_estimators=300; total time=  16.6s\n",
      "[CV 2/5] END ...............criterion=gini, n_estimators=300; total time=  15.7s\n",
      "[CV 3/5] END ...............criterion=gini, n_estimators=300; total time=  16.0s\n",
      "[CV 4/5] END ...............criterion=gini, n_estimators=300; total time=  16.7s\n",
      "[CV 5/5] END ...............criterion=gini, n_estimators=300; total time=  16.4s\n",
      "[CV 1/5] END ..............criterion=entropy, n_estimators=2; total time=   0.2s\n",
      "[CV 2/5] END ..............criterion=entropy, n_estimators=2; total time=   0.2s\n",
      "[CV 3/5] END ..............criterion=entropy, n_estimators=2; total time=   0.2s\n",
      "[CV 4/5] END ..............criterion=entropy, n_estimators=2; total time=   0.2s\n",
      "[CV 5/5] END ..............criterion=entropy, n_estimators=2; total time=   0.2s\n",
      "[CV 1/5] END ............criterion=entropy, n_estimators=100; total time=   7.8s\n",
      "[CV 2/5] END ............criterion=entropy, n_estimators=100; total time=   8.3s\n",
      "[CV 3/5] END ............criterion=entropy, n_estimators=100; total time=   8.0s\n",
      "[CV 4/5] END ............criterion=entropy, n_estimators=100; total time=   8.8s\n",
      "[CV 5/5] END ............criterion=entropy, n_estimators=100; total time=   8.0s\n",
      "[CV 1/5] END ............criterion=entropy, n_estimators=150; total time=  11.7s\n",
      "[CV 2/5] END ............criterion=entropy, n_estimators=150; total time=  11.8s\n",
      "[CV 3/5] END ............criterion=entropy, n_estimators=150; total time=  12.0s\n",
      "[CV 4/5] END ............criterion=entropy, n_estimators=150; total time=  12.1s\n",
      "[CV 5/5] END ............criterion=entropy, n_estimators=150; total time=  11.9s\n",
      "[CV 1/5] END ............criterion=entropy, n_estimators=200; total time=  15.7s\n",
      "[CV 2/5] END ............criterion=entropy, n_estimators=200; total time=  15.6s\n",
      "[CV 3/5] END ............criterion=entropy, n_estimators=200; total time=  16.3s\n",
      "[CV 4/5] END ............criterion=entropy, n_estimators=200; total time=  15.9s\n",
      "[CV 5/5] END ............criterion=entropy, n_estimators=200; total time=  15.8s\n",
      "[CV 1/5] END ............criterion=entropy, n_estimators=300; total time=  23.3s\n",
      "[CV 2/5] END ............criterion=entropy, n_estimators=300; total time=  23.6s\n",
      "[CV 3/5] END ............criterion=entropy, n_estimators=300; total time=  23.8s\n",
      "[CV 4/5] END ............criterion=entropy, n_estimators=300; total time=  23.8s\n",
      "[CV 5/5] END ............criterion=entropy, n_estimators=300; total time=  23.9s\n",
      "Best parameters are: {'criterion': 'gini', 'n_estimators': 300}\n"
     ]
    }
   ],
   "source": [
    "X_train, X_test, y_train, y_test = \\\n",
    "                train_test_split(s2v_pairs, labels, train_size=0.8, random_state=SEED)\n",
    "acc, f1, auc = predict_RF(X_train, X_test, y_train, y_test)"
   ]
  },
  {
   "cell_type": "code",
   "execution_count": 45,
   "id": "frozen-marsh",
   "metadata": {
    "ExecuteTime": {
     "end_time": "2021-05-18T21:54:37.130870Z",
     "start_time": "2021-05-18T21:54:37.063508Z"
    }
   },
   "outputs": [
    {
     "name": "stdout",
     "output_type": "stream",
     "text": [
      "Song2Vec: 0.6659619450317125 0.7244186046511627 0.701886117460002\n"
     ]
    }
   ],
   "source": [
    "print(\"Song2Vec:\", acc, f1, auc)"
   ]
  },
  {
   "cell_type": "code",
   "execution_count": 46,
   "id": "latter-criminal",
   "metadata": {
    "ExecuteTime": {
     "end_time": "2021-05-18T21:54:37.221558Z",
     "start_time": "2021-05-18T21:54:37.158976Z"
    }
   },
   "outputs": [
    {
     "name": "stdout",
     "output_type": "stream",
     "text": [
      "Random: (0.5088090204369274, 0.503914590747331, 0.5)\n",
      "Majority: (0.48907681465821, 0.6568859441552295, 0.5)\n"
     ]
    }
   ],
   "source": [
    "print(\"Random:\", predict_random(X_train, y_train, X_test, y_test))\n",
    "print(\"Majority:\",predict_majority(X_train, y_train, X_test, y_test))"
   ]
  },
  {
   "cell_type": "markdown",
   "id": "steady-alfred",
   "metadata": {},
   "source": [
    "## Top artists classification"
   ]
  },
  {
   "cell_type": "code",
   "execution_count": 47,
   "id": "wrong-leadership",
   "metadata": {
    "ExecuteTime": {
     "end_time": "2021-05-18T21:54:37.243897Z",
     "start_time": "2021-05-18T21:54:37.227520Z"
    }
   },
   "outputs": [],
   "source": [
    "def create_top_artist_dataset(df, top_n=10):\n",
    "    top_artist = df[df.song_id.isin(emb_vectors.keys())].artist_name.value_counts()\\\n",
    "        .to_frame().head(top_n).index\n",
    "    top_artist_codes = list(top_artist.codes)\n",
    "    top_artist = list(top_artist)\n",
    "    top_df = songs[songs.artist_name.cat.codes.isin(top_artist_codes)].drop_duplicates('song_id').copy()\n",
    "    mapping = {artist: top_artist.index(artist) for artist in top_artist}\n",
    "    top_df['label'] = top_df.artist_name.map(mapping)\n",
    "    top_df = top_df[['song_id', 'label']]\n",
    "    top_df = top_df[top_df.song_id.isin(s2v_df.index) & top_df.song_id.isin(tfidf_df.index)]\n",
    "    return top_df"
   ]
  },
  {
   "cell_type": "code",
   "execution_count": 48,
   "id": "responsible-cooperation",
   "metadata": {
    "ExecuteTime": {
     "end_time": "2021-05-18T21:54:43.859187Z",
     "start_time": "2021-05-18T21:54:37.248319Z"
    }
   },
   "outputs": [],
   "source": [
    "top_artist_songs = create_top_artist_dataset(songs, top_n=30)"
   ]
  },
  {
   "cell_type": "code",
   "execution_count": 49,
   "id": "living-measure",
   "metadata": {
    "ExecuteTime": {
     "end_time": "2021-05-18T21:54:43.912676Z",
     "start_time": "2021-05-18T21:54:43.885805Z"
    }
   },
   "outputs": [
    {
     "data": {
      "text/plain": [
       "9283"
      ]
     },
     "execution_count": 49,
     "metadata": {},
     "output_type": "execute_result"
    }
   ],
   "source": [
    "len(top_artist_songs)"
   ]
  },
  {
   "cell_type": "code",
   "execution_count": 73,
   "id": "fiscal-detection",
   "metadata": {
    "ExecuteTime": {
     "end_time": "2021-05-19T07:12:18.586911Z",
     "start_time": "2021-05-19T07:12:18.564275Z"
    }
   },
   "outputs": [],
   "source": [
    "param_grid = {'n_estimators': [300, 400, 500],\n",
    "              'criterion': ['gini', 'entropy'],\n",
    "              'class_weight':['balanced']\n",
    "             }\n",
    "scorer = make_scorer(f1_score, average='weighted')"
   ]
  },
  {
   "cell_type": "markdown",
   "id": "parallel-bernard",
   "metadata": {},
   "source": [
    "### TF-IDF"
   ]
  },
  {
   "cell_type": "code",
   "execution_count": 74,
   "id": "hawaiian-digit",
   "metadata": {
    "ExecuteTime": {
     "end_time": "2021-05-19T07:12:24.764767Z",
     "start_time": "2021-05-19T07:12:21.975387Z"
    }
   },
   "outputs": [],
   "source": [
    "tfidf_top_artist = tfidf_df.merge(top_artist_songs, left_index=True, right_on='song_id')\n",
    "assert len(top_artist_songs) == len(tfidf_top_artist)\n",
    "X_tfidf = tfidf_top_artist.drop(['song_id', 'label'], axis=1)\n",
    "y_tfidf = tfidf_top_artist.label.values.astype(int)"
   ]
  },
  {
   "cell_type": "code",
   "execution_count": null,
   "id": "radical-convert",
   "metadata": {
    "ExecuteTime": {
     "start_time": "2021-05-19T07:12:22.774Z"
    },
    "scrolled": false
   },
   "outputs": [
    {
     "name": "stdout",
     "output_type": "stream",
     "text": [
      "Fitting 5 folds for each of 6 candidates, totalling 30 fits\n",
      "[CV 1/5] END class_weight=balanced, criterion=gini, n_estimators=300; total time=  23.0s\n",
      "[CV 2/5] END class_weight=balanced, criterion=gini, n_estimators=300; total time=  25.4s\n",
      "[CV 3/5] END class_weight=balanced, criterion=gini, n_estimators=300; total time=  26.3s\n",
      "[CV 4/5] END class_weight=balanced, criterion=gini, n_estimators=300; total time=  24.3s\n",
      "[CV 5/5] END class_weight=balanced, criterion=gini, n_estimators=300; total time=  36.5s\n"
     ]
    }
   ],
   "source": [
    "X_train, X_test, y_train, y_test = \\\n",
    "                train_test_split(X_tfidf, y_tfidf, train_size=0.8, random_state=SEED)\n",
    "\n",
    "acc, f1, cm = predict_RF(X_train, X_test, y_train, y_test, param_grid=param_grid, scoring=scorer, multi=True)"
   ]
  },
  {
   "cell_type": "code",
   "execution_count": null,
   "id": "preliminary-closer",
   "metadata": {
    "ExecuteTime": {
     "start_time": "2021-05-19T07:12:24.315Z"
    }
   },
   "outputs": [],
   "source": [
    "print(\"TF-IDF:\", acc, f1)"
   ]
  },
  {
   "cell_type": "code",
   "execution_count": null,
   "id": "mineral-center",
   "metadata": {},
   "outputs": [],
   "source": [
    "\"TF-IDF: 0.502651738361815 0.5143843498273878 0.5059037560642182\\n\",\n",
    "      \"Random: (0.49616971125515613, 0.48955223880597015, 0.5)\\n\",\n",
    "      \"Majority: (0.4926340601060695, 0.6600868535333597, 0.5)\\n\""
   ]
  },
  {
   "cell_type": "code",
   "execution_count": null,
   "id": "biological-folks",
   "metadata": {
    "ExecuteTime": {
     "start_time": "2021-05-19T07:12:24.509Z"
    }
   },
   "outputs": [],
   "source": [
    "plt.figure(figsize=(15,10))\n",
    "sns.heatmap(data=cm, cmap='magma_r', annot=True);"
   ]
  },
  {
   "cell_type": "markdown",
   "id": "aware-association",
   "metadata": {},
   "source": [
    "### Song2Vec"
   ]
  },
  {
   "cell_type": "code",
   "execution_count": null,
   "id": "imported-tuesday",
   "metadata": {
    "ExecuteTime": {
     "start_time": "2021-05-19T07:12:25.817Z"
    }
   },
   "outputs": [],
   "source": [
    "s2v_top_artist = s2v_df.merge(top_artist_songs, left_index=True, right_on='song_id')\n",
    "assert len(top_artist_songs) == len(s2v_top_artist)\n",
    "X_s2v = s2v_top_artist.drop(['song_id', 'label'], axis=1)\n",
    "y_s2v = s2v_top_artist.label.values.astype(int)"
   ]
  },
  {
   "cell_type": "code",
   "execution_count": 56,
   "id": "sapphire-planner",
   "metadata": {
    "ExecuteTime": {
     "end_time": "2021-05-18T22:25:24.664557Z",
     "start_time": "2021-05-18T22:01:20.939961Z"
    }
   },
   "outputs": [
    {
     "name": "stdout",
     "output_type": "stream",
     "text": [
      "Fitting 5 folds for each of 6 candidates, totalling 30 fits\n",
      "[CV 1/5] END class_weight=balanced, criterion=gini, n_estimators=150; total time=  18.2s\n",
      "[CV 2/5] END class_weight=balanced, criterion=gini, n_estimators=150; total time=  18.5s\n",
      "[CV 3/5] END class_weight=balanced, criterion=gini, n_estimators=150; total time=  18.0s\n",
      "[CV 4/5] END class_weight=balanced, criterion=gini, n_estimators=150; total time=  18.8s\n",
      "[CV 5/5] END class_weight=balanced, criterion=gini, n_estimators=150; total time=  18.9s\n",
      "[CV 1/5] END class_weight=balanced, criterion=gini, n_estimators=200; total time=  24.2s\n",
      "[CV 2/5] END class_weight=balanced, criterion=gini, n_estimators=200; total time=  25.2s\n",
      "[CV 3/5] END class_weight=balanced, criterion=gini, n_estimators=200; total time=  24.0s\n",
      "[CV 4/5] END class_weight=balanced, criterion=gini, n_estimators=200; total time=  25.1s\n",
      "[CV 5/5] END class_weight=balanced, criterion=gini, n_estimators=200; total time=  24.2s\n",
      "[CV 1/5] END class_weight=balanced, criterion=gini, n_estimators=300; total time=  37.7s\n",
      "[CV 2/5] END class_weight=balanced, criterion=gini, n_estimators=300; total time=  39.1s\n",
      "[CV 3/5] END class_weight=balanced, criterion=gini, n_estimators=300; total time=  36.5s\n",
      "[CV 4/5] END class_weight=balanced, criterion=gini, n_estimators=300; total time=  37.2s\n",
      "[CV 5/5] END class_weight=balanced, criterion=gini, n_estimators=300; total time=  36.0s\n",
      "[CV 1/5] END class_weight=balanced, criterion=entropy, n_estimators=150; total time=  41.9s\n",
      "[CV 2/5] END class_weight=balanced, criterion=entropy, n_estimators=150; total time=  43.4s\n",
      "[CV 3/5] END class_weight=balanced, criterion=entropy, n_estimators=150; total time=  41.8s\n",
      "[CV 4/5] END class_weight=balanced, criterion=entropy, n_estimators=150; total time=  42.4s\n",
      "[CV 5/5] END class_weight=balanced, criterion=entropy, n_estimators=150; total time=  44.0s\n",
      "[CV 1/5] END class_weight=balanced, criterion=entropy, n_estimators=200; total time=  56.4s\n",
      "[CV 2/5] END class_weight=balanced, criterion=entropy, n_estimators=200; total time=  58.7s\n",
      "[CV 3/5] END class_weight=balanced, criterion=entropy, n_estimators=200; total time=  56.2s\n",
      "[CV 4/5] END class_weight=balanced, criterion=entropy, n_estimators=200; total time=  57.3s\n",
      "[CV 5/5] END class_weight=balanced, criterion=entropy, n_estimators=200; total time=  55.7s\n",
      "[CV 1/5] END class_weight=balanced, criterion=entropy, n_estimators=300; total time= 1.4min\n",
      "[CV 2/5] END class_weight=balanced, criterion=entropy, n_estimators=300; total time= 1.5min\n",
      "[CV 3/5] END class_weight=balanced, criterion=entropy, n_estimators=300; total time= 1.4min\n",
      "[CV 4/5] END class_weight=balanced, criterion=entropy, n_estimators=300; total time= 1.4min\n",
      "[CV 5/5] END class_weight=balanced, criterion=entropy, n_estimators=300; total time= 1.4min\n",
      "Best parameters are: {'class_weight': 'balanced', 'criterion': 'entropy', 'n_estimators': 300}\n"
     ]
    }
   ],
   "source": [
    "X_train, X_test, y_train, y_test = \\\n",
    "                train_test_split(X_s2v, y_s2v, train_size=0.8, random_state=SEED)\n",
    "acc, f1, cm = predict_RF(X_train, X_test, y_train, y_test, param_grid=param_grid, scoring=scorer,multi=True)"
   ]
  },
  {
   "cell_type": "code",
   "execution_count": 57,
   "id": "interesting-bottle",
   "metadata": {
    "ExecuteTime": {
     "end_time": "2021-05-18T22:25:24.700929Z",
     "start_time": "2021-05-18T22:25:24.684623Z"
    },
    "scrolled": true
   },
   "outputs": [
    {
     "name": "stdout",
     "output_type": "stream",
     "text": [
      "Song2Vec: 0.3511039310716209 0.37183713422150844\n"
     ]
    }
   ],
   "source": [
    "print(\"Song2Vec:\", acc, f1)"
   ]
  },
  {
   "cell_type": "code",
   "execution_count": 58,
   "id": "speaking-champagne",
   "metadata": {
    "ExecuteTime": {
     "end_time": "2021-05-18T22:25:34.083197Z",
     "start_time": "2021-05-18T22:25:24.736876Z"
    }
   },
   "outputs": [
    {
     "data": {
      "image/png": "[encoded data removed]",
      "text/plain": [
       "<Figure size 1080x720 with 2 Axes>"
      ]
     },
     "metadata": {
      "needs_background": "light"
     },
     "output_type": "display_data"
    }
   ],
   "source": [
    "plt.figure(figsize=(15,10))\n",
    "sns.heatmap(data=cm, cmap='magma_r', annot=True);"
   ]
  },
  {
   "cell_type": "code",
   "execution_count": 59,
   "id": "assisted-puzzle",
   "metadata": {
    "ExecuteTime": {
     "end_time": "2021-05-18T22:25:34.146950Z",
     "start_time": "2021-05-18T22:25:34.092487Z"
    }
   },
   "outputs": [
    {
     "name": "stdout",
     "output_type": "stream",
     "text": [
      "Random: (0.033925686591276254, 0.03561354992190356)\n",
      "Majority: (0.07162089391491654, 0.00957344612129035)\n"
     ]
    }
   ],
   "source": [
    "print(\"Random:\", predict_random(X_train, y_train, X_test, y_test, multi=True)[:2])\n",
    "print(\"Majority:\",predict_majority(X_train, y_train, X_test, y_test, multi=True)[:2])"
   ]
  },
  {
   "cell_type": "markdown",
   "id": "large-accident",
   "metadata": {},
   "source": [
    "## Top tag "
   ]
  },
  {
   "cell_type": "code",
   "execution_count": 60,
   "id": "quick-section",
   "metadata": {
    "ExecuteTime": {
     "end_time": "2021-05-18T22:26:18.261218Z",
     "start_time": "2021-05-18T22:25:34.155592Z"
    }
   },
   "outputs": [],
   "source": [
    "top_tags = pd.read_csv(\"data/song_tags_top1.csv\")\n",
    "songs = songs.merge(top_tags, how='left')"
   ]
  },
  {
   "cell_type": "code",
   "execution_count": 61,
   "id": "distinguished-reform",
   "metadata": {
    "ExecuteTime": {
     "end_time": "2021-05-18T22:26:18.331137Z",
     "start_time": "2021-05-18T22:26:18.267872Z"
    }
   },
   "outputs": [
    {
     "data": {
      "text/plain": [
       "19098862"
      ]
     },
     "execution_count": 61,
     "metadata": {},
     "output_type": "execute_result"
    }
   ],
   "source": [
    "len(songs)"
   ]
  },
  {
   "cell_type": "code",
   "execution_count": 62,
   "id": "imported-bahrain",
   "metadata": {
    "ExecuteTime": {
     "end_time": "2021-05-18T22:26:18.378643Z",
     "start_time": "2021-05-18T22:26:18.345738Z"
    }
   },
   "outputs": [],
   "source": [
    "def create_top_tag_dataset(df, top_n=10):\n",
    "    top_tags = list(df[df.song_id.isin(emb_vectors.keys())].tag_1.value_counts()\\\n",
    "        .to_frame().head(top_n).index)\n",
    "    top_df = songs[songs.tag_1.isin(top_tags)].drop_duplicates('song_id').copy()\n",
    "    mapping = {tag: top_tags.index(tag) for tag in top_tags}\n",
    "    top_df['label'] = top_df.tag_1.map(mapping)\n",
    "    top_df = top_df[['song_id', 'label']]\n",
    "    top_df = top_df[top_df.song_id.isin(s2v_df.index) & top_df.song_id.isin(tfidf_df.index)]\n",
    "    return top_df"
   ]
  },
  {
   "cell_type": "code",
   "execution_count": 63,
   "id": "reverse-gender",
   "metadata": {
    "ExecuteTime": {
     "end_time": "2021-05-18T22:26:30.910683Z",
     "start_time": "2021-05-18T22:26:18.383806Z"
    }
   },
   "outputs": [
    {
     "data": {
      "text/plain": [
       "10000"
      ]
     },
     "execution_count": 63,
     "metadata": {},
     "output_type": "execute_result"
    }
   ],
   "source": [
    "top_tag_songs = create_top_tag_dataset(songs, top_n=10).iloc[:10000]\n",
    "len(top_tag_songs)"
   ]
  },
  {
   "cell_type": "code",
   "execution_count": 64,
   "id": "flying-germany",
   "metadata": {
    "ExecuteTime": {
     "end_time": "2021-05-18T22:26:30.959505Z",
     "start_time": "2021-05-18T22:26:30.921665Z"
    }
   },
   "outputs": [],
   "source": [
    "param_grid = {'n_estimators': [2, 100, 200, 300],\n",
    "              'criterion': ['gini', 'entropy'],\n",
    "              'class_weight':['balanced']\n",
    "             }\n",
    "scorer = make_scorer(f1_score, average='weighted')"
   ]
  },
  {
   "cell_type": "markdown",
   "id": "breathing-width",
   "metadata": {},
   "source": [
    "### TF-IDF"
   ]
  },
  {
   "cell_type": "code",
   "execution_count": 65,
   "id": "lucky-namibia",
   "metadata": {
    "ExecuteTime": {
     "end_time": "2021-05-18T22:26:36.812316Z",
     "start_time": "2021-05-18T22:26:30.988985Z"
    }
   },
   "outputs": [],
   "source": [
    "tfidf_top_tag = tfidf_df.merge(top_tag_songs, left_index=True, right_on='song_id')\n",
    "assert len(top_tag_songs) == len(tfidf_top_tag)\n",
    "X_tfidf = tfidf_top_tag.drop(['song_id', 'label'], axis=1)\n",
    "y_tfidf = tfidf_top_tag.label.values.astype(int)"
   ]
  },
  {
   "cell_type": "code",
   "execution_count": 66,
   "id": "christian-double",
   "metadata": {
    "ExecuteTime": {
     "end_time": "2021-05-18T22:31:54.333160Z",
     "start_time": "2021-05-18T22:26:36.821338Z"
    }
   },
   "outputs": [
    {
     "name": "stdout",
     "output_type": "stream",
     "text": [
      "Fitting 5 folds for each of 8 candidates, totalling 40 fits\n",
      "[CV 1/5] END class_weight=balanced, criterion=gini, n_estimators=2; total time=   0.3s\n",
      "[CV 2/5] END class_weight=balanced, criterion=gini, n_estimators=2; total time=   0.2s\n",
      "[CV 3/5] END class_weight=balanced, criterion=gini, n_estimators=2; total time=   0.2s\n",
      "[CV 4/5] END class_weight=balanced, criterion=gini, n_estimators=2; total time=   0.2s\n",
      "[CV 5/5] END class_weight=balanced, criterion=gini, n_estimators=2; total time=   0.2s\n",
      "[CV 1/5] END class_weight=balanced, criterion=gini, n_estimators=100; total time=   4.9s\n",
      "[CV 2/5] END class_weight=balanced, criterion=gini, n_estimators=100; total time=   5.0s\n",
      "[CV 3/5] END class_weight=balanced, criterion=gini, n_estimators=100; total time=   4.9s\n",
      "[CV 4/5] END class_weight=balanced, criterion=gini, n_estimators=100; total time=   4.9s\n",
      "[CV 5/5] END class_weight=balanced, criterion=gini, n_estimators=100; total time=   4.7s\n",
      "[CV 1/5] END class_weight=balanced, criterion=gini, n_estimators=200; total time=   9.4s\n",
      "[CV 2/5] END class_weight=balanced, criterion=gini, n_estimators=200; total time=   9.6s\n",
      "[CV 3/5] END class_weight=balanced, criterion=gini, n_estimators=200; total time=   9.4s\n",
      "[CV 4/5] END class_weight=balanced, criterion=gini, n_estimators=200; total time=   9.1s\n",
      "[CV 5/5] END class_weight=balanced, criterion=gini, n_estimators=200; total time=   9.1s\n",
      "[CV 1/5] END class_weight=balanced, criterion=gini, n_estimators=300; total time=  13.6s\n",
      "[CV 2/5] END class_weight=balanced, criterion=gini, n_estimators=300; total time=  13.4s\n",
      "[CV 3/5] END class_weight=balanced, criterion=gini, n_estimators=300; total time=  13.0s\n",
      "[CV 4/5] END class_weight=balanced, criterion=gini, n_estimators=300; total time=  13.2s\n",
      "[CV 5/5] END class_weight=balanced, criterion=gini, n_estimators=300; total time=  13.3s\n",
      "[CV 1/5] END class_weight=balanced, criterion=entropy, n_estimators=2; total time=   0.2s\n",
      "[CV 2/5] END class_weight=balanced, criterion=entropy, n_estimators=2; total time=   0.2s\n",
      "[CV 3/5] END class_weight=balanced, criterion=entropy, n_estimators=2; total time=   0.2s\n",
      "[CV 4/5] END class_weight=balanced, criterion=entropy, n_estimators=2; total time=   0.2s\n",
      "[CV 5/5] END class_weight=balanced, criterion=entropy, n_estimators=2; total time=   0.2s\n",
      "[CV 1/5] END class_weight=balanced, criterion=entropy, n_estimators=100; total time=   5.4s\n",
      "[CV 2/5] END class_weight=balanced, criterion=entropy, n_estimators=100; total time=   5.5s\n",
      "[CV 3/5] END class_weight=balanced, criterion=entropy, n_estimators=100; total time=   5.4s\n",
      "[CV 4/5] END class_weight=balanced, criterion=entropy, n_estimators=100; total time=   5.3s\n",
      "[CV 5/5] END class_weight=balanced, criterion=entropy, n_estimators=100; total time=   5.3s\n",
      "[CV 1/5] END class_weight=balanced, criterion=entropy, n_estimators=200; total time=  10.5s\n",
      "[CV 2/5] END class_weight=balanced, criterion=entropy, n_estimators=200; total time=  10.8s\n",
      "[CV 3/5] END class_weight=balanced, criterion=entropy, n_estimators=200; total time=  10.3s\n",
      "[CV 4/5] END class_weight=balanced, criterion=entropy, n_estimators=200; total time=  10.7s\n",
      "[CV 5/5] END class_weight=balanced, criterion=entropy, n_estimators=200; total time=  10.4s\n",
      "[CV 1/5] END class_weight=balanced, criterion=entropy, n_estimators=300; total time=  16.6s\n",
      "[CV 2/5] END class_weight=balanced, criterion=entropy, n_estimators=300; total time=  15.7s\n",
      "[CV 3/5] END class_weight=balanced, criterion=entropy, n_estimators=300; total time=  16.6s\n",
      "[CV 4/5] END class_weight=balanced, criterion=entropy, n_estimators=300; total time=  15.9s\n",
      "[CV 5/5] END class_weight=balanced, criterion=entropy, n_estimators=300; total time=  15.4s\n",
      "Best parameters are: {'class_weight': 'balanced', 'criterion': 'gini', 'n_estimators': 300}\n"
     ]
    }
   ],
   "source": [
    "X_train, X_test, y_train, y_test = \\\n",
    "                train_test_split(X_tfidf, y_tfidf, train_size=0.8, random_state=SEED)\n",
    "\n",
    "acc, f1, cm = predict_RF(X_train, X_test, y_train, y_test, param_grid=param_grid, scoring=scorer, multi=True)"
   ]
  },
  {
   "cell_type": "code",
   "execution_count": 67,
   "id": "desperate-sentence",
   "metadata": {
    "ExecuteTime": {
     "end_time": "2021-05-18T22:31:54.376306Z",
     "start_time": "2021-05-18T22:31:54.337692Z"
    }
   },
   "outputs": [
    {
     "name": "stdout",
     "output_type": "stream",
     "text": [
      "TF-IDF: 0.7545 0.7443135699045567\n"
     ]
    }
   ],
   "source": [
    "print(\"TF-IDF:\", acc, f1)"
   ]
  },
  {
   "cell_type": "code",
   "execution_count": 68,
   "id": "whole-denmark",
   "metadata": {
    "ExecuteTime": {
     "end_time": "2021-05-18T22:31:55.726355Z",
     "start_time": "2021-05-18T22:31:54.388876Z"
    }
   },
   "outputs": [
    {
     "data": {
      "image/png": "[encoded data removed]",
      "text/plain": [
       "<Figure size 1080x720 with 2 Axes>"
      ]
     },
     "metadata": {
      "needs_background": "light"
     },
     "output_type": "display_data"
    }
   ],
   "source": [
    "plt.figure(figsize=(15,10))\n",
    "sns.heatmap(data=cm, cmap='magma_r', annot=True);"
   ]
  },
  {
   "cell_type": "markdown",
   "id": "impossible-vancouver",
   "metadata": {},
   "source": [
    "### Song2Vec"
   ]
  },
  {
   "cell_type": "code",
   "execution_count": 69,
   "id": "inclusive-anthony",
   "metadata": {
    "ExecuteTime": {
     "end_time": "2021-05-18T22:31:57.465773Z",
     "start_time": "2021-05-18T22:31:55.768319Z"
    }
   },
   "outputs": [],
   "source": [
    "s2v_top_tag = s2v_df.merge(top_tag_songs, left_index=True, right_on='song_id')\n",
    "assert len(top_tag_songs) == len(s2v_top_tag)\n",
    "X_s2v = s2v_top_tag.drop(['song_id', 'label'], axis=1)\n",
    "y_s2v = s2v_top_tag.label.values.astype(int)"
   ]
  },
  {
   "cell_type": "code",
   "execution_count": 70,
   "id": "quality-edmonton",
   "metadata": {
    "ExecuteTime": {
     "end_time": "2021-05-18T22:43:50.130399Z",
     "start_time": "2021-05-18T22:31:57.468238Z"
    }
   },
   "outputs": [
    {
     "name": "stdout",
     "output_type": "stream",
     "text": [
      "Fitting 5 folds for each of 8 candidates, totalling 40 fits\n",
      "[CV 1/5] END class_weight=balanced, criterion=gini, n_estimators=2; total time=   0.2s\n",
      "[CV 2/5] END class_weight=balanced, criterion=gini, n_estimators=2; total time=   0.2s\n",
      "[CV 3/5] END class_weight=balanced, criterion=gini, n_estimators=2; total time=   0.2s\n",
      "[CV 4/5] END class_weight=balanced, criterion=gini, n_estimators=2; total time=   0.2s\n",
      "[CV 5/5] END class_weight=balanced, criterion=gini, n_estimators=2; total time=   0.2s\n",
      "[CV 1/5] END class_weight=balanced, criterion=gini, n_estimators=100; total time=   7.9s\n",
      "[CV 2/5] END class_weight=balanced, criterion=gini, n_estimators=100; total time=   7.4s\n",
      "[CV 3/5] END class_weight=balanced, criterion=gini, n_estimators=100; total time=   7.4s\n",
      "[CV 4/5] END class_weight=balanced, criterion=gini, n_estimators=100; total time=   7.6s\n",
      "[CV 5/5] END class_weight=balanced, criterion=gini, n_estimators=100; total time=   7.8s\n",
      "[CV 1/5] END class_weight=balanced, criterion=gini, n_estimators=200; total time=  15.7s\n",
      "[CV 2/5] END class_weight=balanced, criterion=gini, n_estimators=200; total time=  15.9s\n",
      "[CV 3/5] END class_weight=balanced, criterion=gini, n_estimators=200; total time=  15.7s\n",
      "[CV 4/5] END class_weight=balanced, criterion=gini, n_estimators=200; total time=  15.0s\n",
      "[CV 5/5] END class_weight=balanced, criterion=gini, n_estimators=200; total time=  14.3s\n",
      "[CV 1/5] END class_weight=balanced, criterion=gini, n_estimators=300; total time=  21.8s\n",
      "[CV 2/5] END class_weight=balanced, criterion=gini, n_estimators=300; total time=  21.7s\n",
      "[CV 3/5] END class_weight=balanced, criterion=gini, n_estimators=300; total time=  21.9s\n",
      "[CV 4/5] END class_weight=balanced, criterion=gini, n_estimators=300; total time=  22.3s\n",
      "[CV 5/5] END class_weight=balanced, criterion=gini, n_estimators=300; total time=  21.6s\n",
      "[CV 1/5] END class_weight=balanced, criterion=entropy, n_estimators=2; total time=   0.3s\n",
      "[CV 2/5] END class_weight=balanced, criterion=entropy, n_estimators=2; total time=   0.3s\n",
      "[CV 3/5] END class_weight=balanced, criterion=entropy, n_estimators=2; total time=   0.3s\n",
      "[CV 4/5] END class_weight=balanced, criterion=entropy, n_estimators=2; total time=   0.4s\n",
      "[CV 5/5] END class_weight=balanced, criterion=entropy, n_estimators=2; total time=   0.3s\n",
      "[CV 1/5] END class_weight=balanced, criterion=entropy, n_estimators=100; total time=  14.7s\n",
      "[CV 2/5] END class_weight=balanced, criterion=entropy, n_estimators=100; total time=  15.1s\n",
      "[CV 3/5] END class_weight=balanced, criterion=entropy, n_estimators=100; total time=  14.8s\n",
      "[CV 4/5] END class_weight=balanced, criterion=entropy, n_estimators=100; total time=  17.4s\n",
      "[CV 5/5] END class_weight=balanced, criterion=entropy, n_estimators=100; total time=  16.0s\n",
      "[CV 1/5] END class_weight=balanced, criterion=entropy, n_estimators=200; total time=  30.6s\n",
      "[CV 2/5] END class_weight=balanced, criterion=entropy, n_estimators=200; total time=  29.7s\n",
      "[CV 3/5] END class_weight=balanced, criterion=entropy, n_estimators=200; total time=  29.4s\n",
      "[CV 4/5] END class_weight=balanced, criterion=entropy, n_estimators=200; total time=  30.1s\n",
      "[CV 5/5] END class_weight=balanced, criterion=entropy, n_estimators=200; total time=  29.2s\n",
      "[CV 1/5] END class_weight=balanced, criterion=entropy, n_estimators=300; total time=  44.9s\n",
      "[CV 2/5] END class_weight=balanced, criterion=entropy, n_estimators=300; total time=  44.8s\n",
      "[CV 3/5] END class_weight=balanced, criterion=entropy, n_estimators=300; total time=  44.0s\n",
      "[CV 4/5] END class_weight=balanced, criterion=entropy, n_estimators=300; total time=  45.1s\n",
      "[CV 5/5] END class_weight=balanced, criterion=entropy, n_estimators=300; total time=  47.3s\n",
      "Best parameters are: {'class_weight': 'balanced', 'criterion': 'gini', 'n_estimators': 300}\n"
     ]
    }
   ],
   "source": [
    "X_train, X_test, y_train, y_test = \\\n",
    "                train_test_split(X_s2v, y_s2v, train_size=0.8, random_state=SEED)\n",
    "acc, f1, cm = predict_RF(X_train, X_test, y_train, y_test, param_grid=param_grid, scoring=scorer,multi=True)"
   ]
  },
  {
   "cell_type": "code",
   "execution_count": 71,
   "id": "taken-thursday",
   "metadata": {
    "ExecuteTime": {
     "end_time": "2021-05-18T22:43:50.147501Z",
     "start_time": "2021-05-18T22:43:50.139044Z"
    }
   },
   "outputs": [
    {
     "name": "stdout",
     "output_type": "stream",
     "text": [
      "Song2Vec: 0.388 0.35793033029540494\n"
     ]
    }
   ],
   "source": [
    "print(\"Song2Vec:\", acc, f1)"
   ]
  },
  {
   "cell_type": "code",
   "execution_count": 72,
   "id": "infectious-christianity",
   "metadata": {
    "ExecuteTime": {
     "end_time": "2021-05-18T22:43:50.544477Z",
     "start_time": "2021-05-18T22:43:50.176056Z"
    }
   },
   "outputs": [
    {
     "ename": "ValueError",
     "evalue": "Must pass 2-d input. shape=()",
     "output_type": "error",
     "traceback": [
      "\u001b[0;31m---------------------------------------------------------------------------\u001b[0m",
      "\u001b[0;31mValueError\u001b[0m                                Traceback (most recent call last)",
      "\u001b[0;32m<ipython-input-72-140ad76932ca>\u001b[0m in \u001b[0;36m<module>\u001b[0;34m\u001b[0m\n\u001b[1;32m      1\u001b[0m \u001b[0mplt\u001b[0m\u001b[0;34m.\u001b[0m\u001b[0mfigure\u001b[0m\u001b[0;34m(\u001b[0m\u001b[0mfigsize\u001b[0m\u001b[0;34m=\u001b[0m\u001b[0;34m(\u001b[0m\u001b[0;36m15\u001b[0m\u001b[0;34m,\u001b[0m\u001b[0;36m10\u001b[0m\u001b[0;34m)\u001b[0m\u001b[0;34m)\u001b[0m\u001b[0;34m\u001b[0m\u001b[0;34m\u001b[0m\u001b[0m\n\u001b[0;32m----> 2\u001b[0;31m \u001b[0msns\u001b[0m\u001b[0;34m.\u001b[0m\u001b[0mheatmap\u001b[0m\u001b[0;34m(\u001b[0m\u001b[0mdata\u001b[0m\u001b[0;34m=\u001b[0m\u001b[0mauc\u001b[0m\u001b[0;34m,\u001b[0m \u001b[0mcmap\u001b[0m\u001b[0;34m=\u001b[0m\u001b[0;34m'magma_r'\u001b[0m\u001b[0;34m,\u001b[0m \u001b[0mannot\u001b[0m\u001b[0;34m=\u001b[0m\u001b[0;32mTrue\u001b[0m\u001b[0;34m)\u001b[0m\u001b[0;34m;\u001b[0m\u001b[0;34m\u001b[0m\u001b[0;34m\u001b[0m\u001b[0m\n\u001b[0m",
      "\u001b[0;32m~/Documents/Cours/MLDB/mlbd/mlbd/lib/python3.7/site-packages/seaborn/_decorators.py\u001b[0m in \u001b[0;36minner_f\u001b[0;34m(*args, **kwargs)\u001b[0m\n\u001b[1;32m     44\u001b[0m             )\n\u001b[1;32m     45\u001b[0m         \u001b[0mkwargs\u001b[0m\u001b[0;34m.\u001b[0m\u001b[0mupdate\u001b[0m\u001b[0;34m(\u001b[0m\u001b[0;34m{\u001b[0m\u001b[0mk\u001b[0m\u001b[0;34m:\u001b[0m \u001b[0marg\u001b[0m \u001b[0;32mfor\u001b[0m \u001b[0mk\u001b[0m\u001b[0;34m,\u001b[0m \u001b[0marg\u001b[0m \u001b[0;32min\u001b[0m \u001b[0mzip\u001b[0m\u001b[0;34m(\u001b[0m\u001b[0msig\u001b[0m\u001b[0;34m.\u001b[0m\u001b[0mparameters\u001b[0m\u001b[0;34m,\u001b[0m \u001b[0margs\u001b[0m\u001b[0;34m)\u001b[0m\u001b[0;34m}\u001b[0m\u001b[0;34m)\u001b[0m\u001b[0;34m\u001b[0m\u001b[0;34m\u001b[0m\u001b[0m\n\u001b[0;32m---> 46\u001b[0;31m         \u001b[0;32mreturn\u001b[0m \u001b[0mf\u001b[0m\u001b[0;34m(\u001b[0m\u001b[0;34m**\u001b[0m\u001b[0mkwargs\u001b[0m\u001b[0;34m)\u001b[0m\u001b[0;34m\u001b[0m\u001b[0;34m\u001b[0m\u001b[0m\n\u001b[0m\u001b[1;32m     47\u001b[0m     \u001b[0;32mreturn\u001b[0m \u001b[0minner_f\u001b[0m\u001b[0;34m\u001b[0m\u001b[0;34m\u001b[0m\u001b[0m\n\u001b[1;32m     48\u001b[0m \u001b[0;34m\u001b[0m\u001b[0m\n",
      "\u001b[0;32m~/Documents/Cours/MLDB/mlbd/mlbd/lib/python3.7/site-packages/seaborn/matrix.py\u001b[0m in \u001b[0;36mheatmap\u001b[0;34m(data, vmin, vmax, cmap, center, robust, annot, fmt, annot_kws, linewidths, linecolor, cbar, cbar_kws, cbar_ax, square, xticklabels, yticklabels, mask, ax, **kwargs)\u001b[0m\n\u001b[1;32m    535\u001b[0m     plotter = _HeatMapper(data, vmin, vmax, cmap, center, robust, annot, fmt,\n\u001b[1;32m    536\u001b[0m                           \u001b[0mannot_kws\u001b[0m\u001b[0;34m,\u001b[0m \u001b[0mcbar\u001b[0m\u001b[0;34m,\u001b[0m \u001b[0mcbar_kws\u001b[0m\u001b[0;34m,\u001b[0m \u001b[0mxticklabels\u001b[0m\u001b[0;34m,\u001b[0m\u001b[0;34m\u001b[0m\u001b[0;34m\u001b[0m\u001b[0m\n\u001b[0;32m--> 537\u001b[0;31m                           yticklabels, mask)\n\u001b[0m\u001b[1;32m    538\u001b[0m \u001b[0;34m\u001b[0m\u001b[0m\n\u001b[1;32m    539\u001b[0m     \u001b[0;31m# Add the pcolormesh kwargs here\u001b[0m\u001b[0;34m\u001b[0m\u001b[0;34m\u001b[0m\u001b[0;34m\u001b[0m\u001b[0m\n",
      "\u001b[0;32m~/Documents/Cours/MLDB/mlbd/mlbd/lib/python3.7/site-packages/seaborn/matrix.py\u001b[0m in \u001b[0;36m__init__\u001b[0;34m(self, data, vmin, vmax, cmap, center, robust, annot, fmt, annot_kws, cbar, cbar_kws, xticklabels, yticklabels, mask)\u001b[0m\n\u001b[1;32m    100\u001b[0m         \u001b[0;32melse\u001b[0m\u001b[0;34m:\u001b[0m\u001b[0;34m\u001b[0m\u001b[0;34m\u001b[0m\u001b[0m\n\u001b[1;32m    101\u001b[0m             \u001b[0mplot_data\u001b[0m \u001b[0;34m=\u001b[0m \u001b[0mnp\u001b[0m\u001b[0;34m.\u001b[0m\u001b[0masarray\u001b[0m\u001b[0;34m(\u001b[0m\u001b[0mdata\u001b[0m\u001b[0;34m)\u001b[0m\u001b[0;34m\u001b[0m\u001b[0;34m\u001b[0m\u001b[0m\n\u001b[0;32m--> 102\u001b[0;31m             \u001b[0mdata\u001b[0m \u001b[0;34m=\u001b[0m \u001b[0mpd\u001b[0m\u001b[0;34m.\u001b[0m\u001b[0mDataFrame\u001b[0m\u001b[0;34m(\u001b[0m\u001b[0mplot_data\u001b[0m\u001b[0;34m)\u001b[0m\u001b[0;34m\u001b[0m\u001b[0;34m\u001b[0m\u001b[0m\n\u001b[0m\u001b[1;32m    103\u001b[0m \u001b[0;34m\u001b[0m\u001b[0m\n\u001b[1;32m    104\u001b[0m         \u001b[0;31m# Validate the mask and convet to DataFrame\u001b[0m\u001b[0;34m\u001b[0m\u001b[0;34m\u001b[0m\u001b[0;34m\u001b[0m\u001b[0m\n",
      "\u001b[0;32m~/Documents/Cours/MLDB/mlbd/mlbd/lib/python3.7/site-packages/pandas/core/frame.py\u001b[0m in \u001b[0;36m__init__\u001b[0;34m(self, data, index, columns, dtype, copy)\u001b[0m\n\u001b[1;32m    556\u001b[0m                 \u001b[0mmgr\u001b[0m \u001b[0;34m=\u001b[0m \u001b[0minit_dict\u001b[0m\u001b[0;34m(\u001b[0m\u001b[0;34m{\u001b[0m\u001b[0mdata\u001b[0m\u001b[0;34m.\u001b[0m\u001b[0mname\u001b[0m\u001b[0;34m:\u001b[0m \u001b[0mdata\u001b[0m\u001b[0;34m}\u001b[0m\u001b[0;34m,\u001b[0m \u001b[0mindex\u001b[0m\u001b[0;34m,\u001b[0m \u001b[0mcolumns\u001b[0m\u001b[0;34m,\u001b[0m \u001b[0mdtype\u001b[0m\u001b[0;34m=\u001b[0m\u001b[0mdtype\u001b[0m\u001b[0;34m)\u001b[0m\u001b[0;34m\u001b[0m\u001b[0;34m\u001b[0m\u001b[0m\n\u001b[1;32m    557\u001b[0m             \u001b[0;32melse\u001b[0m\u001b[0;34m:\u001b[0m\u001b[0;34m\u001b[0m\u001b[0;34m\u001b[0m\u001b[0m\n\u001b[0;32m--> 558\u001b[0;31m                 \u001b[0mmgr\u001b[0m \u001b[0;34m=\u001b[0m \u001b[0minit_ndarray\u001b[0m\u001b[0;34m(\u001b[0m\u001b[0mdata\u001b[0m\u001b[0;34m,\u001b[0m \u001b[0mindex\u001b[0m\u001b[0;34m,\u001b[0m \u001b[0mcolumns\u001b[0m\u001b[0;34m,\u001b[0m \u001b[0mdtype\u001b[0m\u001b[0;34m=\u001b[0m\u001b[0mdtype\u001b[0m\u001b[0;34m,\u001b[0m \u001b[0mcopy\u001b[0m\u001b[0;34m=\u001b[0m\u001b[0mcopy\u001b[0m\u001b[0;34m)\u001b[0m\u001b[0;34m\u001b[0m\u001b[0;34m\u001b[0m\u001b[0m\n\u001b[0m\u001b[1;32m    559\u001b[0m \u001b[0;34m\u001b[0m\u001b[0m\n\u001b[1;32m    560\u001b[0m         \u001b[0;31m# For data is list-like, or Iterable (will consume into list)\u001b[0m\u001b[0;34m\u001b[0m\u001b[0;34m\u001b[0m\u001b[0;34m\u001b[0m\u001b[0m\n",
      "\u001b[0;32m~/Documents/Cours/MLDB/mlbd/mlbd/lib/python3.7/site-packages/pandas/core/internals/construction.py\u001b[0m in \u001b[0;36minit_ndarray\u001b[0;34m(values, index, columns, dtype, copy)\u001b[0m\n\u001b[1;32m    190\u001b[0m     \u001b[0;31m# by definition an array here\u001b[0m\u001b[0;34m\u001b[0m\u001b[0;34m\u001b[0m\u001b[0;34m\u001b[0m\u001b[0m\n\u001b[1;32m    191\u001b[0m     \u001b[0;31m# the dtypes will be coerced to a single dtype\u001b[0m\u001b[0;34m\u001b[0m\u001b[0;34m\u001b[0m\u001b[0;34m\u001b[0m\u001b[0m\n\u001b[0;32m--> 192\u001b[0;31m     \u001b[0mvalues\u001b[0m \u001b[0;34m=\u001b[0m \u001b[0m_prep_ndarray\u001b[0m\u001b[0;34m(\u001b[0m\u001b[0mvalues\u001b[0m\u001b[0;34m,\u001b[0m \u001b[0mcopy\u001b[0m\u001b[0;34m=\u001b[0m\u001b[0mcopy\u001b[0m\u001b[0;34m)\u001b[0m\u001b[0;34m\u001b[0m\u001b[0;34m\u001b[0m\u001b[0m\n\u001b[0m\u001b[1;32m    193\u001b[0m \u001b[0;34m\u001b[0m\u001b[0m\n\u001b[1;32m    194\u001b[0m     \u001b[0;32mif\u001b[0m \u001b[0mdtype\u001b[0m \u001b[0;32mis\u001b[0m \u001b[0;32mnot\u001b[0m \u001b[0;32mNone\u001b[0m \u001b[0;32mand\u001b[0m \u001b[0;32mnot\u001b[0m \u001b[0mis_dtype_equal\u001b[0m\u001b[0;34m(\u001b[0m\u001b[0mvalues\u001b[0m\u001b[0;34m.\u001b[0m\u001b[0mdtype\u001b[0m\u001b[0;34m,\u001b[0m \u001b[0mdtype\u001b[0m\u001b[0;34m)\u001b[0m\u001b[0;34m:\u001b[0m\u001b[0;34m\u001b[0m\u001b[0;34m\u001b[0m\u001b[0m\n",
      "\u001b[0;32m~/Documents/Cours/MLDB/mlbd/mlbd/lib/python3.7/site-packages/pandas/core/internals/construction.py\u001b[0m in \u001b[0;36m_prep_ndarray\u001b[0;34m(values, copy)\u001b[0m\n\u001b[1;32m    326\u001b[0m         \u001b[0mvalues\u001b[0m \u001b[0;34m=\u001b[0m \u001b[0mvalues\u001b[0m\u001b[0;34m.\u001b[0m\u001b[0mreshape\u001b[0m\u001b[0;34m(\u001b[0m\u001b[0;34m(\u001b[0m\u001b[0mvalues\u001b[0m\u001b[0;34m.\u001b[0m\u001b[0mshape\u001b[0m\u001b[0;34m[\u001b[0m\u001b[0;36m0\u001b[0m\u001b[0;34m]\u001b[0m\u001b[0;34m,\u001b[0m \u001b[0;36m1\u001b[0m\u001b[0;34m)\u001b[0m\u001b[0;34m)\u001b[0m\u001b[0;34m\u001b[0m\u001b[0;34m\u001b[0m\u001b[0m\n\u001b[1;32m    327\u001b[0m     \u001b[0;32melif\u001b[0m \u001b[0mvalues\u001b[0m\u001b[0;34m.\u001b[0m\u001b[0mndim\u001b[0m \u001b[0;34m!=\u001b[0m \u001b[0;36m2\u001b[0m\u001b[0;34m:\u001b[0m\u001b[0;34m\u001b[0m\u001b[0;34m\u001b[0m\u001b[0m\n\u001b[0;32m--> 328\u001b[0;31m         \u001b[0;32mraise\u001b[0m \u001b[0mValueError\u001b[0m\u001b[0;34m(\u001b[0m\u001b[0;34mf\"Must pass 2-d input. shape={values.shape}\"\u001b[0m\u001b[0;34m)\u001b[0m\u001b[0;34m\u001b[0m\u001b[0;34m\u001b[0m\u001b[0m\n\u001b[0m\u001b[1;32m    329\u001b[0m \u001b[0;34m\u001b[0m\u001b[0m\n\u001b[1;32m    330\u001b[0m     \u001b[0;32mreturn\u001b[0m \u001b[0mvalues\u001b[0m\u001b[0;34m\u001b[0m\u001b[0;34m\u001b[0m\u001b[0m\n",
      "\u001b[0;31mValueError\u001b[0m: Must pass 2-d input. shape=()"
     ]
    },
    {
     "data": {
      "text/plain": [
       "<Figure size 1080x720 with 0 Axes>"
      ]
     },
     "metadata": {},
     "output_type": "display_data"
    }
   ],
   "source": [
    "plt.figure(figsize=(15,10))\n",
    "sns.heatmap(data=cm, cmap='magma_r', annot=True);"
   ]
  },
  {
   "cell_type": "code",
   "execution_count": null,
   "id": "wanted-ecology",
   "metadata": {
    "ExecuteTime": {
     "end_time": "2021-05-18T22:43:50.552056Z",
     "start_time": "2021-05-18T21:34:19.333Z"
    }
   },
   "outputs": [],
   "source": [
    "print(\"Random:\", predict_random(X_train, y_train, X_test, y_test, multi=True)[:2])\n",
    "print(\"Majority:\",predict_majority(X_train, y_train, X_test, y_test, multi=True)[:2])"
   ]
  },
  {
   "cell_type": "code",
   "execution_count": null,
   "id": "invalid-leeds",
   "metadata": {},
   "outputs": [],
   "source": []
  }
 ],
 "metadata": {
  "kernelspec": {
   "display_name": "mlbd",
   "language": "python",
   "name": "mlbd"
  },
  "language_info": {
   "codemirror_mode": {
    "name": "ipython",
    "version": 3
   },
   "file_extension": ".py",
   "mimetype": "text/x-python",
   "name": "python",
   "nbconvert_exporter": "python",
   "pygments_lexer": "ipython3",
   "version": "3.7.9"
  },
  "toc": {
   "base_numbering": 1,
   "nav_menu": {},
   "number_sections": true,
   "sideBar": true,
   "skip_h1_title": false,
   "title_cell": "Table of Contents",
   "title_sidebar": "Contents",
   "toc_cell": false,
   "toc_position": {},
   "toc_section_display": true,
   "toc_window_display": false
  }
 },
 "nbformat": 4,
 "nbformat_minor": 5
}
