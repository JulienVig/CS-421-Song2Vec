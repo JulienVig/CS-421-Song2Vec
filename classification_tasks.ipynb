{
 "cells": [
  {
   "cell_type": "code",
   "execution_count": 1,
   "id": "turned-majority",
   "metadata": {
    "ExecuteTime": {
     "end_time": "2021-05-28T22:22:20.236676Z",
     "start_time": "2021-05-28T22:22:15.024517Z"
    }
   },
   "outputs": [],
   "source": [
    "from tqdm import tqdm\n",
    "import pandas as pd\n",
    "import matplotlib.pyplot as plt\n",
    "import seaborn as sns\n",
    "import numpy as np\n",
    "from utils import read_lastfm, build_vocab, load_model, get_embeddings\n",
    "from gensim.models import Word2Vec\n",
    "\n",
    "from sklearn.feature_extraction.text import TfidfVectorizer\n",
    "from sklearn.model_selection import train_test_split, GridSearchCV, KFold\n",
    "from sklearn.ensemble import RandomForestClassifier\n",
    "from sklearn.metrics import accuracy_score, f1_score, roc_auc_score, confusion_matrix, make_scorer\n",
    "from sklearn.dummy import DummyClassifier"
   ]
  },
  {
   "cell_type": "code",
   "execution_count": 108,
   "id": "proper-netherlands",
   "metadata": {
    "ExecuteTime": {
     "end_time": "2021-05-29T11:38:07.007430Z",
     "start_time": "2021-05-29T11:34:07.146562Z"
    }
   },
   "outputs": [],
   "source": [
    "songs, users = read_lastfm(zip_name=\"data/lastfm-dataset-1K.zip\")"
   ]
  },
  {
   "cell_type": "code",
   "execution_count": 109,
   "id": "impressive-courage",
   "metadata": {
    "ExecuteTime": {
     "end_time": "2021-05-29T11:38:09.610157Z",
     "start_time": "2021-05-29T11:38:07.022705Z"
    }
   },
   "outputs": [],
   "source": [
    "songs[\"song_id\"]= songs.artist_name.cat.codes.astype(\"int64\") * songs.track_name.nunique() \\\n",
    "                            + songs.track_name.cat.codes"
   ]
  },
  {
   "cell_type": "markdown",
   "id": "signal-national",
   "metadata": {},
   "source": [
    "# Song2vec loading"
   ]
  },
  {
   "cell_type": "code",
   "execution_count": null,
   "id": "involved-psychology",
   "metadata": {},
   "outputs": [],
   "source": [
    "LOAD = True"
   ]
  },
  {
   "cell_type": "code",
   "execution_count": 5,
   "id": "nasty-emerald",
   "metadata": {
    "ExecuteTime": {
     "end_time": "2021-05-28T22:26:30.776912Z",
     "start_time": "2021-05-28T22:26:00.757398Z"
    }
   },
   "outputs": [],
   "source": [
    "if LOAD:\n",
    "    emb_vectors, model = load_model(\"data/word2vec/108.model\")\n",
    "else:\n",
    "    kwargs_108 = {'vector_size': 100, 'window': 3, 'min_count': 1, 'negative': 5, 'ns_exponent': -0.8}\n",
    "    sample, emb_vectors, model = get_embeddings(songs, **kwargs_108)\n",
    "    model.save(\"data/word2vec/108.model\")"
   ]
  },
  {
   "cell_type": "code",
   "execution_count": 7,
   "id": "coral-exploration",
   "metadata": {
    "ExecuteTime": {
     "end_time": "2021-05-28T22:26:30.852120Z",
     "start_time": "2021-05-28T22:26:30.818736Z"
    },
    "scrolled": true
   },
   "outputs": [
    {
     "data": {
      "text/plain": [
       "1498723"
      ]
     },
     "execution_count": 7,
     "metadata": {},
     "output_type": "execute_result"
    }
   ],
   "source": [
    "len(emb_vectors.keys())"
   ]
  },
  {
   "cell_type": "code",
   "execution_count": 8,
   "id": "placed-arena",
   "metadata": {
    "ExecuteTime": {
     "end_time": "2021-05-28T22:48:27.407240Z",
     "start_time": "2021-05-28T22:26:30.870226Z"
    }
   },
   "outputs": [],
   "source": [
    "s2v_df = pd.DataFrame(data=list(emb_vectors.values()), index=list(emb_vectors.keys()))"
   ]
  },
  {
   "cell_type": "markdown",
   "id": "promotional-celebrity",
   "metadata": {},
   "source": [
    "# TF-IDF initialization"
   ]
  },
  {
   "cell_type": "code",
   "execution_count": 9,
   "id": "close-albania",
   "metadata": {
    "ExecuteTime": {
     "end_time": "2021-05-28T22:49:07.133608Z",
     "start_time": "2021-05-28T22:48:27.426237Z"
    }
   },
   "outputs": [],
   "source": [
    "corpus_df = songs.sort_values([\"user_id\", \"timestamp\"]).groupby(\"user_id\")\\\n",
    "                .agg(sequence=(\"song_id\", list))"
   ]
  },
  {
   "cell_type": "code",
   "execution_count": 10,
   "id": "documentary-sacramento",
   "metadata": {
    "ExecuteTime": {
     "end_time": "2021-05-28T22:49:07.160612Z",
     "start_time": "2021-05-28T22:49:07.140078Z"
    }
   },
   "outputs": [],
   "source": [
    "corpus = corpus_df.values[:,0]"
   ]
  },
  {
   "cell_type": "code",
   "execution_count": 11,
   "id": "interested-sterling",
   "metadata": {
    "ExecuteTime": {
     "end_time": "2021-05-28T22:49:22.582517Z",
     "start_time": "2021-05-28T22:49:07.165461Z"
    }
   },
   "outputs": [],
   "source": [
    "vectorizer = TfidfVectorizer(tokenizer=lambda x: x, lowercase=False)\n",
    "X = vectorizer.fit_transform(corpus)"
   ]
  },
  {
   "cell_type": "code",
   "execution_count": 12,
   "id": "reasonable-subcommittee",
   "metadata": {
    "ExecuteTime": {
     "end_time": "2021-05-28T22:49:22.671639Z",
     "start_time": "2021-05-28T22:49:22.589157Z"
    }
   },
   "outputs": [],
   "source": [
    "song_ids = list(vectorizer.vocabulary_.keys())\n",
    "indices = list(vectorizer.vocabulary_.values())"
   ]
  },
  {
   "cell_type": "code",
   "execution_count": 13,
   "id": "latin-county",
   "metadata": {
    "ExecuteTime": {
     "end_time": "2021-05-28T22:49:25.025810Z",
     "start_time": "2021-05-28T22:49:22.674683Z"
    }
   },
   "outputs": [],
   "source": [
    "song_ids = [x for _,x in sorted(zip(indices,song_ids))]"
   ]
  },
  {
   "cell_type": "code",
   "execution_count": 14,
   "id": "independent-struggle",
   "metadata": {
    "ExecuteTime": {
     "end_time": "2021-05-28T22:49:28.183568Z",
     "start_time": "2021-05-28T22:49:25.033194Z"
    }
   },
   "outputs": [],
   "source": [
    "tfidf_df = pd.DataFrame(data=X.T.todense(), index=song_ids)"
   ]
  },
  {
   "cell_type": "markdown",
   "id": "interesting-parameter",
   "metadata": {},
   "source": [
    "# Classification Tasks\n",
    "\n",
    "* Predict if two songs appear in the same context\n",
    "* Predict if two songs are from the same artist\n",
    "* Predict the artist of a song\n",
    "* Predict the tag of a song"
   ]
  },
  {
   "cell_type": "code",
   "execution_count": 15,
   "id": "raising-deputy",
   "metadata": {
    "ExecuteTime": {
     "end_time": "2021-05-28T22:49:28.191865Z",
     "start_time": "2021-05-28T22:49:28.186058Z"
    }
   },
   "outputs": [],
   "source": [
    "SEED = 42"
   ]
  },
  {
   "cell_type": "code",
   "execution_count": 16,
   "id": "accurate-gabriel",
   "metadata": {
    "ExecuteTime": {
     "end_time": "2021-05-28T22:49:28.227640Z",
     "start_time": "2021-05-28T22:49:28.206076Z"
    }
   },
   "outputs": [],
   "source": [
    "def compute_metrics(y_test, y_pred, y_proba, multi=False):\n",
    "    acc = accuracy_score(y_test, y_pred)\n",
    "    if not multi:\n",
    "        f1 = f1_score(y_test, y_pred)\n",
    "        auc = roc_auc_score(y_test, y_proba)\n",
    "        return acc, f1, auc\n",
    "    else:\n",
    "        acc = accuracy_score(y_test, y_pred)\n",
    "        f1 = f1_score(y_test, y_pred, average='weighted')\n",
    "        cm = confusion_matrix(y_test, y_pred)\n",
    "        return acc, f1, cm"
   ]
  },
  {
   "cell_type": "code",
   "execution_count": 17,
   "id": "ongoing-vitamin",
   "metadata": {
    "ExecuteTime": {
     "end_time": "2021-05-28T22:49:28.254107Z",
     "start_time": "2021-05-28T22:49:28.231789Z"
    }
   },
   "outputs": [],
   "source": [
    "def predict_RF(X_train, X_test, y_train, y_test, scoring='f1', multi=False,\n",
    "               param_grid = {'n_estimators': [50, 100, 150],\n",
    "                            'criterion': ['gini', 'entropy']}):\n",
    "    model = RandomForestClassifier(random_state=SEED)\n",
    "    cv = KFold(n_splits=5, shuffle=True, random_state=SEED)\n",
    "    grid = GridSearchCV(model, param_grid, cv=cv, scoring=scoring, verbose=4)\n",
    "    grid.fit(X_train, y_train)\n",
    "    best_model = grid.best_estimator_\n",
    "    print(f\"Best parameters are: {grid.best_params_}\")\n",
    "    y_pred = best_model.predict(X_test)\n",
    "    y_proba = best_model.predict_proba(X_test)[:,1]\n",
    "    return compute_metrics(y_test, y_pred, y_proba, multi=multi), grid.cv_results_['std_test_score']\n"
   ]
  },
  {
   "cell_type": "code",
   "execution_count": 18,
   "id": "conventional-publisher",
   "metadata": {
    "ExecuteTime": {
     "end_time": "2021-05-28T22:49:28.271352Z",
     "start_time": "2021-05-28T22:49:28.257462Z"
    }
   },
   "outputs": [],
   "source": [
    "def predict_random(X_train, y_train, X_test, y_test, multi=False):\n",
    "    random = DummyClassifier(strategy='uniform', random_state=SEED)\n",
    "    random.fit(X_train, y_train)\n",
    "    y_pred = random.predict(X_test)\n",
    "    y_proba = random.predict_proba(X_test)[:, 1]\n",
    "    return compute_metrics(y_test, y_pred, y_proba, multi=multi)\n",
    "\n",
    "def predict_majority(X_train, y_train, X_test, y_test, multi=False):\n",
    "    majority = DummyClassifier(strategy='most_frequent', random_state=SEED)\n",
    "    majority.fit(X_train, y_train)\n",
    "    y_pred = majority.predict(X_test)\n",
    "    y_proba = majority.predict_proba(X_test)[:, 1]\n",
    "    return compute_metrics(y_test, y_pred, y_proba, multi=multi)"
   ]
  },
  {
   "cell_type": "code",
   "execution_count": 19,
   "id": "excess-jurisdiction",
   "metadata": {
    "ExecuteTime": {
     "end_time": "2021-05-28T22:49:28.291692Z",
     "start_time": "2021-05-28T22:49:28.273563Z"
    }
   },
   "outputs": [],
   "source": [
    "def create_vectors_pairs(vectors, song_pairs):\n",
    "    vector_pairs = vectors.merge(song_pairs, right_on=\"song1\", left_index=True)\\\n",
    "            .merge(vectors, left_on=\"song2\", right_index=True)\\\n",
    "            .drop(['song1', 'song2'], axis=1)\n",
    "    print(len(vector_pairs))\n",
    "    print(len(song_pairs))\n",
    "    assert len(vector_pairs) == len(song_pairs)\n",
    "    assert vector_pairs.shape[1] == vectors.shape[1] * 2\n",
    "    return vector_pairs"
   ]
  },
  {
   "cell_type": "code",
   "execution_count": 20,
   "id": "planned-prairie",
   "metadata": {
    "ExecuteTime": {
     "end_time": "2021-05-28T22:49:28.374099Z",
     "start_time": "2021-05-28T22:49:28.300299Z"
    }
   },
   "outputs": [],
   "source": [
    "def plot_metrics(f1_s2v, std_s2v, f1_tfidf, std_tfidf, title, multi=False):\n",
    "    plt.figure(figsize=(10,5))\n",
    "    acc_rand, f1_rand, auc_rand = predict_random(X_train, y_train, X_test, y_test, multi=multi)\n",
    "    acc_maj, f1_maj, auc_maj = predict_majority(X_train, y_train, X_test, y_test, multi=multi)\n",
    "    x = range(4)\n",
    "    y = [f1_s2v, f1_tfidf, f1_rand, f1_maj]\n",
    "    yerr = np.array([np.mean(std_s2v)/2, np.mean(std_tfidf)/2, 0, 0])\n",
    "    plt.bar(x, y, yerr=[yerr, yerr], width=0.8,\n",
    "        color='#90D8D3',\n",
    "        edgecolor='k',\n",
    "        capsize=5)\n",
    "    plt.xticks(x, ['Song2Vec', 'tfidf', 'random', 'majority'])\n",
    "    plt.ylabel(\"F1 score\")\n",
    "    plt.title(title)\n",
    "    plt.show()"
   ]
  },
  {
   "cell_type": "markdown",
   "id": "placed-greek",
   "metadata": {},
   "source": [
    "## Same context classification"
   ]
  },
  {
   "cell_type": "code",
   "execution_count": 77,
   "id": "jewish-fields",
   "metadata": {
    "ExecuteTime": {
     "end_time": "2021-05-29T08:38:15.325769Z",
     "start_time": "2021-05-29T08:37:31.424997Z"
    }
   },
   "outputs": [],
   "source": [
    "sorted_songs = songs.sort_values([\"user_id\", \"timestamp\"])"
   ]
  },
  {
   "cell_type": "code",
   "execution_count": 78,
   "id": "brief-omega",
   "metadata": {
    "ExecuteTime": {
     "end_time": "2021-05-29T08:38:15.479400Z",
     "start_time": "2021-05-29T08:38:15.342198Z"
    }
   },
   "outputs": [],
   "source": [
    "def pick_song_in_same_context(songs, half_n):\n",
    "    \"\"\"Simply chooses random songs pair them with the previous or following one\"\"\"\n",
    "    np.random.seed(SEED)\n",
    "    idx1 = np.random.randint(1, len(songs) - 1, half_n) #Exclude first and last song\n",
    "    idx2 = idx1.copy() #Offset the first index by -1 or 1 \n",
    "    idx2[::2] += 1\n",
    "    idx2[1::2] -= 1\n",
    "    songs1 = songs.iloc[idx1].song_id.values\n",
    "    songs2 = songs.iloc[idx2].song_id.values\n",
    "    X = np.c_[songs1, songs2]\n",
    "    y = np.ones(half_n)\n",
    "    return X, y\n",
    "    \n",
    "def pick_songs_in_diff_context(songs, half_n):\n",
    "    songs1 = songs.sample(half_n, random_state=SEED).song_id.values\n",
    "    songs2 = songs.sample(half_n, random_state=SEED + 1).song_id.values\n",
    "    X = np.c_[songs1, songs2]\n",
    "    y = np.zeros(half_n)\n",
    "    return X, y\n",
    "\n",
    "def create_context_dataset(sorted_songs, n=20000):\n",
    "    \"\"\"Create a dataset of song pairs that either appeared in the same context or not\"\"\" \n",
    "    X_pos, y_pos = pick_song_in_same_context(sorted_songs, n//2)\n",
    "    X_neg, y_neg = pick_songs_in_diff_context(sorted_songs, n//2)\n",
    "    old_X = np.r_[X_pos, X_neg]\n",
    "    old_y = np.r_[y_pos, y_neg]\n",
    "    dataset = list(zip(old_X, old_y))\n",
    "    np.random.seed(SEED)\n",
    "    np.random.shuffle(dataset)\n",
    "    X, y = zip(*dataset)\n",
    "    return pd.DataFrame(X, columns=[\"song1\", \"song2\"]), np.array(y)"
   ]
  },
  {
   "cell_type": "code",
   "execution_count": 79,
   "id": "changing-friendly",
   "metadata": {
    "ExecuteTime": {
     "end_time": "2021-05-29T08:38:18.929437Z",
     "start_time": "2021-05-29T08:38:15.533210Z"
    }
   },
   "outputs": [],
   "source": [
    "song_pairs, labels = create_context_dataset(sorted_songs, n= 20000)"
   ]
  },
  {
   "cell_type": "code",
   "execution_count": 80,
   "id": "solid-infection",
   "metadata": {
    "ExecuteTime": {
     "end_time": "2021-05-29T08:38:19.267373Z",
     "start_time": "2021-05-29T08:38:18.969598Z"
    }
   },
   "outputs": [],
   "source": [
    "#Only keep song with s2v embeddings\n",
    "song_pairs = song_pairs.copy()\n",
    "song_pairs['labels'] = labels\n",
    "song_pairs = song_pairs[song_pairs.song1.isin(s2v_df.index) & song_pairs.song2.isin(s2v_df.index)]\n",
    "labels = song_pairs.labels\n",
    "song_pairs.drop('labels', axis=1, inplace=True)"
   ]
  },
  {
   "cell_type": "markdown",
   "id": "obvious-tragedy",
   "metadata": {},
   "source": [
    "### TF-IDF"
   ]
  },
  {
   "cell_type": "code",
   "execution_count": 81,
   "id": "incorporated-stuart",
   "metadata": {
    "ExecuteTime": {
     "end_time": "2021-05-29T08:38:48.478128Z",
     "start_time": "2021-05-29T08:38:19.280569Z"
    }
   },
   "outputs": [
    {
     "name": "stdout",
     "output_type": "stream",
     "text": [
      "20000\n",
      "20000\n"
     ]
    }
   ],
   "source": [
    "tfidf_pairs = create_vectors_pairs(tfidf_df, song_pairs)"
   ]
  },
  {
   "cell_type": "code",
   "execution_count": 82,
   "id": "cosmetic-syndicate",
   "metadata": {
    "ExecuteTime": {
     "end_time": "2021-05-29T08:38:48.618683Z",
     "start_time": "2021-05-29T08:38:48.491140Z"
    }
   },
   "outputs": [
    {
     "data": {
      "text/html": [
       "<div>\n",
       "<style scoped>\n",
       "    .dataframe tbody tr th:only-of-type {\n",
       "        vertical-align: middle;\n",
       "    }\n",
       "\n",
       "    .dataframe tbody tr th {\n",
       "        vertical-align: top;\n",
       "    }\n",
       "\n",
       "    .dataframe thead th {\n",
       "        text-align: right;\n",
       "    }\n",
       "</style>\n",
       "<table border=\"1\" class=\"dataframe\">\n",
       "  <thead>\n",
       "    <tr style=\"text-align: right;\">\n",
       "      <th></th>\n",
       "      <th>0_x</th>\n",
       "      <th>1_x</th>\n",
       "      <th>2_x</th>\n",
       "      <th>3_x</th>\n",
       "      <th>4_x</th>\n",
       "      <th>5_x</th>\n",
       "      <th>6_x</th>\n",
       "      <th>7_x</th>\n",
       "      <th>8_x</th>\n",
       "      <th>9_x</th>\n",
       "      <th>...</th>\n",
       "      <th>982_y</th>\n",
       "      <th>983_y</th>\n",
       "      <th>984_y</th>\n",
       "      <th>985_y</th>\n",
       "      <th>986_y</th>\n",
       "      <th>987_y</th>\n",
       "      <th>988_y</th>\n",
       "      <th>989_y</th>\n",
       "      <th>990_y</th>\n",
       "      <th>991_y</th>\n",
       "    </tr>\n",
       "  </thead>\n",
       "  <tbody>\n",
       "    <tr>\n",
       "      <th>6668</th>\n",
       "      <td>0.0</td>\n",
       "      <td>0.0</td>\n",
       "      <td>0.0</td>\n",
       "      <td>0.009143</td>\n",
       "      <td>0.0</td>\n",
       "      <td>0.0</td>\n",
       "      <td>0.0</td>\n",
       "      <td>0.0</td>\n",
       "      <td>0.0</td>\n",
       "      <td>0.0</td>\n",
       "      <td>...</td>\n",
       "      <td>0.003974</td>\n",
       "      <td>0.0</td>\n",
       "      <td>0.0</td>\n",
       "      <td>0.002027</td>\n",
       "      <td>0.0</td>\n",
       "      <td>0.0</td>\n",
       "      <td>0.0</td>\n",
       "      <td>0.0</td>\n",
       "      <td>0.0</td>\n",
       "      <td>0.0</td>\n",
       "    </tr>\n",
       "    <tr>\n",
       "      <th>6477</th>\n",
       "      <td>0.0</td>\n",
       "      <td>0.0</td>\n",
       "      <td>0.0</td>\n",
       "      <td>0.005735</td>\n",
       "      <td>0.0</td>\n",
       "      <td>0.0</td>\n",
       "      <td>0.0</td>\n",
       "      <td>0.0</td>\n",
       "      <td>0.0</td>\n",
       "      <td>0.0</td>\n",
       "      <td>...</td>\n",
       "      <td>0.000000</td>\n",
       "      <td>0.0</td>\n",
       "      <td>0.0</td>\n",
       "      <td>0.000000</td>\n",
       "      <td>0.0</td>\n",
       "      <td>0.0</td>\n",
       "      <td>0.0</td>\n",
       "      <td>0.0</td>\n",
       "      <td>0.0</td>\n",
       "      <td>0.0</td>\n",
       "    </tr>\n",
       "    <tr>\n",
       "      <th>5930</th>\n",
       "      <td>0.0</td>\n",
       "      <td>0.0</td>\n",
       "      <td>0.0</td>\n",
       "      <td>0.005569</td>\n",
       "      <td>0.0</td>\n",
       "      <td>0.0</td>\n",
       "      <td>0.0</td>\n",
       "      <td>0.0</td>\n",
       "      <td>0.0</td>\n",
       "      <td>0.0</td>\n",
       "      <td>...</td>\n",
       "      <td>0.000000</td>\n",
       "      <td>0.0</td>\n",
       "      <td>0.0</td>\n",
       "      <td>0.000000</td>\n",
       "      <td>0.0</td>\n",
       "      <td>0.0</td>\n",
       "      <td>0.0</td>\n",
       "      <td>0.0</td>\n",
       "      <td>0.0</td>\n",
       "      <td>0.0</td>\n",
       "    </tr>\n",
       "    <tr>\n",
       "      <th>12585</th>\n",
       "      <td>0.0</td>\n",
       "      <td>0.0</td>\n",
       "      <td>0.0</td>\n",
       "      <td>0.005569</td>\n",
       "      <td>0.0</td>\n",
       "      <td>0.0</td>\n",
       "      <td>0.0</td>\n",
       "      <td>0.0</td>\n",
       "      <td>0.0</td>\n",
       "      <td>0.0</td>\n",
       "      <td>...</td>\n",
       "      <td>0.000000</td>\n",
       "      <td>0.0</td>\n",
       "      <td>0.0</td>\n",
       "      <td>0.000000</td>\n",
       "      <td>0.0</td>\n",
       "      <td>0.0</td>\n",
       "      <td>0.0</td>\n",
       "      <td>0.0</td>\n",
       "      <td>0.0</td>\n",
       "      <td>0.0</td>\n",
       "    </tr>\n",
       "    <tr>\n",
       "      <th>3939</th>\n",
       "      <td>0.0</td>\n",
       "      <td>0.0</td>\n",
       "      <td>0.0</td>\n",
       "      <td>0.000000</td>\n",
       "      <td>0.0</td>\n",
       "      <td>0.0</td>\n",
       "      <td>0.0</td>\n",
       "      <td>0.0</td>\n",
       "      <td>0.0</td>\n",
       "      <td>0.0</td>\n",
       "      <td>...</td>\n",
       "      <td>0.000000</td>\n",
       "      <td>0.0</td>\n",
       "      <td>0.0</td>\n",
       "      <td>0.000000</td>\n",
       "      <td>0.0</td>\n",
       "      <td>0.0</td>\n",
       "      <td>0.0</td>\n",
       "      <td>0.0</td>\n",
       "      <td>0.0</td>\n",
       "      <td>0.0</td>\n",
       "    </tr>\n",
       "  </tbody>\n",
       "</table>\n",
       "<p>5 rows × 1984 columns</p>\n",
       "</div>"
      ],
      "text/plain": [
       "       0_x  1_x  2_x       3_x  4_x  5_x  6_x  7_x  8_x  9_x  ...     982_y  \\\n",
       "6668   0.0  0.0  0.0  0.009143  0.0  0.0  0.0  0.0  0.0  0.0  ...  0.003974   \n",
       "6477   0.0  0.0  0.0  0.005735  0.0  0.0  0.0  0.0  0.0  0.0  ...  0.000000   \n",
       "5930   0.0  0.0  0.0  0.005569  0.0  0.0  0.0  0.0  0.0  0.0  ...  0.000000   \n",
       "12585  0.0  0.0  0.0  0.005569  0.0  0.0  0.0  0.0  0.0  0.0  ...  0.000000   \n",
       "3939   0.0  0.0  0.0  0.000000  0.0  0.0  0.0  0.0  0.0  0.0  ...  0.000000   \n",
       "\n",
       "       983_y  984_y     985_y  986_y  987_y  988_y  989_y  990_y  991_y  \n",
       "6668     0.0    0.0  0.002027    0.0    0.0    0.0    0.0    0.0    0.0  \n",
       "6477     0.0    0.0  0.000000    0.0    0.0    0.0    0.0    0.0    0.0  \n",
       "5930     0.0    0.0  0.000000    0.0    0.0    0.0    0.0    0.0    0.0  \n",
       "12585    0.0    0.0  0.000000    0.0    0.0    0.0    0.0    0.0    0.0  \n",
       "3939     0.0    0.0  0.000000    0.0    0.0    0.0    0.0    0.0    0.0  \n",
       "\n",
       "[5 rows x 1984 columns]"
      ]
     },
     "execution_count": 82,
     "metadata": {},
     "output_type": "execute_result"
    }
   ],
   "source": [
    "tfidf_pairs.head()"
   ]
  },
  {
   "cell_type": "code",
   "execution_count": 83,
   "id": "chronic-windows",
   "metadata": {
    "ExecuteTime": {
     "end_time": "2021-05-29T08:55:30.932919Z",
     "start_time": "2021-05-29T08:38:48.622856Z"
    },
    "scrolled": true
   },
   "outputs": [
    {
     "name": "stdout",
     "output_type": "stream",
     "text": [
      "Fitting 5 folds for each of 6 candidates, totalling 30 fits\n",
      "[CV 1/5] END ................criterion=gini, n_estimators=50; total time=  16.5s\n",
      "[CV 2/5] END ................criterion=gini, n_estimators=50; total time=  15.1s\n",
      "[CV 3/5] END ................criterion=gini, n_estimators=50; total time=  14.6s\n",
      "[CV 4/5] END ................criterion=gini, n_estimators=50; total time=  14.8s\n",
      "[CV 5/5] END ................criterion=gini, n_estimators=50; total time=  14.3s\n",
      "[CV 1/5] END ...............criterion=gini, n_estimators=100; total time=  27.6s\n",
      "[CV 2/5] END ...............criterion=gini, n_estimators=100; total time=  26.9s\n",
      "[CV 3/5] END ...............criterion=gini, n_estimators=100; total time=  26.6s\n",
      "[CV 4/5] END ...............criterion=gini, n_estimators=100; total time=  27.4s\n",
      "[CV 5/5] END ...............criterion=gini, n_estimators=100; total time=  26.7s\n",
      "[CV 1/5] END ...............criterion=gini, n_estimators=150; total time=  40.1s\n",
      "[CV 2/5] END ...............criterion=gini, n_estimators=150; total time=  39.7s\n",
      "[CV 3/5] END ...............criterion=gini, n_estimators=150; total time=  39.6s\n",
      "[CV 4/5] END ...............criterion=gini, n_estimators=150; total time=  40.2s\n",
      "[CV 5/5] END ...............criterion=gini, n_estimators=150; total time=  42.8s\n",
      "[CV 1/5] END .............criterion=entropy, n_estimators=50; total time=  17.1s\n",
      "[CV 2/5] END .............criterion=entropy, n_estimators=50; total time=  17.3s\n",
      "[CV 3/5] END .............criterion=entropy, n_estimators=50; total time=  17.0s\n",
      "[CV 4/5] END .............criterion=entropy, n_estimators=50; total time=  17.4s\n",
      "[CV 5/5] END .............criterion=entropy, n_estimators=50; total time=  17.2s\n",
      "[CV 1/5] END ............criterion=entropy, n_estimators=100; total time=  34.0s\n",
      "[CV 2/5] END ............criterion=entropy, n_estimators=100; total time=  34.3s\n",
      "[CV 3/5] END ............criterion=entropy, n_estimators=100; total time=  33.4s\n",
      "[CV 4/5] END ............criterion=entropy, n_estimators=100; total time=  34.2s\n",
      "[CV 5/5] END ............criterion=entropy, n_estimators=100; total time=  33.7s\n",
      "[CV 1/5] END ............criterion=entropy, n_estimators=150; total time=  49.7s\n",
      "[CV 2/5] END ............criterion=entropy, n_estimators=150; total time=  50.3s\n",
      "[CV 3/5] END ............criterion=entropy, n_estimators=150; total time=  50.3s\n",
      "[CV 4/5] END ............criterion=entropy, n_estimators=150; total time=  58.2s\n",
      "[CV 5/5] END ............criterion=entropy, n_estimators=150; total time=  52.2s\n",
      "Best parameters are: {'criterion': 'entropy', 'n_estimators': 150}\n"
     ]
    }
   ],
   "source": [
    "X_train, X_test, y_train, y_test = \\\n",
    "                train_test_split(tfidf_pairs, labels, train_size=0.8, random_state=SEED)\n",
    "(acc, f1_tfidf, auc), std_tfidf = predict_RF(X_train, X_test, y_train, y_test)"
   ]
  },
  {
   "cell_type": "code",
   "execution_count": 84,
   "id": "enabling-nevada",
   "metadata": {
    "ExecuteTime": {
     "end_time": "2021-05-29T08:55:30.966494Z",
     "start_time": "2021-05-29T08:55:30.936728Z"
    },
    "scrolled": true
   },
   "outputs": [
    {
     "name": "stdout",
     "output_type": "stream",
     "text": [
      "TF-IDF: 0.49825 0.4950943396226415 0.49838703019158237\n",
      "Random: (0.4995, 0.5071393402264894, 0.5)\n",
      "Majority: (0.48625, 0.0, 0.5)\n"
     ]
    }
   ],
   "source": [
    "print(\"TF-IDF:\", acc, f1_tfidf, auc)\n",
    "print(\"Random:\", predict_random(X_train, y_train, X_test, y_test))\n",
    "print(\"Majority:\",predict_majority(X_train, y_train, X_test, y_test))"
   ]
  },
  {
   "cell_type": "markdown",
   "id": "gentle-government",
   "metadata": {},
   "source": [
    "### song2vec"
   ]
  },
  {
   "cell_type": "code",
   "execution_count": 85,
   "id": "fixed-husband",
   "metadata": {
    "ExecuteTime": {
     "end_time": "2021-05-29T08:55:39.201062Z",
     "start_time": "2021-05-29T08:55:30.987825Z"
    }
   },
   "outputs": [
    {
     "name": "stdout",
     "output_type": "stream",
     "text": [
      "20000\n",
      "20000\n"
     ]
    }
   ],
   "source": [
    "s2v_pairs = create_vectors_pairs(s2v_df, song_pairs)"
   ]
  },
  {
   "cell_type": "code",
   "execution_count": 86,
   "id": "signal-theory",
   "metadata": {
    "ExecuteTime": {
     "end_time": "2021-05-29T08:55:39.245381Z",
     "start_time": "2021-05-29T08:55:39.210302Z"
    }
   },
   "outputs": [
    {
     "data": {
      "text/html": [
       "<div>\n",
       "<style scoped>\n",
       "    .dataframe tbody tr th:only-of-type {\n",
       "        vertical-align: middle;\n",
       "    }\n",
       "\n",
       "    .dataframe tbody tr th {\n",
       "        vertical-align: top;\n",
       "    }\n",
       "\n",
       "    .dataframe thead th {\n",
       "        text-align: right;\n",
       "    }\n",
       "</style>\n",
       "<table border=\"1\" class=\"dataframe\">\n",
       "  <thead>\n",
       "    <tr style=\"text-align: right;\">\n",
       "      <th></th>\n",
       "      <th>0_x</th>\n",
       "      <th>1_x</th>\n",
       "      <th>2_x</th>\n",
       "      <th>3_x</th>\n",
       "      <th>4_x</th>\n",
       "      <th>5_x</th>\n",
       "      <th>6_x</th>\n",
       "      <th>7_x</th>\n",
       "      <th>8_x</th>\n",
       "      <th>9_x</th>\n",
       "      <th>...</th>\n",
       "      <th>90_y</th>\n",
       "      <th>91_y</th>\n",
       "      <th>92_y</th>\n",
       "      <th>93_y</th>\n",
       "      <th>94_y</th>\n",
       "      <th>95_y</th>\n",
       "      <th>96_y</th>\n",
       "      <th>97_y</th>\n",
       "      <th>98_y</th>\n",
       "      <th>99_y</th>\n",
       "    </tr>\n",
       "  </thead>\n",
       "  <tbody>\n",
       "    <tr>\n",
       "      <th>2272</th>\n",
       "      <td>0.062533</td>\n",
       "      <td>2.646188</td>\n",
       "      <td>1.771240</td>\n",
       "      <td>0.356027</td>\n",
       "      <td>3.483881</td>\n",
       "      <td>-0.590848</td>\n",
       "      <td>-2.429225</td>\n",
       "      <td>2.533570</td>\n",
       "      <td>-1.950409</td>\n",
       "      <td>3.880151</td>\n",
       "      <td>...</td>\n",
       "      <td>2.025337</td>\n",
       "      <td>-0.535605</td>\n",
       "      <td>-1.385405</td>\n",
       "      <td>0.637838</td>\n",
       "      <td>-0.338939</td>\n",
       "      <td>0.108875</td>\n",
       "      <td>-0.748792</td>\n",
       "      <td>-0.611265</td>\n",
       "      <td>-1.193499</td>\n",
       "      <td>0.673004</td>\n",
       "    </tr>\n",
       "    <tr>\n",
       "      <th>18664</th>\n",
       "      <td>-0.008902</td>\n",
       "      <td>1.077724</td>\n",
       "      <td>0.709782</td>\n",
       "      <td>0.166642</td>\n",
       "      <td>1.394907</td>\n",
       "      <td>-0.192730</td>\n",
       "      <td>-1.005193</td>\n",
       "      <td>0.967549</td>\n",
       "      <td>-0.752923</td>\n",
       "      <td>1.564130</td>\n",
       "      <td>...</td>\n",
       "      <td>2.025337</td>\n",
       "      <td>-0.535605</td>\n",
       "      <td>-1.385405</td>\n",
       "      <td>0.637838</td>\n",
       "      <td>-0.338939</td>\n",
       "      <td>0.108875</td>\n",
       "      <td>-0.748792</td>\n",
       "      <td>-0.611265</td>\n",
       "      <td>-1.193499</td>\n",
       "      <td>0.673004</td>\n",
       "    </tr>\n",
       "    <tr>\n",
       "      <th>2486</th>\n",
       "      <td>0.062533</td>\n",
       "      <td>2.646188</td>\n",
       "      <td>1.771240</td>\n",
       "      <td>0.356027</td>\n",
       "      <td>3.483881</td>\n",
       "      <td>-0.590848</td>\n",
       "      <td>-2.429225</td>\n",
       "      <td>2.533570</td>\n",
       "      <td>-1.950409</td>\n",
       "      <td>3.880151</td>\n",
       "      <td>...</td>\n",
       "      <td>0.036377</td>\n",
       "      <td>-0.015997</td>\n",
       "      <td>-0.035529</td>\n",
       "      <td>0.007756</td>\n",
       "      <td>-0.003772</td>\n",
       "      <td>0.004609</td>\n",
       "      <td>-0.021812</td>\n",
       "      <td>-0.006417</td>\n",
       "      <td>-0.034017</td>\n",
       "      <td>0.011343</td>\n",
       "    </tr>\n",
       "    <tr>\n",
       "      <th>9275</th>\n",
       "      <td>0.062533</td>\n",
       "      <td>2.646188</td>\n",
       "      <td>1.771240</td>\n",
       "      <td>0.356027</td>\n",
       "      <td>3.483881</td>\n",
       "      <td>-0.590848</td>\n",
       "      <td>-2.429225</td>\n",
       "      <td>2.533570</td>\n",
       "      <td>-1.950409</td>\n",
       "      <td>3.880151</td>\n",
       "      <td>...</td>\n",
       "      <td>1.042502</td>\n",
       "      <td>-0.275264</td>\n",
       "      <td>-0.699596</td>\n",
       "      <td>0.331668</td>\n",
       "      <td>-0.177756</td>\n",
       "      <td>0.048686</td>\n",
       "      <td>-0.375654</td>\n",
       "      <td>-0.306628</td>\n",
       "      <td>-0.620744</td>\n",
       "      <td>0.347940</td>\n",
       "    </tr>\n",
       "    <tr>\n",
       "      <th>11186</th>\n",
       "      <td>0.062533</td>\n",
       "      <td>2.646188</td>\n",
       "      <td>1.771240</td>\n",
       "      <td>0.356027</td>\n",
       "      <td>3.483881</td>\n",
       "      <td>-0.590848</td>\n",
       "      <td>-2.429225</td>\n",
       "      <td>2.533570</td>\n",
       "      <td>-1.950409</td>\n",
       "      <td>3.880151</td>\n",
       "      <td>...</td>\n",
       "      <td>4.721431</td>\n",
       "      <td>-1.248810</td>\n",
       "      <td>-3.138873</td>\n",
       "      <td>1.458313</td>\n",
       "      <td>-0.764569</td>\n",
       "      <td>0.319603</td>\n",
       "      <td>-1.742567</td>\n",
       "      <td>-1.457467</td>\n",
       "      <td>-2.820880</td>\n",
       "      <td>1.586536</td>\n",
       "    </tr>\n",
       "  </tbody>\n",
       "</table>\n",
       "<p>5 rows × 200 columns</p>\n",
       "</div>"
      ],
      "text/plain": [
       "            0_x       1_x       2_x       3_x       4_x       5_x       6_x  \\\n",
       "2272   0.062533  2.646188  1.771240  0.356027  3.483881 -0.590848 -2.429225   \n",
       "18664 -0.008902  1.077724  0.709782  0.166642  1.394907 -0.192730 -1.005193   \n",
       "2486   0.062533  2.646188  1.771240  0.356027  3.483881 -0.590848 -2.429225   \n",
       "9275   0.062533  2.646188  1.771240  0.356027  3.483881 -0.590848 -2.429225   \n",
       "11186  0.062533  2.646188  1.771240  0.356027  3.483881 -0.590848 -2.429225   \n",
       "\n",
       "            7_x       8_x       9_x  ...      90_y      91_y      92_y  \\\n",
       "2272   2.533570 -1.950409  3.880151  ...  2.025337 -0.535605 -1.385405   \n",
       "18664  0.967549 -0.752923  1.564130  ...  2.025337 -0.535605 -1.385405   \n",
       "2486   2.533570 -1.950409  3.880151  ...  0.036377 -0.015997 -0.035529   \n",
       "9275   2.533570 -1.950409  3.880151  ...  1.042502 -0.275264 -0.699596   \n",
       "11186  2.533570 -1.950409  3.880151  ...  4.721431 -1.248810 -3.138873   \n",
       "\n",
       "           93_y      94_y      95_y      96_y      97_y      98_y      99_y  \n",
       "2272   0.637838 -0.338939  0.108875 -0.748792 -0.611265 -1.193499  0.673004  \n",
       "18664  0.637838 -0.338939  0.108875 -0.748792 -0.611265 -1.193499  0.673004  \n",
       "2486   0.007756 -0.003772  0.004609 -0.021812 -0.006417 -0.034017  0.011343  \n",
       "9275   0.331668 -0.177756  0.048686 -0.375654 -0.306628 -0.620744  0.347940  \n",
       "11186  1.458313 -0.764569  0.319603 -1.742567 -1.457467 -2.820880  1.586536  \n",
       "\n",
       "[5 rows x 200 columns]"
      ]
     },
     "execution_count": 86,
     "metadata": {},
     "output_type": "execute_result"
    }
   ],
   "source": [
    "s2v_pairs.head()"
   ]
  },
  {
   "cell_type": "code",
   "execution_count": 87,
   "id": "accessory-trunk",
   "metadata": {
    "ExecuteTime": {
     "end_time": "2021-05-29T09:17:18.770902Z",
     "start_time": "2021-05-29T08:55:39.252628Z"
    },
    "scrolled": true
   },
   "outputs": [
    {
     "name": "stdout",
     "output_type": "stream",
     "text": [
      "Fitting 5 folds for each of 6 candidates, totalling 30 fits\n",
      "[CV 1/5] END ................criterion=gini, n_estimators=50; total time=  17.0s\n",
      "[CV 2/5] END ................criterion=gini, n_estimators=50; total time=  14.7s\n",
      "[CV 3/5] END ................criterion=gini, n_estimators=50; total time=  15.7s\n",
      "[CV 4/5] END ................criterion=gini, n_estimators=50; total time=  16.6s\n",
      "[CV 5/5] END ................criterion=gini, n_estimators=50; total time=  13.9s\n",
      "[CV 1/5] END ...............criterion=gini, n_estimators=100; total time=  33.5s\n",
      "[CV 2/5] END ...............criterion=gini, n_estimators=100; total time=  31.8s\n",
      "[CV 3/5] END ...............criterion=gini, n_estimators=100; total time=  31.3s\n",
      "[CV 4/5] END ...............criterion=gini, n_estimators=100; total time=  30.1s\n",
      "[CV 5/5] END ...............criterion=gini, n_estimators=100; total time=  28.1s\n",
      "[CV 1/5] END ...............criterion=gini, n_estimators=150; total time=  48.2s\n",
      "[CV 2/5] END ...............criterion=gini, n_estimators=150; total time=  44.9s\n",
      "[CV 3/5] END ...............criterion=gini, n_estimators=150; total time=  49.2s\n",
      "[CV 4/5] END ...............criterion=gini, n_estimators=150; total time=  45.6s\n",
      "[CV 5/5] END ...............criterion=gini, n_estimators=150; total time=  42.4s\n",
      "[CV 1/5] END .............criterion=entropy, n_estimators=50; total time=  29.9s\n",
      "[CV 2/5] END .............criterion=entropy, n_estimators=50; total time=  25.4s\n",
      "[CV 3/5] END .............criterion=entropy, n_estimators=50; total time=  25.7s\n",
      "[CV 4/5] END .............criterion=entropy, n_estimators=50; total time=  26.3s\n",
      "[CV 5/5] END .............criterion=entropy, n_estimators=50; total time=  24.4s\n",
      "[CV 1/5] END ............criterion=entropy, n_estimators=100; total time=  54.3s\n",
      "[CV 2/5] END ............criterion=entropy, n_estimators=100; total time=  50.1s\n",
      "[CV 3/5] END ............criterion=entropy, n_estimators=100; total time=  52.3s\n",
      "[CV 4/5] END ............criterion=entropy, n_estimators=100; total time=  50.1s\n",
      "[CV 5/5] END ............criterion=entropy, n_estimators=100; total time=  48.5s\n",
      "[CV 1/5] END ............criterion=entropy, n_estimators=150; total time= 1.4min\n",
      "[CV 2/5] END ............criterion=entropy, n_estimators=150; total time= 1.3min\n",
      "[CV 3/5] END ............criterion=entropy, n_estimators=150; total time= 1.3min\n",
      "[CV 4/5] END ............criterion=entropy, n_estimators=150; total time= 1.3min\n",
      "[CV 5/5] END ............criterion=entropy, n_estimators=150; total time= 1.2min\n",
      "Best parameters are: {'criterion': 'gini', 'n_estimators': 150}\n"
     ]
    }
   ],
   "source": [
    "X_train, X_test, y_train, y_test = \\\n",
    "                train_test_split(s2v_pairs, labels, train_size=0.8, random_state=SEED)\n",
    "(acc, f1_s2v, auc), std_s2v = predict_RF(X_train, X_test, y_train, y_test)"
   ]
  },
  {
   "cell_type": "code",
   "execution_count": 88,
   "id": "liquid-regulation",
   "metadata": {
    "ExecuteTime": {
     "end_time": "2021-05-29T09:17:18.780067Z",
     "start_time": "2021-05-29T09:17:18.773675Z"
    }
   },
   "outputs": [
    {
     "name": "stdout",
     "output_type": "stream",
     "text": [
      "Song2Vec: 0.49375 0.4736158045230049 0.49827807279254943\n"
     ]
    }
   ],
   "source": [
    "print(\"Song2Vec:\", acc, f1_s2v, auc)"
   ]
  },
  {
   "cell_type": "code",
   "execution_count": 89,
   "id": "thermal-programmer",
   "metadata": {
    "ExecuteTime": {
     "end_time": "2021-05-29T09:17:19.073701Z",
     "start_time": "2021-05-29T09:17:18.783138Z"
    },
    "scrolled": true
   },
   "outputs": [
    {
     "data": {
      "image/png": "[encoded data removed]",
      "text/plain": [
       "<Figure size 720x360 with 1 Axes>"
      ]
     },
     "metadata": {
      "needs_background": "light"
     },
     "output_type": "display_data"
    }
   ],
   "source": [
    "plot_metrics(f1_s2v, std_s2v, f1_tfidf, std_tfidf, \"Same context classification performances\")"
   ]
  },
  {
   "cell_type": "markdown",
   "id": "sapphire-trademark",
   "metadata": {},
   "source": [
    "## Same artist classification"
   ]
  },
  {
   "cell_type": "code",
   "execution_count": 90,
   "id": "analyzed-parcel",
   "metadata": {
    "ExecuteTime": {
     "end_time": "2021-05-29T09:17:30.515295Z",
     "start_time": "2021-05-29T09:17:19.077095Z"
    }
   },
   "outputs": [],
   "source": [
    "discography = songs[[\"artist_name\", \"track_name\", \"song_id\"]].drop_duplicates()"
   ]
  },
  {
   "cell_type": "code",
   "execution_count": 91,
   "id": "vocal-adolescent",
   "metadata": {
    "ExecuteTime": {
     "end_time": "2021-05-29T09:17:30.547069Z",
     "start_time": "2021-05-29T09:17:30.522417Z"
    }
   },
   "outputs": [],
   "source": [
    "def pick_songs_from_same_artist(discography, half_n):\n",
    "    \"\"\"Simply chooses random songs pair them with the previous or following one\"\"\"\n",
    "    artist_with_multiple_songs = discography.groupby(\"artist_name\")\\\n",
    "                                .agg(count=(\"track_name\", \"count\")).reset_index()\n",
    "    discography = discography.merge(artist_with_multiple_songs)\n",
    "    \n",
    "    song_pairs = discography.groupby(\"artist_name\").agg(song1=(\"song_id\", \"first\"), \n",
    "                                                        song2=(\"song_id\", \"last\"))\n",
    "    X = song_pairs.sample(half_n, random_state=SEED).values\n",
    "    y = np.ones(half_n)\n",
    "    return X, y\n",
    "    \n",
    "def pick_songs_from_diff_artist(discography, half_n):\n",
    "    discography = discography.drop_duplicates(\"artist_name\")\n",
    "    random_songs = discography.sample(2*half_n, random_state=SEED).song_id.values\n",
    "    songs1 = random_songs[:half_n]\n",
    "    songs2 = random_songs[half_n:]\n",
    "    X = np.c_[songs1, songs2]\n",
    "    y = np.zeros(half_n)\n",
    "    return X, y\n",
    "\n",
    "def create_artist_dataset(discography, n=20000):\n",
    "    \"\"\"Create a dataset of song pairs that either appeared in the same context or not\"\"\" \n",
    "    discography = discography.merge(s2v_df, left_on=\"song_id\", right_index=True)\n",
    "    discography = discography.merge(tfidf_df, left_on=\"song_id\", right_index=True)\n",
    "    X_pos, y_pos = pick_songs_from_same_artist(discography, n//2)\n",
    "    X_neg, y_neg = pick_songs_from_diff_artist(discography, n//2)\n",
    "    old_X = np.r_[X_pos, X_neg]\n",
    "    old_y = np.r_[y_pos, y_neg]\n",
    "    dataset = list(zip(old_X, old_y))\n",
    "    np.random.seed(SEED)\n",
    "    np.random.shuffle(dataset)\n",
    "    X, y = zip(*dataset)\n",
    "    return pd.DataFrame(X, columns=[\"song1\", \"song2\"]), np.array(y)"
   ]
  },
  {
   "cell_type": "code",
   "execution_count": 92,
   "id": "homeless-content",
   "metadata": {
    "ExecuteTime": {
     "end_time": "2021-05-29T09:20:25.748981Z",
     "start_time": "2021-05-29T09:17:30.550366Z"
    }
   },
   "outputs": [],
   "source": [
    "song_pairs, labels = create_artist_dataset(discography, 20000)"
   ]
  },
  {
   "cell_type": "code",
   "execution_count": 93,
   "id": "surface-collar",
   "metadata": {
    "ExecuteTime": {
     "end_time": "2021-05-29T09:20:26.315748Z",
     "start_time": "2021-05-29T09:20:25.751396Z"
    }
   },
   "outputs": [],
   "source": [
    "#Only keep song with s2v embeddings\n",
    "song_pairs = song_pairs.copy()\n",
    "song_pairs['labels'] = labels\n",
    "song_pairs = song_pairs[song_pairs.song1.isin(s2v_df.index) & song_pairs.song2.isin(s2v_df.index)]\n",
    "song_pairs = song_pairs[song_pairs.song1.isin(tfidf_df.index) & song_pairs.song2.isin(tfidf_df.index)]\n",
    "labels = song_pairs.labels\n",
    "# song_pairs.drop('labels', axis=1, inplace=True)"
   ]
  },
  {
   "cell_type": "code",
   "execution_count": 94,
   "id": "broad-western",
   "metadata": {
    "ExecuteTime": {
     "end_time": "2021-05-29T09:20:26.339094Z",
     "start_time": "2021-05-29T09:20:26.319239Z"
    }
   },
   "outputs": [],
   "source": [
    "song_pairs_neg = song_pairs.query(\"labels == 0\").iloc[:3547]\n",
    "song_pairs_pos = song_pairs.query(\"labels == 1\")"
   ]
  },
  {
   "cell_type": "code",
   "execution_count": 95,
   "id": "israeli-transfer",
   "metadata": {
    "ExecuteTime": {
     "end_time": "2021-05-29T09:20:26.356459Z",
     "start_time": "2021-05-29T09:20:26.343384Z"
    }
   },
   "outputs": [],
   "source": [
    "song_pairs = pd.concat([song_pairs_neg, song_pairs_pos])\n",
    "labels = song_pairs.labels\n",
    "song_pairs.drop('labels', axis=1, inplace=True)"
   ]
  },
  {
   "cell_type": "markdown",
   "id": "pursuant-trinidad",
   "metadata": {},
   "source": [
    "### TF-IDF"
   ]
  },
  {
   "cell_type": "code",
   "execution_count": 96,
   "id": "scientific-lewis",
   "metadata": {
    "ExecuteTime": {
     "end_time": "2021-05-29T09:20:47.402417Z",
     "start_time": "2021-05-29T09:20:26.361118Z"
    }
   },
   "outputs": [
    {
     "name": "stdout",
     "output_type": "stream",
     "text": [
      "13547\n",
      "13547\n"
     ]
    }
   ],
   "source": [
    "tfidf_pairs = create_vectors_pairs(tfidf_df, song_pairs)"
   ]
  },
  {
   "cell_type": "code",
   "execution_count": 97,
   "id": "aggregate-passing",
   "metadata": {
    "ExecuteTime": {
     "end_time": "2021-05-29T09:27:44.033425Z",
     "start_time": "2021-05-29T09:20:47.429830Z"
    },
    "scrolled": true
   },
   "outputs": [
    {
     "name": "stdout",
     "output_type": "stream",
     "text": [
      "Fitting 5 folds for each of 6 candidates, totalling 30 fits\n",
      "[CV 1/5] END ................criterion=gini, n_estimators=50; total time=   8.6s\n",
      "[CV 2/5] END ................criterion=gini, n_estimators=50; total time=   8.8s\n",
      "[CV 3/5] END ................criterion=gini, n_estimators=50; total time=   7.9s\n",
      "[CV 4/5] END ................criterion=gini, n_estimators=50; total time=   8.2s\n",
      "[CV 5/5] END ................criterion=gini, n_estimators=50; total time=   7.2s\n",
      "[CV 1/5] END ...............criterion=gini, n_estimators=100; total time=  13.6s\n",
      "[CV 2/5] END ...............criterion=gini, n_estimators=100; total time=  13.3s\n",
      "[CV 3/5] END ...............criterion=gini, n_estimators=100; total time=  13.2s\n",
      "[CV 4/5] END ...............criterion=gini, n_estimators=100; total time=  13.2s\n",
      "[CV 5/5] END ...............criterion=gini, n_estimators=100; total time=  13.7s\n",
      "[CV 1/5] END ...............criterion=gini, n_estimators=150; total time=  20.0s\n",
      "[CV 2/5] END ...............criterion=gini, n_estimators=150; total time=  20.0s\n",
      "[CV 3/5] END ...............criterion=gini, n_estimators=150; total time=  19.3s\n",
      "[CV 4/5] END ...............criterion=gini, n_estimators=150; total time=  19.8s\n",
      "[CV 5/5] END ...............criterion=gini, n_estimators=150; total time=  19.6s\n",
      "[CV 1/5] END .............criterion=entropy, n_estimators=50; total time=   6.5s\n",
      "[CV 2/5] END .............criterion=entropy, n_estimators=50; total time=   6.4s\n",
      "[CV 3/5] END .............criterion=entropy, n_estimators=50; total time=   6.3s\n",
      "[CV 4/5] END .............criterion=entropy, n_estimators=50; total time=   6.4s\n",
      "[CV 5/5] END .............criterion=entropy, n_estimators=50; total time=   6.5s\n",
      "[CV 1/5] END ............criterion=entropy, n_estimators=100; total time=  12.7s\n",
      "[CV 2/5] END ............criterion=entropy, n_estimators=100; total time=  12.7s\n",
      "[CV 3/5] END ............criterion=entropy, n_estimators=100; total time=  12.5s\n",
      "[CV 4/5] END ............criterion=entropy, n_estimators=100; total time=  12.3s\n",
      "[CV 5/5] END ............criterion=entropy, n_estimators=100; total time=  12.6s\n",
      "[CV 1/5] END ............criterion=entropy, n_estimators=150; total time=  19.9s\n",
      "[CV 2/5] END ............criterion=entropy, n_estimators=150; total time=  20.6s\n",
      "[CV 3/5] END ............criterion=entropy, n_estimators=150; total time=  18.8s\n",
      "[CV 4/5] END ............criterion=entropy, n_estimators=150; total time=  18.6s\n",
      "[CV 5/5] END ............criterion=entropy, n_estimators=150; total time=  19.3s\n",
      "Best parameters are: {'criterion': 'entropy', 'n_estimators': 100}\n"
     ]
    }
   ],
   "source": [
    "X_train, X_test, y_train, y_test = \\\n",
    "                train_test_split(tfidf_pairs, labels, train_size=0.8, random_state=SEED)\n",
    "(acc, f1_tfdf, auc), std_tfidf = predict_RF(X_train, X_test, y_train, y_test)"
   ]
  },
  {
   "cell_type": "code",
   "execution_count": 98,
   "id": "psychological-corporation",
   "metadata": {
    "ExecuteTime": {
     "end_time": "2021-05-29T09:27:44.048635Z",
     "start_time": "2021-05-29T09:27:44.038397Z"
    }
   },
   "outputs": [
    {
     "name": "stdout",
     "output_type": "stream",
     "text": [
      "TF-IDF: 0.992619926199262 0.4950943396226415 0.9969587937082043\n"
     ]
    }
   ],
   "source": [
    "print(\"TF-IDF:\", acc, f1_tfidf, auc)"
   ]
  },
  {
   "cell_type": "markdown",
   "id": "modern-netscape",
   "metadata": {},
   "source": [
    "### Song2vec"
   ]
  },
  {
   "cell_type": "code",
   "execution_count": 99,
   "id": "radical-veteran",
   "metadata": {
    "ExecuteTime": {
     "end_time": "2021-05-29T09:27:51.831585Z",
     "start_time": "2021-05-29T09:27:44.052208Z"
    }
   },
   "outputs": [
    {
     "name": "stdout",
     "output_type": "stream",
     "text": [
      "13547\n",
      "13547\n"
     ]
    }
   ],
   "source": [
    "s2v_pairs = create_vectors_pairs(s2v_df, song_pairs)"
   ]
  },
  {
   "cell_type": "code",
   "execution_count": 100,
   "id": "military-processor",
   "metadata": {
    "ExecuteTime": {
     "end_time": "2021-05-29T09:35:20.874446Z",
     "start_time": "2021-05-29T09:27:51.835837Z"
    },
    "scrolled": true
   },
   "outputs": [
    {
     "name": "stdout",
     "output_type": "stream",
     "text": [
      "Fitting 5 folds for each of 6 candidates, totalling 30 fits\n",
      "[CV 1/5] END ................criterion=gini, n_estimators=50; total time=   7.4s\n",
      "[CV 2/5] END ................criterion=gini, n_estimators=50; total time=   7.2s\n",
      "[CV 3/5] END ................criterion=gini, n_estimators=50; total time=   7.2s\n",
      "[CV 4/5] END ................criterion=gini, n_estimators=50; total time=   7.0s\n",
      "[CV 5/5] END ................criterion=gini, n_estimators=50; total time=   7.2s\n",
      "[CV 1/5] END ...............criterion=gini, n_estimators=100; total time=  14.0s\n",
      "[CV 2/5] END ...............criterion=gini, n_estimators=100; total time=  14.1s\n",
      "[CV 3/5] END ...............criterion=gini, n_estimators=100; total time=  14.3s\n",
      "[CV 4/5] END ...............criterion=gini, n_estimators=100; total time=  13.9s\n",
      "[CV 5/5] END ...............criterion=gini, n_estimators=100; total time=  14.4s\n",
      "[CV 1/5] END ...............criterion=gini, n_estimators=150; total time=  21.3s\n",
      "[CV 2/5] END ...............criterion=gini, n_estimators=150; total time=  21.2s\n",
      "[CV 3/5] END ...............criterion=gini, n_estimators=150; total time=  21.2s\n",
      "[CV 4/5] END ...............criterion=gini, n_estimators=150; total time=  21.2s\n",
      "[CV 5/5] END ...............criterion=gini, n_estimators=150; total time=  21.5s\n",
      "[CV 1/5] END .............criterion=entropy, n_estimators=50; total time=   6.9s\n",
      "[CV 2/5] END .............criterion=entropy, n_estimators=50; total time=   7.4s\n",
      "[CV 3/5] END .............criterion=entropy, n_estimators=50; total time=   7.3s\n",
      "[CV 4/5] END .............criterion=entropy, n_estimators=50; total time=   7.4s\n",
      "[CV 5/5] END .............criterion=entropy, n_estimators=50; total time=   7.3s\n",
      "[CV 1/5] END ............criterion=entropy, n_estimators=100; total time=  16.8s\n",
      "[CV 2/5] END ............criterion=entropy, n_estimators=100; total time=  21.4s\n",
      "[CV 3/5] END ............criterion=entropy, n_estimators=100; total time=  16.5s\n",
      "[CV 4/5] END ............criterion=entropy, n_estimators=100; total time=  13.5s\n",
      "[CV 5/5] END ............criterion=entropy, n_estimators=100; total time=  13.4s\n",
      "[CV 1/5] END ............criterion=entropy, n_estimators=150; total time=  19.8s\n",
      "[CV 2/5] END ............criterion=entropy, n_estimators=150; total time=  19.7s\n",
      "[CV 3/5] END ............criterion=entropy, n_estimators=150; total time=  20.6s\n",
      "[CV 4/5] END ............criterion=entropy, n_estimators=150; total time=  19.8s\n",
      "[CV 5/5] END ............criterion=entropy, n_estimators=150; total time=  19.7s\n",
      "Best parameters are: {'criterion': 'gini', 'n_estimators': 100}\n"
     ]
    }
   ],
   "source": [
    "X_train, X_test, y_train, y_test = \\\n",
    "                train_test_split(s2v_pairs, labels, train_size=0.8, random_state=SEED)\n",
    "(acc, f1_s2v, auc), std_s2v = predict_RF(X_train, X_test, y_train, y_test)"
   ]
  },
  {
   "cell_type": "code",
   "execution_count": 101,
   "id": "frozen-marsh",
   "metadata": {
    "ExecuteTime": {
     "end_time": "2021-05-29T09:35:20.884448Z",
     "start_time": "2021-05-29T09:35:20.878148Z"
    },
    "scrolled": true
   },
   "outputs": [
    {
     "name": "stdout",
     "output_type": "stream",
     "text": [
      "Song2Vec: 0.8472324723247232 0.9033162073797292 0.7954992374361427\n"
     ]
    }
   ],
   "source": [
    "print(\"Song2Vec:\", acc, f1_s2v, auc)"
   ]
  },
  {
   "cell_type": "code",
   "execution_count": 102,
   "id": "latter-criminal",
   "metadata": {
    "ExecuteTime": {
     "end_time": "2021-05-29T09:35:20.916961Z",
     "start_time": "2021-05-29T09:35:20.887605Z"
    }
   },
   "outputs": [
    {
     "name": "stdout",
     "output_type": "stream",
     "text": [
      "Random: (0.5180811808118081, 0.6075721153846154, 0.5)\n",
      "Majority: (0.733210332103321, 0.8460719608260592, 0.5)\n"
     ]
    }
   ],
   "source": [
    "print(\"Random:\", predict_random(X_train, y_train, X_test, y_test))\n",
    "print(\"Majority:\",predict_majority(X_train, y_train, X_test, y_test))"
   ]
  },
  {
   "cell_type": "code",
   "execution_count": 103,
   "id": "saving-racing",
   "metadata": {
    "ExecuteTime": {
     "end_time": "2021-05-29T09:35:21.238117Z",
     "start_time": "2021-05-29T09:35:20.955845Z"
    }
   },
   "outputs": [
    {
     "data": {
      "image/png": "[encoded data removed]",
      "text/plain": [
       "<Figure size 720x360 with 1 Axes>"
      ]
     },
     "metadata": {
      "needs_background": "light"
     },
     "output_type": "display_data"
    }
   ],
   "source": [
    "plot_metrics(f1_s2v, std_s2v, f1_tfidf, std_tfidf, \"Same artist classification performances\")"
   ]
  },
  {
   "cell_type": "markdown",
   "id": "steady-alfred",
   "metadata": {},
   "source": [
    "## Top artists classification"
   ]
  },
  {
   "cell_type": "code",
   "execution_count": 106,
   "id": "wrong-leadership",
   "metadata": {
    "ExecuteTime": {
     "end_time": "2021-05-29T09:35:21.273959Z",
     "start_time": "2021-05-29T09:35:21.261188Z"
    }
   },
   "outputs": [],
   "source": [
    "def create_top_artist_dataset(df, top_n=10):\n",
    "    top_artist = df[df.song_id.isin(emb_vectors.keys())].artist_name.value_counts()\\\n",
    "        .to_frame().head(top_n).reset_index()['index']\n",
    "    top_artist_codes = list(top_artist.cat.codes)\n",
    "    top_artist = list(top_artist)\n",
    "    top_df = songs[songs.artist_name.cat.codes.isin(top_artist_codes)].drop_duplicates('song_id').copy()\n",
    "    mapping = {artist: top_artist.index(artist) for artist in top_artist}\n",
    "    top_df['label'] = top_df.artist_name.map(mapping)\n",
    "    top_df = top_df[['song_id', 'label']]\n",
    "    top_df = top_df[top_df.song_id.isin(s2v_df.index) & top_df.song_id.isin(tfidf_df.index)]\n",
    "    return top_df"
   ]
  },
  {
   "cell_type": "code",
   "execution_count": 110,
   "id": "responsible-cooperation",
   "metadata": {
    "ExecuteTime": {
     "end_time": "2021-05-29T11:38:13.856760Z",
     "start_time": "2021-05-29T11:38:09.651628Z"
    },
    "scrolled": true
   },
   "outputs": [
    {
     "data": {
      "text/plain": [
       "19237"
      ]
     },
     "execution_count": 110,
     "metadata": {},
     "output_type": "execute_result"
    }
   ],
   "source": [
    "top_artist_songs = create_top_artist_dataset(songs, top_n=30)\n",
    "len(top_artist_songs)"
   ]
  },
  {
   "cell_type": "code",
   "execution_count": 111,
   "id": "fiscal-detection",
   "metadata": {
    "ExecuteTime": {
     "end_time": "2021-05-29T11:38:13.956720Z",
     "start_time": "2021-05-29T11:38:13.882407Z"
    }
   },
   "outputs": [],
   "source": [
    "param_grid = {'n_estimators': [50, 100, 150], #2,900, 1000, \n",
    "            'criterion': ['gini', 'entropy'], #, \n",
    "            'class_weight':['balanced']}\n",
    "scorer = make_scorer(f1_score, average='weighted')"
   ]
  },
  {
   "cell_type": "markdown",
   "id": "parallel-bernard",
   "metadata": {},
   "source": [
    "### TF-IDF"
   ]
  },
  {
   "cell_type": "code",
   "execution_count": 112,
   "id": "hawaiian-digit",
   "metadata": {
    "ExecuteTime": {
     "end_time": "2021-05-29T11:38:17.143376Z",
     "start_time": "2021-05-29T11:38:14.011136Z"
    }
   },
   "outputs": [],
   "source": [
    "tfidf_top_artist = tfidf_df.merge(top_artist_songs, left_index=True, right_on='song_id')\n",
    "assert len(top_artist_songs) == len(tfidf_top_artist)\n",
    "X_tfidf = tfidf_top_artist.drop(['song_id', 'label'], axis=1)\n",
    "y_tfidf = tfidf_top_artist.label.values.astype(int)"
   ]
  },
  {
   "cell_type": "code",
   "execution_count": 113,
   "id": "radical-convert",
   "metadata": {
    "ExecuteTime": {
     "end_time": "2021-05-29T11:48:58.290636Z",
     "start_time": "2021-05-29T11:38:17.146470Z"
    },
    "scrolled": true
   },
   "outputs": [
    {
     "name": "stdout",
     "output_type": "stream",
     "text": [
      "Fitting 5 folds for each of 6 candidates, totalling 30 fits\n",
      "[CV 1/5] END class_weight=balanced, criterion=gini, n_estimators=50; total time=  10.6s\n",
      "[CV 2/5] END class_weight=balanced, criterion=gini, n_estimators=50; total time=  10.6s\n",
      "[CV 3/5] END class_weight=balanced, criterion=gini, n_estimators=50; total time=  13.4s\n",
      "[CV 4/5] END class_weight=balanced, criterion=gini, n_estimators=50; total time=  12.7s\n",
      "[CV 5/5] END class_weight=balanced, criterion=gini, n_estimators=50; total time=  11.4s\n",
      "[CV 1/5] END class_weight=balanced, criterion=gini, n_estimators=100; total time=  18.5s\n",
      "[CV 2/5] END class_weight=balanced, criterion=gini, n_estimators=100; total time=  17.9s\n",
      "[CV 3/5] END class_weight=balanced, criterion=gini, n_estimators=100; total time=  20.7s\n",
      "[CV 4/5] END class_weight=balanced, criterion=gini, n_estimators=100; total time=  20.4s\n",
      "[CV 5/5] END class_weight=balanced, criterion=gini, n_estimators=100; total time=  34.3s\n",
      "[CV 1/5] END class_weight=balanced, criterion=gini, n_estimators=150; total time=  30.9s\n",
      "[CV 2/5] END class_weight=balanced, criterion=gini, n_estimators=150; total time=  28.5s\n",
      "[CV 3/5] END class_weight=balanced, criterion=gini, n_estimators=150; total time=  28.1s\n",
      "[CV 4/5] END class_weight=balanced, criterion=gini, n_estimators=150; total time=  28.0s\n",
      "[CV 5/5] END class_weight=balanced, criterion=gini, n_estimators=150; total time=  28.5s\n",
      "[CV 1/5] END class_weight=balanced, criterion=entropy, n_estimators=50; total time=   9.2s\n",
      "[CV 2/5] END class_weight=balanced, criterion=entropy, n_estimators=50; total time=   9.2s\n",
      "[CV 3/5] END class_weight=balanced, criterion=entropy, n_estimators=50; total time=   9.0s\n",
      "[CV 4/5] END class_weight=balanced, criterion=entropy, n_estimators=50; total time=   9.1s\n",
      "[CV 5/5] END class_weight=balanced, criterion=entropy, n_estimators=50; total time=   9.0s\n",
      "[CV 1/5] END class_weight=balanced, criterion=entropy, n_estimators=100; total time=  18.1s\n",
      "[CV 2/5] END class_weight=balanced, criterion=entropy, n_estimators=100; total time=  18.3s\n",
      "[CV 3/5] END class_weight=balanced, criterion=entropy, n_estimators=100; total time=  19.7s\n",
      "[CV 4/5] END class_weight=balanced, criterion=entropy, n_estimators=100; total time=  18.1s\n",
      "[CV 5/5] END class_weight=balanced, criterion=entropy, n_estimators=100; total time=  21.3s\n",
      "[CV 1/5] END class_weight=balanced, criterion=entropy, n_estimators=150; total time=  34.6s\n",
      "[CV 2/5] END class_weight=balanced, criterion=entropy, n_estimators=150; total time=  29.7s\n",
      "[CV 3/5] END class_weight=balanced, criterion=entropy, n_estimators=150; total time=  27.8s\n",
      "[CV 4/5] END class_weight=balanced, criterion=entropy, n_estimators=150; total time=  28.4s\n",
      "[CV 5/5] END class_weight=balanced, criterion=entropy, n_estimators=150; total time=  26.8s\n",
      "Best parameters are: {'class_weight': 'balanced', 'criterion': 'gini', 'n_estimators': 150}\n"
     ]
    }
   ],
   "source": [
    "X_train, X_test, y_train, y_test = \\\n",
    "                train_test_split(X_tfidf, y_tfidf, train_size=0.8, random_state=SEED)\n",
    "\n",
    "(acc, f1_tfidf, cm), std_tfidf = predict_RF(X_train, X_test, y_train, y_test, param_grid=param_grid, scoring=scorer, multi=True)"
   ]
  },
  {
   "cell_type": "code",
   "execution_count": 114,
   "id": "preliminary-closer",
   "metadata": {
    "ExecuteTime": {
     "end_time": "2021-05-29T11:48:58.341037Z",
     "start_time": "2021-05-29T11:48:58.302343Z"
    }
   },
   "outputs": [
    {
     "name": "stdout",
     "output_type": "stream",
     "text": [
      "TF-IDF: 0.6977650727650727 0.6996320689779056\n"
     ]
    }
   ],
   "source": [
    "print(\"TF-IDF:\", acc, f1_tfidf)"
   ]
  },
  {
   "cell_type": "code",
   "execution_count": 115,
   "id": "biological-folks",
   "metadata": {
    "ExecuteTime": {
     "end_time": "2021-05-29T11:49:06.478641Z",
     "start_time": "2021-05-29T11:48:58.354811Z"
    }
   },
   "outputs": [
    {
     "data": {
      "image/png": "[encoded data removed]",
      "text/plain": [
       "<Figure size 1080x720 with 2 Axes>"
      ]
     },
     "metadata": {
      "needs_background": "light"
     },
     "output_type": "display_data"
    }
   ],
   "source": [
    "plt.figure(figsize=(15,10))\n",
    "sns.heatmap(data=cm, cmap='magma_r', annot=True);"
   ]
  },
  {
   "cell_type": "markdown",
   "id": "aware-association",
   "metadata": {},
   "source": [
    "### Song2Vec"
   ]
  },
  {
   "cell_type": "code",
   "execution_count": 116,
   "id": "imported-tuesday",
   "metadata": {
    "ExecuteTime": {
     "end_time": "2021-05-29T11:49:16.594631Z",
     "start_time": "2021-05-29T11:49:06.495897Z"
    }
   },
   "outputs": [],
   "source": [
    "s2v_top_artist = s2v_df.merge(top_artist_songs, left_index=True, right_on='song_id')\n",
    "assert len(top_artist_songs) == len(s2v_top_artist)\n",
    "X_s2v = s2v_top_artist.drop(['song_id', 'label'], axis=1)\n",
    "y_s2v = s2v_top_artist.label.values.astype(int)"
   ]
  },
  {
   "cell_type": "code",
   "execution_count": 117,
   "id": "sapphire-planner",
   "metadata": {
    "ExecuteTime": {
     "end_time": "2021-05-29T12:15:23.738279Z",
     "start_time": "2021-05-29T11:49:16.667282Z"
    },
    "scrolled": true
   },
   "outputs": [
    {
     "name": "stdout",
     "output_type": "stream",
     "text": [
      "Fitting 5 folds for each of 6 candidates, totalling 30 fits\n",
      "[CV 1/5] END class_weight=balanced, criterion=gini, n_estimators=50; total time=  17.5s\n",
      "[CV 2/5] END class_weight=balanced, criterion=gini, n_estimators=50; total time=  15.3s\n",
      "[CV 3/5] END class_weight=balanced, criterion=gini, n_estimators=50; total time=  15.8s\n",
      "[CV 4/5] END class_weight=balanced, criterion=gini, n_estimators=50; total time=  15.4s\n",
      "[CV 5/5] END class_weight=balanced, criterion=gini, n_estimators=50; total time=  15.5s\n",
      "[CV 1/5] END class_weight=balanced, criterion=gini, n_estimators=100; total time=  31.6s\n",
      "[CV 2/5] END class_weight=balanced, criterion=gini, n_estimators=100; total time=  33.4s\n",
      "[CV 3/5] END class_weight=balanced, criterion=gini, n_estimators=100; total time=  31.2s\n",
      "[CV 4/5] END class_weight=balanced, criterion=gini, n_estimators=100; total time=  31.0s\n",
      "[CV 5/5] END class_weight=balanced, criterion=gini, n_estimators=100; total time=  30.2s\n",
      "[CV 1/5] END class_weight=balanced, criterion=gini, n_estimators=150; total time=  46.9s\n",
      "[CV 2/5] END class_weight=balanced, criterion=gini, n_estimators=150; total time=  46.2s\n",
      "[CV 3/5] END class_weight=balanced, criterion=gini, n_estimators=150; total time=  46.3s\n",
      "[CV 4/5] END class_weight=balanced, criterion=gini, n_estimators=150; total time=  54.2s\n",
      "[CV 5/5] END class_weight=balanced, criterion=gini, n_estimators=150; total time= 1.1min\n",
      "[CV 1/5] END class_weight=balanced, criterion=entropy, n_estimators=50; total time=  45.2s\n",
      "[CV 2/5] END class_weight=balanced, criterion=entropy, n_estimators=50; total time=  33.8s\n",
      "[CV 3/5] END class_weight=balanced, criterion=entropy, n_estimators=50; total time=  33.1s\n",
      "[CV 4/5] END class_weight=balanced, criterion=entropy, n_estimators=50; total time=  34.5s\n",
      "[CV 5/5] END class_weight=balanced, criterion=entropy, n_estimators=50; total time=  32.2s\n",
      "[CV 1/5] END class_weight=balanced, criterion=entropy, n_estimators=100; total time= 1.1min\n",
      "[CV 2/5] END class_weight=balanced, criterion=entropy, n_estimators=100; total time= 1.1min\n",
      "[CV 3/5] END class_weight=balanced, criterion=entropy, n_estimators=100; total time= 1.1min\n",
      "[CV 4/5] END class_weight=balanced, criterion=entropy, n_estimators=100; total time= 1.1min\n",
      "[CV 5/5] END class_weight=balanced, criterion=entropy, n_estimators=100; total time= 1.1min\n",
      "[CV 1/5] END class_weight=balanced, criterion=entropy, n_estimators=150; total time= 1.7min\n",
      "[CV 2/5] END class_weight=balanced, criterion=entropy, n_estimators=150; total time= 1.8min\n",
      "[CV 3/5] END class_weight=balanced, criterion=entropy, n_estimators=150; total time= 1.7min\n",
      "[CV 4/5] END class_weight=balanced, criterion=entropy, n_estimators=150; total time= 1.6min\n",
      "[CV 5/5] END class_weight=balanced, criterion=entropy, n_estimators=150; total time= 1.6min\n",
      "Best parameters are: {'class_weight': 'balanced', 'criterion': 'gini', 'n_estimators': 150}\n"
     ]
    }
   ],
   "source": [
    "X_train, X_test, y_train, y_test = \\\n",
    "                train_test_split(X_s2v, y_s2v, train_size=0.8, random_state=SEED)\n",
    "(acc, f1_s2v, cm), std_s2v = predict_RF(X_train, X_test, y_train, y_test, param_grid=param_grid, scoring=scorer,multi=True)"
   ]
  },
  {
   "cell_type": "code",
   "execution_count": 118,
   "id": "interesting-bottle",
   "metadata": {
    "ExecuteTime": {
     "end_time": "2021-05-29T12:15:23.756013Z",
     "start_time": "2021-05-29T12:15:23.744665Z"
    },
    "scrolled": true
   },
   "outputs": [
    {
     "name": "stdout",
     "output_type": "stream",
     "text": [
      "Song2Vec: 0.18814968814968816 0.16904145311022636\n"
     ]
    }
   ],
   "source": [
    "print(\"Song2Vec:\", acc, f1_s2v)"
   ]
  },
  {
   "cell_type": "code",
   "execution_count": 119,
   "id": "speaking-champagne",
   "metadata": {
    "ExecuteTime": {
     "end_time": "2021-05-29T12:15:31.214886Z",
     "start_time": "2021-05-29T12:15:23.762062Z"
    }
   },
   "outputs": [
    {
     "data": {
      "image/png": "[encoded data removed]",
      "text/plain": [
       "<Figure size 1080x720 with 2 Axes>"
      ]
     },
     "metadata": {
      "needs_background": "light"
     },
     "output_type": "display_data"
    }
   ],
   "source": [
    "plt.figure(figsize=(15,10))\n",
    "sns.heatmap(data=cm, cmap='magma_r', annot=True);"
   ]
  },
  {
   "cell_type": "code",
   "execution_count": 120,
   "id": "assisted-puzzle",
   "metadata": {
    "ExecuteTime": {
     "end_time": "2021-05-29T12:15:31.280407Z",
     "start_time": "2021-05-29T12:15:31.217612Z"
    }
   },
   "outputs": [
    {
     "name": "stdout",
     "output_type": "stream",
     "text": [
      "Random: (0.03144490644490645, 0.03418223129583527)\n",
      "Majority: (0.08212058212058213, 0.012464026873248777)\n"
     ]
    }
   ],
   "source": [
    "print(\"Random:\", predict_random(X_train, y_train, X_test, y_test, multi=True)[:2])\n",
    "print(\"Majority:\",predict_majority(X_train, y_train, X_test, y_test, multi=True)[:2])"
   ]
  },
  {
   "cell_type": "code",
   "execution_count": 121,
   "id": "handed-smoke",
   "metadata": {
    "ExecuteTime": {
     "end_time": "2021-05-29T12:15:31.595225Z",
     "start_time": "2021-05-29T12:15:31.286005Z"
    },
    "scrolled": true
   },
   "outputs": [
    {
     "data": {
      "image/png": "[encoded data removed]",
      "text/plain": [
       "<Figure size 720x360 with 1 Axes>"
      ]
     },
     "metadata": {
      "needs_background": "light"
     },
     "output_type": "display_data"
    }
   ],
   "source": [
    "plot_metrics(f1_s2v, std_s2v, f1_tfidf, std_tfidf, \"Top artists classification performances\", multi=True)"
   ]
  },
  {
   "cell_type": "markdown",
   "id": "large-accident",
   "metadata": {},
   "source": [
    "## Top tag "
   ]
  },
  {
   "cell_type": "code",
   "execution_count": 122,
   "id": "quick-section",
   "metadata": {
    "ExecuteTime": {
     "end_time": "2021-05-29T12:16:34.633973Z",
     "start_time": "2021-05-29T12:15:31.600096Z"
    }
   },
   "outputs": [],
   "source": [
    "top_tags = pd.read_csv(\"data/song_tags_top1.csv\")\n",
    "songs = songs.merge(top_tags, how='left')"
   ]
  },
  {
   "cell_type": "code",
   "execution_count": 123,
   "id": "distinguished-reform",
   "metadata": {
    "ExecuteTime": {
     "end_time": "2021-05-29T12:16:34.682999Z",
     "start_time": "2021-05-29T12:16:34.650713Z"
    }
   },
   "outputs": [
    {
     "data": {
      "text/plain": [
       "19098862"
      ]
     },
     "execution_count": 123,
     "metadata": {},
     "output_type": "execute_result"
    }
   ],
   "source": [
    "len(songs)"
   ]
  },
  {
   "cell_type": "code",
   "execution_count": 124,
   "id": "imported-bahrain",
   "metadata": {
    "ExecuteTime": {
     "end_time": "2021-05-29T12:16:34.768058Z",
     "start_time": "2021-05-29T12:16:34.688130Z"
    }
   },
   "outputs": [],
   "source": [
    "def create_top_tag_dataset(df, s2v_df, emb_vectors, tfidf_df, top_n=10):\n",
    "    top_tags = list(df[df.song_id.isin(emb_vectors.keys())].tag_1.value_counts()\\\n",
    "        .to_frame().head(top_n).index)\n",
    "    top_df = songs[songs.tag_1.isin(top_tags)].drop_duplicates('song_id').copy()\n",
    "    mapping = {tag: top_tags.index(tag) for tag in top_tags}\n",
    "    top_df['label'] = top_df.tag_1.map(mapping)\n",
    "    top_df = top_df[['song_id', 'label']]\n",
    "    top_df = top_df[top_df.song_id.isin(s2v_df.index) & top_df.song_id.isin(tfidf_df.index)]\n",
    "    return top_df"
   ]
  },
  {
   "cell_type": "code",
   "execution_count": 125,
   "id": "reverse-gender",
   "metadata": {
    "ExecuteTime": {
     "end_time": "2021-05-29T12:16:48.027969Z",
     "start_time": "2021-05-29T12:16:34.774373Z"
    }
   },
   "outputs": [
    {
     "data": {
      "text/plain": [
       "10000"
      ]
     },
     "execution_count": 125,
     "metadata": {},
     "output_type": "execute_result"
    }
   ],
   "source": [
    "top_tag_songs = create_top_tag_dataset(songs, s2v_df, emb_vectors, tfidf_df, top_n=10).iloc[:10000]\n",
    "len(top_tag_songs)"
   ]
  },
  {
   "cell_type": "markdown",
   "id": "breathing-width",
   "metadata": {},
   "source": [
    "### TF-IDF"
   ]
  },
  {
   "cell_type": "code",
   "execution_count": 126,
   "id": "lucky-namibia",
   "metadata": {
    "ExecuteTime": {
     "end_time": "2021-05-29T12:16:55.063369Z",
     "start_time": "2021-05-29T12:16:48.034380Z"
    }
   },
   "outputs": [],
   "source": [
    "tfidf_top_tag = tfidf_df.merge(top_tag_songs, left_index=True, right_on='song_id')\n",
    "assert len(top_tag_songs) == len(tfidf_top_tag)\n",
    "X_tfidf = tfidf_top_tag.drop(['song_id', 'label'], axis=1)\n",
    "y_tfidf = tfidf_top_tag.label.values.astype(int)"
   ]
  },
  {
   "cell_type": "code",
   "execution_count": 127,
   "id": "distinguished-texture",
   "metadata": {
    "ExecuteTime": {
     "end_time": "2021-05-29T12:19:57.355420Z",
     "start_time": "2021-05-29T12:16:55.072817Z"
    },
    "scrolled": true
   },
   "outputs": [
    {
     "name": "stdout",
     "output_type": "stream",
     "text": [
      "Fitting 5 folds for each of 6 candidates, totalling 30 fits\n",
      "[CV 1/5] END class_weight=balanced, criterion=gini, n_estimators=50; total time=   2.8s\n",
      "[CV 2/5] END class_weight=balanced, criterion=gini, n_estimators=50; total time=   2.7s\n",
      "[CV 3/5] END class_weight=balanced, criterion=gini, n_estimators=50; total time=   2.6s\n",
      "[CV 4/5] END class_weight=balanced, criterion=gini, n_estimators=50; total time=   2.6s\n",
      "[CV 5/5] END class_weight=balanced, criterion=gini, n_estimators=50; total time=   3.0s\n",
      "[CV 1/5] END class_weight=balanced, criterion=gini, n_estimators=100; total time=   5.3s\n",
      "[CV 2/5] END class_weight=balanced, criterion=gini, n_estimators=100; total time=   5.7s\n",
      "[CV 3/5] END class_weight=balanced, criterion=gini, n_estimators=100; total time=   5.0s\n",
      "[CV 4/5] END class_weight=balanced, criterion=gini, n_estimators=100; total time=   5.2s\n",
      "[CV 5/5] END class_weight=balanced, criterion=gini, n_estimators=100; total time=   4.9s\n",
      "[CV 1/5] END class_weight=balanced, criterion=gini, n_estimators=150; total time=   7.5s\n",
      "[CV 2/5] END class_weight=balanced, criterion=gini, n_estimators=150; total time=   7.3s\n",
      "[CV 3/5] END class_weight=balanced, criterion=gini, n_estimators=150; total time=   7.3s\n",
      "[CV 4/5] END class_weight=balanced, criterion=gini, n_estimators=150; total time=   7.3s\n",
      "[CV 5/5] END class_weight=balanced, criterion=gini, n_estimators=150; total time=   7.4s\n",
      "[CV 1/5] END class_weight=balanced, criterion=entropy, n_estimators=50; total time=   3.6s\n",
      "[CV 2/5] END class_weight=balanced, criterion=entropy, n_estimators=50; total time=   2.9s\n",
      "[CV 3/5] END class_weight=balanced, criterion=entropy, n_estimators=50; total time=   3.0s\n",
      "[CV 4/5] END class_weight=balanced, criterion=entropy, n_estimators=50; total time=   2.8s\n",
      "[CV 5/5] END class_weight=balanced, criterion=entropy, n_estimators=50; total time=   2.8s\n",
      "[CV 1/5] END class_weight=balanced, criterion=entropy, n_estimators=100; total time=   5.6s\n",
      "[CV 2/5] END class_weight=balanced, criterion=entropy, n_estimators=100; total time=   5.7s\n",
      "[CV 3/5] END class_weight=balanced, criterion=entropy, n_estimators=100; total time=   5.6s\n",
      "[CV 4/5] END class_weight=balanced, criterion=entropy, n_estimators=100; total time=   5.8s\n",
      "[CV 5/5] END class_weight=balanced, criterion=entropy, n_estimators=100; total time=   5.6s\n",
      "[CV 1/5] END class_weight=balanced, criterion=entropy, n_estimators=150; total time=   9.0s\n",
      "[CV 2/5] END class_weight=balanced, criterion=entropy, n_estimators=150; total time=   8.9s\n",
      "[CV 3/5] END class_weight=balanced, criterion=entropy, n_estimators=150; total time=   9.4s\n",
      "[CV 4/5] END class_weight=balanced, criterion=entropy, n_estimators=150; total time=  10.8s\n",
      "[CV 5/5] END class_weight=balanced, criterion=entropy, n_estimators=150; total time=   9.3s\n",
      "Best parameters are: {'class_weight': 'balanced', 'criterion': 'gini', 'n_estimators': 150}\n"
     ]
    }
   ],
   "source": [
    "X_train, X_test, y_train, y_test = \\\n",
    "                train_test_split(X_tfidf, y_tfidf, train_size=0.8, random_state=SEED)\n",
    "\n",
    "(acc, f1_tfidf, cm), std_tfidf = predict_RF(X_train, X_test, y_train, y_test, param_grid=param_grid, scoring=scorer, multi=True)"
   ]
  },
  {
   "cell_type": "code",
   "execution_count": 128,
   "id": "desperate-sentence",
   "metadata": {
    "ExecuteTime": {
     "end_time": "2021-05-29T12:19:57.367664Z",
     "start_time": "2021-05-29T12:19:57.360901Z"
    }
   },
   "outputs": [
    {
     "name": "stdout",
     "output_type": "stream",
     "text": [
      "TF-IDF: 0.7385 0.7251014635183162\n"
     ]
    }
   ],
   "source": [
    "print(\"TF-IDF:\", acc, f1_tfidf)"
   ]
  },
  {
   "cell_type": "code",
   "execution_count": 129,
   "id": "whole-denmark",
   "metadata": {
    "ExecuteTime": {
     "end_time": "2021-05-29T12:19:58.674782Z",
     "start_time": "2021-05-29T12:19:57.374098Z"
    }
   },
   "outputs": [
    {
     "data": {
      "image/png": "[encoded data removed]",
      "text/plain": [
       "<Figure size 1080x720 with 2 Axes>"
      ]
     },
     "metadata": {
      "needs_background": "light"
     },
     "output_type": "display_data"
    }
   ],
   "source": [
    "plt.figure(figsize=(15,10))\n",
    "sns.heatmap(data=cm, cmap='magma_r', annot=True);"
   ]
  },
  {
   "cell_type": "markdown",
   "id": "impossible-vancouver",
   "metadata": {},
   "source": [
    "### Song2Vec"
   ]
  },
  {
   "cell_type": "code",
   "execution_count": 130,
   "id": "inclusive-anthony",
   "metadata": {
    "ExecuteTime": {
     "end_time": "2021-05-29T12:20:03.439276Z",
     "start_time": "2021-05-29T12:19:58.699492Z"
    }
   },
   "outputs": [],
   "source": [
    "s2v_top_tag = s2v_df.merge(top_tag_songs, left_index=True, right_on='song_id')\n",
    "assert len(top_tag_songs) == len(s2v_top_tag)\n",
    "X_s2v = s2v_top_tag.drop(['song_id', 'label'], axis=1)\n",
    "y_s2v = s2v_top_tag.label.values.astype(int)"
   ]
  },
  {
   "cell_type": "code",
   "execution_count": 131,
   "id": "quality-edmonton",
   "metadata": {
    "ExecuteTime": {
     "end_time": "2021-05-29T12:26:04.034707Z",
     "start_time": "2021-05-29T12:20:03.443094Z"
    }
   },
   "outputs": [
    {
     "name": "stdout",
     "output_type": "stream",
     "text": [
      "Fitting 5 folds for each of 6 candidates, totalling 30 fits\n",
      "[CV 1/5] END class_weight=balanced, criterion=gini, n_estimators=50; total time=   6.0s\n",
      "[CV 2/5] END class_weight=balanced, criterion=gini, n_estimators=50; total time=   6.0s\n",
      "[CV 3/5] END class_weight=balanced, criterion=gini, n_estimators=50; total time=   4.0s\n",
      "[CV 4/5] END class_weight=balanced, criterion=gini, n_estimators=50; total time=   4.9s\n",
      "[CV 5/5] END class_weight=balanced, criterion=gini, n_estimators=50; total time=   4.3s\n",
      "[CV 1/5] END class_weight=balanced, criterion=gini, n_estimators=100; total time=   9.0s\n",
      "[CV 2/5] END class_weight=balanced, criterion=gini, n_estimators=100; total time=   7.8s\n",
      "[CV 3/5] END class_weight=balanced, criterion=gini, n_estimators=100; total time=   7.5s\n",
      "[CV 4/5] END class_weight=balanced, criterion=gini, n_estimators=100; total time=   7.5s\n",
      "[CV 5/5] END class_weight=balanced, criterion=gini, n_estimators=100; total time=   7.4s\n",
      "[CV 1/5] END class_weight=balanced, criterion=gini, n_estimators=150; total time=  11.3s\n",
      "[CV 2/5] END class_weight=balanced, criterion=gini, n_estimators=150; total time=  11.1s\n",
      "[CV 3/5] END class_weight=balanced, criterion=gini, n_estimators=150; total time=  11.1s\n",
      "[CV 4/5] END class_weight=balanced, criterion=gini, n_estimators=150; total time=  11.7s\n",
      "[CV 5/5] END class_weight=balanced, criterion=gini, n_estimators=150; total time=  12.2s\n",
      "[CV 1/5] END class_weight=balanced, criterion=entropy, n_estimators=50; total time=   7.6s\n",
      "[CV 2/5] END class_weight=balanced, criterion=entropy, n_estimators=50; total time=   7.4s\n",
      "[CV 3/5] END class_weight=balanced, criterion=entropy, n_estimators=50; total time=   7.3s\n",
      "[CV 4/5] END class_weight=balanced, criterion=entropy, n_estimators=50; total time=   7.5s\n",
      "[CV 5/5] END class_weight=balanced, criterion=entropy, n_estimators=50; total time=   7.5s\n",
      "[CV 1/5] END class_weight=balanced, criterion=entropy, n_estimators=100; total time=  15.3s\n",
      "[CV 2/5] END class_weight=balanced, criterion=entropy, n_estimators=100; total time=  14.7s\n",
      "[CV 3/5] END class_weight=balanced, criterion=entropy, n_estimators=100; total time=  14.7s\n",
      "[CV 4/5] END class_weight=balanced, criterion=entropy, n_estimators=100; total time=  15.5s\n",
      "[CV 5/5] END class_weight=balanced, criterion=entropy, n_estimators=100; total time=  15.4s\n",
      "[CV 1/5] END class_weight=balanced, criterion=entropy, n_estimators=150; total time=  22.2s\n",
      "[CV 2/5] END class_weight=balanced, criterion=entropy, n_estimators=150; total time=  22.1s\n",
      "[CV 3/5] END class_weight=balanced, criterion=entropy, n_estimators=150; total time=  22.2s\n",
      "[CV 4/5] END class_weight=balanced, criterion=entropy, n_estimators=150; total time=  22.3s\n",
      "[CV 5/5] END class_weight=balanced, criterion=entropy, n_estimators=150; total time=  22.2s\n",
      "Best parameters are: {'class_weight': 'balanced', 'criterion': 'gini', 'n_estimators': 150}\n"
     ]
    }
   ],
   "source": [
    "X_train, X_test, y_train, y_test = \\\n",
    "                train_test_split(X_s2v, y_s2v, train_size=0.8, random_state=SEED)\n",
    "(acc, f1_s2v, cm), std_s2v = predict_RF(X_train, X_test, y_train, y_test, param_grid=param_grid, scoring=scorer,multi=True)"
   ]
  },
  {
   "cell_type": "code",
   "execution_count": 132,
   "id": "taken-thursday",
   "metadata": {
    "ExecuteTime": {
     "end_time": "2021-05-29T12:26:04.043886Z",
     "start_time": "2021-05-29T12:26:04.037538Z"
    }
   },
   "outputs": [
    {
     "name": "stdout",
     "output_type": "stream",
     "text": [
      "Song2Vec: 0.27 0.22554839747264208\n"
     ]
    }
   ],
   "source": [
    "print(\"Song2Vec:\", acc, f1_s2v)"
   ]
  },
  {
   "cell_type": "code",
   "execution_count": 133,
   "id": "infectious-christianity",
   "metadata": {
    "ExecuteTime": {
     "end_time": "2021-05-29T12:26:05.302062Z",
     "start_time": "2021-05-29T12:26:04.048027Z"
    }
   },
   "outputs": [
    {
     "data": {
      "image/png": "[encoded data removed]",
      "text/plain": [
       "<Figure size 1080x720 with 2 Axes>"
      ]
     },
     "metadata": {
      "needs_background": "light"
     },
     "output_type": "display_data"
    }
   ],
   "source": [
    "plt.figure(figsize=(15,10))\n",
    "sns.heatmap(data=cm, cmap='magma_r', annot=True);"
   ]
  },
  {
   "cell_type": "code",
   "execution_count": 134,
   "id": "wanted-ecology",
   "metadata": {
    "ExecuteTime": {
     "end_time": "2021-05-29T12:26:05.332769Z",
     "start_time": "2021-05-29T12:26:05.306797Z"
    }
   },
   "outputs": [
    {
     "name": "stdout",
     "output_type": "stream",
     "text": [
      "Random: (0.1, 0.10894689655114502)\n",
      "Majority: (0.211, 0.07352766308835673)\n"
     ]
    }
   ],
   "source": [
    "print(\"Random:\", predict_random(X_train, y_train, X_test, y_test, multi=True)[:2])\n",
    "print(\"Majority:\",predict_majority(X_train, y_train, X_test, y_test, multi=True)[:2])"
   ]
  },
  {
   "cell_type": "code",
   "execution_count": 135,
   "id": "invalid-leeds",
   "metadata": {
    "ExecuteTime": {
     "end_time": "2021-05-29T12:26:05.549727Z",
     "start_time": "2021-05-29T12:26:05.338111Z"
    }
   },
   "outputs": [
    {
     "data": {
      "image/png": "[encoded data removed]",
      "text/plain": [
       "<Figure size 720x360 with 1 Axes>"
      ]
     },
     "metadata": {
      "needs_background": "light"
     },
     "output_type": "display_data"
    }
   ],
   "source": [
    "plot_metrics(f1_s2v, std_s2v, f1_tfidf, std_tfidf, \"Top tags classification performances\", multi=True)"
   ]
  },
  {
   "cell_type": "code",
   "execution_count": null,
   "id": "tired-mozambique",
   "metadata": {},
   "outputs": [],
   "source": []
  }
 ],
 "metadata": {
  "kernelspec": {
   "display_name": "mlbd",
   "language": "python",
   "name": "mlbd"
  },
  "language_info": {
   "codemirror_mode": {
    "name": "ipython",
    "version": 3
   },
   "file_extension": ".py",
   "mimetype": "text/x-python",
   "name": "python",
   "nbconvert_exporter": "python",
   "pygments_lexer": "ipython3",
   "version": "3.7.9"
  },
  "toc": {
   "base_numbering": 1,
   "nav_menu": {},
   "number_sections": true,
   "sideBar": true,
   "skip_h1_title": false,
   "title_cell": "Table of Contents",
   "title_sidebar": "Contents",
   "toc_cell": false,
   "toc_position": {},
   "toc_section_display": true,
   "toc_window_display": false
  }
 },
 "nbformat": 4,
 "nbformat_minor": 5
}
