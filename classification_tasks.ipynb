{
 "cells": [
  {
   "cell_type": "code",
   "execution_count": 1,
   "id": "turned-majority",
   "metadata": {
    "ExecuteTime": {
     "end_time": "2021-05-18T20:52:32.750933Z",
     "start_time": "2021-05-18T20:52:08.785951Z"
    }
   },
   "outputs": [],
   "source": [
    "from tqdm import tqdm\n",
    "import pandas as pd\n",
    "import matplotlib.pyplot as plt\n",
    "import seaborn as sns\n",
    "import numpy as np\n",
    "from utils import read_lastfm\n",
    "from gensim.models import Word2Vec\n",
    "\n",
    "from sklearn.feature_extraction.text import TfidfVectorizer\n",
    "from sklearn.model_selection import train_test_split, GridSearchCV, KFold\n",
    "from sklearn.ensemble import RandomForestClassifier\n",
    "from sklearn.metrics import accuracy_score, f1_score, roc_auc_score, confusion_matrix, make_scorer\n",
    "from sklearn.dummy import DummyClassifier"
   ]
  },
  {
   "cell_type": "code",
   "execution_count": 3,
   "id": "proper-netherlands",
   "metadata": {
    "ExecuteTime": {
     "end_time": "2021-05-18T20:56:04.166214Z",
     "start_time": "2021-05-18T20:52:32.809186Z"
    }
   },
   "outputs": [],
   "source": [
    "songs, users = read_lastfm(zip_name=\"data/lastfm-dataset-1K.zip\")"
   ]
  },
  {
   "cell_type": "code",
   "execution_count": 4,
   "id": "impressive-courage",
   "metadata": {
    "ExecuteTime": {
     "end_time": "2021-05-18T20:56:06.225900Z",
     "start_time": "2021-05-18T20:56:04.173274Z"
    }
   },
   "outputs": [],
   "source": [
    "songs[\"song_id\"]= songs.artist_name.cat.codes.astype(\"int64\") * songs.track_name.nunique() \\\n",
    "                            + songs.track_name.cat.codes"
   ]
  },
  {
   "cell_type": "markdown",
   "id": "signal-national",
   "metadata": {},
   "source": [
    "# Song2vec loading"
   ]
  },
  {
   "cell_type": "code",
   "execution_count": 11,
   "id": "interstate-complexity",
   "metadata": {
    "ExecuteTime": {
     "end_time": "2021-05-18T20:57:19.367764Z",
     "start_time": "2021-05-18T20:57:19.358214Z"
    }
   },
   "outputs": [],
   "source": [
    "def build_vocab(model):\n",
    "    emb_vectors = {}\n",
    "    for n in model.wv.index_to_key:\n",
    "        emb_vectors[n] = model.wv[n]\n",
    "    return emb_vectors\n",
    "\n",
    "def load_model(filename):\n",
    "    model = Word2Vec.load(filename)\n",
    "    emb_vectors = build_vocab(model)\n",
    "    return emb_vectors, model\n",
    "\n",
    "def get_embeddings(df, min_count=5):\n",
    "    df = df.sort_values(\"timestamp\")\n",
    "    df = df[~df.track_name.isna()]\n",
    "#     df[\"song_id\"]= df.artist_name.cat.codes.astype(\"int64\") * df.track_name.nunique() \\\n",
    "#                         + df.track_name.cat.codes\n",
    "    print(f\"Number of entries: {len(df)}\")\n",
    "    assert len(df.query(\"song_id < 0\")) == 0 #Check underflow\n",
    "    \n",
    "    document = df.groupby(\"user_id\").agg(sentences=(\"song_id\", list))\n",
    "    model = Word2Vec(document.sentences.values, **{'vector_size': 100, 'window': 3, 'min_count': 5, 'negative': 10, 'ns_exponent': 0})\n",
    "    \n",
    "    emb_vectors = build_vocab(model)\n",
    "    print(f\"Number of song embeddings: {len(emb_vectors)}\")\n",
    "    return df, emb_vectors, model"
   ]
  },
  {
   "cell_type": "code",
   "execution_count": null,
   "id": "eligible-advice",
   "metadata": {
    "ExecuteTime": {
     "start_time": "2021-05-18T20:57:26.498Z"
    }
   },
   "outputs": [
    {
     "name": "stdout",
     "output_type": "stream",
     "text": [
      "Number of entries: 19098850\n"
     ]
    }
   ],
   "source": [
    "users = songs.user_id.unique()\n",
    "sample = songs[songs.user_id.isin(users)]\n",
    "sample, emb_vectors, model = get_embeddings(sample)\n",
    "model.save(\"data/word2vec/122.model\")"
   ]
  },
  {
   "cell_type": "code",
   "execution_count": null,
   "id": "placed-arena",
   "metadata": {
    "ExecuteTime": {
     "start_time": "2021-05-18T20:57:57.895Z"
    }
   },
   "outputs": [],
   "source": [
    "# emb_vectors, model = load_model(\"data/word2vec/word2vec.model\")\n",
    "s2v_df = pd.DataFrame(data=emb_vectors.values(), index=emb_vectors.keys())"
   ]
  },
  {
   "cell_type": "markdown",
   "id": "promotional-celebrity",
   "metadata": {},
   "source": [
    "# TF-IDF initialization"
   ]
  },
  {
   "cell_type": "code",
   "execution_count": 5,
   "id": "close-albania",
   "metadata": {
    "ExecuteTime": {
     "end_time": "2021-05-18T20:56:44.950111Z",
     "start_time": "2021-05-18T20:56:06.230057Z"
    }
   },
   "outputs": [],
   "source": [
    "corpus_df = songs.sort_values([\"user_id\", \"timestamp\"]).groupby(\"user_id\")\\\n",
    "                .agg(sequence=(\"song_id\", list))"
   ]
  },
  {
   "cell_type": "code",
   "execution_count": 6,
   "id": "documentary-sacramento",
   "metadata": {
    "ExecuteTime": {
     "end_time": "2021-05-18T20:56:45.088695Z",
     "start_time": "2021-05-18T20:56:45.047290Z"
    }
   },
   "outputs": [],
   "source": [
    "corpus = corpus_df.values[:,0]"
   ]
  },
  {
   "cell_type": "code",
   "execution_count": 7,
   "id": "interested-sterling",
   "metadata": {
    "ExecuteTime": {
     "end_time": "2021-05-18T20:57:05.905248Z",
     "start_time": "2021-05-18T20:56:45.095959Z"
    }
   },
   "outputs": [],
   "source": [
    "vectorizer = TfidfVectorizer(tokenizer=lambda x: x, lowercase=False)\n",
    "X = vectorizer.fit_transform(corpus)"
   ]
  },
  {
   "cell_type": "code",
   "execution_count": 8,
   "id": "reasonable-subcommittee",
   "metadata": {
    "ExecuteTime": {
     "end_time": "2021-05-18T20:57:06.044323Z",
     "start_time": "2021-05-18T20:57:05.916379Z"
    }
   },
   "outputs": [],
   "source": [
    "song_ids = list(vectorizer.vocabulary_.keys())\n",
    "indices = list(vectorizer.vocabulary_.values())"
   ]
  },
  {
   "cell_type": "code",
   "execution_count": 9,
   "id": "latin-county",
   "metadata": {
    "ExecuteTime": {
     "end_time": "2021-05-18T20:57:11.066606Z",
     "start_time": "2021-05-18T20:57:06.061064Z"
    }
   },
   "outputs": [],
   "source": [
    "song_ids = [x for _,x in sorted(zip(indices,song_ids))]"
   ]
  },
  {
   "cell_type": "code",
   "execution_count": 10,
   "id": "independent-struggle",
   "metadata": {
    "ExecuteTime": {
     "end_time": "2021-05-18T20:57:15.029713Z",
     "start_time": "2021-05-18T20:57:11.068996Z"
    }
   },
   "outputs": [],
   "source": [
    "tfidf_df = pd.DataFrame(data=X.T.todense(), index=song_ids)"
   ]
  },
  {
   "cell_type": "markdown",
   "id": "interesting-parameter",
   "metadata": {},
   "source": [
    "# Classification Tasks\n",
    "\n",
    "* Predict if two songs appear in the same context\n",
    "* Predict if two songs are from the same artist\n",
    "* Predict the artist of a song\n",
    "* Predict the tag of a song"
   ]
  },
  {
   "cell_type": "code",
   "execution_count": null,
   "id": "raising-deputy",
   "metadata": {
    "ExecuteTime": {
     "start_time": "2021-05-18T20:58:11.650Z"
    }
   },
   "outputs": [],
   "source": [
    "SEED = 42"
   ]
  },
  {
   "cell_type": "code",
   "execution_count": null,
   "id": "accurate-gabriel",
   "metadata": {
    "ExecuteTime": {
     "start_time": "2021-05-18T20:58:12.028Z"
    }
   },
   "outputs": [],
   "source": [
    "def compute_metrics(y_test, y_pred, y_proba, multi=False):\n",
    "    acc = accuracy_score(y_test, y_pred)\n",
    "    if not multi:\n",
    "        f1 = f1_score(y_test, y_pred)\n",
    "        auc = roc_auc_score(y_test, y_proba)\n",
    "        return acc, f1, auc\n",
    "    else:\n",
    "        acc = accuracy_score(y_test, y_pred)\n",
    "        f1 = f1_score(y_test, y_pred, average='weighted')\n",
    "        cm = confusion_matrix(y_test, y_pred)\n",
    "        return acc, f1, cm"
   ]
  },
  {
   "cell_type": "code",
   "execution_count": null,
   "id": "ongoing-vitamin",
   "metadata": {
    "ExecuteTime": {
     "start_time": "2021-05-18T20:58:12.377Z"
    }
   },
   "outputs": [],
   "source": [
    "def predict_RF(X_train, X_test, y_train, y_test, scoring='f1', multi=False,\n",
    "               param_grid = {'n_estimators': [2,100, 150, 200, 300],\n",
    "                      'criterion': ['gini', 'entropy']}):    \n",
    "    model = RandomForestClassifier(random_state=SEED)\n",
    "    cv = KFold(n_splits=5, shuffle=True, random_state=SEED)\n",
    "    grid = GridSearchCV(model, param_grid, cv=cv, scoring=scorer, verbose=4)\n",
    "    grid.fit(X_train, y_train)\n",
    "    best_model = grid.best_estimator_\n",
    "    print(f\"Best parameters are: {grid.best_params_}\")\n",
    "    y_pred = best_model.predict(X_test)\n",
    "    y_proba = best_model.predict_proba(X_test)[:,1]\n",
    "    return compute_metrics(y_test, y_pred, y_proba, multi=multi)\n"
   ]
  },
  {
   "cell_type": "code",
   "execution_count": null,
   "id": "conventional-publisher",
   "metadata": {
    "ExecuteTime": {
     "start_time": "2021-05-18T20:58:12.917Z"
    }
   },
   "outputs": [],
   "source": [
    "def predict_random(X_train, y_train, X_test, y_test, multi=False):\n",
    "    random = DummyClassifier(strategy='uniform', random_state=SEED)\n",
    "    random.fit(X_train, y_train)\n",
    "    y_pred = random.predict(X_test)\n",
    "    y_proba = random.predict_proba(X_test)[:, 1]\n",
    "    return compute_metrics(y_test, y_pred, y_proba, multi=multi)\n",
    "\n",
    "def predict_majority(X_train, y_train, X_test, y_test, multi=False):\n",
    "    majority = DummyClassifier(strategy='most_frequent', random_state=SEED)\n",
    "    majority.fit(X_train, y_train)\n",
    "    y_pred = majority.predict(X_test)\n",
    "    y_proba = majority.predict_proba(X_test)[:, 1]\n",
    "    return compute_metrics(y_test, y_pred, y_proba, multi=multi)"
   ]
  },
  {
   "cell_type": "code",
   "execution_count": null,
   "id": "excess-jurisdiction",
   "metadata": {
    "ExecuteTime": {
     "start_time": "2021-05-18T20:58:13.812Z"
    }
   },
   "outputs": [],
   "source": [
    "def create_vectors_pairs(vectors, song_pairs):\n",
    "    vector_pairs = vectors.merge(song_pairs, right_on=\"song1\", left_index=True)\\\n",
    "            .merge(vectors, left_on=\"song2\", right_index=True)\\\n",
    "            .drop(['song1', 'song2'], axis=1)\n",
    "    print(len(vector_pairs))\n",
    "    print(len(song_pairs))\n",
    "    assert len(vector_pairs) == len(song_pairs)\n",
    "    assert vector_pairs.shape[1] == vectors.shape[1] * 2\n",
    "    return vector_pairs"
   ]
  },
  {
   "cell_type": "markdown",
   "id": "placed-greek",
   "metadata": {},
   "source": [
    "## Same context classification"
   ]
  },
  {
   "cell_type": "code",
   "execution_count": null,
   "id": "jewish-fields",
   "metadata": {
    "ExecuteTime": {
     "start_time": "2021-05-18T20:58:17.667Z"
    }
   },
   "outputs": [],
   "source": [
    "sorted_songs = songs.sort_values([\"user_id\", \"timestamp\"])"
   ]
  },
  {
   "cell_type": "code",
   "execution_count": null,
   "id": "brief-omega",
   "metadata": {
    "ExecuteTime": {
     "start_time": "2021-05-18T20:58:18.102Z"
    }
   },
   "outputs": [],
   "source": [
    "def pick_song_in_same_context(songs, half_n):\n",
    "    \"\"\"Simply chooses random songs pair them with the previous or following one\"\"\"\n",
    "    np.random.seed(SEED)\n",
    "    idx1 = np.random.randint(1, len(songs) - 1, half_n) #Exclude first and last song\n",
    "    idx2 = idx1.copy() #Offset the first index by -1 or 1 \n",
    "    idx2[::2] += 1\n",
    "    idx2[1::2] -= 1\n",
    "    songs1 = songs.iloc[idx1].song_id.values\n",
    "    songs2 = songs.iloc[idx2].song_id.values\n",
    "    X = np.c_[songs1, songs2]\n",
    "    y = np.ones(half_n)\n",
    "    return X, y\n",
    "    \n",
    "def pick_songs_in_diff_context(songs, half_n):\n",
    "    songs1 = songs.sample(half_n, random_state=SEED).song_id.values\n",
    "    songs2 = songs.sample(half_n, random_state=SEED + 1).song_id.values\n",
    "    X = np.c_[songs1, songs2]\n",
    "    y = np.zeros(half_n)\n",
    "    return X, y\n",
    "\n",
    "def create_context_dataset(sorted_songs, n=20000):\n",
    "    \"\"\"Create a dataset of song pairs that either appeared in the same context or not\"\"\" \n",
    "    X_pos, y_pos = pick_song_in_same_context(sorted_songs, n//2)\n",
    "    X_neg, y_neg = pick_songs_in_diff_context(sorted_songs, n//2)\n",
    "    old_X = np.r_[X_pos, X_neg]\n",
    "    old_y = np.r_[y_pos, y_neg]\n",
    "    dataset = list(zip(old_X, old_y))\n",
    "    np.random.seed(SEED)\n",
    "    np.random.shuffle(dataset)\n",
    "    X, y = zip(*dataset)\n",
    "    return pd.DataFrame(X, columns=[\"song1\", \"song2\"]), np.array(y)"
   ]
  },
  {
   "cell_type": "code",
   "execution_count": null,
   "id": "changing-friendly",
   "metadata": {
    "ExecuteTime": {
     "start_time": "2021-05-18T20:58:19.361Z"
    }
   },
   "outputs": [],
   "source": [
    "song_pairs, labels = create_context_dataset(sorted_songs, n= 10000)"
   ]
  },
  {
   "cell_type": "code",
   "execution_count": null,
   "id": "solid-infection",
   "metadata": {
    "ExecuteTime": {
     "start_time": "2021-05-18T20:58:19.813Z"
    }
   },
   "outputs": [],
   "source": [
    "#Only keep song with s2v embeddings\n",
    "song_pairs = song_pairs.copy()\n",
    "song_pairs['labels'] = labels\n",
    "song_pairs = song_pairs[song_pairs.song1.isin(s2v_df.index) & song_pairs.song2.isin(s2v_df.index)]\n",
    "labels = song_pairs.labels\n",
    "song_pairs.drop('labels', axis=1, inplace=True)"
   ]
  },
  {
   "cell_type": "markdown",
   "id": "obvious-tragedy",
   "metadata": {},
   "source": [
    "### TF-IDF"
   ]
  },
  {
   "cell_type": "code",
   "execution_count": null,
   "id": "incorporated-stuart",
   "metadata": {
    "ExecuteTime": {
     "start_time": "2021-05-18T20:58:20.387Z"
    }
   },
   "outputs": [],
   "source": [
    "tfidf_pairs = create_vectors_pairs(tfidf_df, song_pairs)"
   ]
  },
  {
   "cell_type": "code",
   "execution_count": null,
   "id": "cosmetic-syndicate",
   "metadata": {
    "ExecuteTime": {
     "start_time": "2021-05-18T20:58:20.492Z"
    }
   },
   "outputs": [],
   "source": [
    "tfidf_pairs.head()"
   ]
  },
  {
   "cell_type": "code",
   "execution_count": null,
   "id": "chronic-windows",
   "metadata": {
    "ExecuteTime": {
     "start_time": "2021-05-18T20:58:20.881Z"
    },
    "scrolled": true
   },
   "outputs": [],
   "source": [
    "X_train, X_test, y_train, y_test = \\\n",
    "                train_test_split(tfidf_pairs, labels, train_size=0.8, random_state=SEED)\n",
    "acc, f1, auc = predict_RF(X_train, X_test, y_train, y_test)"
   ]
  },
  {
   "cell_type": "code",
   "execution_count": null,
   "id": "enabling-nevada",
   "metadata": {
    "ExecuteTime": {
     "start_time": "2021-05-18T20:58:21.612Z"
    }
   },
   "outputs": [],
   "source": [
    "print(\"TF-IDF:\", acc, f1, auc)\n",
    "print(\"Random:\", predict_random(X_train, y_train, X_test, y_test))\n",
    "print(\"Majority:\",predict_majority(X_train, y_train, X_test, y_test))"
   ]
  },
  {
   "cell_type": "markdown",
   "id": "gentle-government",
   "metadata": {},
   "source": [
    "### song2vec"
   ]
  },
  {
   "cell_type": "code",
   "execution_count": null,
   "id": "fixed-husband",
   "metadata": {
    "ExecuteTime": {
     "start_time": "2021-05-18T20:58:22.197Z"
    }
   },
   "outputs": [],
   "source": [
    "s2v_pairs = create_vectors_pairs(s2v_df, song_pairs)"
   ]
  },
  {
   "cell_type": "code",
   "execution_count": null,
   "id": "signal-theory",
   "metadata": {
    "ExecuteTime": {
     "start_time": "2021-05-18T20:58:22.401Z"
    }
   },
   "outputs": [],
   "source": [
    "s2v_pairs.head()"
   ]
  },
  {
   "cell_type": "code",
   "execution_count": null,
   "id": "accessory-trunk",
   "metadata": {
    "ExecuteTime": {
     "start_time": "2021-05-18T20:58:22.569Z"
    },
    "scrolled": true
   },
   "outputs": [],
   "source": [
    "X_train, X_test, y_train, y_test = \\\n",
    "                train_test_split(s2v_pairs, labels, train_size=0.8, random_state=SEED)\n",
    "acc, f1, auc = predict_RF(X_train, X_test, y_train, y_test)"
   ]
  },
  {
   "cell_type": "code",
   "execution_count": null,
   "id": "liquid-regulation",
   "metadata": {
    "ExecuteTime": {
     "start_time": "2021-05-18T20:58:22.852Z"
    }
   },
   "outputs": [],
   "source": [
    "print(\"Song2Vec:\", acc, f1, auc)"
   ]
  },
  {
   "cell_type": "markdown",
   "id": "sapphire-trademark",
   "metadata": {},
   "source": [
    "## Same artist classification"
   ]
  },
  {
   "cell_type": "code",
   "execution_count": null,
   "id": "analyzed-parcel",
   "metadata": {
    "ExecuteTime": {
     "start_time": "2021-05-18T20:58:23.645Z"
    }
   },
   "outputs": [],
   "source": [
    "discography = songs[[\"artist_name\", \"track_name\", \"song_id\"]].drop_duplicates()"
   ]
  },
  {
   "cell_type": "code",
   "execution_count": null,
   "id": "vocal-adolescent",
   "metadata": {
    "ExecuteTime": {
     "start_time": "2021-05-18T20:58:23.742Z"
    }
   },
   "outputs": [],
   "source": [
    "def pick_songs_from_same_artist(discography, half_n):\n",
    "    \"\"\"Simply chooses random songs pair them with the previous or following one\"\"\"\n",
    "    artist_with_multiple_songs = discography.groupby(\"artist_name\")\\\n",
    "                                .agg(count=(\"track_name\", \"count\")).reset_index()\n",
    "    discography = discography.merge(artist_with_multiple_songs)\n",
    "    \n",
    "    song_pairs = discography.groupby(\"artist_name\").agg(song1=(\"song_id\", \"first\"), \n",
    "                                                        song2=(\"song_id\", \"last\"))\n",
    "    X = song_pairs.sample(half_n, random_state=SEED).values\n",
    "    y = np.ones(half_n)\n",
    "    return X, y\n",
    "    \n",
    "def pick_songs_from_diff_artist(discography, half_n):\n",
    "    discography = discography.drop_duplicates(\"artist_name\")\n",
    "    songs = discography.sample(2*half_n, random_state=SEED).song_id.values\n",
    "    songs1 = songs[:half_n]\n",
    "    songs2 = songs[half_n:]\n",
    "    X = np.c_[songs1, songs2]\n",
    "    y = np.zeros(half_n)\n",
    "    return X, y\n",
    "\n",
    "def create_artist_dataset(discography, n=20000):\n",
    "    \"\"\"Create a dataset of song pairs that either appeared in the same context or not\"\"\" \n",
    "    discography = discography.merge(s2v_df, left_on=\"song_id\", right_index=True)\n",
    "    discography = discography.merge(tfidf_df, left_on=\"song_id\", right_index=True)\n",
    "    X_pos, y_pos = pick_songs_from_same_artist(discography, n//2)\n",
    "    X_neg, y_neg = pick_songs_from_diff_artist(discography, n//2)\n",
    "    old_X = np.r_[X_pos, X_neg]\n",
    "    old_y = np.r_[y_pos, y_neg]\n",
    "    dataset = list(zip(old_X, old_y))\n",
    "    np.random.seed(SEED)\n",
    "    np.random.shuffle(dataset)\n",
    "    X, y = zip(*dataset)\n",
    "    return pd.DataFrame(X, columns=[\"song1\", \"song2\"]), np.array(y)"
   ]
  },
  {
   "cell_type": "code",
   "execution_count": null,
   "id": "homeless-content",
   "metadata": {
    "ExecuteTime": {
     "start_time": "2021-05-18T20:58:23.815Z"
    }
   },
   "outputs": [],
   "source": [
    "song_pairs, labels = create_artist_dataset(discography, 20000)"
   ]
  },
  {
   "cell_type": "code",
   "execution_count": null,
   "id": "surface-collar",
   "metadata": {
    "ExecuteTime": {
     "start_time": "2021-05-18T20:58:23.896Z"
    }
   },
   "outputs": [],
   "source": [
    "#Only keep song with s2v embeddings\n",
    "song_pairs = song_pairs.copy()\n",
    "song_pairs['labels'] = labels\n",
    "song_pairs = song_pairs[song_pairs.song1.isin(s2v_df.index) & song_pairs.song2.isin(s2v_df.index)]\n",
    "song_pairs = song_pairs[song_pairs.song1.isin(tfidf_df.index) & song_pairs.song2.isin(tfidf_df.index)]\n",
    "labels = song_pairs.labels\n",
    "# song_pairs.drop('labels', axis=1, inplace=True)"
   ]
  },
  {
   "cell_type": "code",
   "execution_count": null,
   "id": "broad-western",
   "metadata": {
    "ExecuteTime": {
     "start_time": "2021-05-18T20:58:24.032Z"
    }
   },
   "outputs": [],
   "source": [
    "song_pairs_neg = song_pairs.query(\"labels == 0\").iloc[:3547]\n",
    "song_pairs_pos = song_pairs.query(\"labels == 1\")"
   ]
  },
  {
   "cell_type": "code",
   "execution_count": null,
   "id": "israeli-transfer",
   "metadata": {
    "ExecuteTime": {
     "start_time": "2021-05-18T20:58:24.092Z"
    }
   },
   "outputs": [],
   "source": [
    "song_pairs = pd.concat([song_pairs_neg, song_pairs_pos])\n",
    "labels = song_pairs.labels\n",
    "song_pairs.drop('labels', axis=1, inplace=True)"
   ]
  },
  {
   "cell_type": "markdown",
   "id": "pursuant-trinidad",
   "metadata": {},
   "source": [
    "### TF-IDF"
   ]
  },
  {
   "cell_type": "code",
   "execution_count": null,
   "id": "scientific-lewis",
   "metadata": {
    "ExecuteTime": {
     "start_time": "2021-05-18T20:58:24.231Z"
    }
   },
   "outputs": [],
   "source": [
    "tfidf_pairs = create_vectors_pairs(tfidf_df, song_pairs)"
   ]
  },
  {
   "cell_type": "code",
   "execution_count": null,
   "id": "existing-tuesday",
   "metadata": {
    "ExecuteTime": {
     "start_time": "2021-05-18T20:58:24.336Z"
    }
   },
   "outputs": [],
   "source": [
    "X_train, X_test, y_train, y_test = \\\n",
    "                train_test_split(tfidf_pairs, labels, train_size=0.8, random_state=SEED)"
   ]
  },
  {
   "cell_type": "code",
   "execution_count": null,
   "id": "aggregate-passing",
   "metadata": {
    "ExecuteTime": {
     "start_time": "2021-05-18T20:58:24.405Z"
    },
    "scrolled": false
   },
   "outputs": [],
   "source": [
    "X_train, X_test, y_train, y_test = \\\n",
    "                train_test_split(tfidf_pairs, labels, train_size=0.8, random_state=SEED)\n",
    "acc, f1, auc = predict_RF(X_train, X_test, y_train, y_test)"
   ]
  },
  {
   "cell_type": "code",
   "execution_count": null,
   "id": "psychological-corporation",
   "metadata": {
    "ExecuteTime": {
     "start_time": "2021-05-18T20:58:24.483Z"
    }
   },
   "outputs": [],
   "source": [
    "print(\"TF-IDF:\", acc, f1, auc)"
   ]
  },
  {
   "cell_type": "markdown",
   "id": "modern-netscape",
   "metadata": {},
   "source": [
    "### Song2vec"
   ]
  },
  {
   "cell_type": "code",
   "execution_count": null,
   "id": "radical-veteran",
   "metadata": {
    "ExecuteTime": {
     "start_time": "2021-05-18T20:58:28.517Z"
    }
   },
   "outputs": [],
   "source": [
    "s2v_pairs = create_vectors_pairs(s2v_df, song_pairs)"
   ]
  },
  {
   "cell_type": "code",
   "execution_count": null,
   "id": "military-processor",
   "metadata": {
    "ExecuteTime": {
     "start_time": "2021-05-18T20:58:30.376Z"
    }
   },
   "outputs": [],
   "source": [
    "X_train, X_test, y_train, y_test = \\\n",
    "                train_test_split(s2v_pairs, labels, train_size=0.8, random_state=SEED)\n",
    "acc, f1, auc = predict_RF(X_train, X_test, y_train, y_test)"
   ]
  },
  {
   "cell_type": "code",
   "execution_count": 55,
   "id": "frozen-marsh",
   "metadata": {
    "ExecuteTime": {
     "end_time": "2021-05-17T08:23:12.290758Z",
     "start_time": "2021-05-17T08:23:12.281215Z"
    }
   },
   "outputs": [
    {
     "name": "stdout",
     "output_type": "stream",
     "text": [
      "Song2Vec: 0.6645525017618041 0.7203290246768507 0.7202693033886515\n"
     ]
    }
   ],
   "source": [
    "print(\"Song2Vec:\", acc, f1, auc)"
   ]
  },
  {
   "cell_type": "code",
   "execution_count": 56,
   "id": "latter-criminal",
   "metadata": {
    "ExecuteTime": {
     "end_time": "2021-05-17T08:23:12.357370Z",
     "start_time": "2021-05-17T08:23:12.297200Z"
    }
   },
   "outputs": [
    {
     "name": "stdout",
     "output_type": "stream",
     "text": [
      "Random: (0.5088090204369274, 0.503914590747331, 0.5)\n",
      "Majority: (0.48907681465821, 0.6568859441552295, 0.5)\n"
     ]
    }
   ],
   "source": [
    "print(\"Random:\", predict_random(X_train, y_train, X_test, y_test))\n",
    "print(\"Majority:\",predict_majority(X_train, y_train, X_test, y_test))"
   ]
  },
  {
   "cell_type": "markdown",
   "id": "steady-alfred",
   "metadata": {},
   "source": [
    "## Top artists classification"
   ]
  },
  {
   "cell_type": "code",
   "execution_count": 83,
   "id": "wrong-leadership",
   "metadata": {
    "ExecuteTime": {
     "end_time": "2021-05-17T15:39:01.448720Z",
     "start_time": "2021-05-17T15:39:01.440123Z"
    }
   },
   "outputs": [],
   "source": [
    "def create_top_artist_dataset(df, top_n=10):\n",
    "    top_artist = df[df.song_id.isin(emb_vectors.keys())].artist_name.value_counts()\\\n",
    "        .to_frame().head(top_n).index\n",
    "    top_artist_codes = list(top_artist.codes)\n",
    "    top_artist = list(top_artist)\n",
    "    top_df = songs[songs.artist_name.cat.codes.isin(top_artist_codes)].drop_duplicates('song_id').copy()\n",
    "    mapping = {artist: top_artist.index(artist) for artist in top_artist}\n",
    "    top_df['label'] = top_df.artist_name.map(mapping)\n",
    "    top_df = top_df[['song_id', 'label']]\n",
    "    top_df = top_df[top_df.song_id.isin(s2v_df.index) & top_df.song_id.isin(tfidf_df.index)]\n",
    "    return top_df"
   ]
  },
  {
   "cell_type": "code",
   "execution_count": 96,
   "id": "responsible-cooperation",
   "metadata": {
    "ExecuteTime": {
     "end_time": "2021-05-17T15:42:36.229899Z",
     "start_time": "2021-05-17T15:42:33.950769Z"
    }
   },
   "outputs": [],
   "source": [
    "top_artist_songs = create_top_artist_dataset(songs, top_n=30)"
   ]
  },
  {
   "cell_type": "code",
   "execution_count": 97,
   "id": "living-measure",
   "metadata": {
    "ExecuteTime": {
     "end_time": "2021-05-17T15:42:36.241783Z",
     "start_time": "2021-05-17T15:42:36.234998Z"
    }
   },
   "outputs": [
    {
     "data": {
      "text/plain": [
       "9283"
      ]
     },
     "execution_count": 97,
     "metadata": {},
     "output_type": "execute_result"
    }
   ],
   "source": [
    "len(top_artist_songs)"
   ]
  },
  {
   "cell_type": "code",
   "execution_count": 190,
   "id": "fiscal-detection",
   "metadata": {
    "ExecuteTime": {
     "end_time": "2021-05-17T16:38:25.970261Z",
     "start_time": "2021-05-17T16:38:25.963159Z"
    }
   },
   "outputs": [],
   "source": [
    "param_grid = {'n_estimators': [150, 200, 300],\n",
    "              'criterion': ['gini', 'entropy'],\n",
    "              'class_weight':['balanced']\n",
    "             }\n",
    "scorer = make_scorer(f1_score, average='weighted')"
   ]
  },
  {
   "cell_type": "markdown",
   "id": "parallel-bernard",
   "metadata": {},
   "source": [
    "### TF-IDF"
   ]
  },
  {
   "cell_type": "code",
   "execution_count": 104,
   "id": "hawaiian-digit",
   "metadata": {
    "ExecuteTime": {
     "end_time": "2021-05-17T15:43:30.237346Z",
     "start_time": "2021-05-17T15:43:30.212398Z"
    }
   },
   "outputs": [],
   "source": [
    "tfidf_top_artist = tfidf_df.merge(top_artist_songs, left_index=True, right_on='song_id')\n",
    "assert len(top_artist_songs) == len(tfidf_top_artist)\n",
    "X_tfidf = tfidf_top_artist.drop(['song_id', 'label'], axis=1)\n",
    "y_tfidf = tfidf_top_artist.label.values.astype(int)"
   ]
  },
  {
   "cell_type": "code",
   "execution_count": 191,
   "id": "radical-convert",
   "metadata": {
    "ExecuteTime": {
     "end_time": "2021-05-17T16:45:07.491506Z",
     "start_time": "2021-05-17T16:38:33.149852Z"
    },
    "scrolled": false
   },
   "outputs": [
    {
     "name": "stdout",
     "output_type": "stream",
     "text": [
      "Fitting 5 folds for each of 6 candidates, totalling 30 fits\n",
      "[CV 1/5] END class_weight=balanced, criterion=gini, n_estimators=150; total time=   8.4s\n",
      "[CV 2/5] END class_weight=balanced, criterion=gini, n_estimators=150; total time=   8.1s\n",
      "[CV 3/5] END class_weight=balanced, criterion=gini, n_estimators=150; total time=   8.2s\n",
      "[CV 4/5] END class_weight=balanced, criterion=gini, n_estimators=150; total time=   8.1s\n",
      "[CV 5/5] END class_weight=balanced, criterion=gini, n_estimators=150; total time=   8.2s\n",
      "[CV 1/5] END class_weight=balanced, criterion=gini, n_estimators=200; total time=  10.9s\n",
      "[CV 2/5] END class_weight=balanced, criterion=gini, n_estimators=200; total time=  10.9s\n",
      "[CV 3/5] END class_weight=balanced, criterion=gini, n_estimators=200; total time=  11.0s\n",
      "[CV 4/5] END class_weight=balanced, criterion=gini, n_estimators=200; total time=  10.8s\n",
      "[CV 5/5] END class_weight=balanced, criterion=gini, n_estimators=200; total time=  10.9s\n",
      "[CV 1/5] END class_weight=balanced, criterion=gini, n_estimators=300; total time=  16.3s\n",
      "[CV 2/5] END class_weight=balanced, criterion=gini, n_estimators=300; total time=  16.1s\n",
      "[CV 3/5] END class_weight=balanced, criterion=gini, n_estimators=300; total time=  16.5s\n",
      "[CV 4/5] END class_weight=balanced, criterion=gini, n_estimators=300; total time=  16.0s\n",
      "[CV 5/5] END class_weight=balanced, criterion=gini, n_estimators=300; total time=  16.0s\n",
      "[CV 1/5] END class_weight=balanced, criterion=entropy, n_estimators=150; total time=   9.0s\n",
      "[CV 2/5] END class_weight=balanced, criterion=entropy, n_estimators=150; total time=   8.9s\n",
      "[CV 3/5] END class_weight=balanced, criterion=entropy, n_estimators=150; total time=   9.0s\n",
      "[CV 4/5] END class_weight=balanced, criterion=entropy, n_estimators=150; total time=   8.8s\n",
      "[CV 5/5] END class_weight=balanced, criterion=entropy, n_estimators=150; total time=   8.9s\n",
      "[CV 1/5] END class_weight=balanced, criterion=entropy, n_estimators=200; total time=  11.9s\n",
      "[CV 2/5] END class_weight=balanced, criterion=entropy, n_estimators=200; total time=  12.0s\n",
      "[CV 3/5] END class_weight=balanced, criterion=entropy, n_estimators=200; total time=  12.3s\n",
      "[CV 4/5] END class_weight=balanced, criterion=entropy, n_estimators=200; total time=  12.3s\n",
      "[CV 5/5] END class_weight=balanced, criterion=entropy, n_estimators=200; total time=  11.9s\n",
      "[CV 1/5] END class_weight=balanced, criterion=entropy, n_estimators=300; total time=  17.8s\n",
      "[CV 2/5] END class_weight=balanced, criterion=entropy, n_estimators=300; total time=  17.8s\n",
      "[CV 3/5] END class_weight=balanced, criterion=entropy, n_estimators=300; total time=  18.4s\n",
      "[CV 4/5] END class_weight=balanced, criterion=entropy, n_estimators=300; total time=  17.7s\n",
      "[CV 5/5] END class_weight=balanced, criterion=entropy, n_estimators=300; total time=  17.6s\n",
      "Best parameters are: {'class_weight': 'balanced', 'criterion': 'gini', 'n_estimators': 300}\n"
     ]
    }
   ],
   "source": [
    "X_train, X_test, y_train, y_test = \\\n",
    "                train_test_split(X_tfidf, y_tfidf, train_size=0.8, random_state=SEED)\n",
    "\n",
    "acc, f1, cm = predict_RF(X_train, X_test, y_train, y_test, param_grid=param_grid, scoring=scorer, multi=True)"
   ]
  },
  {
   "cell_type": "code",
   "execution_count": 192,
   "id": "preliminary-closer",
   "metadata": {
    "ExecuteTime": {
     "end_time": "2021-05-17T16:45:07.504796Z",
     "start_time": "2021-05-17T16:45:07.496578Z"
    }
   },
   "outputs": [
    {
     "name": "stdout",
     "output_type": "stream",
     "text": [
      "TF-IDF: 0.8152934841141626 0.8153098656342951\n"
     ]
    }
   ],
   "source": [
    "print(\"TF-IDF:\", acc, f1)"
   ]
  },
  {
   "cell_type": "code",
   "execution_count": 193,
   "id": "biological-folks",
   "metadata": {
    "ExecuteTime": {
     "end_time": "2021-05-17T16:45:15.440535Z",
     "start_time": "2021-05-17T16:45:07.514268Z"
    }
   },
   "outputs": [
    {
     "data": {
      "image/png": "[encoded data removed]",
      "text/plain": [
       "<Figure size 1080x720 with 2 Axes>"
      ]
     },
     "metadata": {
      "needs_background": "light"
     },
     "output_type": "display_data"
    }
   ],
   "source": [
    "plt.figure(figsize=(15,10))\n",
    "sns.heatmap(data=cm, cmap='magma_r', annot=True);"
   ]
  },
  {
   "cell_type": "markdown",
   "id": "aware-association",
   "metadata": {},
   "source": [
    "### Song2Vec"
   ]
  },
  {
   "cell_type": "code",
   "execution_count": 184,
   "id": "imported-tuesday",
   "metadata": {
    "ExecuteTime": {
     "end_time": "2021-05-17T16:30:10.129295Z",
     "start_time": "2021-05-17T16:30:09.381215Z"
    }
   },
   "outputs": [],
   "source": [
    "s2v_top_artist = s2v_df.merge(top_artist_songs, left_index=True, right_on='song_id')\n",
    "assert len(top_artist_songs) == len(s2v_top_artist)\n",
    "X_s2v = s2v_top_artist.drop(['song_id', 'label'], axis=1)\n",
    "y_s2v = s2v_top_artist.label.values.astype(int)"
   ]
  },
  {
   "cell_type": "code",
   "execution_count": 194,
   "id": "sapphire-planner",
   "metadata": {
    "ExecuteTime": {
     "end_time": "2021-05-17T17:01:49.029521Z",
     "start_time": "2021-05-17T16:45:15.446247Z"
    }
   },
   "outputs": [
    {
     "name": "stdout",
     "output_type": "stream",
     "text": [
      "Fitting 5 folds for each of 6 candidates, totalling 30 fits\n",
      "[CV 1/5] END class_weight=balanced, criterion=gini, n_estimators=150; total time=  13.1s\n",
      "[CV 2/5] END class_weight=balanced, criterion=gini, n_estimators=150; total time=  14.8s\n",
      "[CV 3/5] END class_weight=balanced, criterion=gini, n_estimators=150; total time=  12.5s\n",
      "[CV 4/5] END class_weight=balanced, criterion=gini, n_estimators=150; total time=  12.1s\n",
      "[CV 5/5] END class_weight=balanced, criterion=gini, n_estimators=150; total time=  11.9s\n",
      "[CV 1/5] END class_weight=balanced, criterion=gini, n_estimators=200; total time=  15.8s\n",
      "[CV 2/5] END class_weight=balanced, criterion=gini, n_estimators=200; total time=  17.8s\n",
      "[CV 3/5] END class_weight=balanced, criterion=gini, n_estimators=200; total time=  17.0s\n",
      "[CV 4/5] END class_weight=balanced, criterion=gini, n_estimators=200; total time=  15.9s\n",
      "[CV 5/5] END class_weight=balanced, criterion=gini, n_estimators=200; total time=  16.0s\n",
      "[CV 1/5] END class_weight=balanced, criterion=gini, n_estimators=300; total time=  23.6s\n",
      "[CV 2/5] END class_weight=balanced, criterion=gini, n_estimators=300; total time=  24.1s\n",
      "[CV 3/5] END class_weight=balanced, criterion=gini, n_estimators=300; total time=  24.6s\n",
      "[CV 4/5] END class_weight=balanced, criterion=gini, n_estimators=300; total time=  25.8s\n",
      "[CV 5/5] END class_weight=balanced, criterion=gini, n_estimators=300; total time=  24.5s\n",
      "[CV 1/5] END class_weight=balanced, criterion=entropy, n_estimators=150; total time=  29.2s\n",
      "[CV 2/5] END class_weight=balanced, criterion=entropy, n_estimators=150; total time=  29.5s\n",
      "[CV 3/5] END class_weight=balanced, criterion=entropy, n_estimators=150; total time=  30.7s\n",
      "[CV 4/5] END class_weight=balanced, criterion=entropy, n_estimators=150; total time=  35.8s\n",
      "[CV 5/5] END class_weight=balanced, criterion=entropy, n_estimators=150; total time=  28.2s\n",
      "[CV 1/5] END class_weight=balanced, criterion=entropy, n_estimators=200; total time=  38.8s\n",
      "[CV 2/5] END class_weight=balanced, criterion=entropy, n_estimators=200; total time=  36.5s\n",
      "[CV 3/5] END class_weight=balanced, criterion=entropy, n_estimators=200; total time=  42.0s\n",
      "[CV 4/5] END class_weight=balanced, criterion=entropy, n_estimators=200; total time=  43.0s\n",
      "[CV 5/5] END class_weight=balanced, criterion=entropy, n_estimators=200; total time=  41.9s\n",
      "[CV 1/5] END class_weight=balanced, criterion=entropy, n_estimators=300; total time=  57.9s\n",
      "[CV 2/5] END class_weight=balanced, criterion=entropy, n_estimators=300; total time= 1.1min\n",
      "[CV 3/5] END class_weight=balanced, criterion=entropy, n_estimators=300; total time=  56.0s\n",
      "[CV 4/5] END class_weight=balanced, criterion=entropy, n_estimators=300; total time=  58.7s\n",
      "[CV 5/5] END class_weight=balanced, criterion=entropy, n_estimators=300; total time=  56.3s\n",
      "Best parameters are: {'class_weight': 'balanced', 'criterion': 'entropy', 'n_estimators': 300}\n"
     ]
    }
   ],
   "source": [
    "X_train, X_test, y_train, y_test = \\\n",
    "                train_test_split(X_s2v, y_s2v, train_size=0.8, random_state=SEED)\n",
    "acc, f1, cm = predict_RF(X_train, X_test, y_train, y_test, param_grid=param_grid, scoring=scorer,multi=True)"
   ]
  },
  {
   "cell_type": "code",
   "execution_count": 195,
   "id": "interesting-bottle",
   "metadata": {
    "ExecuteTime": {
     "end_time": "2021-05-17T17:01:49.044795Z",
     "start_time": "2021-05-17T17:01:49.034604Z"
    },
    "scrolled": true
   },
   "outputs": [
    {
     "name": "stdout",
     "output_type": "stream",
     "text": [
      "Song2Vec: 0.7436725901992461 0.7578103246040926\n"
     ]
    }
   ],
   "source": [
    "print(\"Song2Vec:\", acc, f1)"
   ]
  },
  {
   "cell_type": "code",
   "execution_count": 196,
   "id": "speaking-champagne",
   "metadata": {
    "ExecuteTime": {
     "end_time": "2021-05-17T17:01:56.395915Z",
     "start_time": "2021-05-17T17:01:49.050190Z"
    }
   },
   "outputs": [
    {
     "data": {
      "image/png": "[encoded data removed]",
      "text/plain": [
       "<Figure size 1080x720 with 2 Axes>"
      ]
     },
     "metadata": {
      "needs_background": "light"
     },
     "output_type": "display_data"
    }
   ],
   "source": [
    "plt.figure(figsize=(15,10))\n",
    "sns.heatmap(data=cm, cmap='magma_r', annot=True);"
   ]
  },
  {
   "cell_type": "code",
   "execution_count": 197,
   "id": "assisted-puzzle",
   "metadata": {
    "ExecuteTime": {
     "end_time": "2021-05-17T17:01:56.428684Z",
     "start_time": "2021-05-17T17:01:56.402240Z"
    }
   },
   "outputs": [
    {
     "name": "stdout",
     "output_type": "stream",
     "text": [
      "Random: (0.033925686591276254, 0.03561354992190356)\n",
      "Majority: (0.07162089391491654, 0.00957344612129035)\n"
     ]
    }
   ],
   "source": [
    "print(\"Random:\", predict_random(X_train, y_train, X_test, y_test, multi=True)[:2])\n",
    "print(\"Majority:\",predict_majority(X_train, y_train, X_test, y_test, multi=True)[:2])"
   ]
  },
  {
   "cell_type": "markdown",
   "id": "large-accident",
   "metadata": {},
   "source": [
    "## Top tag "
   ]
  },
  {
   "cell_type": "code",
   "execution_count": 17,
   "id": "quick-section",
   "metadata": {
    "ExecuteTime": {
     "end_time": "2021-05-18T08:36:46.266228Z",
     "start_time": "2021-05-18T08:36:11.339492Z"
    }
   },
   "outputs": [],
   "source": [
    "top_tags = pd.read_csv(\"data/song_tags_top1.csv\")\n",
    "songs = songs.merge(top_tags, how='left')"
   ]
  },
  {
   "cell_type": "code",
   "execution_count": 18,
   "id": "distinguished-reform",
   "metadata": {
    "ExecuteTime": {
     "end_time": "2021-05-18T08:36:46.317381Z",
     "start_time": "2021-05-18T08:36:46.272321Z"
    }
   },
   "outputs": [
    {
     "data": {
      "text/plain": [
       "19098862"
      ]
     },
     "execution_count": 18,
     "metadata": {},
     "output_type": "execute_result"
    }
   ],
   "source": [
    "len(songs)"
   ]
  },
  {
   "cell_type": "code",
   "execution_count": 19,
   "id": "imported-bahrain",
   "metadata": {
    "ExecuteTime": {
     "end_time": "2021-05-18T08:36:46.329055Z",
     "start_time": "2021-05-18T08:36:46.320521Z"
    }
   },
   "outputs": [],
   "source": [
    "def create_top_tag_dataset(df, top_n=10):\n",
    "    top_tags = list(df[df.song_id.isin(emb_vectors.keys())].tag_1.value_counts()\\\n",
    "        .to_frame().head(top_n).index)\n",
    "    top_df = songs[songs.tag_1.isin(top_tags)].drop_duplicates('song_id').copy()\n",
    "    mapping = {tag: top_tags.index(tag) for tag in top_tags}\n",
    "    top_df['label'] = top_df.tag_1.map(mapping)\n",
    "    top_df = top_df[['song_id', 'label']]\n",
    "    top_df = top_df[top_df.song_id.isin(s2v_df.index) & top_df.song_id.isin(tfidf_df.index)]\n",
    "    return top_df"
   ]
  },
  {
   "cell_type": "code",
   "execution_count": 21,
   "id": "reverse-gender",
   "metadata": {
    "ExecuteTime": {
     "end_time": "2021-05-18T08:37:02.540753Z",
     "start_time": "2021-05-18T08:36:55.916143Z"
    }
   },
   "outputs": [
    {
     "data": {
      "text/plain": [
       "10000"
      ]
     },
     "execution_count": 21,
     "metadata": {},
     "output_type": "execute_result"
    }
   ],
   "source": [
    "top_tag_songs = create_top_tag_dataset(songs, top_n=10).iloc[:10000]\n",
    "len(top_tag_songs)"
   ]
  },
  {
   "cell_type": "code",
   "execution_count": 22,
   "id": "flying-germany",
   "metadata": {
    "ExecuteTime": {
     "end_time": "2021-05-18T08:37:02.552073Z",
     "start_time": "2021-05-18T08:37:02.543577Z"
    }
   },
   "outputs": [],
   "source": [
    "param_grid = {'n_estimators': [2, 100, 200, 300],\n",
    "              'criterion': ['gini', 'entropy'],\n",
    "              'class_weight':['balanced']\n",
    "             }\n",
    "scorer = make_scorer(f1_score, average='weighted')"
   ]
  },
  {
   "cell_type": "markdown",
   "id": "breathing-width",
   "metadata": {},
   "source": [
    "### TF-IDF"
   ]
  },
  {
   "cell_type": "code",
   "execution_count": 23,
   "id": "lucky-namibia",
   "metadata": {
    "ExecuteTime": {
     "end_time": "2021-05-18T08:37:06.239236Z",
     "start_time": "2021-05-18T08:37:02.569034Z"
    }
   },
   "outputs": [],
   "source": [
    "tfidf_top_tag = tfidf_df.merge(top_tag_songs, left_index=True, right_on='song_id')\n",
    "assert len(top_tag_songs) == len(tfidf_top_tag)\n",
    "X_tfidf = tfidf_top_tag.drop(['song_id', 'label'], axis=1)\n",
    "y_tfidf = tfidf_top_tag.label.values.astype(int)"
   ]
  },
  {
   "cell_type": "code",
   "execution_count": 24,
   "id": "christian-double",
   "metadata": {
    "ExecuteTime": {
     "end_time": "2021-05-18T08:42:11.797406Z",
     "start_time": "2021-05-18T08:37:06.243812Z"
    }
   },
   "outputs": [
    {
     "name": "stdout",
     "output_type": "stream",
     "text": [
      "Fitting 5 folds for each of 8 candidates, totalling 40 fits\n",
      "[CV 1/5] END class_weight=balanced, criterion=gini, n_estimators=2; total time=   0.3s\n",
      "[CV 2/5] END class_weight=balanced, criterion=gini, n_estimators=2; total time=   1.0s\n",
      "[CV 3/5] END class_weight=balanced, criterion=gini, n_estimators=2; total time=   0.2s\n",
      "[CV 4/5] END class_weight=balanced, criterion=gini, n_estimators=2; total time=   0.2s\n",
      "[CV 5/5] END class_weight=balanced, criterion=gini, n_estimators=2; total time=   0.1s\n",
      "[CV 1/5] END class_weight=balanced, criterion=gini, n_estimators=100; total time=   4.5s\n",
      "[CV 2/5] END class_weight=balanced, criterion=gini, n_estimators=100; total time=   4.6s\n",
      "[CV 3/5] END class_weight=balanced, criterion=gini, n_estimators=100; total time=   4.4s\n",
      "[CV 4/5] END class_weight=balanced, criterion=gini, n_estimators=100; total time=   4.4s\n",
      "[CV 5/5] END class_weight=balanced, criterion=gini, n_estimators=100; total time=   4.5s\n",
      "[CV 1/5] END class_weight=balanced, criterion=gini, n_estimators=200; total time=   9.0s\n",
      "[CV 2/5] END class_weight=balanced, criterion=gini, n_estimators=200; total time=   9.1s\n",
      "[CV 3/5] END class_weight=balanced, criterion=gini, n_estimators=200; total time=   8.7s\n",
      "[CV 4/5] END class_weight=balanced, criterion=gini, n_estimators=200; total time=   9.0s\n",
      "[CV 5/5] END class_weight=balanced, criterion=gini, n_estimators=200; total time=   9.0s\n",
      "[CV 1/5] END class_weight=balanced, criterion=gini, n_estimators=300; total time=  13.4s\n",
      "[CV 2/5] END class_weight=balanced, criterion=gini, n_estimators=300; total time=  13.2s\n",
      "[CV 3/5] END class_weight=balanced, criterion=gini, n_estimators=300; total time=  12.7s\n",
      "[CV 4/5] END class_weight=balanced, criterion=gini, n_estimators=300; total time=  12.8s\n",
      "[CV 5/5] END class_weight=balanced, criterion=gini, n_estimators=300; total time=  13.0s\n",
      "[CV 1/5] END class_weight=balanced, criterion=entropy, n_estimators=2; total time=   0.2s\n",
      "[CV 2/5] END class_weight=balanced, criterion=entropy, n_estimators=2; total time=   0.2s\n",
      "[CV 3/5] END class_weight=balanced, criterion=entropy, n_estimators=2; total time=   0.2s\n",
      "[CV 4/5] END class_weight=balanced, criterion=entropy, n_estimators=2; total time=   0.2s\n",
      "[CV 5/5] END class_weight=balanced, criterion=entropy, n_estimators=2; total time=   0.2s\n",
      "[CV 1/5] END class_weight=balanced, criterion=entropy, n_estimators=100; total time=   5.1s\n",
      "[CV 2/5] END class_weight=balanced, criterion=entropy, n_estimators=100; total time=   5.1s\n",
      "[CV 3/5] END class_weight=balanced, criterion=entropy, n_estimators=100; total time=   5.0s\n",
      "[CV 4/5] END class_weight=balanced, criterion=entropy, n_estimators=100; total time=   5.1s\n",
      "[CV 5/5] END class_weight=balanced, criterion=entropy, n_estimators=100; total time=   5.2s\n",
      "[CV 1/5] END class_weight=balanced, criterion=entropy, n_estimators=200; total time=  10.1s\n",
      "[CV 2/5] END class_weight=balanced, criterion=entropy, n_estimators=200; total time=  10.2s\n",
      "[CV 3/5] END class_weight=balanced, criterion=entropy, n_estimators=200; total time=  10.1s\n",
      "[CV 4/5] END class_weight=balanced, criterion=entropy, n_estimators=200; total time=  10.2s\n",
      "[CV 5/5] END class_weight=balanced, criterion=entropy, n_estimators=200; total time=  10.3s\n",
      "[CV 1/5] END class_weight=balanced, criterion=entropy, n_estimators=300; total time=  15.2s\n",
      "[CV 2/5] END class_weight=balanced, criterion=entropy, n_estimators=300; total time=  15.2s\n",
      "[CV 3/5] END class_weight=balanced, criterion=entropy, n_estimators=300; total time=  15.1s\n",
      "[CV 4/5] END class_weight=balanced, criterion=entropy, n_estimators=300; total time=  15.3s\n",
      "[CV 5/5] END class_weight=balanced, criterion=entropy, n_estimators=300; total time=  15.2s\n",
      "Best parameters are: {'class_weight': 'balanced', 'criterion': 'gini', 'n_estimators': 300}\n"
     ]
    }
   ],
   "source": [
    "X_train, X_test, y_train, y_test = \\\n",
    "                train_test_split(X_tfidf, y_tfidf, train_size=0.8, random_state=SEED)\n",
    "\n",
    "acc, f1, cm = predict_RF(X_train, X_test, y_train, y_test, param_grid=param_grid, scoring=scorer, multi=True)"
   ]
  },
  {
   "cell_type": "code",
   "execution_count": 25,
   "id": "desperate-sentence",
   "metadata": {
    "ExecuteTime": {
     "end_time": "2021-05-18T08:42:11.807925Z",
     "start_time": "2021-05-18T08:42:11.801693Z"
    }
   },
   "outputs": [
    {
     "name": "stdout",
     "output_type": "stream",
     "text": [
      "TF-IDF: 0.7545 0.7443135699045567\n"
     ]
    }
   ],
   "source": [
    "print(\"TF-IDF:\", acc, f1)"
   ]
  },
  {
   "cell_type": "code",
   "execution_count": 26,
   "id": "whole-denmark",
   "metadata": {
    "ExecuteTime": {
     "end_time": "2021-05-18T08:42:13.158973Z",
     "start_time": "2021-05-18T08:42:11.810879Z"
    }
   },
   "outputs": [
    {
     "data": {
      "image/png": "[encoded data removed]",
      "text/plain": [
       "<Figure size 1080x720 with 2 Axes>"
      ]
     },
     "metadata": {
      "needs_background": "light"
     },
     "output_type": "display_data"
    }
   ],
   "source": [
    "plt.figure(figsize=(15,10))\n",
    "sns.heatmap(data=cm, cmap='magma_r', annot=True);"
   ]
  },
  {
   "cell_type": "markdown",
   "id": "impossible-vancouver",
   "metadata": {},
   "source": [
    "### Song2Vec"
   ]
  },
  {
   "cell_type": "code",
   "execution_count": 27,
   "id": "inclusive-anthony",
   "metadata": {
    "ExecuteTime": {
     "end_time": "2021-05-18T08:42:14.800617Z",
     "start_time": "2021-05-18T08:42:13.161854Z"
    }
   },
   "outputs": [],
   "source": [
    "s2v_top_tag = s2v_df.merge(top_tag_songs, left_index=True, right_on='song_id')\n",
    "assert len(top_tag_songs) == len(s2v_top_tag)\n",
    "X_s2v = s2v_top_tag.drop(['song_id', 'label'], axis=1)\n",
    "y_s2v = s2v_top_tag.label.values.astype(int)"
   ]
  },
  {
   "cell_type": "code",
   "execution_count": 28,
   "id": "quality-edmonton",
   "metadata": {
    "ExecuteTime": {
     "end_time": "2021-05-18T08:51:47.522826Z",
     "start_time": "2021-05-18T08:42:14.803259Z"
    }
   },
   "outputs": [
    {
     "name": "stdout",
     "output_type": "stream",
     "text": [
      "Fitting 5 folds for each of 8 candidates, totalling 40 fits\n",
      "[CV 1/5] END class_weight=balanced, criterion=gini, n_estimators=2; total time=   0.1s\n",
      "[CV 2/5] END class_weight=balanced, criterion=gini, n_estimators=2; total time=   0.1s\n",
      "[CV 3/5] END class_weight=balanced, criterion=gini, n_estimators=2; total time=   0.1s\n",
      "[CV 4/5] END class_weight=balanced, criterion=gini, n_estimators=2; total time=   0.1s\n",
      "[CV 5/5] END class_weight=balanced, criterion=gini, n_estimators=2; total time=   0.1s\n",
      "[CV 1/5] END class_weight=balanced, criterion=gini, n_estimators=100; total time=   5.7s\n",
      "[CV 2/5] END class_weight=balanced, criterion=gini, n_estimators=100; total time=   5.6s\n",
      "[CV 3/5] END class_weight=balanced, criterion=gini, n_estimators=100; total time=   5.7s\n",
      "[CV 4/5] END class_weight=balanced, criterion=gini, n_estimators=100; total time=   5.7s\n",
      "[CV 5/5] END class_weight=balanced, criterion=gini, n_estimators=100; total time=   5.7s\n",
      "[CV 1/5] END class_weight=balanced, criterion=gini, n_estimators=200; total time=  11.3s\n",
      "[CV 2/5] END class_weight=balanced, criterion=gini, n_estimators=200; total time=  11.5s\n",
      "[CV 3/5] END class_weight=balanced, criterion=gini, n_estimators=200; total time=  11.5s\n",
      "[CV 4/5] END class_weight=balanced, criterion=gini, n_estimators=200; total time=  11.5s\n",
      "[CV 5/5] END class_weight=balanced, criterion=gini, n_estimators=200; total time=  11.4s\n",
      "[CV 1/5] END class_weight=balanced, criterion=gini, n_estimators=300; total time=  17.5s\n",
      "[CV 2/5] END class_weight=balanced, criterion=gini, n_estimators=300; total time=  17.2s\n",
      "[CV 3/5] END class_weight=balanced, criterion=gini, n_estimators=300; total time=  18.2s\n",
      "[CV 4/5] END class_weight=balanced, criterion=gini, n_estimators=300; total time=  18.8s\n",
      "[CV 5/5] END class_weight=balanced, criterion=gini, n_estimators=300; total time=  16.9s\n",
      "[CV 1/5] END class_weight=balanced, criterion=entropy, n_estimators=2; total time=   0.3s\n",
      "[CV 2/5] END class_weight=balanced, criterion=entropy, n_estimators=2; total time=   0.3s\n",
      "[CV 3/5] END class_weight=balanced, criterion=entropy, n_estimators=2; total time=   0.2s\n",
      "[CV 4/5] END class_weight=balanced, criterion=entropy, n_estimators=2; total time=   0.3s\n",
      "[CV 5/5] END class_weight=balanced, criterion=entropy, n_estimators=2; total time=   0.2s\n",
      "[CV 1/5] END class_weight=balanced, criterion=entropy, n_estimators=100; total time=  11.7s\n",
      "[CV 2/5] END class_weight=balanced, criterion=entropy, n_estimators=100; total time=  11.7s\n",
      "[CV 3/5] END class_weight=balanced, criterion=entropy, n_estimators=100; total time=  11.6s\n",
      "[CV 4/5] END class_weight=balanced, criterion=entropy, n_estimators=100; total time=  11.6s\n",
      "[CV 5/5] END class_weight=balanced, criterion=entropy, n_estimators=100; total time=  11.6s\n",
      "[CV 1/5] END class_weight=balanced, criterion=entropy, n_estimators=200; total time=  23.2s\n",
      "[CV 2/5] END class_weight=balanced, criterion=entropy, n_estimators=200; total time=  23.2s\n",
      "[CV 3/5] END class_weight=balanced, criterion=entropy, n_estimators=200; total time=  23.5s\n",
      "[CV 4/5] END class_weight=balanced, criterion=entropy, n_estimators=200; total time=  23.2s\n",
      "[CV 5/5] END class_weight=balanced, criterion=entropy, n_estimators=200; total time=  23.2s\n",
      "[CV 1/5] END class_weight=balanced, criterion=entropy, n_estimators=300; total time=  35.0s\n",
      "[CV 2/5] END class_weight=balanced, criterion=entropy, n_estimators=300; total time=  34.9s\n",
      "[CV 3/5] END class_weight=balanced, criterion=entropy, n_estimators=300; total time=  35.2s\n",
      "[CV 4/5] END class_weight=balanced, criterion=entropy, n_estimators=300; total time=  35.6s\n",
      "[CV 5/5] END class_weight=balanced, criterion=entropy, n_estimators=300; total time=  35.3s\n",
      "Best parameters are: {'class_weight': 'balanced', 'criterion': 'entropy', 'n_estimators': 300}\n"
     ]
    }
   ],
   "source": [
    "X_train, X_test, y_train, y_test = \\\n",
    "                train_test_split(X_s2v, y_s2v, train_size=0.8, random_state=SEED)\n",
    "acc, f1, cm = predict_RF(X_train, X_test, y_train, y_test, param_grid=param_grid, scoring=scorer,multi=True)"
   ]
  },
  {
   "cell_type": "code",
   "execution_count": 29,
   "id": "taken-thursday",
   "metadata": {
    "ExecuteTime": {
     "end_time": "2021-05-18T08:51:47.528664Z",
     "start_time": "2021-05-18T08:51:47.525255Z"
    }
   },
   "outputs": [
    {
     "name": "stdout",
     "output_type": "stream",
     "text": [
      "Song2Vec: 0.6305 0.6100534611070575\n"
     ]
    }
   ],
   "source": [
    "print(\"Song2Vec:\", acc, f1)"
   ]
  },
  {
   "cell_type": "code",
   "execution_count": 32,
   "id": "infectious-christianity",
   "metadata": {
    "ExecuteTime": {
     "end_time": "2021-05-18T08:53:35.813149Z",
     "start_time": "2021-05-18T08:53:34.107907Z"
    }
   },
   "outputs": [
    {
     "data": {
      "image/png": "[encoded data removed]",
      "text/plain": [
       "<Figure size 1080x720 with 2 Axes>"
      ]
     },
     "metadata": {
      "needs_background": "light"
     },
     "output_type": "display_data"
    }
   ],
   "source": [
    "plt.figure(figsize=(15,10))\n",
    "sns.heatmap(data=auc, cmap='magma_r', annot=True);"
   ]
  },
  {
   "cell_type": "code",
   "execution_count": 31,
   "id": "wanted-ecology",
   "metadata": {
    "ExecuteTime": {
     "end_time": "2021-05-18T08:51:48.713465Z",
     "start_time": "2021-05-18T08:51:48.686886Z"
    }
   },
   "outputs": [
    {
     "name": "stdout",
     "output_type": "stream",
     "text": [
      "Random: (0.0965, 0.10629521826890108)\n",
      "Majority: (0.22, 0.07934426229508197)\n"
     ]
    }
   ],
   "source": [
    "print(\"Random:\", predict_random(X_train, y_train, X_test, y_test, multi=True)[:2])\n",
    "print(\"Majority:\",predict_majority(X_train, y_train, X_test, y_test, multi=True)[:2])"
   ]
  },
  {
   "cell_type": "code",
   "execution_count": null,
   "id": "invalid-leeds",
   "metadata": {},
   "outputs": [],
   "source": []
  }
 ],
 "metadata": {
  "kernelspec": {
   "display_name": "mlbd",
   "language": "python",
   "name": "mlbd"
  },
  "language_info": {
   "codemirror_mode": {
    "name": "ipython",
    "version": 3
   },
   "file_extension": ".py",
   "mimetype": "text/x-python",
   "name": "python",
   "nbconvert_exporter": "python",
   "pygments_lexer": "ipython3",
   "version": "3.7.9"
  },
  "toc": {
   "base_numbering": 1,
   "nav_menu": {},
   "number_sections": true,
   "sideBar": true,
   "skip_h1_title": false,
   "title_cell": "Table of Contents",
   "title_sidebar": "Contents",
   "toc_cell": false,
   "toc_position": {},
   "toc_section_display": true,
   "toc_window_display": false
  }
 },
 "nbformat": 4,
 "nbformat_minor": 5
}
