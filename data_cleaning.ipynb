{
 "cells": [
  {
   "cell_type": "markdown",
   "id": "characteristic-correspondence",
   "metadata": {},
   "source": [
    "# Read data in"
   ]
  },
  {
   "cell_type": "code",
   "execution_count": 1,
   "id": "taken-plate",
   "metadata": {
    "ExecuteTime": {
     "end_time": "2021-04-30T06:28:03.983616Z",
     "start_time": "2021-04-30T06:27:57.350792Z"
    }
   },
   "outputs": [],
   "source": [
    "import numpy as np\n",
    "import pandas as pd\n",
    "from tqdm import tqdm\n",
    "\n",
    "import seaborn as sns\n",
    "import matplotlib.pyplot as plt\n",
    "\n",
    "import os\n",
    "import os.path\n",
    "from utils import read_lastfm"
   ]
  },
  {
   "cell_type": "code",
   "execution_count": 11,
   "id": "previous-button",
   "metadata": {
    "ExecuteTime": {
     "end_time": "2021-04-30T06:34:36.560812Z",
     "start_time": "2021-04-30T06:34:36.445620Z"
    }
   },
   "outputs": [],
   "source": [
    "songs, users = read_lastfm(zip_name=\"data/lastfm-dataset-1K.zip\")"
   ]
  },
  {
   "cell_type": "markdown",
   "id": "protecting-extraction",
   "metadata": {},
   "source": [
    "# Do some data cleaning..."
   ]
  },
  {
   "cell_type": "markdown",
   "id": "local-expert",
   "metadata": {},
   "source": [
    "To improve the data quality and solve the previously identified issues of missing ID's and non-cohesive artist and track names, we employed the MusicBrainz Database. This decision was backed by the fact the original dataset relied on this dataset in order to assign each artist and track with an ID, whenever it existed. To tackle this problem, besides the original dataset, three new versions of it are generated, with different levels of data unification. The unmodified dataset will henceforth be referred to as the **Original Dataset**.\n",
    "\n",
    "The database was downloaded from [the MusicBrainz website](https://musicbrainz.org/doc/MusicBrainz_Database/Download). This database dumps is only made available \"in a format that can be loaded into a local instance of PostgreSQL using a local instance of MusicBrainz Server\". This notebook reads in the relevant database dump files and parses them into pandas DataFrames before applying that data towards cleaning our original dataset."
   ]
  },
  {
   "cell_type": "markdown",
   "id": "alpine-shoot",
   "metadata": {},
   "source": [
    "## Clean artist names and IDs\n",
    "\n",
    "Firstly, we unify the artists' information by filling in missing IDs. To achieve this, we start by extracting the Original Dataset's artist's name and applying a simple transformation to it, in order to remove entries where one artist features another, and trying to fill in the missing ID by matching only the main artist with MusicBrainz's Dataset name and sort name (a variant of the artist's official name, often used when sorting artists by name) fields. For entries still not identified, we match the lower-cased versions of the Original Dataset's artist name with both its lower-cased name and sort name counterparts in the MusicBrainz Database. Finally, to address the variation of artist names, we now merge the Original Dataset with the MusicBrainz Database one, but instead of the names, we merge on the artist ID's, and, on match, replace the artist's name with its official version as defined in MusicBrainz.\n",
    "\n",
    "This creates the **Artist-Merged Dataset**."
   ]
  },
  {
   "cell_type": "markdown",
   "id": "noted-familiar",
   "metadata": {},
   "source": [
    "#### Convert part of MusicBrainz's database dump into a DataFrame"
   ]
  },
  {
   "cell_type": "code",
   "execution_count": 5,
   "id": "bound-brooks",
   "metadata": {
    "ExecuteTime": {
     "end_time": "2021-04-23T12:27:01.311546Z",
     "start_time": "2021-04-23T12:26:57.557390Z"
    }
   },
   "outputs": [],
   "source": [
    "if not os.path.isfile('data/musicbrainz_artist_df'):\n",
    "\n",
    "    # create artists_info_df from musicbrainz database dump\n",
    "    artists_info = []\n",
    "    with open('mbdump/mbdump/artist') as f:\n",
    "        lines = (line.rstrip('\\r\\n') for line in f)\n",
    "        for line in lines:\n",
    "            artists_info.append(line.split('\\t'))\n",
    "            \n",
    "    artist_df = pd.DataFrame(artists_info, columns=['id', 'gid', 'name', 'sort_name', 'begin_date_year', \n",
    "                                                'begin_date_month', 'begin_date_day', 'end_date_year', \n",
    "                                                'end_date_month', 'end_date_day', 'ended', 'type', 'gender', \n",
    "                                                'area', 'begin_area', 'end_area', 'comment', 'edits_pending', \n",
    "                                                'last_updated'])\n",
    "    \n",
    "    artist_df = artist_df.set_index('id').replace('\\\\N', np.NaN)\n",
    "    artist_df.to_pickle('data/musicbrainz_artist_df')"
   ]
  },
  {
   "cell_type": "code",
   "execution_count": 13,
   "id": "proper-atmosphere",
   "metadata": {
    "ExecuteTime": {
     "end_time": "2021-04-30T06:36:04.108263Z",
     "start_time": "2021-04-30T06:36:01.687755Z"
    }
   },
   "outputs": [],
   "source": [
    "artist_df = pd.read_pickle('data/musicbrainz_artist_df')"
   ]
  },
  {
   "cell_type": "markdown",
   "id": "thick-england",
   "metadata": {
    "ExecuteTime": {
     "end_time": "2021-04-23T12:27:12.225120Z",
     "start_time": "2021-04-23T12:27:12.222468Z"
    }
   },
   "source": [
    "#### Fill in as many missing IDs as possible"
   ]
  },
  {
   "cell_type": "markdown",
   "id": "differential-regulation",
   "metadata": {},
   "source": [
    "Data from MusicBrainz"
   ]
  },
  {
   "cell_type": "code",
   "execution_count": 14,
   "id": "composed-afghanistan",
   "metadata": {
    "ExecuteTime": {
     "end_time": "2021-04-30T06:36:05.238806Z",
     "start_time": "2021-04-30T06:36:04.111669Z"
    }
   },
   "outputs": [
    {
     "data": {
      "text/html": [
       "<div>\n",
       "<style scoped>\n",
       "    .dataframe tbody tr th:only-of-type {\n",
       "        vertical-align: middle;\n",
       "    }\n",
       "\n",
       "    .dataframe tbody tr th {\n",
       "        vertical-align: top;\n",
       "    }\n",
       "\n",
       "    .dataframe thead th {\n",
       "        text-align: right;\n",
       "    }\n",
       "</style>\n",
       "<table border=\"1\" class=\"dataframe\">\n",
       "  <thead>\n",
       "    <tr style=\"text-align: right;\">\n",
       "      <th></th>\n",
       "      <th>gid</th>\n",
       "      <th>name</th>\n",
       "      <th>sort_name</th>\n",
       "      <th>lower_name</th>\n",
       "    </tr>\n",
       "    <tr>\n",
       "      <th>id</th>\n",
       "      <th></th>\n",
       "      <th></th>\n",
       "      <th></th>\n",
       "      <th></th>\n",
       "    </tr>\n",
       "  </thead>\n",
       "  <tbody>\n",
       "    <tr>\n",
       "      <th>805192</th>\n",
       "      <td>8972b1c1-6482-4750-b51f-596d2edea8b1</td>\n",
       "      <td>WIK▲N</td>\n",
       "      <td>wik▲n</td>\n",
       "      <td>wik▲n</td>\n",
       "    </tr>\n",
       "    <tr>\n",
       "      <th>371203</th>\n",
       "      <td>49add228-eac5-4de8-836c-d75cde7369c3</td>\n",
       "      <td>Pete Moutso</td>\n",
       "      <td>moutso, pete</td>\n",
       "      <td>pete moutso</td>\n",
       "    </tr>\n",
       "    <tr>\n",
       "      <th>273232</th>\n",
       "      <td>c112a400-af49-4665-8bba-741531d962a1</td>\n",
       "      <td>Zachary</td>\n",
       "      <td>zachary</td>\n",
       "      <td>zachary</td>\n",
       "    </tr>\n",
       "    <tr>\n",
       "      <th>101060</th>\n",
       "      <td>ca3f3ee1-c4a7-4bac-a16a-0b888a396c6b</td>\n",
       "      <td>The Silhouettes</td>\n",
       "      <td>silhouettes, the</td>\n",
       "      <td>the silhouettes</td>\n",
       "    </tr>\n",
       "    <tr>\n",
       "      <th>145773</th>\n",
       "      <td>7b4a548e-a01a-49b7-82e7-b49efeb9732c</td>\n",
       "      <td>Aric Leavitt</td>\n",
       "      <td>leavitt, aric</td>\n",
       "      <td>aric leavitt</td>\n",
       "    </tr>\n",
       "    <tr>\n",
       "      <th>...</th>\n",
       "      <td>...</td>\n",
       "      <td>...</td>\n",
       "      <td>...</td>\n",
       "      <td>...</td>\n",
       "    </tr>\n",
       "    <tr>\n",
       "      <th>2141638</th>\n",
       "      <td>7319bb3c-a5f8-40ae-8be7-b94423938a6e</td>\n",
       "      <td>Evgeny Shagalov</td>\n",
       "      <td>evgeny shagalov</td>\n",
       "      <td>evgeny shagalov</td>\n",
       "    </tr>\n",
       "    <tr>\n",
       "      <th>2141639</th>\n",
       "      <td>6dd6cda2-2555-489f-8cfa-32a4f884105d</td>\n",
       "      <td>Kulto Maldito</td>\n",
       "      <td>kulto maldito</td>\n",
       "      <td>kulto maldito</td>\n",
       "    </tr>\n",
       "    <tr>\n",
       "      <th>2132558</th>\n",
       "      <td>7fd2ca21-c878-47eb-a528-469b0967691d</td>\n",
       "      <td>RYYZN</td>\n",
       "      <td>ryyzn</td>\n",
       "      <td>ryyzn</td>\n",
       "    </tr>\n",
       "    <tr>\n",
       "      <th>2141625</th>\n",
       "      <td>56d76d54-0316-4f4a-bdcb-5a7bfc58cc85</td>\n",
       "      <td>Iguana Farmer</td>\n",
       "      <td>iguana farmer</td>\n",
       "      <td>iguana farmer</td>\n",
       "    </tr>\n",
       "    <tr>\n",
       "      <th>2141626</th>\n",
       "      <td>a5307a59-866b-498f-81e0-6f9bb54290db</td>\n",
       "      <td>The Tuesday Treacles</td>\n",
       "      <td>tuesday treacles</td>\n",
       "      <td>the tuesday treacles</td>\n",
       "    </tr>\n",
       "  </tbody>\n",
       "</table>\n",
       "<p>1811895 rows × 4 columns</p>\n",
       "</div>"
      ],
      "text/plain": [
       "                                          gid                  name  \\\n",
       "id                                                                    \n",
       "805192   8972b1c1-6482-4750-b51f-596d2edea8b1                 WIK▲N   \n",
       "371203   49add228-eac5-4de8-836c-d75cde7369c3           Pete Moutso   \n",
       "273232   c112a400-af49-4665-8bba-741531d962a1               Zachary   \n",
       "101060   ca3f3ee1-c4a7-4bac-a16a-0b888a396c6b       The Silhouettes   \n",
       "145773   7b4a548e-a01a-49b7-82e7-b49efeb9732c          Aric Leavitt   \n",
       "...                                       ...                   ...   \n",
       "2141638  7319bb3c-a5f8-40ae-8be7-b94423938a6e       Evgeny Shagalov   \n",
       "2141639  6dd6cda2-2555-489f-8cfa-32a4f884105d         Kulto Maldito   \n",
       "2132558  7fd2ca21-c878-47eb-a528-469b0967691d                 RYYZN   \n",
       "2141625  56d76d54-0316-4f4a-bdcb-5a7bfc58cc85         Iguana Farmer   \n",
       "2141626  a5307a59-866b-498f-81e0-6f9bb54290db  The Tuesday Treacles   \n",
       "\n",
       "                sort_name            lower_name  \n",
       "id                                               \n",
       "805192              wik▲n                 wik▲n  \n",
       "371203       moutso, pete           pete moutso  \n",
       "273232            zachary               zachary  \n",
       "101060   silhouettes, the       the silhouettes  \n",
       "145773      leavitt, aric          aric leavitt  \n",
       "...                   ...                   ...  \n",
       "2141638   evgeny shagalov       evgeny shagalov  \n",
       "2141639     kulto maldito         kulto maldito  \n",
       "2132558             ryyzn                 ryyzn  \n",
       "2141625     iguana farmer         iguana farmer  \n",
       "2141626  tuesday treacles  the tuesday treacles  \n",
       "\n",
       "[1811895 rows x 4 columns]"
      ]
     },
     "execution_count": 14,
     "metadata": {},
     "output_type": "execute_result"
    }
   ],
   "source": [
    "lowercase_artists = artist_df[['gid', 'name', 'sort_name']].copy()\n",
    "lowercase_artists['lower_name'] = lowercase_artists['name'].str.lower()\n",
    "lowercase_artists['sort_name'] = lowercase_artists['sort_name'].str.lower()\n",
    "lowercase_artists"
   ]
  },
  {
   "cell_type": "markdown",
   "id": "weighted-museum",
   "metadata": {},
   "source": [
    "Data from Last.fm"
   ]
  },
  {
   "cell_type": "code",
   "execution_count": 15,
   "id": "durable-object",
   "metadata": {
    "ExecuteTime": {
     "end_time": "2021-04-30T06:36:12.087252Z",
     "start_time": "2021-04-30T06:36:05.241798Z"
    }
   },
   "outputs": [
    {
     "data": {
      "text/html": [
       "<div>\n",
       "<style scoped>\n",
       "    .dataframe tbody tr th:only-of-type {\n",
       "        vertical-align: middle;\n",
       "    }\n",
       "\n",
       "    .dataframe tbody tr th {\n",
       "        vertical-align: top;\n",
       "    }\n",
       "\n",
       "    .dataframe thead th {\n",
       "        text-align: right;\n",
       "    }\n",
       "</style>\n",
       "<table border=\"1\" class=\"dataframe\">\n",
       "  <thead>\n",
       "    <tr style=\"text-align: right;\">\n",
       "      <th></th>\n",
       "      <th>timestamp</th>\n",
       "      <th>musicbrainz-artist-id</th>\n",
       "      <th>artist-name</th>\n",
       "      <th>musicbrainz-track-id</th>\n",
       "      <th>track-name</th>\n",
       "      <th>name_for_merge</th>\n",
       "    </tr>\n",
       "    <tr>\n",
       "      <th>id</th>\n",
       "      <th></th>\n",
       "      <th></th>\n",
       "      <th></th>\n",
       "      <th></th>\n",
       "      <th></th>\n",
       "      <th></th>\n",
       "    </tr>\n",
       "  </thead>\n",
       "  <tbody>\n",
       "    <tr>\n",
       "      <th>1</th>\n",
       "      <td>2009-05-04 23:08:57+00:00</td>\n",
       "      <td>f1b1cf71-bd35-4e99-8624-24a6e15f133a</td>\n",
       "      <td>Deep Dish</td>\n",
       "      <td>NaN</td>\n",
       "      <td>Fuck Me Im Famous (Pacha Ibiza)-09-28-2007</td>\n",
       "      <td>deep dish</td>\n",
       "    </tr>\n",
       "    <tr>\n",
       "      <th>1</th>\n",
       "      <td>2009-05-04 13:54:10+00:00</td>\n",
       "      <td>a7f7df4a-77d8-4f12-8acd-5c60c93f4de8</td>\n",
       "      <td>坂本龍一</td>\n",
       "      <td>NaN</td>\n",
       "      <td>Composition 0919 (Live_2009_4_15)</td>\n",
       "      <td>坂本龍一</td>\n",
       "    </tr>\n",
       "    <tr>\n",
       "      <th>1</th>\n",
       "      <td>2009-05-04 13:52:04+00:00</td>\n",
       "      <td>a7f7df4a-77d8-4f12-8acd-5c60c93f4de8</td>\n",
       "      <td>坂本龍一</td>\n",
       "      <td>NaN</td>\n",
       "      <td>Mc2 (Live_2009_4_15)</td>\n",
       "      <td>坂本龍一</td>\n",
       "    </tr>\n",
       "    <tr>\n",
       "      <th>1</th>\n",
       "      <td>2009-05-04 13:42:52+00:00</td>\n",
       "      <td>a7f7df4a-77d8-4f12-8acd-5c60c93f4de8</td>\n",
       "      <td>坂本龍一</td>\n",
       "      <td>NaN</td>\n",
       "      <td>Hibari (Live_2009_4_15)</td>\n",
       "      <td>坂本龍一</td>\n",
       "    </tr>\n",
       "    <tr>\n",
       "      <th>1</th>\n",
       "      <td>2009-05-04 13:42:11+00:00</td>\n",
       "      <td>a7f7df4a-77d8-4f12-8acd-5c60c93f4de8</td>\n",
       "      <td>坂本龍一</td>\n",
       "      <td>NaN</td>\n",
       "      <td>Mc1 (Live_2009_4_15)</td>\n",
       "      <td>坂本龍一</td>\n",
       "    </tr>\n",
       "  </tbody>\n",
       "</table>\n",
       "</div>"
      ],
      "text/plain": [
       "                   timestamp                 musicbrainz-artist-id  \\\n",
       "id                                                                   \n",
       "1  2009-05-04 23:08:57+00:00  f1b1cf71-bd35-4e99-8624-24a6e15f133a   \n",
       "1  2009-05-04 13:54:10+00:00  a7f7df4a-77d8-4f12-8acd-5c60c93f4de8   \n",
       "1  2009-05-04 13:52:04+00:00  a7f7df4a-77d8-4f12-8acd-5c60c93f4de8   \n",
       "1  2009-05-04 13:42:52+00:00  a7f7df4a-77d8-4f12-8acd-5c60c93f4de8   \n",
       "1  2009-05-04 13:42:11+00:00  a7f7df4a-77d8-4f12-8acd-5c60c93f4de8   \n",
       "\n",
       "   artist-name musicbrainz-track-id  \\\n",
       "id                                    \n",
       "1    Deep Dish                  NaN   \n",
       "1         坂本龍一                  NaN   \n",
       "1         坂本龍一                  NaN   \n",
       "1         坂本龍一                  NaN   \n",
       "1         坂本龍一                  NaN   \n",
       "\n",
       "                                    track-name name_for_merge  \n",
       "id                                                             \n",
       "1   Fuck Me Im Famous (Pacha Ibiza)-09-28-2007      deep dish  \n",
       "1            Composition 0919 (Live_2009_4_15)           坂本龍一  \n",
       "1                         Mc2 (Live_2009_4_15)           坂本龍一  \n",
       "1                      Hibari (Live_2009_4_15)           坂本龍一  \n",
       "1                         Mc1 (Live_2009_4_15)           坂本龍一  "
      ]
     },
     "execution_count": 15,
     "metadata": {},
     "output_type": "execute_result"
    }
   ],
   "source": [
    "merged_user_history_df = songs.copy()\n",
    "merged_user_history_df['name_for_merge'] = merged_user_history_df['artist-name'].apply(lambda s: s.lower().split(' feat.')[0])\n",
    "merged_user_history_df.head()"
   ]
  },
  {
   "cell_type": "markdown",
   "id": "sound-galaxy",
   "metadata": {},
   "source": [
    "Just a small aside on how perfect results are impossible. As was stated above, even for a human annotator, the disambiguation of bands with the same name can be very hard or even impossible, especially since it's common for much information to be missing."
   ]
  },
  {
   "cell_type": "code",
   "execution_count": 45,
   "id": "diverse-temple",
   "metadata": {
    "ExecuteTime": {
     "end_time": "2021-04-28T08:32:57.129580Z",
     "start_time": "2021-04-28T08:32:56.964951Z"
    }
   },
   "outputs": [
    {
     "data": {
      "text/html": [
       "<div>\n",
       "<style scoped>\n",
       "    .dataframe tbody tr th:only-of-type {\n",
       "        vertical-align: middle;\n",
       "    }\n",
       "\n",
       "    .dataframe tbody tr th {\n",
       "        vertical-align: top;\n",
       "    }\n",
       "\n",
       "    .dataframe thead th {\n",
       "        text-align: right;\n",
       "    }\n",
       "</style>\n",
       "<table border=\"1\" class=\"dataframe\">\n",
       "  <thead>\n",
       "    <tr style=\"text-align: right;\">\n",
       "      <th></th>\n",
       "      <th>gid</th>\n",
       "      <th>name</th>\n",
       "      <th>sort_name</th>\n",
       "      <th>begin_date_year</th>\n",
       "      <th>begin_date_month</th>\n",
       "      <th>begin_date_day</th>\n",
       "      <th>end_date_year</th>\n",
       "      <th>end_date_month</th>\n",
       "      <th>end_date_day</th>\n",
       "      <th>ended</th>\n",
       "      <th>type</th>\n",
       "      <th>gender</th>\n",
       "      <th>area</th>\n",
       "      <th>begin_area</th>\n",
       "      <th>end_area</th>\n",
       "      <th>comment</th>\n",
       "      <th>edits_pending</th>\n",
       "      <th>last_updated</th>\n",
       "    </tr>\n",
       "    <tr>\n",
       "      <th>id</th>\n",
       "      <th></th>\n",
       "      <th></th>\n",
       "      <th></th>\n",
       "      <th></th>\n",
       "      <th></th>\n",
       "      <th></th>\n",
       "      <th></th>\n",
       "      <th></th>\n",
       "      <th></th>\n",
       "      <th></th>\n",
       "      <th></th>\n",
       "      <th></th>\n",
       "      <th></th>\n",
       "      <th></th>\n",
       "      <th></th>\n",
       "      <th></th>\n",
       "      <th></th>\n",
       "      <th></th>\n",
       "    </tr>\n",
       "  </thead>\n",
       "  <tbody>\n",
       "    <tr>\n",
       "      <th>1318790</th>\n",
       "      <td>12920d58-73cc-41bd-8ef5-07bb57969ffc</td>\n",
       "      <td>Underworld</td>\n",
       "      <td>Underworld</td>\n",
       "      <td>NaN</td>\n",
       "      <td>NaN</td>\n",
       "      <td>NaN</td>\n",
       "      <td>NaN</td>\n",
       "      <td>NaN</td>\n",
       "      <td>NaN</td>\n",
       "      <td>2</td>\n",
       "      <td>38</td>\n",
       "      <td>NaN</td>\n",
       "      <td>60s Canadian garage rock band</td>\n",
       "      <td>0</td>\n",
       "      <td>2016-01-17 16:56:15.138744+00</td>\n",
       "      <td>f</td>\n",
       "      <td>5076</td>\n",
       "      <td>NaN</td>\n",
       "    </tr>\n",
       "    <tr>\n",
       "      <th>1416795</th>\n",
       "      <td>a4249a81-f834-4990-9e48-1d3e6ef6b243</td>\n",
       "      <td>Underworld</td>\n",
       "      <td>Underworld</td>\n",
       "      <td>NaN</td>\n",
       "      <td>NaN</td>\n",
       "      <td>NaN</td>\n",
       "      <td>NaN</td>\n",
       "      <td>NaN</td>\n",
       "      <td>NaN</td>\n",
       "      <td>1</td>\n",
       "      <td>105</td>\n",
       "      <td>1</td>\n",
       "      <td>Italian DJ/producer Carlo Prevale</td>\n",
       "      <td>0</td>\n",
       "      <td>2016-10-02 06:44:46.293544+00</td>\n",
       "      <td>f</td>\n",
       "      <td>NaN</td>\n",
       "      <td>NaN</td>\n",
       "    </tr>\n",
       "    <tr>\n",
       "      <th>923</th>\n",
       "      <td>ba2f4f3b-0293-4bc8-bb94-2f73b5207343</td>\n",
       "      <td>Underworld</td>\n",
       "      <td>Underworld</td>\n",
       "      <td>1979</td>\n",
       "      <td>NaN</td>\n",
       "      <td>NaN</td>\n",
       "      <td>NaN</td>\n",
       "      <td>NaN</td>\n",
       "      <td>NaN</td>\n",
       "      <td>2</td>\n",
       "      <td>221</td>\n",
       "      <td>NaN</td>\n",
       "      <td>UK electronic music group</td>\n",
       "      <td>0</td>\n",
       "      <td>2019-12-30 00:46:49.015653+00</td>\n",
       "      <td>f</td>\n",
       "      <td>38112</td>\n",
       "      <td>NaN</td>\n",
       "    </tr>\n",
       "  </tbody>\n",
       "</table>\n",
       "</div>"
      ],
      "text/plain": [
       "                                          gid        name   sort_name  \\\n",
       "id                                                                      \n",
       "1318790  12920d58-73cc-41bd-8ef5-07bb57969ffc  Underworld  Underworld   \n",
       "1416795  a4249a81-f834-4990-9e48-1d3e6ef6b243  Underworld  Underworld   \n",
       "923      ba2f4f3b-0293-4bc8-bb94-2f73b5207343  Underworld  Underworld   \n",
       "\n",
       "        begin_date_year begin_date_month begin_date_day end_date_year  \\\n",
       "id                                                                      \n",
       "1318790             NaN              NaN            NaN           NaN   \n",
       "1416795             NaN              NaN            NaN           NaN   \n",
       "923                1979              NaN            NaN           NaN   \n",
       "\n",
       "        end_date_month end_date_day ended type gender  \\\n",
       "id                                                      \n",
       "1318790            NaN          NaN     2   38    NaN   \n",
       "1416795            NaN          NaN     1  105      1   \n",
       "923                NaN          NaN     2  221    NaN   \n",
       "\n",
       "                                      area begin_area  \\\n",
       "id                                                      \n",
       "1318790      60s Canadian garage rock band          0   \n",
       "1416795  Italian DJ/producer Carlo Prevale          0   \n",
       "923              UK electronic music group          0   \n",
       "\n",
       "                              end_area comment edits_pending last_updated  \n",
       "id                                                                         \n",
       "1318790  2016-01-17 16:56:15.138744+00       f          5076          NaN  \n",
       "1416795  2016-10-02 06:44:46.293544+00       f           NaN          NaN  \n",
       "923      2019-12-30 00:46:49.015653+00       f         38112          NaN  "
      ]
     },
     "execution_count": 45,
     "metadata": {},
     "output_type": "execute_result"
    }
   ],
   "source": [
    "# one example of the difficulty of this task\n",
    "artist_df[artist_df['name'] == 'Underworld']"
   ]
  },
  {
   "cell_type": "markdown",
   "id": "organized-upset",
   "metadata": {},
   "source": [
    "Start merging process to fill in missing IDs"
   ]
  },
  {
   "cell_type": "code",
   "execution_count": 16,
   "id": "copyrighted-gregory",
   "metadata": {
    "ExecuteTime": {
     "end_time": "2021-04-30T06:36:28.198954Z",
     "start_time": "2021-04-30T06:36:12.089441Z"
    }
   },
   "outputs": [],
   "source": [
    "merged_user_history_df = (pd.merge(merged_user_history_df, lowercase_artists.drop_duplicates(['lower_name']), # no perfect merging strategy to handle duplicates/same name entities, unfortunately\n",
    "                                   how='left', left_on='name_for_merge', right_on='lower_name')\n",
    "                          .drop(['name', 'lower_name', 'sort_name'], axis=1))\n",
    "\n",
    "merged_user_history_df['musicbrainz-artist-id'].fillna(merged_user_history_df['gid'], inplace=True)\n",
    "merged_user_history_df.drop(['gid'], axis=1, inplace=True)"
   ]
  },
  {
   "cell_type": "code",
   "execution_count": 17,
   "id": "special-spine",
   "metadata": {
    "ExecuteTime": {
     "end_time": "2021-04-30T06:36:49.890206Z",
     "start_time": "2021-04-30T06:36:28.201351Z"
    }
   },
   "outputs": [],
   "source": [
    "merged_user_history_df = (pd.merge(merged_user_history_df, lowercase_artists.drop_duplicates(['sort_name']), # no perfect merging strategy to handle duplicates/same name entities, unfortunately\n",
    "                                   how='left', left_on='name_for_merge', right_on='sort_name')\n",
    "                          .drop(['name', 'lower_name', 'sort_name'], axis=1))\n",
    "\n",
    "merged_user_history_df['musicbrainz-artist-id'].fillna(merged_user_history_df['gid'], inplace=True)\n",
    "merged_user_history_df.drop(['gid'], axis=1, inplace=True)"
   ]
  },
  {
   "cell_type": "markdown",
   "id": "convenient-danger",
   "metadata": {},
   "source": [
    "#### Unify artists' names"
   ]
  },
  {
   "cell_type": "markdown",
   "id": "everyday-zimbabwe",
   "metadata": {},
   "source": [
    "Lastly, let's get rid of \"duplicate\" artist names, by using only their official \"name\" value for all of their entries."
   ]
  },
  {
   "cell_type": "code",
   "execution_count": 18,
   "id": "cultural-maple",
   "metadata": {
    "ExecuteTime": {
     "end_time": "2021-04-30T06:37:03.925691Z",
     "start_time": "2021-04-30T06:36:49.892846Z"
    }
   },
   "outputs": [],
   "source": [
    "# merge on gid and just keep \"name\"\n",
    "merged_user_history_df = (pd.merge(merged_user_history_df, lowercase_artists,\n",
    "                                   how='left', left_on='musicbrainz-artist-id', right_on='gid')\n",
    "                          .drop(['gid', 'lower_name', 'sort_name'], axis=1))\n",
    "\n",
    "merged_user_history_df['name'].fillna(merged_user_history_df['artist-name'], inplace=True)\n",
    "merged_user_history_df.drop(['artist-name', 'name_for_merge'], axis=1, inplace=True)\n",
    "merged_user_history_df.rename(columns={'name': 'artist-name'}, inplace=True)"
   ]
  },
  {
   "cell_type": "code",
   "execution_count": 19,
   "id": "brave-treasure",
   "metadata": {
    "ExecuteTime": {
     "end_time": "2021-04-30T06:37:03.990527Z",
     "start_time": "2021-04-30T06:37:03.944933Z"
    }
   },
   "outputs": [
    {
     "data": {
      "text/html": [
       "<div>\n",
       "<style scoped>\n",
       "    .dataframe tbody tr th:only-of-type {\n",
       "        vertical-align: middle;\n",
       "    }\n",
       "\n",
       "    .dataframe tbody tr th {\n",
       "        vertical-align: top;\n",
       "    }\n",
       "\n",
       "    .dataframe thead th {\n",
       "        text-align: right;\n",
       "    }\n",
       "</style>\n",
       "<table border=\"1\" class=\"dataframe\">\n",
       "  <thead>\n",
       "    <tr style=\"text-align: right;\">\n",
       "      <th></th>\n",
       "      <th>timestamp</th>\n",
       "      <th>musicbrainz-artist-id</th>\n",
       "      <th>musicbrainz-track-id</th>\n",
       "      <th>track-name</th>\n",
       "      <th>artist-name</th>\n",
       "    </tr>\n",
       "  </thead>\n",
       "  <tbody>\n",
       "    <tr>\n",
       "      <th>0</th>\n",
       "      <td>2009-05-04 23:08:57+00:00</td>\n",
       "      <td>f1b1cf71-bd35-4e99-8624-24a6e15f133a</td>\n",
       "      <td>NaN</td>\n",
       "      <td>Fuck Me Im Famous (Pacha Ibiza)-09-28-2007</td>\n",
       "      <td>Deep Dish</td>\n",
       "    </tr>\n",
       "    <tr>\n",
       "      <th>1</th>\n",
       "      <td>2009-05-04 13:54:10+00:00</td>\n",
       "      <td>a7f7df4a-77d8-4f12-8acd-5c60c93f4de8</td>\n",
       "      <td>NaN</td>\n",
       "      <td>Composition 0919 (Live_2009_4_15)</td>\n",
       "      <td>坂本龍一</td>\n",
       "    </tr>\n",
       "    <tr>\n",
       "      <th>2</th>\n",
       "      <td>2009-05-04 13:52:04+00:00</td>\n",
       "      <td>a7f7df4a-77d8-4f12-8acd-5c60c93f4de8</td>\n",
       "      <td>NaN</td>\n",
       "      <td>Mc2 (Live_2009_4_15)</td>\n",
       "      <td>坂本龍一</td>\n",
       "    </tr>\n",
       "    <tr>\n",
       "      <th>3</th>\n",
       "      <td>2009-05-04 13:42:52+00:00</td>\n",
       "      <td>a7f7df4a-77d8-4f12-8acd-5c60c93f4de8</td>\n",
       "      <td>NaN</td>\n",
       "      <td>Hibari (Live_2009_4_15)</td>\n",
       "      <td>坂本龍一</td>\n",
       "    </tr>\n",
       "    <tr>\n",
       "      <th>4</th>\n",
       "      <td>2009-05-04 13:42:11+00:00</td>\n",
       "      <td>a7f7df4a-77d8-4f12-8acd-5c60c93f4de8</td>\n",
       "      <td>NaN</td>\n",
       "      <td>Mc1 (Live_2009_4_15)</td>\n",
       "      <td>坂本龍一</td>\n",
       "    </tr>\n",
       "  </tbody>\n",
       "</table>\n",
       "</div>"
      ],
      "text/plain": [
       "                  timestamp                 musicbrainz-artist-id  \\\n",
       "0 2009-05-04 23:08:57+00:00  f1b1cf71-bd35-4e99-8624-24a6e15f133a   \n",
       "1 2009-05-04 13:54:10+00:00  a7f7df4a-77d8-4f12-8acd-5c60c93f4de8   \n",
       "2 2009-05-04 13:52:04+00:00  a7f7df4a-77d8-4f12-8acd-5c60c93f4de8   \n",
       "3 2009-05-04 13:42:52+00:00  a7f7df4a-77d8-4f12-8acd-5c60c93f4de8   \n",
       "4 2009-05-04 13:42:11+00:00  a7f7df4a-77d8-4f12-8acd-5c60c93f4de8   \n",
       "\n",
       "  musicbrainz-track-id                                  track-name artist-name  \n",
       "0                  NaN  Fuck Me Im Famous (Pacha Ibiza)-09-28-2007   Deep Dish  \n",
       "1                  NaN           Composition 0919 (Live_2009_4_15)        坂本龍一  \n",
       "2                  NaN                        Mc2 (Live_2009_4_15)        坂本龍一  \n",
       "3                  NaN                     Hibari (Live_2009_4_15)        坂本龍一  \n",
       "4                  NaN                        Mc1 (Live_2009_4_15)        坂本龍一  "
      ]
     },
     "execution_count": 19,
     "metadata": {},
     "output_type": "execute_result"
    }
   ],
   "source": [
    "merged_user_history_df.head()"
   ]
  },
  {
   "cell_type": "code",
   "execution_count": 20,
   "id": "faced-builder",
   "metadata": {
    "ExecuteTime": {
     "end_time": "2021-04-30T06:37:11.719185Z",
     "start_time": "2021-04-30T06:37:03.994905Z"
    }
   },
   "outputs": [],
   "source": [
    "merged_user_history_df.to_pickle('data/artist_merged_user_history_df')"
   ]
  },
  {
   "cell_type": "markdown",
   "id": "liable-antibody",
   "metadata": {},
   "source": [
    "---"
   ]
  },
  {
   "cell_type": "markdown",
   "id": "collect-armenia",
   "metadata": {},
   "source": [
    "## Clean track names and IDs\n",
    "\n",
    "A very similar process was done to clean the tracks' information, filling in missing ID's by an analogous process. Instead of removing featured artist, track names featuring \"live\" (followed usually by a specific date) were modified to contain only the track name, and a no-parenthesis variant was also created. Merges were then performed based on these fields and their MusicBrainz Database track name counterpart. For tracks still unidentified, the lower-cased versions of these fields were used for the matching. This results in the **Doubly-Merged Dataset**.\n",
    "\n",
    "Finally, to unify track ID's, as with artist ID's, a merge was performed based on matching track ID's between the Doubly-Merged Dataset and the MusicBrainz Database, and, on match, the track names were replaced by their official names. This generates in the fourth and final dataset, the **Renamed Doubly-Merged Dataset**."
   ]
  },
  {
   "cell_type": "markdown",
   "id": "worthy-prescription",
   "metadata": {},
   "source": [
    "#### Convert part of MusicBrainz's database dump into a DataFrame"
   ]
  },
  {
   "cell_type": "code",
   "execution_count": null,
   "id": "external-dodge",
   "metadata": {},
   "outputs": [],
   "source": [
    "if not os.path.isfile('data/musicbrainz_track_df'):\n",
    "\n",
    "    # create tracks_df from musicbrainz database dump\n",
    "    tracks_info = []\n",
    "    with open('mbdump/mbdump/track') as f:\n",
    "        lines = (line.rstrip('\\r\\n') for line in f)\n",
    "        for line in lines:\n",
    "            tracks_info.append(line.split('\\t'))\n",
    "            \n",
    "    track_df = pd.DataFrame(tracks_info, columns=['id', 'gid', 'recording', 'medium', 'position', \n",
    "                                                'number', 'name', 'artist_credit', 'length', \n",
    "                                                'edits_pending', 'last_updated', 'comment'])\n",
    "    track_df = track_df.set_index('id').replace('\\\\N', np.NaN)\n",
    "    track_df.to_pickle('data/musicbrainz_track_df')"
   ]
  },
  {
   "cell_type": "code",
   "execution_count": 35,
   "id": "insured-heating",
   "metadata": {
    "ExecuteTime": {
     "end_time": "2021-04-23T16:40:55.577262Z",
     "start_time": "2021-04-23T14:46:36.022143Z"
    }
   },
   "outputs": [],
   "source": [
    "track_df = pd.read_pickle('data/musicbrainz_track_df')"
   ]
  },
  {
   "cell_type": "code",
   "execution_count": 36,
   "id": "impossible-access",
   "metadata": {
    "ExecuteTime": {
     "end_time": "2021-04-23T16:40:56.206561Z",
     "start_time": "2021-04-23T16:40:55.691022Z"
    }
   },
   "outputs": [
    {
     "data": {
      "text/html": [
       "<div>\n",
       "<style scoped>\n",
       "    .dataframe tbody tr th:only-of-type {\n",
       "        vertical-align: middle;\n",
       "    }\n",
       "\n",
       "    .dataframe tbody tr th {\n",
       "        vertical-align: top;\n",
       "    }\n",
       "\n",
       "    .dataframe thead th {\n",
       "        text-align: right;\n",
       "    }\n",
       "</style>\n",
       "<table border=\"1\" class=\"dataframe\">\n",
       "  <thead>\n",
       "    <tr style=\"text-align: right;\">\n",
       "      <th></th>\n",
       "      <th>gid</th>\n",
       "      <th>recording</th>\n",
       "      <th>medium</th>\n",
       "      <th>position</th>\n",
       "      <th>number</th>\n",
       "      <th>name</th>\n",
       "      <th>artist_credit</th>\n",
       "      <th>length</th>\n",
       "      <th>edits_pending</th>\n",
       "      <th>last_updated</th>\n",
       "      <th>comment</th>\n",
       "    </tr>\n",
       "    <tr>\n",
       "      <th>id</th>\n",
       "      <th></th>\n",
       "      <th></th>\n",
       "      <th></th>\n",
       "      <th></th>\n",
       "      <th></th>\n",
       "      <th></th>\n",
       "      <th></th>\n",
       "      <th></th>\n",
       "      <th></th>\n",
       "      <th></th>\n",
       "      <th></th>\n",
       "    </tr>\n",
       "  </thead>\n",
       "  <tbody>\n",
       "    <tr>\n",
       "      <th>34228823</th>\n",
       "      <td>9b02977e-a03b-4a6b-a9a9-06e722bdcd7a</td>\n",
       "      <td>428644</td>\n",
       "      <td>3254461</td>\n",
       "      <td>1</td>\n",
       "      <td>A1</td>\n",
       "      <td>The Ghost of Tom Joad</td>\n",
       "      <td>813</td>\n",
       "      <td>263000</td>\n",
       "      <td>0</td>\n",
       "      <td>2021-02-21 12:19:56.629604+00</td>\n",
       "      <td>f</td>\n",
       "    </tr>\n",
       "    <tr>\n",
       "      <th>81</th>\n",
       "      <td>43da7544-6283-3159-84f9-537fe823a1a7</td>\n",
       "      <td>11</td>\n",
       "      <td>600623</td>\n",
       "      <td>5</td>\n",
       "      <td>5</td>\n",
       "      <td>Five Man Army</td>\n",
       "      <td>4</td>\n",
       "      <td>364306</td>\n",
       "      <td>0</td>\n",
       "      <td>2011-05-16 16:08:20.288158+00</td>\n",
       "      <td>f</td>\n",
       "    </tr>\n",
       "    <tr>\n",
       "      <th>99</th>\n",
       "      <td>fa124f9a-d8ea-36a3-bed3-c817fdbe13e2</td>\n",
       "      <td>11</td>\n",
       "      <td>600626</td>\n",
       "      <td>5</td>\n",
       "      <td>5</td>\n",
       "      <td>Five Man Army</td>\n",
       "      <td>4</td>\n",
       "      <td>364306</td>\n",
       "      <td>0</td>\n",
       "      <td>2011-05-16 16:08:20.288158+00</td>\n",
       "      <td>f</td>\n",
       "    </tr>\n",
       "    <tr>\n",
       "      <th>108</th>\n",
       "      <td>e56c6d3c-09cf-33a0-81c5-ceade77c35dc</td>\n",
       "      <td>11</td>\n",
       "      <td>600627</td>\n",
       "      <td>5</td>\n",
       "      <td>5</td>\n",
       "      <td>Five Man Army</td>\n",
       "      <td>4</td>\n",
       "      <td>364306</td>\n",
       "      <td>0</td>\n",
       "      <td>2011-05-16 16:08:20.288158+00</td>\n",
       "      <td>f</td>\n",
       "    </tr>\n",
       "    <tr>\n",
       "      <th>126</th>\n",
       "      <td>b107859d-d32f-3038-87cc-99353b99dace</td>\n",
       "      <td>11</td>\n",
       "      <td>825915</td>\n",
       "      <td>5</td>\n",
       "      <td>5</td>\n",
       "      <td>Five Man Army</td>\n",
       "      <td>4</td>\n",
       "      <td>364306</td>\n",
       "      <td>0</td>\n",
       "      <td>2011-05-16 16:08:20.288158+00</td>\n",
       "      <td>f</td>\n",
       "    </tr>\n",
       "  </tbody>\n",
       "</table>\n",
       "</div>"
      ],
      "text/plain": [
       "                                           gid recording   medium position  \\\n",
       "id                                                                           \n",
       "34228823  9b02977e-a03b-4a6b-a9a9-06e722bdcd7a    428644  3254461        1   \n",
       "81        43da7544-6283-3159-84f9-537fe823a1a7        11   600623        5   \n",
       "99        fa124f9a-d8ea-36a3-bed3-c817fdbe13e2        11   600626        5   \n",
       "108       e56c6d3c-09cf-33a0-81c5-ceade77c35dc        11   600627        5   \n",
       "126       b107859d-d32f-3038-87cc-99353b99dace        11   825915        5   \n",
       "\n",
       "         number                   name artist_credit  length edits_pending  \\\n",
       "id                                                                           \n",
       "34228823     A1  The Ghost of Tom Joad           813  263000             0   \n",
       "81            5          Five Man Army             4  364306             0   \n",
       "99            5          Five Man Army             4  364306             0   \n",
       "108           5          Five Man Army             4  364306             0   \n",
       "126           5          Five Man Army             4  364306             0   \n",
       "\n",
       "                           last_updated comment  \n",
       "id                                               \n",
       "34228823  2021-02-21 12:19:56.629604+00       f  \n",
       "81        2011-05-16 16:08:20.288158+00       f  \n",
       "99        2011-05-16 16:08:20.288158+00       f  \n",
       "108       2011-05-16 16:08:20.288158+00       f  \n",
       "126       2011-05-16 16:08:20.288158+00       f  "
      ]
     },
     "execution_count": 36,
     "metadata": {},
     "output_type": "execute_result"
    }
   ],
   "source": [
    "track_df.head()"
   ]
  },
  {
   "cell_type": "markdown",
   "id": "voluntary-click",
   "metadata": {},
   "source": [
    "#### Fill in as many missing IDs as possible"
   ]
  },
  {
   "cell_type": "code",
   "execution_count": 4,
   "id": "everyday-astronomy",
   "metadata": {
    "ExecuteTime": {
     "end_time": "2021-04-28T08:04:08.255323Z",
     "start_time": "2021-04-28T08:03:08.700345Z"
    }
   },
   "outputs": [],
   "source": [
    "artist_df = pd.read_pickle('data/musicbrainz_artist_df')\n",
    "merged_user_history_df = pd.read_pickle('data/artist_merged_user_history_df')"
   ]
  },
  {
   "cell_type": "markdown",
   "id": "valued-wedding",
   "metadata": {
    "ExecuteTime": {
     "end_time": "2021-04-30T06:40:48.633010Z",
     "start_time": "2021-04-30T06:37:11.722135Z"
    }
   },
   "source": [
    "Data from MusicBrainz"
   ]
  },
  {
   "cell_type": "code",
   "execution_count": 22,
   "id": "decreased-registrar",
   "metadata": {
    "ExecuteTime": {
     "end_time": "2021-04-30T06:43:54.283796Z",
     "start_time": "2021-04-30T06:40:48.642751Z"
    }
   },
   "outputs": [],
   "source": [
    "lowercase_tracks = track_df[['gid', 'name']].copy()\n",
    "lowercase_tracks['lower_name'] = lowercase_tracks['name'].str.lower()"
   ]
  },
  {
   "cell_type": "markdown",
   "id": "initial-stage",
   "metadata": {},
   "source": [
    "Data from Last.fm"
   ]
  },
  {
   "cell_type": "code",
   "execution_count": 23,
   "id": "invisible-recruitment",
   "metadata": {
    "ExecuteTime": {
     "end_time": "2021-04-30T06:44:33.065279Z",
     "start_time": "2021-04-30T06:43:54.294191Z"
    }
   },
   "outputs": [
    {
     "data": {
      "text/html": [
       "<div>\n",
       "<style scoped>\n",
       "    .dataframe tbody tr th:only-of-type {\n",
       "        vertical-align: middle;\n",
       "    }\n",
       "\n",
       "    .dataframe tbody tr th {\n",
       "        vertical-align: top;\n",
       "    }\n",
       "\n",
       "    .dataframe thead th {\n",
       "        text-align: right;\n",
       "    }\n",
       "</style>\n",
       "<table border=\"1\" class=\"dataframe\">\n",
       "  <thead>\n",
       "    <tr style=\"text-align: right;\">\n",
       "      <th></th>\n",
       "      <th>timestamp</th>\n",
       "      <th>musicbrainz-artist-id</th>\n",
       "      <th>musicbrainz-track-id</th>\n",
       "      <th>track-name</th>\n",
       "      <th>artist-name</th>\n",
       "      <th>lower_track</th>\n",
       "      <th>no_parens_track</th>\n",
       "      <th>no_parens_lower_track</th>\n",
       "    </tr>\n",
       "  </thead>\n",
       "  <tbody>\n",
       "    <tr>\n",
       "      <th>0</th>\n",
       "      <td>2009-05-04 23:08:57+00:00</td>\n",
       "      <td>f1b1cf71-bd35-4e99-8624-24a6e15f133a</td>\n",
       "      <td>NaN</td>\n",
       "      <td>Fuck Me Im Famous (Pacha Ibiza)-09-28-2007</td>\n",
       "      <td>Deep Dish</td>\n",
       "      <td>fuck me im famous (pacha ibiza)-09-28-2007</td>\n",
       "      <td>Fuck Me Im Famous</td>\n",
       "      <td>fuck me im famous</td>\n",
       "    </tr>\n",
       "    <tr>\n",
       "      <th>1</th>\n",
       "      <td>2009-05-04 13:54:10+00:00</td>\n",
       "      <td>a7f7df4a-77d8-4f12-8acd-5c60c93f4de8</td>\n",
       "      <td>NaN</td>\n",
       "      <td>Composition 0919 (Live_2009_4_15)</td>\n",
       "      <td>坂本龍一</td>\n",
       "      <td>composition 0919</td>\n",
       "      <td>Composition 0919</td>\n",
       "      <td>composition 0919</td>\n",
       "    </tr>\n",
       "    <tr>\n",
       "      <th>2</th>\n",
       "      <td>2009-05-04 13:52:04+00:00</td>\n",
       "      <td>a7f7df4a-77d8-4f12-8acd-5c60c93f4de8</td>\n",
       "      <td>NaN</td>\n",
       "      <td>Mc2 (Live_2009_4_15)</td>\n",
       "      <td>坂本龍一</td>\n",
       "      <td>mc2</td>\n",
       "      <td>Mc2</td>\n",
       "      <td>mc2</td>\n",
       "    </tr>\n",
       "    <tr>\n",
       "      <th>3</th>\n",
       "      <td>2009-05-04 13:42:52+00:00</td>\n",
       "      <td>a7f7df4a-77d8-4f12-8acd-5c60c93f4de8</td>\n",
       "      <td>NaN</td>\n",
       "      <td>Hibari (Live_2009_4_15)</td>\n",
       "      <td>坂本龍一</td>\n",
       "      <td>hibari</td>\n",
       "      <td>Hibari</td>\n",
       "      <td>hibari</td>\n",
       "    </tr>\n",
       "    <tr>\n",
       "      <th>4</th>\n",
       "      <td>2009-05-04 13:42:11+00:00</td>\n",
       "      <td>a7f7df4a-77d8-4f12-8acd-5c60c93f4de8</td>\n",
       "      <td>NaN</td>\n",
       "      <td>Mc1 (Live_2009_4_15)</td>\n",
       "      <td>坂本龍一</td>\n",
       "      <td>mc1</td>\n",
       "      <td>Mc1</td>\n",
       "      <td>mc1</td>\n",
       "    </tr>\n",
       "  </tbody>\n",
       "</table>\n",
       "</div>"
      ],
      "text/plain": [
       "                  timestamp                 musicbrainz-artist-id  \\\n",
       "0 2009-05-04 23:08:57+00:00  f1b1cf71-bd35-4e99-8624-24a6e15f133a   \n",
       "1 2009-05-04 13:54:10+00:00  a7f7df4a-77d8-4f12-8acd-5c60c93f4de8   \n",
       "2 2009-05-04 13:52:04+00:00  a7f7df4a-77d8-4f12-8acd-5c60c93f4de8   \n",
       "3 2009-05-04 13:42:52+00:00  a7f7df4a-77d8-4f12-8acd-5c60c93f4de8   \n",
       "4 2009-05-04 13:42:11+00:00  a7f7df4a-77d8-4f12-8acd-5c60c93f4de8   \n",
       "\n",
       "  musicbrainz-track-id                                  track-name  \\\n",
       "0                  NaN  Fuck Me Im Famous (Pacha Ibiza)-09-28-2007   \n",
       "1                  NaN           Composition 0919 (Live_2009_4_15)   \n",
       "2                  NaN                        Mc2 (Live_2009_4_15)   \n",
       "3                  NaN                     Hibari (Live_2009_4_15)   \n",
       "4                  NaN                        Mc1 (Live_2009_4_15)   \n",
       "\n",
       "  artist-name                                 lower_track    no_parens_track  \\\n",
       "0   Deep Dish  fuck me im famous (pacha ibiza)-09-28-2007  Fuck Me Im Famous   \n",
       "1        坂本龍一                            composition 0919   Composition 0919   \n",
       "2        坂本龍一                                         mc2                Mc2   \n",
       "3        坂本龍一                                      hibari             Hibari   \n",
       "4        坂本龍一                                         mc1                Mc1   \n",
       "\n",
       "  no_parens_lower_track  \n",
       "0     fuck me im famous  \n",
       "1      composition 0919  \n",
       "2                   mc2  \n",
       "3                hibari  \n",
       "4                   mc1  "
      ]
     },
     "execution_count": 23,
     "metadata": {},
     "output_type": "execute_result"
    }
   ],
   "source": [
    "double_merged_user_history_df = merged_user_history_df.copy()\n",
    "double_merged_user_history_df['lower_track'] = double_merged_user_history_df['track-name'].apply(lambda s: str(s).lower().split('(live')[0].strip())\n",
    "double_merged_user_history_df['no_parens_track'] = double_merged_user_history_df['track-name'].apply(lambda s: str(s).split('(')[0].strip())\n",
    "double_merged_user_history_df['no_parens_lower_track'] = double_merged_user_history_df['track-name'].apply(lambda s: str(s).lower().split('(')[0].strip())\n",
    "double_merged_user_history_df.head()"
   ]
  },
  {
   "cell_type": "markdown",
   "id": "correct-static",
   "metadata": {},
   "source": [
    "Once again, perfect results are impossible. Even for a human annotator, the disambiguation of songs with the same name can be very hard or even impossible, especially since it's common for much information to be missing. Furthermore, for the specific situation of tracks, because of different \"mediums\" (about which [MusicBrainz's database information and schema page](https://musicbrainz.org/doc/MusicBrainz_Database/Schema) had no useful information) it's particularly impossible to distinguish between that different entries with the same artist and track names."
   ]
  },
  {
   "cell_type": "code",
   "execution_count": 76,
   "id": "divine-measure",
   "metadata": {
    "ExecuteTime": {
     "end_time": "2021-04-28T09:53:43.686353Z",
     "start_time": "2021-04-28T09:53:31.735647Z"
    }
   },
   "outputs": [
    {
     "data": {
      "text/html": [
       "<div>\n",
       "<style scoped>\n",
       "    .dataframe tbody tr th:only-of-type {\n",
       "        vertical-align: middle;\n",
       "    }\n",
       "\n",
       "    .dataframe tbody tr th {\n",
       "        vertical-align: top;\n",
       "    }\n",
       "\n",
       "    .dataframe thead th {\n",
       "        text-align: right;\n",
       "    }\n",
       "</style>\n",
       "<table border=\"1\" class=\"dataframe\">\n",
       "  <thead>\n",
       "    <tr style=\"text-align: right;\">\n",
       "      <th></th>\n",
       "      <th>gid</th>\n",
       "      <th>recording</th>\n",
       "      <th>medium</th>\n",
       "      <th>position</th>\n",
       "      <th>number</th>\n",
       "      <th>name</th>\n",
       "      <th>artist_credit</th>\n",
       "      <th>length</th>\n",
       "      <th>edits_pending</th>\n",
       "      <th>last_updated</th>\n",
       "      <th>comment</th>\n",
       "    </tr>\n",
       "    <tr>\n",
       "      <th>id</th>\n",
       "      <th></th>\n",
       "      <th></th>\n",
       "      <th></th>\n",
       "      <th></th>\n",
       "      <th></th>\n",
       "      <th></th>\n",
       "      <th></th>\n",
       "      <th></th>\n",
       "      <th></th>\n",
       "      <th></th>\n",
       "      <th></th>\n",
       "    </tr>\n",
       "  </thead>\n",
       "  <tbody>\n",
       "    <tr>\n",
       "      <th>81</th>\n",
       "      <td>43da7544-6283-3159-84f9-537fe823a1a7</td>\n",
       "      <td>11</td>\n",
       "      <td>600623</td>\n",
       "      <td>5</td>\n",
       "      <td>5</td>\n",
       "      <td>Five Man Army</td>\n",
       "      <td>4</td>\n",
       "      <td>364306</td>\n",
       "      <td>0</td>\n",
       "      <td>2011-05-16 16:08:20.288158+00</td>\n",
       "      <td>f</td>\n",
       "    </tr>\n",
       "    <tr>\n",
       "      <th>99</th>\n",
       "      <td>fa124f9a-d8ea-36a3-bed3-c817fdbe13e2</td>\n",
       "      <td>11</td>\n",
       "      <td>600626</td>\n",
       "      <td>5</td>\n",
       "      <td>5</td>\n",
       "      <td>Five Man Army</td>\n",
       "      <td>4</td>\n",
       "      <td>364306</td>\n",
       "      <td>0</td>\n",
       "      <td>2011-05-16 16:08:20.288158+00</td>\n",
       "      <td>f</td>\n",
       "    </tr>\n",
       "    <tr>\n",
       "      <th>108</th>\n",
       "      <td>e56c6d3c-09cf-33a0-81c5-ceade77c35dc</td>\n",
       "      <td>11</td>\n",
       "      <td>600627</td>\n",
       "      <td>5</td>\n",
       "      <td>5</td>\n",
       "      <td>Five Man Army</td>\n",
       "      <td>4</td>\n",
       "      <td>364306</td>\n",
       "      <td>0</td>\n",
       "      <td>2011-05-16 16:08:20.288158+00</td>\n",
       "      <td>f</td>\n",
       "    </tr>\n",
       "    <tr>\n",
       "      <th>126</th>\n",
       "      <td>b107859d-d32f-3038-87cc-99353b99dace</td>\n",
       "      <td>11</td>\n",
       "      <td>825915</td>\n",
       "      <td>5</td>\n",
       "      <td>5</td>\n",
       "      <td>Five Man Army</td>\n",
       "      <td>4</td>\n",
       "      <td>364306</td>\n",
       "      <td>0</td>\n",
       "      <td>2011-05-16 16:08:20.288158+00</td>\n",
       "      <td>f</td>\n",
       "    </tr>\n",
       "    <tr>\n",
       "      <th>45</th>\n",
       "      <td>8dc6d377-8f15-32d6-8545-1c13f33bbd40</td>\n",
       "      <td>11</td>\n",
       "      <td>1311006</td>\n",
       "      <td>5</td>\n",
       "      <td>5</td>\n",
       "      <td>Five Man Army</td>\n",
       "      <td>4</td>\n",
       "      <td>364306</td>\n",
       "      <td>0</td>\n",
       "      <td>2011-05-16 16:08:20.288158+00</td>\n",
       "      <td>f</td>\n",
       "    </tr>\n",
       "  </tbody>\n",
       "</table>\n",
       "</div>"
      ],
      "text/plain": [
       "                                      gid recording   medium position number  \\\n",
       "id                                                                             \n",
       "81   43da7544-6283-3159-84f9-537fe823a1a7        11   600623        5      5   \n",
       "99   fa124f9a-d8ea-36a3-bed3-c817fdbe13e2        11   600626        5      5   \n",
       "108  e56c6d3c-09cf-33a0-81c5-ceade77c35dc        11   600627        5      5   \n",
       "126  b107859d-d32f-3038-87cc-99353b99dace        11   825915        5      5   \n",
       "45   8dc6d377-8f15-32d6-8545-1c13f33bbd40        11  1311006        5      5   \n",
       "\n",
       "              name artist_credit  length edits_pending  \\\n",
       "id                                                       \n",
       "81   Five Man Army             4  364306             0   \n",
       "99   Five Man Army             4  364306             0   \n",
       "108  Five Man Army             4  364306             0   \n",
       "126  Five Man Army             4  364306             0   \n",
       "45   Five Man Army             4  364306             0   \n",
       "\n",
       "                      last_updated comment  \n",
       "id                                          \n",
       "81   2011-05-16 16:08:20.288158+00       f  \n",
       "99   2011-05-16 16:08:20.288158+00       f  \n",
       "108  2011-05-16 16:08:20.288158+00       f  \n",
       "126  2011-05-16 16:08:20.288158+00       f  \n",
       "45   2011-05-16 16:08:20.288158+00       f  "
      ]
     },
     "execution_count": 76,
     "metadata": {},
     "output_type": "execute_result"
    }
   ],
   "source": [
    "# one example of the difficulty of this task\n",
    "track_df[track_df['name'] == 'Five Man Army'].head()"
   ]
  },
  {
   "cell_type": "markdown",
   "id": "domestic-jerusalem",
   "metadata": {},
   "source": [
    "Start the merging process to fill in missing IDs"
   ]
  },
  {
   "cell_type": "code",
   "execution_count": 24,
   "id": "warming-ranch",
   "metadata": {
    "ExecuteTime": {
     "end_time": "2021-04-30T06:47:26.281498Z",
     "start_time": "2021-04-30T06:44:33.068887Z"
    }
   },
   "outputs": [],
   "source": [
    "double_merged_user_history_df = (pd.merge(double_merged_user_history_df, lowercase_tracks.drop_duplicates(['name']), # no perfect merging strategy to handle duplicates/same name entities, unfortunately\n",
    "                                          how='left', left_on='track-name', right_on='name')\n",
    "                                 .drop(['name', 'lower_name'], axis=1))\n",
    "\n",
    "double_merged_user_history_df['musicbrainz-track-id'].fillna(double_merged_user_history_df['gid'], inplace=True)\n",
    "double_merged_user_history_df.drop(['gid'], axis=1, inplace=True)"
   ]
  },
  {
   "cell_type": "code",
   "execution_count": 25,
   "id": "intense-buyer",
   "metadata": {
    "ExecuteTime": {
     "end_time": "2021-04-30T06:50:09.081473Z",
     "start_time": "2021-04-30T06:47:26.298975Z"
    }
   },
   "outputs": [],
   "source": [
    "double_merged_user_history_df = (pd.merge(double_merged_user_history_df, lowercase_tracks.drop_duplicates(['name']), # no perfect merging strategy to handle duplicates/same name entities, unfortunately\n",
    "                                          how='left', left_on='no_parens_track', right_on='name')\n",
    "                                 .drop(['name', 'lower_name', 'no_parens_track'], axis=1))\n",
    "\n",
    "double_merged_user_history_df['musicbrainz-track-id'].fillna(double_merged_user_history_df['gid'], inplace=True)\n",
    "double_merged_user_history_df.drop(['gid'], axis=1, inplace=True)"
   ]
  },
  {
   "cell_type": "code",
   "execution_count": 26,
   "id": "complex-pioneer",
   "metadata": {
    "ExecuteTime": {
     "end_time": "2021-04-30T06:53:05.514936Z",
     "start_time": "2021-04-30T06:50:09.100195Z"
    }
   },
   "outputs": [],
   "source": [
    "double_merged_user_history_df = (pd.merge(double_merged_user_history_df, lowercase_tracks.drop_duplicates(['lower_name']), # no perfect merging strategy to handle duplicates/same name entities, unfortunately\n",
    "                                          how='left', left_on='lower_track', right_on='lower_name')\n",
    "                                 .drop(['name', 'lower_name', 'lower_track'], axis=1))\n",
    "\n",
    "double_merged_user_history_df['musicbrainz-track-id'].fillna(double_merged_user_history_df['gid'], inplace=True)\n",
    "double_merged_user_history_df.drop(['gid'], axis=1, inplace=True)"
   ]
  },
  {
   "cell_type": "code",
   "execution_count": 27,
   "id": "viral-minute",
   "metadata": {
    "ExecuteTime": {
     "end_time": "2021-04-30T06:55:22.573832Z",
     "start_time": "2021-04-30T06:53:05.529564Z"
    }
   },
   "outputs": [],
   "source": [
    "double_merged_user_history_df = (pd.merge(double_merged_user_history_df, lowercase_tracks.drop_duplicates(['lower_name']), # no perfect merging strategy to handle duplicates/same name entities, unfortunately\n",
    "                                          how='left', left_on='no_parens_lower_track', right_on='lower_name')\n",
    "                                 .drop(['name', 'lower_name', 'no_parens_lower_track'], axis=1))\n",
    "\n",
    "double_merged_user_history_df['musicbrainz-track-id'].fillna(double_merged_user_history_df['gid'], inplace=True)\n",
    "double_merged_user_history_df.drop(['gid'], axis=1, inplace=True)"
   ]
  },
  {
   "cell_type": "code",
   "execution_count": 28,
   "id": "outdoor-joseph",
   "metadata": {
    "ExecuteTime": {
     "end_time": "2021-04-30T06:55:22.654502Z",
     "start_time": "2021-04-30T06:55:22.585085Z"
    }
   },
   "outputs": [
    {
     "data": {
      "text/html": [
       "<div>\n",
       "<style scoped>\n",
       "    .dataframe tbody tr th:only-of-type {\n",
       "        vertical-align: middle;\n",
       "    }\n",
       "\n",
       "    .dataframe tbody tr th {\n",
       "        vertical-align: top;\n",
       "    }\n",
       "\n",
       "    .dataframe thead th {\n",
       "        text-align: right;\n",
       "    }\n",
       "</style>\n",
       "<table border=\"1\" class=\"dataframe\">\n",
       "  <thead>\n",
       "    <tr style=\"text-align: right;\">\n",
       "      <th></th>\n",
       "      <th>timestamp</th>\n",
       "      <th>musicbrainz-artist-id</th>\n",
       "      <th>musicbrainz-track-id</th>\n",
       "      <th>track-name</th>\n",
       "      <th>artist-name</th>\n",
       "    </tr>\n",
       "  </thead>\n",
       "  <tbody>\n",
       "    <tr>\n",
       "      <th>0</th>\n",
       "      <td>2009-05-04 23:08:57+00:00</td>\n",
       "      <td>f1b1cf71-bd35-4e99-8624-24a6e15f133a</td>\n",
       "      <td>NaN</td>\n",
       "      <td>Fuck Me Im Famous (Pacha Ibiza)-09-28-2007</td>\n",
       "      <td>Deep Dish</td>\n",
       "    </tr>\n",
       "    <tr>\n",
       "      <th>1</th>\n",
       "      <td>2009-05-04 13:54:10+00:00</td>\n",
       "      <td>a7f7df4a-77d8-4f12-8acd-5c60c93f4de8</td>\n",
       "      <td>11e397fa-0c7d-3ede-bea2-0b55cd813091</td>\n",
       "      <td>Composition 0919 (Live_2009_4_15)</td>\n",
       "      <td>坂本龍一</td>\n",
       "    </tr>\n",
       "    <tr>\n",
       "      <th>2</th>\n",
       "      <td>2009-05-04 13:52:04+00:00</td>\n",
       "      <td>a7f7df4a-77d8-4f12-8acd-5c60c93f4de8</td>\n",
       "      <td>3247d6dd-274d-4275-b2e0-7fae5a994d25</td>\n",
       "      <td>Mc2 (Live_2009_4_15)</td>\n",
       "      <td>坂本龍一</td>\n",
       "    </tr>\n",
       "    <tr>\n",
       "      <th>3</th>\n",
       "      <td>2009-05-04 13:42:52+00:00</td>\n",
       "      <td>a7f7df4a-77d8-4f12-8acd-5c60c93f4de8</td>\n",
       "      <td>3ed802d8-71e4-30f5-94cf-c653129d42f6</td>\n",
       "      <td>Hibari (Live_2009_4_15)</td>\n",
       "      <td>坂本龍一</td>\n",
       "    </tr>\n",
       "    <tr>\n",
       "      <th>4</th>\n",
       "      <td>2009-05-04 13:42:11+00:00</td>\n",
       "      <td>a7f7df4a-77d8-4f12-8acd-5c60c93f4de8</td>\n",
       "      <td>91259686-94cf-316d-aace-2a9aa87421df</td>\n",
       "      <td>Mc1 (Live_2009_4_15)</td>\n",
       "      <td>坂本龍一</td>\n",
       "    </tr>\n",
       "  </tbody>\n",
       "</table>\n",
       "</div>"
      ],
      "text/plain": [
       "                  timestamp                 musicbrainz-artist-id  \\\n",
       "0 2009-05-04 23:08:57+00:00  f1b1cf71-bd35-4e99-8624-24a6e15f133a   \n",
       "1 2009-05-04 13:54:10+00:00  a7f7df4a-77d8-4f12-8acd-5c60c93f4de8   \n",
       "2 2009-05-04 13:52:04+00:00  a7f7df4a-77d8-4f12-8acd-5c60c93f4de8   \n",
       "3 2009-05-04 13:42:52+00:00  a7f7df4a-77d8-4f12-8acd-5c60c93f4de8   \n",
       "4 2009-05-04 13:42:11+00:00  a7f7df4a-77d8-4f12-8acd-5c60c93f4de8   \n",
       "\n",
       "                   musicbrainz-track-id  \\\n",
       "0                                   NaN   \n",
       "1  11e397fa-0c7d-3ede-bea2-0b55cd813091   \n",
       "2  3247d6dd-274d-4275-b2e0-7fae5a994d25   \n",
       "3  3ed802d8-71e4-30f5-94cf-c653129d42f6   \n",
       "4  91259686-94cf-316d-aace-2a9aa87421df   \n",
       "\n",
       "                                   track-name artist-name  \n",
       "0  Fuck Me Im Famous (Pacha Ibiza)-09-28-2007   Deep Dish  \n",
       "1           Composition 0919 (Live_2009_4_15)        坂本龍一  \n",
       "2                        Mc2 (Live_2009_4_15)        坂本龍一  \n",
       "3                     Hibari (Live_2009_4_15)        坂本龍一  \n",
       "4                        Mc1 (Live_2009_4_15)        坂本龍一  "
      ]
     },
     "execution_count": 28,
     "metadata": {},
     "output_type": "execute_result"
    }
   ],
   "source": [
    "double_merged_user_history_df.head()"
   ]
  },
  {
   "cell_type": "markdown",
   "id": "considerable-prerequisite",
   "metadata": {},
   "source": [
    "Measure how much of a difference this merging did."
   ]
  },
  {
   "cell_type": "code",
   "execution_count": 31,
   "id": "generous-limit",
   "metadata": {
    "ExecuteTime": {
     "end_time": "2021-04-30T06:55:38.397436Z",
     "start_time": "2021-04-30T06:55:36.560969Z"
    }
   },
   "outputs": [
    {
     "data": {
      "text/plain": [
       "2162726"
      ]
     },
     "execution_count": 31,
     "metadata": {},
     "output_type": "execute_result"
    }
   ],
   "source": [
    "merged_user_history_df['musicbrainz-track-id'].isna().sum()"
   ]
  },
  {
   "cell_type": "code",
   "execution_count": 32,
   "id": "entire-happening",
   "metadata": {
    "ExecuteTime": {
     "end_time": "2021-04-30T06:55:39.969477Z",
     "start_time": "2021-04-30T06:55:38.399959Z"
    }
   },
   "outputs": [
    {
     "data": {
      "text/plain": [
       "802874"
      ]
     },
     "execution_count": 32,
     "metadata": {},
     "output_type": "execute_result"
    }
   ],
   "source": [
    "double_merged_user_history_df['musicbrainz-track-id'].isna().sum()"
   ]
  },
  {
   "cell_type": "markdown",
   "id": "sophisticated-launch",
   "metadata": {},
   "source": [
    "Save the Doubly-Merged Dataset."
   ]
  },
  {
   "cell_type": "code",
   "execution_count": 33,
   "id": "wooden-football",
   "metadata": {
    "ExecuteTime": {
     "end_time": "2021-04-30T06:55:50.639555Z",
     "start_time": "2021-04-30T06:55:39.973926Z"
    }
   },
   "outputs": [],
   "source": [
    "double_merged_user_history_df.to_pickle('data/artist_tracks_merged_user_history_df')"
   ]
  },
  {
   "cell_type": "markdown",
   "id": "formal-baltimore",
   "metadata": {},
   "source": [
    "Finally, get rid of \"duplicate\" track names (and instead using only their official \"name\" value for all of their entries, by \"merging\" using the gid), and create the fourth and final dataset, Renamed Doubly-Merged Dataset."
   ]
  },
  {
   "cell_type": "code",
   "execution_count": 39,
   "id": "immediate-porter",
   "metadata": {
    "ExecuteTime": {
     "end_time": "2021-04-30T14:20:00.646146Z",
     "start_time": "2021-04-30T14:18:05.845324Z"
    }
   },
   "outputs": [],
   "source": [
    "# # merge on gid and just keep track \"name\"\n",
    "renamed_double_merged_user_history_df = (pd.merge(double_merged_user_history_df, lowercase_tracks, # no need for .drop_duplicates(['gid'])\n",
    "                                              how='left', left_on='musicbrainz-track-id', \n",
    "                                              right_on='gid')\n",
    "                                         .drop(['lower_name', 'gid'], axis=1))\n",
    "\n",
    "renamed_double_merged_user_history_df['no_parens_track'] = renamed_double_merged_user_history_df['track-name'].apply(lambda s: str(s).split('(')[0].strip())\n",
    "renamed_double_merged_user_history_df['name'].fillna(renamed_double_merged_user_history_df['no_parens_track'], inplace=True)\n",
    "renamed_double_merged_user_history_df.drop(['track-name', 'no_parens_track'], axis=1, inplace=True)\n",
    "renamed_double_merged_user_history_df.rename(columns={'name': 'track-name'}, inplace=True)\n",
    "renamed_double_merged_user_history_df['track_name'] = renamed_double_merged_user_history_df['track_name'].replace('NaN', np.NaN)"
   ]
  },
  {
   "cell_type": "code",
   "execution_count": 40,
   "id": "comparative-birth",
   "metadata": {
    "ExecuteTime": {
     "end_time": "2021-04-30T14:20:11.138084Z",
     "start_time": "2021-04-30T14:20:00.653503Z"
    }
   },
   "outputs": [],
   "source": [
    "renamed_double_merged_user_history_df.to_pickle('renamed_artist_track_double_merged_user_history_df')"
   ]
  }
 ],
 "metadata": {
  "kernelspec": {
   "display_name": "Python [conda env:mlbd] *",
   "language": "python",
   "name": "conda-env-mlbd-py"
  },
  "language_info": {
   "codemirror_mode": {
    "name": "ipython",
    "version": 3
   },
   "file_extension": ".py",
   "mimetype": "text/x-python",
   "name": "python",
   "nbconvert_exporter": "python",
   "pygments_lexer": "ipython3",
   "version": "3.7.10"
  }
 },
 "nbformat": 4,
 "nbformat_minor": 5
}
