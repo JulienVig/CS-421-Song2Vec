{
 "cells": [
  {
   "cell_type": "code",
   "execution_count": 1,
   "id": "existing-implementation",
   "metadata": {
    "ExecuteTime": {
     "end_time": "2021-05-26T10:32:12.781895Z",
     "start_time": "2021-05-26T10:32:09.812172Z"
    }
   },
   "outputs": [],
   "source": [
    "from tqdm import tqdm\n",
    "import pandas as pd\n",
    "import matplotlib.pyplot as plt\n",
    "import seaborn as sns\n",
    "import numpy as np\n",
    "from utils import read_lastfm\n",
    "from gensim.models import Word2Vec\n",
    "\n",
    "from sklearn.feature_extraction.text import TfidfVectorizer\n",
    "from sklearn.model_selection import train_test_split, GridSearchCV, KFold\n",
    "from sklearn.ensemble import RandomForestClassifier\n",
    "from sklearn.metrics import accuracy_score, f1_score, roc_auc_score, confusion_matrix, make_scorer\n",
    "from sklearn.dummy import DummyClassifier"
   ]
  },
  {
   "cell_type": "code",
   "execution_count": 2,
   "id": "raising-deputy",
   "metadata": {
    "ExecuteTime": {
     "end_time": "2021-05-26T10:32:12.809562Z",
     "start_time": "2021-05-26T10:32:12.787485Z"
    }
   },
   "outputs": [],
   "source": [
    "SEED = 42"
   ]
  },
  {
   "cell_type": "code",
   "execution_count": 3,
   "id": "national-acrylic",
   "metadata": {
    "ExecuteTime": {
     "end_time": "2021-05-26T10:36:15.243917Z",
     "start_time": "2021-05-26T10:32:12.819269Z"
    }
   },
   "outputs": [],
   "source": [
    "songs, users = read_lastfm(zip_name=\"data/lastfm-dataset-1K.zip\")\n",
    "songs[\"song_id\"]= songs.artist_name.cat.codes.astype(\"int64\") * songs.track_name.nunique() \\\n",
    "                            + songs.track_name.cat.codes"
   ]
  },
  {
   "cell_type": "code",
   "execution_count": 5,
   "id": "elder-ground",
   "metadata": {
    "ExecuteTime": {
     "end_time": "2021-05-26T10:36:25.468126Z",
     "start_time": "2021-05-26T10:36:25.401785Z"
    }
   },
   "outputs": [],
   "source": [
    "def build_vocab(model):\n",
    "    emb_vectors = {}\n",
    "    for n in model.wv.index_to_key:\n",
    "        emb_vectors[n] = model.wv[n]\n",
    "    return emb_vectors\n",
    "\n",
    "def load_model(filename):\n",
    "    model = Word2Vec.load(filename)\n",
    "    emb_vectors = build_vocab(model)\n",
    "    return emb_vectors, model\n",
    "\n",
    "def train_s2v(df):\n",
    "    users = df.user_id.unique()\n",
    "    df = df[df.user_id.isin(users)]\n",
    "    df = df.sort_values(\"timestamp\")\n",
    "    df = df[~df.track_name.isna()]\n",
    "    print(f\"Number of entries: {len(df)}\")\n",
    "    assert len(df.query(\"song_id < 0\")) == 0 #Check underflow\n",
    "    document = df.groupby(\"user_id\").agg(sentences=(\"song_id\", lambda x: list(x) if len(x) else \"None\"))\n",
    "    document = document[document.sentences != 'None']\n",
    "    \n",
    "    min_count = 1 if document.sentences.apply(len).max() < 5 else 5 #set min count to 1 if no word appears 5 times\n",
    "    kwargs_122 = {'vector_size': 100, 'window': 3,'negative': 10, 'ns_exponent': 0, 'min_count':1}\n",
    "    model = Word2Vec(document.sentences.values, **kwargs_122)\n",
    "    emb_vectors = build_vocab(model)\n",
    "    print(f\"Number of song embeddings: {len(emb_vectors)}\")\n",
    "    return df, emb_vectors, model\n",
    "\n",
    "def train_tfidf(df):\n",
    "    \n",
    "    corpus_df = df.sort_values([\"user_id\", \"timestamp\"]).groupby(\"user_id\")\\\n",
    "                .agg(sequence=(\"song_id\", lambda x: list(x) if len(x) else \"None\"))\n",
    "    corpus_df = corpus_df[corpus_df.sequence != 'None']\n",
    "    corpus = corpus_df.values[:,0]\n",
    "    vectorizer = TfidfVectorizer(tokenizer=lambda x: x, lowercase=False)\n",
    "    X = vectorizer.fit_transform(corpus)\n",
    "    song_ids = list(vectorizer.vocabulary_.keys())\n",
    "    indices = list(vectorizer.vocabulary_.values())\n",
    "    song_ids = [x for _,x in sorted(zip(indices,song_ids))]\n",
    "    return pd.DataFrame(data=X.T.todense(), index=song_ids)"
   ]
  },
  {
   "cell_type": "code",
   "execution_count": 6,
   "id": "ongoing-vitamin",
   "metadata": {
    "ExecuteTime": {
     "end_time": "2021-05-26T10:36:51.941139Z",
     "start_time": "2021-05-26T10:36:51.903899Z"
    }
   },
   "outputs": [],
   "source": [
    "def compute_metrics(y_test, y_pred):\n",
    "    acc = accuracy_score(y_test, y_pred)\n",
    "    f1 = f1_score(y_test, y_pred)\n",
    "    return acc, f1\n",
    "\n",
    "def predict_RF(X_train, X_test, y_train, y_test):\n",
    "    model = RandomForestClassifier(random_state=SEED, n_estimators=1100, criterion='gini', max_depth=None)\n",
    "    model.fit(X_train, y_train)\n",
    "    y_pred = model.predict(X_test)\n",
    "    return compute_metrics(y_test, y_pred)\n",
    "\n",
    "def predict_random(X_train, y_train, X_test, y_test):\n",
    "    random = DummyClassifier(strategy='uniform', random_state=SEED)\n",
    "    random.fit(X_train, y_train)\n",
    "    y_pred = random.predict(X_test)\n",
    "    return compute_metrics(y_test, y_pred)\n",
    "\n",
    "def predict_majority(X_train, y_train, X_test, y_test):\n",
    "    majority = DummyClassifier(strategy='most_frequent', random_state=SEED)\n",
    "    majority.fit(X_train, y_train)\n",
    "    y_pred = majority.predict(X_test)\n",
    "    return compute_metrics(y_test, y_pred)"
   ]
  },
  {
   "cell_type": "code",
   "execution_count": 7,
   "id": "excess-jurisdiction",
   "metadata": {
    "ExecuteTime": {
     "end_time": "2021-05-26T10:36:52.887907Z",
     "start_time": "2021-05-26T10:36:52.839699Z"
    }
   },
   "outputs": [],
   "source": [
    "def create_vectors_pairs(vectors, song_pairs):\n",
    "    vector_pairs = vectors.merge(song_pairs, right_on=\"song1\", left_index=True)\\\n",
    "            .merge(vectors, left_on=\"song2\", right_index=True)\\\n",
    "            .drop(['song1', 'song2'], axis=1)\n",
    "    assert len(vector_pairs) == len(song_pairs)\n",
    "    assert vector_pairs.shape[1] == vectors.shape[1] * 2\n",
    "    return vector_pairs"
   ]
  },
  {
   "cell_type": "code",
   "execution_count": 39,
   "id": "brief-omega",
   "metadata": {
    "ExecuteTime": {
     "end_time": "2021-05-26T11:01:50.169774Z",
     "start_time": "2021-05-26T11:01:50.158393Z"
    }
   },
   "outputs": [],
   "source": [
    "def pick_songs_from_same_artist(discography, half_n):\n",
    "    \"\"\"Simply chooses random songs pair them with the previous or following one\"\"\"\n",
    "    artist_with_multiple_songs = discography.groupby(\"artist_name\")\\\n",
    "                                .agg(count=(\"track_name\", \"count\")).reset_index()\n",
    "    discography = discography.merge(artist_with_multiple_songs)\n",
    "    \n",
    "    song_pairs = discography.groupby(\"artist_name\").agg(song1=(\"song_id\", \"first\"), \n",
    "                                                        song2=(\"song_id\", \"last\"))\n",
    "    X = song_pairs.sample(half_n, random_state=SEED).values\n",
    "    y = np.ones(half_n)\n",
    "    return X, y\n",
    "    \n",
    "def pick_songs_from_diff_artist(discography, half_n):\n",
    "    discography = discography.drop_duplicates(\"artist_name\")\n",
    "#     half_n = len(discography) // 2\n",
    "    random_songs = discography.sample(2 * half_n, replace=True, random_state=SEED).song_id.values\n",
    "    songs1 = random_songs[:half_n]\n",
    "    songs2 = random_songs[half_n:]\n",
    "    X = np.c_[songs1, songs2]\n",
    "    y = np.zeros(half_n)\n",
    "    return X, y\n",
    "\n",
    "def create_artist_dataset(discography, n=20000):\n",
    "    \"\"\"Create a dataset of song pairs that either appeared in the same context or not\"\"\" \n",
    "    X_pos, y_pos = pick_songs_from_same_artist(discography, n//2)\n",
    "    X_neg, y_neg = pick_songs_from_diff_artist(discography, n//2)\n",
    "    old_X = np.r_[X_pos, X_neg]\n",
    "    old_y = np.r_[y_pos, y_neg]\n",
    "    dataset = list(zip(old_X, old_y))\n",
    "    np.random.seed(SEED)\n",
    "    np.random.shuffle(dataset)\n",
    "    X, y = zip(*dataset)\n",
    "    return pd.DataFrame(X, columns=[\"song1\", \"song2\"]), np.array(y)"
   ]
  },
  {
   "cell_type": "code",
   "execution_count": 36,
   "id": "agreed-montana",
   "metadata": {
    "ExecuteTime": {
     "end_time": "2021-05-26T11:00:31.124374Z",
     "start_time": "2021-05-26T11:00:31.114104Z"
    }
   },
   "outputs": [],
   "source": [
    "def train_dataset(df,discography):\n",
    "    sample, emb_vectors, model = train_s2v(df)\n",
    "    s2v_df = pd.DataFrame(data=emb_vectors.values(), index=emb_vectors.keys())\n",
    "    \n",
    "    song_pairs, labels = create_artist_dataset(discography, n= min(len(discography), 10000))\n",
    "    #Only keep song with s2v embeddings\n",
    "    song_pairs = song_pairs.copy()\n",
    "    song_pairs['labels'] = labels\n",
    "    song_pairs = song_pairs[song_pairs.song1.isin(s2v_df.index) & song_pairs.song2.isin(s2v_df.index)]\n",
    "    labels = song_pairs.labels\n",
    "    song_pairs.drop('labels', axis=1, inplace=True)\n",
    "    \n",
    "    tfidf_df = train_tfidf(df)\n",
    "    tfidf_pairs = create_vectors_pairs(tfidf_df, song_pairs)\n",
    "    X_train, X_test, y_train, y_test = \\\n",
    "                train_test_split(tfidf_pairs, labels, train_size=0.8, random_state=SEED)\n",
    "    tfidf_acc, tfidf_f1 = predict_RF(X_train, X_test, y_train, y_test)\n",
    "    \n",
    "    \n",
    "    s2v_pairs = create_vectors_pairs(s2v_df, song_pairs)\n",
    "    X_train, X_test, y_train, y_test = \\\n",
    "                train_test_split(s2v_pairs, labels, train_size=0.8, random_state=SEED)\n",
    "    s2v_acc, s2v_f1 = predict_RF(X_train, X_test, y_train, y_test)\n",
    "    return tfidf_acc, tfidf_f1, s2v_acc, s2v_f1"
   ]
  },
  {
   "cell_type": "code",
   "execution_count": 37,
   "id": "pacific-techno",
   "metadata": {
    "ExecuteTime": {
     "end_time": "2021-05-26T11:00:31.337895Z",
     "start_time": "2021-05-26T11:00:31.327010Z"
    }
   },
   "outputs": [],
   "source": [
    "def train_all_dataset(sizes = [1e3, 1e4, 1e5, 1e6, 1e7, \"all\"]):\n",
    "    tfidf_accs, tfidf_f1s, s2v_accs, s2v_f1s = [],[],[],[]\n",
    "    for size in sizes:\n",
    "        print(f\"Starting training on dataset of size {size}\")\n",
    "        if size == \"all\":\n",
    "            df = songs.copy()\n",
    "        else:\n",
    "            df = songs.sample(int(size))\n",
    "        discography = df[[\"artist_name\", \"track_name\", \"song_id\"]].drop_duplicates()\n",
    "        tfidf_acc, tfidf_f1, s2v_acc, s2v_f1 = train_dataset(df, discography)\n",
    "        print(f\"For {size}:\", tfidf_acc, tfidf_f1, s2v_acc, s2v_f1)\n",
    "        tfidf_accs.append(tfidf_acc)\n",
    "        tfidf_f1s.append(tfidf_f1)\n",
    "        s2v_accs.append(s2v_acc)\n",
    "        s2v_f1s.append(s2v_f1)\n",
    "    return tfidf_accs, tfidf_f1s, s2v_accs, s2v_f1s"
   ]
  },
  {
   "cell_type": "code",
   "execution_count": 40,
   "id": "million-hollywood",
   "metadata": {
    "ExecuteTime": {
     "end_time": "2021-05-26T12:41:47.661169Z",
     "start_time": "2021-05-26T11:01:52.395675Z"
    },
    "scrolled": true
   },
   "outputs": [
    {
     "name": "stdout",
     "output_type": "stream",
     "text": [
      "Starting training on dataset of size 1000.0\n",
      "Number of entries: 1000\n",
      "Number of song embeddings: 996\n"
     ]
    },
    {
     "name": "stderr",
     "output_type": "stream",
     "text": [
      "/Users/julien/Documents/Cours/MLDB/mlbd/mlbd/lib/python3.7/site-packages/sklearn/metrics/_classification.py:1493: UndefinedMetricWarning: F-score is ill-defined and being set to 0.0 due to no true nor predicted samples. Use `zero_division` parameter to control this behavior.\n",
      "  average, \"true nor predicted\", 'F-score is', len(true_sum)\n",
      "/Users/julien/Documents/Cours/MLDB/mlbd/mlbd/lib/python3.7/site-packages/sklearn/metrics/_classification.py:1493: UndefinedMetricWarning: F-score is ill-defined and being set to 0.0 due to no true nor predicted samples. Use `zero_division` parameter to control this behavior.\n",
      "  average, \"true nor predicted\", 'F-score is', len(true_sum)\n"
     ]
    },
    {
     "name": "stdout",
     "output_type": "stream",
     "text": [
      "For 1000.0: 1.0 0.0 1.0 0.0\n",
      "Starting training on dataset of size 10000.0\n",
      "Number of entries: 10000\n",
      "Number of song embeddings: 9516\n",
      "For 10000.0: 0.9744114636642784 0.0 0.9744114636642784 0.0\n",
      "Starting training on dataset of size 100000.0\n",
      "Number of entries: 99999\n",
      "Number of song embeddings: 72938\n",
      "For 100000.0: 0.8772401433691757 0.06802721088435373 0.8915770609318996 0.0\n",
      "Starting training on dataset of size 1000000.0\n",
      "Number of entries: 999997\n",
      "Number of song embeddings: 372026\n",
      "For 1000000.0: 0.6671597633136095 0.16974169741697417 0.7366863905325444 0.0\n",
      "Starting training on dataset of size 10000000.0\n",
      "Number of entries: 9999994\n",
      "Number of song embeddings: 1175860\n",
      "For 10000000.0: 0.5092491838955386 0.4348370927318296 0.5375408052230686 0.2272727272727273\n",
      "Starting training on dataset of size all\n",
      "Number of entries: 19098850\n",
      "Number of song embeddings: 1498723\n",
      "For all: 0.504 0.4974670719351571 0.5005 0.503232222774739\n"
     ]
    }
   ],
   "source": [
    "sizes = [1e3, 1e4, 1e5, 1e6, 1e7, \"all\"]\n",
    "tfidf_accs, tfidf_f1s, s2v_accs, s2v_f1s = train_all_dataset(sizes = sizes)"
   ]
  },
  {
   "cell_type": "code",
   "execution_count": null,
   "id": "virtual-saver",
   "metadata": {
    "ExecuteTime": {
     "end_time": "2021-05-26T10:57:45.487741Z",
     "start_time": "2021-05-26T10:57:43.144Z"
    }
   },
   "outputs": [],
   "source": [
    "def plot_metrics(sizes, tfidf_accs, tfidf_f1s, s2v_accs, s2v_f1s):\n",
    "    def plot_metric(tfidf, s2v, metric, sizes, ax):\n",
    "        n = len(tfidf)\n",
    "        ax.plot(sizes, tfidf, label=\"TF-IDF\")\n",
    "        ax.plot(sizes, s2v, label=\"Song2Vec\")\n",
    "        ax.set_ylabel(metric)\n",
    "        ax.set_xlabel(\"Number of songs in the dataset\")\n",
    "        ax.set_title(\"Performance comparison wrt the dataset size\")\n",
    "        ax.legend()\n",
    "        \n",
    "    fig, axes = plt.subplots(1,2, figsize=(15,5))\n",
    "    plot_metric(tfidf_accs, s2v_accs, \"Accuracy\", sizes, axes[0])\n",
    "    plot_metric(tfidf_f1s, s2v_f1s, \"F1 score\", sizes, axes[1])\n",
    "    plt.show()"
   ]
  },
  {
   "cell_type": "code",
   "execution_count": 123,
   "id": "aquatic-factory",
   "metadata": {
    "ExecuteTime": {
     "end_time": "2021-05-23T21:26:37.949888Z",
     "start_time": "2021-05-23T21:26:37.399573Z"
    }
   },
   "outputs": [
    {
     "data": {
      "image/png": "[encoded data removed]",
      "text/plain": [
       "<Figure size 1080x360 with 2 Axes>"
      ]
     },
     "metadata": {
      "needs_background": "light"
     },
     "output_type": "display_data"
    }
   ],
   "source": [
    "plot_metrics(sizes, tfidf_accs, tfidf_f1s, s2v_accs, s2v_f1s)"
   ]
  },
  {
   "cell_type": "code",
   "execution_count": null,
   "id": "opened-preservation",
   "metadata": {},
   "outputs": [],
   "source": []
  }
 ],
 "metadata": {
  "kernelspec": {
   "display_name": "mlbd",
   "language": "python",
   "name": "mlbd"
  },
  "language_info": {
   "codemirror_mode": {
    "name": "ipython",
    "version": 3
   },
   "file_extension": ".py",
   "mimetype": "text/x-python",
   "name": "python",
   "nbconvert_exporter": "python",
   "pygments_lexer": "ipython3",
   "version": "3.7.9"
  },
  "toc": {
   "base_numbering": 1,
   "nav_menu": {},
   "number_sections": true,
   "sideBar": true,
   "skip_h1_title": false,
   "title_cell": "Table of Contents",
   "title_sidebar": "Contents",
   "toc_cell": false,
   "toc_position": {},
   "toc_section_display": true,
   "toc_window_display": false
  }
 },
 "nbformat": 4,
 "nbformat_minor": 5
}
