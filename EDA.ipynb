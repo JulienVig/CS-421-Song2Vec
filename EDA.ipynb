{
 "cells": [
  {
   "cell_type": "markdown",
   "id": "visible-requirement",
   "metadata": {},
   "source": [
    "# EDA of the last.fm dataset\n",
    "\n",
    "<b>TL;DR:</b>\n",
    "* Huge dataset, computational issues\n",
    "* Names are sometimes spelled differently\n",
    "* Sudden drop of listens in 2009\n",
    "* Power-law distributions of number of entries per artist and track\n",
    "* Missing id's for some artists (3%) and tracks (10%)"
   ]
  },
  {
   "cell_type": "code",
   "execution_count": 1,
   "id": "surprised-vulnerability",
   "metadata": {
    "ExecuteTime": {
     "end_time": "2021-06-10T10:13:11.952121Z",
     "start_time": "2021-06-10T10:13:10.909309Z"
    }
   },
   "outputs": [],
   "source": [
    "import pandas as pd\n",
    "from zipfile import ZipFile\n",
    "import matplotlib.pyplot as plt\n",
    "import seaborn as sns\n",
    "from tqdm import tqdm\n",
    "from missingno import missingno\n",
    "from utils import read_lastfm"
   ]
  },
  {
   "cell_type": "code",
   "execution_count": 2,
   "id": "korean-dallas",
   "metadata": {
    "ExecuteTime": {
     "end_time": "2021-06-10T10:15:44.009436Z",
     "start_time": "2021-06-10T10:13:14.803628Z"
    }
   },
   "outputs": [],
   "source": [
    "songs, users = read_lastfm(\"data/lastfm-dataset-1K.zip\")"
   ]
  },
  {
   "cell_type": "code",
   "execution_count": 3,
   "id": "italic-joseph",
   "metadata": {
    "ExecuteTime": {
     "end_time": "2021-06-10T10:19:26.241724Z",
     "start_time": "2021-06-10T10:19:26.199376Z"
    }
   },
   "outputs": [
    {
     "data": {
      "text/html": [
       "<div>\n",
       "<style scoped>\n",
       "    .dataframe tbody tr th:only-of-type {\n",
       "        vertical-align: middle;\n",
       "    }\n",
       "\n",
       "    .dataframe tbody tr th {\n",
       "        vertical-align: top;\n",
       "    }\n",
       "\n",
       "    .dataframe thead th {\n",
       "        text-align: right;\n",
       "    }\n",
       "</style>\n",
       "<table border=\"1\" class=\"dataframe\">\n",
       "  <thead>\n",
       "    <tr style=\"text-align: right;\">\n",
       "      <th></th>\n",
       "      <th>user_id</th>\n",
       "      <th>timestamp</th>\n",
       "      <th>artist_id</th>\n",
       "      <th>artist_name</th>\n",
       "      <th>track_id</th>\n",
       "      <th>track_name</th>\n",
       "    </tr>\n",
       "  </thead>\n",
       "  <tbody>\n",
       "    <tr>\n",
       "      <th>0</th>\n",
       "      <td>user_000001</td>\n",
       "      <td>2009-05-04 23:08:57+00:00</td>\n",
       "      <td>f1b1cf71-bd35-4e99-8624-24a6e15f133a</td>\n",
       "      <td>Deep Dish</td>\n",
       "      <td>NaN</td>\n",
       "      <td>Fuck Me Im Famous (Pacha Ibiza)-09-28-2007</td>\n",
       "    </tr>\n",
       "    <tr>\n",
       "      <th>1</th>\n",
       "      <td>user_000001</td>\n",
       "      <td>2009-05-04 13:54:10+00:00</td>\n",
       "      <td>a7f7df4a-77d8-4f12-8acd-5c60c93f4de8</td>\n",
       "      <td>坂本龍一</td>\n",
       "      <td>NaN</td>\n",
       "      <td>Composition 0919 (Live_2009_4_15)</td>\n",
       "    </tr>\n",
       "    <tr>\n",
       "      <th>2</th>\n",
       "      <td>user_000001</td>\n",
       "      <td>2009-05-04 13:52:04+00:00</td>\n",
       "      <td>a7f7df4a-77d8-4f12-8acd-5c60c93f4de8</td>\n",
       "      <td>坂本龍一</td>\n",
       "      <td>NaN</td>\n",
       "      <td>Mc2 (Live_2009_4_15)</td>\n",
       "    </tr>\n",
       "    <tr>\n",
       "      <th>3</th>\n",
       "      <td>user_000001</td>\n",
       "      <td>2009-05-04 13:42:52+00:00</td>\n",
       "      <td>a7f7df4a-77d8-4f12-8acd-5c60c93f4de8</td>\n",
       "      <td>坂本龍一</td>\n",
       "      <td>NaN</td>\n",
       "      <td>Hibari (Live_2009_4_15)</td>\n",
       "    </tr>\n",
       "    <tr>\n",
       "      <th>4</th>\n",
       "      <td>user_000001</td>\n",
       "      <td>2009-05-04 13:42:11+00:00</td>\n",
       "      <td>a7f7df4a-77d8-4f12-8acd-5c60c93f4de8</td>\n",
       "      <td>坂本龍一</td>\n",
       "      <td>NaN</td>\n",
       "      <td>Mc1 (Live_2009_4_15)</td>\n",
       "    </tr>\n",
       "  </tbody>\n",
       "</table>\n",
       "</div>"
      ],
      "text/plain": [
       "       user_id                 timestamp  \\\n",
       "0  user_000001 2009-05-04 23:08:57+00:00   \n",
       "1  user_000001 2009-05-04 13:54:10+00:00   \n",
       "2  user_000001 2009-05-04 13:52:04+00:00   \n",
       "3  user_000001 2009-05-04 13:42:52+00:00   \n",
       "4  user_000001 2009-05-04 13:42:11+00:00   \n",
       "\n",
       "                              artist_id artist_name track_id  \\\n",
       "0  f1b1cf71-bd35-4e99-8624-24a6e15f133a   Deep Dish      NaN   \n",
       "1  a7f7df4a-77d8-4f12-8acd-5c60c93f4de8        坂本龍一      NaN   \n",
       "2  a7f7df4a-77d8-4f12-8acd-5c60c93f4de8        坂本龍一      NaN   \n",
       "3  a7f7df4a-77d8-4f12-8acd-5c60c93f4de8        坂本龍一      NaN   \n",
       "4  a7f7df4a-77d8-4f12-8acd-5c60c93f4de8        坂本龍一      NaN   \n",
       "\n",
       "                                   track_name  \n",
       "0  Fuck Me Im Famous (Pacha Ibiza)-09-28-2007  \n",
       "1           Composition 0919 (Live_2009_4_15)  \n",
       "2                        Mc2 (Live_2009_4_15)  \n",
       "3                     Hibari (Live_2009_4_15)  \n",
       "4                        Mc1 (Live_2009_4_15)  "
      ]
     },
     "execution_count": 3,
     "metadata": {},
     "output_type": "execute_result"
    }
   ],
   "source": [
    "songs.head()"
   ]
  },
  {
   "cell_type": "code",
   "execution_count": 5,
   "id": "experimental-cricket",
   "metadata": {
    "ExecuteTime": {
     "end_time": "2021-06-09T13:46:25.365777Z",
     "start_time": "2021-06-09T13:46:25.343655Z"
    }
   },
   "outputs": [
    {
     "data": {
      "text/html": [
       "<div>\n",
       "<style scoped>\n",
       "    .dataframe tbody tr th:only-of-type {\n",
       "        vertical-align: middle;\n",
       "    }\n",
       "\n",
       "    .dataframe tbody tr th {\n",
       "        vertical-align: top;\n",
       "    }\n",
       "\n",
       "    .dataframe thead th {\n",
       "        text-align: right;\n",
       "    }\n",
       "</style>\n",
       "<table border=\"1\" class=\"dataframe\">\n",
       "  <thead>\n",
       "    <tr style=\"text-align: right;\">\n",
       "      <th></th>\n",
       "      <th>user_id</th>\n",
       "      <th>gender</th>\n",
       "      <th>age</th>\n",
       "      <th>country</th>\n",
       "      <th>registered</th>\n",
       "    </tr>\n",
       "  </thead>\n",
       "  <tbody>\n",
       "    <tr>\n",
       "      <th>0</th>\n",
       "      <td>user_000001</td>\n",
       "      <td>m</td>\n",
       "      <td>NaN</td>\n",
       "      <td>Japan</td>\n",
       "      <td>2006-08-13</td>\n",
       "    </tr>\n",
       "    <tr>\n",
       "      <th>1</th>\n",
       "      <td>user_000002</td>\n",
       "      <td>f</td>\n",
       "      <td>NaN</td>\n",
       "      <td>Peru</td>\n",
       "      <td>2006-02-24</td>\n",
       "    </tr>\n",
       "    <tr>\n",
       "      <th>2</th>\n",
       "      <td>user_000003</td>\n",
       "      <td>m</td>\n",
       "      <td>22.0</td>\n",
       "      <td>United States</td>\n",
       "      <td>2005-10-30</td>\n",
       "    </tr>\n",
       "    <tr>\n",
       "      <th>3</th>\n",
       "      <td>user_000004</td>\n",
       "      <td>f</td>\n",
       "      <td>NaN</td>\n",
       "      <td>NaN</td>\n",
       "      <td>2006-04-26</td>\n",
       "    </tr>\n",
       "    <tr>\n",
       "      <th>4</th>\n",
       "      <td>user_000005</td>\n",
       "      <td>m</td>\n",
       "      <td>NaN</td>\n",
       "      <td>Bulgaria</td>\n",
       "      <td>2006-06-29</td>\n",
       "    </tr>\n",
       "  </tbody>\n",
       "</table>\n",
       "</div>"
      ],
      "text/plain": [
       "       user_id gender   age        country registered\n",
       "0  user_000001      m   NaN          Japan 2006-08-13\n",
       "1  user_000002      f   NaN           Peru 2006-02-24\n",
       "2  user_000003      m  22.0  United States 2005-10-30\n",
       "3  user_000004      f   NaN            NaN 2006-04-26\n",
       "4  user_000005      m   NaN       Bulgaria 2006-06-29"
      ]
     },
     "execution_count": 5,
     "metadata": {},
     "output_type": "execute_result"
    }
   ],
   "source": [
    "users.head()"
   ]
  },
  {
   "cell_type": "markdown",
   "id": "controlled-sally",
   "metadata": {},
   "source": [
    "# Optimization\n",
    "\n",
    "Let's first convert all object dtypes to categorical. There is a big difference between to total count and the number of unique values so this will reduce the memory usage.\n",
    "\n",
    "Note: analysis showed that converting to categorical is a huge improvement so I refactored the notebook to include the conversion in the data reading rather than in this section."
   ]
  },
  {
   "cell_type": "code",
   "execution_count": 6,
   "id": "public-opportunity",
   "metadata": {
    "ExecuteTime": {
     "end_time": "2021-04-09T09:27:57.896950Z",
     "start_time": "2021-04-09T09:27:57.888504Z"
    }
   },
   "outputs": [],
   "source": [
    "def mem_usage(pandas_obj):\n",
    "    if isinstance(pandas_obj,pd.DataFrame):\n",
    "        usage_b = pandas_obj.memory_usage(deep=True).sum()\n",
    "    else: # we assume if not a df it's a series\n",
    "        usage_b = pandas_obj.memory_usage(deep=True)\n",
    "    usage_mb = usage_b / 1024 ** 2 # convert bytes to megabytes\n",
    "    return \"{:03.2f} MB\".format(usage_mb)\n",
    "\n",
    "def convert_to_category(df, cols):\n",
    "    print(mem_usage(df))\n",
    "    for col in tqdm(cols):\n",
    "        df.loc[:,col] = df[col].astype('category')\n",
    "    print(mem_usage(df))"
   ]
  },
  {
   "cell_type": "code",
   "execution_count": 7,
   "id": "accessible-marble",
   "metadata": {
    "ExecuteTime": {
     "end_time": "2021-04-09T09:27:57.908217Z",
     "start_time": "2021-04-09T09:27:57.903497Z"
    },
    "scrolled": false
   },
   "outputs": [],
   "source": [
    "# convert_to_category(songs, df.columns.drop('timestamp'))"
   ]
  },
  {
   "cell_type": "code",
   "execution_count": 8,
   "id": "interim-border",
   "metadata": {
    "ExecuteTime": {
     "end_time": "2021-04-09T09:27:57.929569Z",
     "start_time": "2021-04-09T09:27:57.924574Z"
    }
   },
   "outputs": [],
   "source": [
    "# songs.info(memory_usage=True)"
   ]
  },
  {
   "cell_type": "markdown",
   "id": "funded-breast",
   "metadata": {},
   "source": [
    "# Listening history exploration"
   ]
  },
  {
   "cell_type": "code",
   "execution_count": 7,
   "id": "ruled-device",
   "metadata": {
    "ExecuteTime": {
     "end_time": "2021-06-09T13:47:02.959117Z",
     "start_time": "2021-06-09T13:46:54.583174Z"
    },
    "scrolled": true
   },
   "outputs": [
    {
     "data": {
      "text/html": [
       "<div>\n",
       "<style scoped>\n",
       "    .dataframe tbody tr th:only-of-type {\n",
       "        vertical-align: middle;\n",
       "    }\n",
       "\n",
       "    .dataframe tbody tr th {\n",
       "        vertical-align: top;\n",
       "    }\n",
       "\n",
       "    .dataframe thead th {\n",
       "        text-align: right;\n",
       "    }\n",
       "</style>\n",
       "<table border=\"1\" class=\"dataframe\">\n",
       "  <thead>\n",
       "    <tr style=\"text-align: right;\">\n",
       "      <th></th>\n",
       "      <th>user_id</th>\n",
       "      <th>timestamp</th>\n",
       "      <th>artist_id</th>\n",
       "      <th>artist_name</th>\n",
       "      <th>track_id</th>\n",
       "      <th>track_name</th>\n",
       "    </tr>\n",
       "  </thead>\n",
       "  <tbody>\n",
       "    <tr>\n",
       "      <th>count</th>\n",
       "      <td>19098862</td>\n",
       "      <td>19098862</td>\n",
       "      <td>18498009</td>\n",
       "      <td>19098862</td>\n",
       "      <td>16936136</td>\n",
       "      <td>19098850</td>\n",
       "    </tr>\n",
       "    <tr>\n",
       "      <th>unique</th>\n",
       "      <td>992</td>\n",
       "      <td>NaN</td>\n",
       "      <td>107295</td>\n",
       "      <td>173923</td>\n",
       "      <td>960402</td>\n",
       "      <td>1083480</td>\n",
       "    </tr>\n",
       "    <tr>\n",
       "      <th>top</th>\n",
       "      <td>user_000949</td>\n",
       "      <td>NaN</td>\n",
       "      <td>a74b1b7f-71a5-4011-9441-d0b5e4122711</td>\n",
       "      <td>Radiohead</td>\n",
       "      <td>db16d0b3-b8ce-4aa8-a11a-e4d53cc7f8a6</td>\n",
       "      <td>Intro</td>\n",
       "    </tr>\n",
       "    <tr>\n",
       "      <th>freq</th>\n",
       "      <td>183103</td>\n",
       "      <td>NaN</td>\n",
       "      <td>115099</td>\n",
       "      <td>115099</td>\n",
       "      <td>3991</td>\n",
       "      <td>17561</td>\n",
       "    </tr>\n",
       "    <tr>\n",
       "      <th>mean</th>\n",
       "      <td>NaN</td>\n",
       "      <td>2007-09-21 13:53:43.874962432+00:00</td>\n",
       "      <td>NaN</td>\n",
       "      <td>NaN</td>\n",
       "      <td>NaN</td>\n",
       "      <td>NaN</td>\n",
       "    </tr>\n",
       "    <tr>\n",
       "      <th>min</th>\n",
       "      <td>NaN</td>\n",
       "      <td>2005-02-14 00:00:07+00:00</td>\n",
       "      <td>NaN</td>\n",
       "      <td>NaN</td>\n",
       "      <td>NaN</td>\n",
       "      <td>NaN</td>\n",
       "    </tr>\n",
       "    <tr>\n",
       "      <th>25%</th>\n",
       "      <td>NaN</td>\n",
       "      <td>2006-11-23 19:35:10+00:00</td>\n",
       "      <td>NaN</td>\n",
       "      <td>NaN</td>\n",
       "      <td>NaN</td>\n",
       "      <td>NaN</td>\n",
       "    </tr>\n",
       "    <tr>\n",
       "      <th>50%</th>\n",
       "      <td>NaN</td>\n",
       "      <td>2007-10-21 10:29:44+00:00</td>\n",
       "      <td>NaN</td>\n",
       "      <td>NaN</td>\n",
       "      <td>NaN</td>\n",
       "      <td>NaN</td>\n",
       "    </tr>\n",
       "    <tr>\n",
       "      <th>75%</th>\n",
       "      <td>NaN</td>\n",
       "      <td>2008-08-22 08:22:24.249999872+00:00</td>\n",
       "      <td>NaN</td>\n",
       "      <td>NaN</td>\n",
       "      <td>NaN</td>\n",
       "      <td>NaN</td>\n",
       "    </tr>\n",
       "    <tr>\n",
       "      <th>max</th>\n",
       "      <td>NaN</td>\n",
       "      <td>2013-09-29 18:32:04+00:00</td>\n",
       "      <td>NaN</td>\n",
       "      <td>NaN</td>\n",
       "      <td>NaN</td>\n",
       "      <td>NaN</td>\n",
       "    </tr>\n",
       "  </tbody>\n",
       "</table>\n",
       "</div>"
      ],
      "text/plain": [
       "            user_id                            timestamp  \\\n",
       "count      19098862                             19098862   \n",
       "unique          992                                  NaN   \n",
       "top     user_000949                                  NaN   \n",
       "freq         183103                                  NaN   \n",
       "mean            NaN  2007-09-21 13:53:43.874962432+00:00   \n",
       "min             NaN            2005-02-14 00:00:07+00:00   \n",
       "25%             NaN            2006-11-23 19:35:10+00:00   \n",
       "50%             NaN            2007-10-21 10:29:44+00:00   \n",
       "75%             NaN  2008-08-22 08:22:24.249999872+00:00   \n",
       "max             NaN            2013-09-29 18:32:04+00:00   \n",
       "\n",
       "                                   artist_id artist_name  \\\n",
       "count                               18498009    19098862   \n",
       "unique                                107295      173923   \n",
       "top     a74b1b7f-71a5-4011-9441-d0b5e4122711   Radiohead   \n",
       "freq                                  115099      115099   \n",
       "mean                                     NaN         NaN   \n",
       "min                                      NaN         NaN   \n",
       "25%                                      NaN         NaN   \n",
       "50%                                      NaN         NaN   \n",
       "75%                                      NaN         NaN   \n",
       "max                                      NaN         NaN   \n",
       "\n",
       "                                    track_id track_name  \n",
       "count                               16936136   19098850  \n",
       "unique                                960402    1083480  \n",
       "top     db16d0b3-b8ce-4aa8-a11a-e4d53cc7f8a6      Intro  \n",
       "freq                                    3991      17561  \n",
       "mean                                     NaN        NaN  \n",
       "min                                      NaN        NaN  \n",
       "25%                                      NaN        NaN  \n",
       "50%                                      NaN        NaN  \n",
       "75%                                      NaN        NaN  \n",
       "max                                      NaN        NaN  "
      ]
     },
     "execution_count": 7,
     "metadata": {},
     "output_type": "execute_result"
    }
   ],
   "source": [
    "songs.describe(datetime_is_numeric=True)"
   ]
  },
  {
   "cell_type": "markdown",
   "id": "approximate-station",
   "metadata": {},
   "source": [
    "* There is almost 20 million rows, performance will be an issue during this project. \n",
    "* There are 100'000 different artists and 1 million different songs in the dataset.\n",
    "* The time span covered by the dataset ranged from 2005 to 2013.\n",
    "* The number of artist id's is not the same as the number of artist names, some artists may be represented by multiple names. Similarly for tracks.\n",
    "\n",
    "## Distributions\n",
    "Let's see how many entries in the dataset there are for users, artists and tracks respectively."
   ]
  },
  {
   "cell_type": "code",
   "execution_count": 8,
   "id": "happy-receptor",
   "metadata": {
    "ExecuteTime": {
     "end_time": "2021-06-09T13:47:03.926925Z",
     "start_time": "2021-06-09T13:47:02.962652Z"
    }
   },
   "outputs": [
    {
     "data": {
      "image/png": "[encoded data removed]",
      "text/plain": [
       "<Figure size 432x288 with 1 Axes>"
      ]
     },
     "metadata": {
      "needs_background": "light"
     },
     "output_type": "display_data"
    }
   ],
   "source": [
    "user_entries = songs.groupby('user_id').size().reset_index().rename(columns={0:'Number of entries'})\n",
    "sns.histplot(data=user_entries, x='Number of entries', bins=100)\n",
    "plt.title(\"Distribution of the number of entries per user\")\n",
    "plt.show()"
   ]
  },
  {
   "cell_type": "markdown",
   "id": "blocked-release",
   "metadata": {},
   "source": [
    "This histogram counts the number of user which listened to different number of songs in the dataset. We can see that most of them listened to a few songs while some listened to more than 175'000 songs. The distribution looks exponential."
   ]
  },
  {
   "cell_type": "code",
   "execution_count": 9,
   "id": "promotional-helping",
   "metadata": {
    "ExecuteTime": {
     "end_time": "2021-06-09T13:47:06.903252Z",
     "start_time": "2021-06-09T13:47:03.931654Z"
    }
   },
   "outputs": [
    {
     "data": {
      "image/png": "[encoded data removed]",
      "text/plain": [
       "<Figure size 432x288 with 1 Axes>"
      ]
     },
     "metadata": {
      "needs_background": "light"
     },
     "output_type": "display_data"
    },
    {
     "data": {
      "image/png": "[encoded data removed]",
      "text/plain": [
       "<Figure size 432x288 with 1 Axes>"
      ]
     },
     "metadata": {
      "needs_background": "light"
     },
     "output_type": "display_data"
    }
   ],
   "source": [
    "artist_entries = songs.groupby('artist_id').size().reset_index()\n",
    "bins = plt.hist(artist_entries[0],bins=100,log=True,histtype='bar')\n",
    "plt.title(\"log-linear distribution of the number of entries per artist\")\n",
    "plt.ylabel(\"Count (log scale)\")\n",
    "plt.xlabel(\"Number of entries per artist\")\n",
    "plt.show()\n",
    "plt.loglog(bins[1][1:],bins[0])\n",
    "plt.ylabel(\"Count (log scale)\")\n",
    "plt.xlabel(\"Nb of entries per artist (log scale)\")\n",
    "plt.title(\"log-log distribution of the number of entries per artist\");"
   ]
  },
  {
   "cell_type": "markdown",
   "id": "educational-assessment",
   "metadata": {},
   "source": [
    "While the first graph looks similar to the distribution for users, this one uses a logarithmic scale for the y-axis. Thus, it is an even greater majority of artists that has very few entries in the dataset while a minority of them gets all the fame. Let's find out whose artists are the most recognized. We can recognize the power-law distribution at the approximately straight line on the log-log plot."
   ]
  },
  {
   "cell_type": "code",
   "execution_count": 18,
   "id": "technical-procurement",
   "metadata": {
    "ExecuteTime": {
     "end_time": "2021-06-09T13:55:33.106491Z",
     "start_time": "2021-06-09T13:55:31.342161Z"
    },
    "scrolled": false
   },
   "outputs": [
    {
     "data": {
      "image/png": "[encoded data removed]",
      "text/plain": [
       "<Figure size 720x360 with 1 Axes>"
      ]
     },
     "metadata": {
      "needs_background": "light"
     },
     "output_type": "display_data"
    }
   ],
   "source": [
    "top_artists = artist_entries.sort_values(0, ascending=False).head(5) \\\n",
    "                            .merge(songs.drop_duplicates('artist_id'), on='artist_id')\\\n",
    "                            .rename(columns={0:'Count'})\n",
    "top_artists['artist'] = top_artists.artist_name.astype('string')\n",
    "plt.figure(figsize=(10,5))\n",
    "sns.barplot(data=top_artists, y=\"artist\", x=\"Count\", orient='h', palette='magma');\n",
    "plt.ylabel(\"Artist\", fontsize=14)\n",
    "plt.xlabel(\"Count\",fontsize=14)\n",
    "plt.savefig(\"top_artists.png\", dpi=300, bbox_inches='tight')"
   ]
  },
  {
   "cell_type": "markdown",
   "id": "cathedral-while",
   "metadata": {},
   "source": [
    "We can see that users have a great taste."
   ]
  },
  {
   "cell_type": "code",
   "execution_count": 19,
   "id": "mental-brooks",
   "metadata": {
    "ExecuteTime": {
     "end_time": "2021-06-09T13:58:43.107291Z",
     "start_time": "2021-06-09T13:58:39.968829Z"
    },
    "scrolled": false
   },
   "outputs": [
    {
     "data": {
      "image/png": "[encoded data removed]",
      "text/plain": [
       "<Figure size 432x288 with 1 Axes>"
      ]
     },
     "metadata": {
      "needs_background": "light"
     },
     "output_type": "display_data"
    },
    {
     "data": {
      "image/png": "[encoded data removed]",
      "text/plain": [
       "<Figure size 432x288 with 1 Axes>"
      ]
     },
     "metadata": {
      "needs_background": "light"
     },
     "output_type": "display_data"
    }
   ],
   "source": [
    "track_entries = songs.groupby('track_id').size().reset_index()\n",
    "bins = plt.hist(track_entries[0],bins=100,log=True,histtype='bar')\n",
    "plt.title(\"log-linear distribution of the number of entries per song\")\n",
    "plt.ylabel(\"Count (log scale)\")\n",
    "plt.xlabel(\"Nb of entries\")\n",
    "plt.show()\n",
    "plt.loglog(bins[1][1:],bins[0])\n",
    "plt.ylabel(\"Count\")\n",
    "plt.xlabel(\"Nb of entries\")\n",
    "plt.title(\"log-log distribution of the number of entries per song\");"
   ]
  },
  {
   "cell_type": "markdown",
   "id": "digital-texas",
   "metadata": {},
   "source": [
    "Here we can see the repartition of the number of times each song has been listened to in the dataset. An enormous majority of songs have very few listens while a few of them have a huge number of listens. This is a power-law distribution, we have to be careful while using non robust statistics.\n",
    "\n",
    "Let's see which ones are the most listened too:"
   ]
  },
  {
   "cell_type": "code",
   "execution_count": 14,
   "id": "occupied-sierra",
   "metadata": {
    "ExecuteTime": {
     "end_time": "2021-04-09T09:28:17.430598Z",
     "start_time": "2021-04-09T09:28:13.696815Z"
    },
    "scrolled": false
   },
   "outputs": [
    {
     "data": {
      "image/png": "[encoded data removed]",
      "text/plain": [
       "<Figure size 1080x720 with 1 Axes>"
      ]
     },
     "metadata": {
      "needs_background": "light"
     },
     "output_type": "display_data"
    }
   ],
   "source": [
    "top_tracks = track_entries.sort_values(0, ascending=False).head(20) \\\n",
    "                            .merge(songs.drop_duplicates('track_id'), on='track_id')\\\n",
    "                            .rename(columns={0:'Count'})\n",
    "top_tracks['song'] = top_tracks.artist_name.astype('string') + ' - '+ top_tracks.track_name.astype('string')\n",
    "plt.figure(figsize=(15,10))\n",
    "sns.barplot(data=top_tracks, y=\"song\", x=\"Count\", orient='h');"
   ]
  },
  {
   "cell_type": "markdown",
   "id": "sonic-celebration",
   "metadata": {},
   "source": [
    "While Radiohead is the most listened group according the previous observations, it is only third for the top tracks, maybe by cumulating a lot of top_tracks. As a side note Love Lockdown by Kayne West took a whole new meaning nowadays."
   ]
  },
  {
   "cell_type": "code",
   "execution_count": 21,
   "id": "defensive-month",
   "metadata": {
    "ExecuteTime": {
     "end_time": "2021-06-09T13:59:32.341961Z",
     "start_time": "2021-06-09T13:59:22.196097Z"
    }
   },
   "outputs": [
    {
     "data": {
      "image/png": "[encoded data removed]",
      "text/plain": [
       "<Figure size 720x360 with 1 Axes>"
      ]
     },
     "metadata": {
      "needs_background": "light"
     },
     "output_type": "display_data"
    }
   ],
   "source": [
    "songs['date'] = songs.timestamp.dt.date\n",
    "daily_entries = songs.groupby('date').size().reset_index()\\\n",
    "                     .rename(columns={0:'Number of entries'})\n",
    "plt.figure(figsize=(10,5))\n",
    "sns.lineplot(data=daily_entries, x='date', y='Number of entries')\n",
    "plt.title(\"Number of entries in the dataset per day\")\n",
    "plt.savefig(\"dataset_duration.png\", dpi=300, bbox_inches='tight')\n",
    "plt.show()"
   ]
  },
  {
   "cell_type": "markdown",
   "id": "strange-bouquet",
   "metadata": {},
   "source": [
    "This plot shows the number of listens per day. We can see an sudden drop during 2009. That is an important thing to note if we decide to explore a chronological aspect of the dataset."
   ]
  },
  {
   "cell_type": "code",
   "execution_count": 16,
   "id": "suburban-viking",
   "metadata": {
    "ExecuteTime": {
     "end_time": "2021-04-09T09:28:26.638977Z",
     "start_time": "2021-04-09T09:28:26.297595Z"
    }
   },
   "outputs": [
    {
     "data": {
      "image/png": "[encoded data removed]",
      "text/plain": [
       "<Figure size 432x288 with 1 Axes>"
      ]
     },
     "metadata": {
      "needs_background": "light"
     },
     "output_type": "display_data"
    }
   ],
   "source": [
    "sns.histplot(data=daily_entries, x='Number of entries', bins=50)\n",
    "plt.title(\"Distribution of the number of entries per day\");"
   ]
  },
  {
   "cell_type": "markdown",
   "id": "baking-school",
   "metadata": {},
   "source": [
    "This histogram counts the number of entries per day. We can see two peaks, maybe the average number before and after the 2009 drop?\n",
    "\n",
    "Let's see why the number of distinct artist id's is different from the number of distinct artist name (107295 vs 173921):"
   ]
  },
  {
   "cell_type": "code",
   "execution_count": 17,
   "id": "eleven-wrestling",
   "metadata": {
    "ExecuteTime": {
     "end_time": "2021-04-09T09:28:29.843069Z",
     "start_time": "2021-04-09T09:28:26.647376Z"
    }
   },
   "outputs": [
    {
     "data": {
      "text/html": [
       "<div>\n",
       "<style scoped>\n",
       "    .dataframe tbody tr th:only-of-type {\n",
       "        vertical-align: middle;\n",
       "    }\n",
       "\n",
       "    .dataframe tbody tr th {\n",
       "        vertical-align: top;\n",
       "    }\n",
       "\n",
       "    .dataframe thead th {\n",
       "        text-align: right;\n",
       "    }\n",
       "</style>\n",
       "<table border=\"1\" class=\"dataframe\">\n",
       "  <thead>\n",
       "    <tr style=\"text-align: right;\">\n",
       "      <th></th>\n",
       "      <th>artist_id</th>\n",
       "      <th>artist_name</th>\n",
       "    </tr>\n",
       "  </thead>\n",
       "  <tbody>\n",
       "    <tr>\n",
       "      <th>0</th>\n",
       "      <td>def226b0-7990-4b38-ab1a-7740461844dc</td>\n",
       "      <td>Yael Naim</td>\n",
       "    </tr>\n",
       "    <tr>\n",
       "      <th>1</th>\n",
       "      <td>def226b0-7990-4b38-ab1a-7740461844dc</td>\n",
       "      <td>Yael Naïm</td>\n",
       "    </tr>\n",
       "    <tr>\n",
       "      <th>2</th>\n",
       "      <td>7b290da1-03f2-4d91-8f6e-0e4930e39831</td>\n",
       "      <td>Mlle Caro &amp; Franck Garcia</td>\n",
       "    </tr>\n",
       "    <tr>\n",
       "      <th>3</th>\n",
       "      <td>7b290da1-03f2-4d91-8f6e-0e4930e39831</td>\n",
       "      <td>Mlle Caro &amp; Frank Garcia</td>\n",
       "    </tr>\n",
       "    <tr>\n",
       "      <th>4</th>\n",
       "      <td>66ea0139-149f-4a0c-8fbf-5ea9ec4a6e49</td>\n",
       "      <td>[Disney]</td>\n",
       "    </tr>\n",
       "    <tr>\n",
       "      <th>5</th>\n",
       "      <td>66ea0139-149f-4a0c-8fbf-5ea9ec4a6e49</td>\n",
       "      <td>Disney</td>\n",
       "    </tr>\n",
       "    <tr>\n",
       "      <th>6</th>\n",
       "      <td>ef03133a-8888-46ca-8675-45f11449f987</td>\n",
       "      <td>Die Lassie Singers</td>\n",
       "    </tr>\n",
       "    <tr>\n",
       "      <th>7</th>\n",
       "      <td>ef03133a-8888-46ca-8675-45f11449f987</td>\n",
       "      <td>Lassie Singers</td>\n",
       "    </tr>\n",
       "    <tr>\n",
       "      <th>8</th>\n",
       "      <td>1fda852b-92e9-4562-82fa-c52820a77b23</td>\n",
       "      <td>The Pussycat Dolls</td>\n",
       "    </tr>\n",
       "    <tr>\n",
       "      <th>9</th>\n",
       "      <td>1fda852b-92e9-4562-82fa-c52820a77b23</td>\n",
       "      <td>Pussycat Dolls</td>\n",
       "    </tr>\n",
       "  </tbody>\n",
       "</table>\n",
       "</div>"
      ],
      "text/plain": [
       "                              artist_id                artist_name\n",
       "0  def226b0-7990-4b38-ab1a-7740461844dc                  Yael Naim\n",
       "1  def226b0-7990-4b38-ab1a-7740461844dc                  Yael Naïm\n",
       "2  7b290da1-03f2-4d91-8f6e-0e4930e39831  Mlle Caro & Franck Garcia\n",
       "3  7b290da1-03f2-4d91-8f6e-0e4930e39831   Mlle Caro & Frank Garcia\n",
       "4  66ea0139-149f-4a0c-8fbf-5ea9ec4a6e49                   [Disney]\n",
       "5  66ea0139-149f-4a0c-8fbf-5ea9ec4a6e49                     Disney\n",
       "6  ef03133a-8888-46ca-8675-45f11449f987         Die Lassie Singers\n",
       "7  ef03133a-8888-46ca-8675-45f11449f987             Lassie Singers\n",
       "8  1fda852b-92e9-4562-82fa-c52820a77b23         The Pussycat Dolls\n",
       "9  1fda852b-92e9-4562-82fa-c52820a77b23             Pussycat Dolls"
      ]
     },
     "execution_count": 17,
     "metadata": {},
     "output_type": "execute_result"
    }
   ],
   "source": [
    "duplicates = songs.drop_duplicates(['artist_id', 'artist_name']).groupby('artist_id',).size()\\\n",
    "                    .reset_index().rename(columns={0:'Count'})\n",
    "duplicates = duplicates[duplicates['Count'] > 1]\n",
    "duplicates = songs.drop_duplicates(['artist_id', 'artist_name'])\\\n",
    "                    .merge(duplicates, on='artist_id')\n",
    "duplicates[['artist_id', 'artist_name']].head(10)"
   ]
  },
  {
   "cell_type": "markdown",
   "id": "discrete-consultation",
   "metadata": {
    "ExecuteTime": {
     "end_time": "2021-04-06T19:07:15.357490Z",
     "start_time": "2021-04-06T19:07:02.748895Z"
    }
   },
   "source": [
    "Unsurprisingly, these duplicates are due to different spellings of the artist names. That shows that we can only use the `artist_id` field as identifier."
   ]
  },
  {
   "cell_type": "code",
   "execution_count": 79,
   "id": "considerable-vacation",
   "metadata": {
    "ExecuteTime": {
     "end_time": "2021-04-09T10:01:11.675969Z",
     "start_time": "2021-04-09T10:01:00.735520Z"
    },
    "scrolled": true
   },
   "outputs": [
    {
     "data": {
      "text/html": [
       "<div>\n",
       "<style scoped>\n",
       "    .dataframe tbody tr th:only-of-type {\n",
       "        vertical-align: middle;\n",
       "    }\n",
       "\n",
       "    .dataframe tbody tr th {\n",
       "        vertical-align: top;\n",
       "    }\n",
       "\n",
       "    .dataframe thead th {\n",
       "        text-align: right;\n",
       "    }\n",
       "</style>\n",
       "<table border=\"1\" class=\"dataframe\">\n",
       "  <thead>\n",
       "    <tr style=\"text-align: right;\">\n",
       "      <th></th>\n",
       "      <th>user_id</th>\n",
       "      <th>timestamp</th>\n",
       "      <th>artist_id</th>\n",
       "      <th>artist_name</th>\n",
       "      <th>track_id</th>\n",
       "      <th>track_name</th>\n",
       "      <th>date</th>\n",
       "      <th>Count</th>\n",
       "    </tr>\n",
       "  </thead>\n",
       "  <tbody>\n",
       "    <tr>\n",
       "      <th>0</th>\n",
       "      <td>user_000001</td>\n",
       "      <td>2008-08-21 14:55:24+00:00</td>\n",
       "      <td>15388d42-9197-4ca1-9ffe-240f763b84cb</td>\n",
       "      <td>Theo Parrish</td>\n",
       "      <td>5b0afc9d-8567-4723-9b1c-ec31f816135d</td>\n",
       "      <td>Brain</td>\n",
       "      <td>2008-08-21</td>\n",
       "      <td>2</td>\n",
       "    </tr>\n",
       "    <tr>\n",
       "      <th>1</th>\n",
       "      <td>user_000451</td>\n",
       "      <td>2008-03-13 00:56:00+00:00</td>\n",
       "      <td>15388d42-9197-4ca1-9ffe-240f763b84cb</td>\n",
       "      <td>Theo Parrish</td>\n",
       "      <td>5b0afc9d-8567-4723-9b1c-ec31f816135d</td>\n",
       "      <td>Brain Collaboration</td>\n",
       "      <td>2008-03-13</td>\n",
       "      <td>2</td>\n",
       "    </tr>\n",
       "    <tr>\n",
       "      <th>2</th>\n",
       "      <td>user_000002</td>\n",
       "      <td>2006-12-08 04:55:54+00:00</td>\n",
       "      <td>197450cd-0124-4164-b723-3c22dd16494d</td>\n",
       "      <td>Frank Sinatra</td>\n",
       "      <td>e0779db2-d84e-4d8c-b08e-ef2ab2b601cd</td>\n",
       "      <td>My Way</td>\n",
       "      <td>2006-12-08</td>\n",
       "      <td>2</td>\n",
       "    </tr>\n",
       "    <tr>\n",
       "      <th>3</th>\n",
       "      <td>user_000409</td>\n",
       "      <td>2008-06-27 00:36:44+00:00</td>\n",
       "      <td>197450cd-0124-4164-b723-3c22dd16494d</td>\n",
       "      <td>Frank Sinatra</td>\n",
       "      <td>e0779db2-d84e-4d8c-b08e-ef2ab2b601cd</td>\n",
       "      <td>My Way (Duet With Luciano Pavarotti)</td>\n",
       "      <td>2008-06-27</td>\n",
       "      <td>2</td>\n",
       "    </tr>\n",
       "    <tr>\n",
       "      <th>4</th>\n",
       "      <td>user_000004</td>\n",
       "      <td>2007-07-09 20:43:36+00:00</td>\n",
       "      <td>c5a05cda-2f00-4566-9e1d-7b366fcdbfff</td>\n",
       "      <td>Oi Va Voi</td>\n",
       "      <td>0041fa4d-72e1-4464-a9df-ee0fb8b4d872</td>\n",
       "      <td>Gypsy</td>\n",
       "      <td>2007-07-09</td>\n",
       "      <td>2</td>\n",
       "    </tr>\n",
       "    <tr>\n",
       "      <th>5</th>\n",
       "      <td>user_000112</td>\n",
       "      <td>2008-06-13 04:56:37+00:00</td>\n",
       "      <td>c5a05cda-2f00-4566-9e1d-7b366fcdbfff</td>\n",
       "      <td>Oi Va Voi</td>\n",
       "      <td>0041fa4d-72e1-4464-a9df-ee0fb8b4d872</td>\n",
       "      <td>Gypsy (Feat. Earl Zinger)</td>\n",
       "      <td>2008-06-13</td>\n",
       "      <td>2</td>\n",
       "    </tr>\n",
       "    <tr>\n",
       "      <th>6</th>\n",
       "      <td>user_000004</td>\n",
       "      <td>2007-05-11 22:50:02+00:00</td>\n",
       "      <td>e4c226f2-ba57-483f-be6b-3391112244b8</td>\n",
       "      <td>Mirah</td>\n",
       "      <td>08876672-c74e-4a2c-86f4-24e4325aff0a</td>\n",
       "      <td>Promise To Me</td>\n",
       "      <td>2007-05-11</td>\n",
       "      <td>2</td>\n",
       "    </tr>\n",
       "    <tr>\n",
       "      <th>7</th>\n",
       "      <td>user_000534</td>\n",
       "      <td>2008-03-26 18:38:44+00:00</td>\n",
       "      <td>e4c226f2-ba57-483f-be6b-3391112244b8</td>\n",
       "      <td>Mirah</td>\n",
       "      <td>08876672-c74e-4a2c-86f4-24e4325aff0a</td>\n",
       "      <td>Promise</td>\n",
       "      <td>2008-03-26</td>\n",
       "      <td>2</td>\n",
       "    </tr>\n",
       "    <tr>\n",
       "      <th>8</th>\n",
       "      <td>user_000010</td>\n",
       "      <td>2008-05-13 08:43:00+00:00</td>\n",
       "      <td>cc0b7089-c08d-4c10-b6b0-873582c17fd6</td>\n",
       "      <td>System Of A Down</td>\n",
       "      <td>391f0b31-0235-40d0-83e1-42e14fdc7e9c</td>\n",
       "      <td>A.D.D.</td>\n",
       "      <td>2008-05-13</td>\n",
       "      <td>2</td>\n",
       "    </tr>\n",
       "    <tr>\n",
       "      <th>9</th>\n",
       "      <td>user_000886</td>\n",
       "      <td>2007-10-19 10:23:38+00:00</td>\n",
       "      <td>cc0b7089-c08d-4c10-b6b0-873582c17fd6</td>\n",
       "      <td>System Of A Down</td>\n",
       "      <td>391f0b31-0235-40d0-83e1-42e14fdc7e9c</td>\n",
       "      <td>A.D.D. (American Dream Denial)</td>\n",
       "      <td>2007-10-19</td>\n",
       "      <td>2</td>\n",
       "    </tr>\n",
       "  </tbody>\n",
       "</table>\n",
       "</div>"
      ],
      "text/plain": [
       "       user_id                 timestamp  \\\n",
       "0  user_000001 2008-08-21 14:55:24+00:00   \n",
       "1  user_000451 2008-03-13 00:56:00+00:00   \n",
       "2  user_000002 2006-12-08 04:55:54+00:00   \n",
       "3  user_000409 2008-06-27 00:36:44+00:00   \n",
       "4  user_000004 2007-07-09 20:43:36+00:00   \n",
       "5  user_000112 2008-06-13 04:56:37+00:00   \n",
       "6  user_000004 2007-05-11 22:50:02+00:00   \n",
       "7  user_000534 2008-03-26 18:38:44+00:00   \n",
       "8  user_000010 2008-05-13 08:43:00+00:00   \n",
       "9  user_000886 2007-10-19 10:23:38+00:00   \n",
       "\n",
       "                              artist_id       artist_name  \\\n",
       "0  15388d42-9197-4ca1-9ffe-240f763b84cb      Theo Parrish   \n",
       "1  15388d42-9197-4ca1-9ffe-240f763b84cb      Theo Parrish   \n",
       "2  197450cd-0124-4164-b723-3c22dd16494d     Frank Sinatra   \n",
       "3  197450cd-0124-4164-b723-3c22dd16494d     Frank Sinatra   \n",
       "4  c5a05cda-2f00-4566-9e1d-7b366fcdbfff         Oi Va Voi   \n",
       "5  c5a05cda-2f00-4566-9e1d-7b366fcdbfff         Oi Va Voi   \n",
       "6  e4c226f2-ba57-483f-be6b-3391112244b8             Mirah   \n",
       "7  e4c226f2-ba57-483f-be6b-3391112244b8             Mirah   \n",
       "8  cc0b7089-c08d-4c10-b6b0-873582c17fd6  System Of A Down   \n",
       "9  cc0b7089-c08d-4c10-b6b0-873582c17fd6  System Of A Down   \n",
       "\n",
       "                               track_id                            track_name  \\\n",
       "0  5b0afc9d-8567-4723-9b1c-ec31f816135d                                 Brain   \n",
       "1  5b0afc9d-8567-4723-9b1c-ec31f816135d                   Brain Collaboration   \n",
       "2  e0779db2-d84e-4d8c-b08e-ef2ab2b601cd                                My Way   \n",
       "3  e0779db2-d84e-4d8c-b08e-ef2ab2b601cd  My Way (Duet With Luciano Pavarotti)   \n",
       "4  0041fa4d-72e1-4464-a9df-ee0fb8b4d872                                 Gypsy   \n",
       "5  0041fa4d-72e1-4464-a9df-ee0fb8b4d872             Gypsy (Feat. Earl Zinger)   \n",
       "6  08876672-c74e-4a2c-86f4-24e4325aff0a                         Promise To Me   \n",
       "7  08876672-c74e-4a2c-86f4-24e4325aff0a                               Promise   \n",
       "8  391f0b31-0235-40d0-83e1-42e14fdc7e9c                                A.D.D.   \n",
       "9  391f0b31-0235-40d0-83e1-42e14fdc7e9c        A.D.D. (American Dream Denial)   \n",
       "\n",
       "         date  Count  \n",
       "0  2008-08-21      2  \n",
       "1  2008-03-13      2  \n",
       "2  2006-12-08      2  \n",
       "3  2008-06-27      2  \n",
       "4  2007-07-09      2  \n",
       "5  2008-06-13      2  \n",
       "6  2007-05-11      2  \n",
       "7  2008-03-26      2  \n",
       "8  2008-05-13      2  \n",
       "9  2007-10-19      2  "
      ]
     },
     "execution_count": 79,
     "metadata": {},
     "output_type": "execute_result"
    }
   ],
   "source": [
    "duplicates = songs.drop_duplicates(['track_id', 'track_name']).groupby('track_id',).size()\\\n",
    "                    .reset_index().rename(columns={0:'Count'})\n",
    "duplicates = duplicates[duplicates['Count'] > 1]\n",
    "duplicates = songs.drop_duplicates(['track_id', 'track_name'])\\\n",
    "                    .merge(duplicates, on='track_id')\n",
    "duplicates[['track_id', 'track_name']].head(10)"
   ]
  },
  {
   "cell_type": "markdown",
   "id": "known-valve",
   "metadata": {},
   "source": [
    "Similarly for the track names.\n",
    "\n",
    "Let's check the percentage of missing values:"
   ]
  },
  {
   "cell_type": "code",
   "execution_count": 19,
   "id": "commercial-vitamin",
   "metadata": {
    "ExecuteTime": {
     "end_time": "2021-04-09T09:28:39.367958Z",
     "start_time": "2021-04-09T09:28:37.836598Z"
    }
   },
   "outputs": [
    {
     "data": {
      "text/plain": [
       "user_id         0.000000\n",
       "timestamp       0.000000\n",
       "artist_id       3.145990\n",
       "artist_name     0.000000\n",
       "track_id       11.323816\n",
       "track_name      0.000063\n",
       "date            0.000000\n",
       "dtype: float64"
      ]
     },
     "execution_count": 19,
     "metadata": {},
     "output_type": "execute_result"
    }
   ],
   "source": [
    "100 * songs.isna().sum() / len(songs)"
   ]
  },
  {
   "cell_type": "markdown",
   "id": "polished-valentine",
   "metadata": {},
   "source": [
    "It looks like a lot of id's are missing. At least most of the names are registered, we may be able to recover the id's from duplicates. That will be easier for artist id's than track id's."
   ]
  },
  {
   "cell_type": "code",
   "execution_count": 20,
   "id": "finite-louisiana",
   "metadata": {
    "ExecuteTime": {
     "end_time": "2021-04-09T09:28:39.429070Z",
     "start_time": "2021-04-09T09:28:39.374333Z"
    },
    "scrolled": false
   },
   "outputs": [
    {
     "data": {
      "text/html": [
       "<div>\n",
       "<style scoped>\n",
       "    .dataframe tbody tr th:only-of-type {\n",
       "        vertical-align: middle;\n",
       "    }\n",
       "\n",
       "    .dataframe tbody tr th {\n",
       "        vertical-align: top;\n",
       "    }\n",
       "\n",
       "    .dataframe thead th {\n",
       "        text-align: right;\n",
       "    }\n",
       "</style>\n",
       "<table border=\"1\" class=\"dataframe\">\n",
       "  <thead>\n",
       "    <tr style=\"text-align: right;\">\n",
       "      <th></th>\n",
       "      <th>user_id</th>\n",
       "      <th>timestamp</th>\n",
       "      <th>artist_id</th>\n",
       "      <th>artist_name</th>\n",
       "      <th>track_id</th>\n",
       "      <th>track_name</th>\n",
       "      <th>date</th>\n",
       "    </tr>\n",
       "  </thead>\n",
       "  <tbody>\n",
       "  </tbody>\n",
       "</table>\n",
       "</div>"
      ],
      "text/plain": [
       "Empty DataFrame\n",
       "Columns: [user_id, timestamp, artist_id, artist_name, track_id, track_name, date]\n",
       "Index: []"
      ]
     },
     "execution_count": 20,
     "metadata": {},
     "output_type": "execute_result"
    }
   ],
   "source": [
    "songs[songs.artist_id.isna() & ~songs.track_id.isna()]"
   ]
  },
  {
   "cell_type": "markdown",
   "id": "approved-difference",
   "metadata": {},
   "source": [
    "Remarkably, all rows with missing artist id also have missing track id."
   ]
  },
  {
   "cell_type": "code",
   "execution_count": 21,
   "id": "separated-still",
   "metadata": {
    "ExecuteTime": {
     "end_time": "2021-04-09T09:28:39.470829Z",
     "start_time": "2021-04-09T09:28:39.433141Z"
    }
   },
   "outputs": [
    {
     "data": {
      "text/html": [
       "<div>\n",
       "<style scoped>\n",
       "    .dataframe tbody tr th:only-of-type {\n",
       "        vertical-align: middle;\n",
       "    }\n",
       "\n",
       "    .dataframe tbody tr th {\n",
       "        vertical-align: top;\n",
       "    }\n",
       "\n",
       "    .dataframe thead th {\n",
       "        text-align: right;\n",
       "    }\n",
       "</style>\n",
       "<table border=\"1\" class=\"dataframe\">\n",
       "  <thead>\n",
       "    <tr style=\"text-align: right;\">\n",
       "      <th></th>\n",
       "      <th>user_id</th>\n",
       "      <th>timestamp</th>\n",
       "      <th>artist_id</th>\n",
       "      <th>artist_name</th>\n",
       "      <th>track_id</th>\n",
       "      <th>track_name</th>\n",
       "      <th>date</th>\n",
       "    </tr>\n",
       "  </thead>\n",
       "  <tbody>\n",
       "    <tr>\n",
       "      <th>1264044</th>\n",
       "      <td>user_000060</td>\n",
       "      <td>2006-04-19 10:41:44+00:00</td>\n",
       "      <td>1f4bf518-3aa3-4114-ada7-64884e580ad2</td>\n",
       "      <td>The Sammies</td>\n",
       "      <td>NaN</td>\n",
       "      <td>NaN</td>\n",
       "      <td>2006-04-19</td>\n",
       "    </tr>\n",
       "    <tr>\n",
       "      <th>1371571</th>\n",
       "      <td>user_000067</td>\n",
       "      <td>2006-06-08 13:17:00+00:00</td>\n",
       "      <td>945c0e49-8d06-4f01-87cf-c2d82b00d5ac</td>\n",
       "      <td>Simon Dawes</td>\n",
       "      <td>NaN</td>\n",
       "      <td>NaN</td>\n",
       "      <td>2006-06-08</td>\n",
       "    </tr>\n",
       "    <tr>\n",
       "      <th>1371606</th>\n",
       "      <td>user_000067</td>\n",
       "      <td>2006-06-07 18:25:19+00:00</td>\n",
       "      <td>945c0e49-8d06-4f01-87cf-c2d82b00d5ac</td>\n",
       "      <td>Simon Dawes</td>\n",
       "      <td>NaN</td>\n",
       "      <td>NaN</td>\n",
       "      <td>2006-06-07</td>\n",
       "    </tr>\n",
       "    <tr>\n",
       "      <th>1371738</th>\n",
       "      <td>user_000067</td>\n",
       "      <td>2006-06-06 14:09:10+00:00</td>\n",
       "      <td>945c0e49-8d06-4f01-87cf-c2d82b00d5ac</td>\n",
       "      <td>Simon Dawes</td>\n",
       "      <td>NaN</td>\n",
       "      <td>NaN</td>\n",
       "      <td>2006-06-06</td>\n",
       "    </tr>\n",
       "    <tr>\n",
       "      <th>1371955</th>\n",
       "      <td>user_000067</td>\n",
       "      <td>2006-05-30 14:02:33+00:00</td>\n",
       "      <td>945c0e49-8d06-4f01-87cf-c2d82b00d5ac</td>\n",
       "      <td>Simon Dawes</td>\n",
       "      <td>NaN</td>\n",
       "      <td>NaN</td>\n",
       "      <td>2006-05-30</td>\n",
       "    </tr>\n",
       "    <tr>\n",
       "      <th>1372180</th>\n",
       "      <td>user_000067</td>\n",
       "      <td>2006-05-25 16:14:33+00:00</td>\n",
       "      <td>1f4bf518-3aa3-4114-ada7-64884e580ad2</td>\n",
       "      <td>The Sammies</td>\n",
       "      <td>NaN</td>\n",
       "      <td>NaN</td>\n",
       "      <td>2006-05-25</td>\n",
       "    </tr>\n",
       "    <tr>\n",
       "      <th>1372494</th>\n",
       "      <td>user_000067</td>\n",
       "      <td>2006-05-15 20:20:25+00:00</td>\n",
       "      <td>945c0e49-8d06-4f01-87cf-c2d82b00d5ac</td>\n",
       "      <td>Simon Dawes</td>\n",
       "      <td>NaN</td>\n",
       "      <td>NaN</td>\n",
       "      <td>2006-05-15</td>\n",
       "    </tr>\n",
       "    <tr>\n",
       "      <th>1372970</th>\n",
       "      <td>user_000067</td>\n",
       "      <td>2006-04-13 19:47:12+00:00</td>\n",
       "      <td>1f4bf518-3aa3-4114-ada7-64884e580ad2</td>\n",
       "      <td>The Sammies</td>\n",
       "      <td>NaN</td>\n",
       "      <td>NaN</td>\n",
       "      <td>2006-04-13</td>\n",
       "    </tr>\n",
       "    <tr>\n",
       "      <th>1373492</th>\n",
       "      <td>user_000067</td>\n",
       "      <td>2006-03-21 16:41:56+00:00</td>\n",
       "      <td>945c0e49-8d06-4f01-87cf-c2d82b00d5ac</td>\n",
       "      <td>Simon Dawes</td>\n",
       "      <td>NaN</td>\n",
       "      <td>NaN</td>\n",
       "      <td>2006-03-21</td>\n",
       "    </tr>\n",
       "    <tr>\n",
       "      <th>1373526</th>\n",
       "      <td>user_000067</td>\n",
       "      <td>2006-03-20 21:08:07+00:00</td>\n",
       "      <td>1f4bf518-3aa3-4114-ada7-64884e580ad2</td>\n",
       "      <td>The Sammies</td>\n",
       "      <td>NaN</td>\n",
       "      <td>NaN</td>\n",
       "      <td>2006-03-20</td>\n",
       "    </tr>\n",
       "    <tr>\n",
       "      <th>1374009</th>\n",
       "      <td>user_000067</td>\n",
       "      <td>2006-03-08 19:24:07+00:00</td>\n",
       "      <td>NaN</td>\n",
       "      <td>Go Gettas Entertainment Feat.</td>\n",
       "      <td>NaN</td>\n",
       "      <td>NaN</td>\n",
       "      <td>2006-03-08</td>\n",
       "    </tr>\n",
       "    <tr>\n",
       "      <th>10975673</th>\n",
       "      <td>user_000585</td>\n",
       "      <td>2009-01-14 03:56:02+00:00</td>\n",
       "      <td>NaN</td>\n",
       "      <td>Silence'' Foundation Laboratory (Silentpoets)\\...</td>\n",
       "      <td>NaN</td>\n",
       "      <td>NaN</td>\n",
       "      <td>2009-01-14</td>\n",
       "    </tr>\n",
       "  </tbody>\n",
       "</table>\n",
       "</div>"
      ],
      "text/plain": [
       "              user_id                 timestamp  \\\n",
       "1264044   user_000060 2006-04-19 10:41:44+00:00   \n",
       "1371571   user_000067 2006-06-08 13:17:00+00:00   \n",
       "1371606   user_000067 2006-06-07 18:25:19+00:00   \n",
       "1371738   user_000067 2006-06-06 14:09:10+00:00   \n",
       "1371955   user_000067 2006-05-30 14:02:33+00:00   \n",
       "1372180   user_000067 2006-05-25 16:14:33+00:00   \n",
       "1372494   user_000067 2006-05-15 20:20:25+00:00   \n",
       "1372970   user_000067 2006-04-13 19:47:12+00:00   \n",
       "1373492   user_000067 2006-03-21 16:41:56+00:00   \n",
       "1373526   user_000067 2006-03-20 21:08:07+00:00   \n",
       "1374009   user_000067 2006-03-08 19:24:07+00:00   \n",
       "10975673  user_000585 2009-01-14 03:56:02+00:00   \n",
       "\n",
       "                                     artist_id  \\\n",
       "1264044   1f4bf518-3aa3-4114-ada7-64884e580ad2   \n",
       "1371571   945c0e49-8d06-4f01-87cf-c2d82b00d5ac   \n",
       "1371606   945c0e49-8d06-4f01-87cf-c2d82b00d5ac   \n",
       "1371738   945c0e49-8d06-4f01-87cf-c2d82b00d5ac   \n",
       "1371955   945c0e49-8d06-4f01-87cf-c2d82b00d5ac   \n",
       "1372180   1f4bf518-3aa3-4114-ada7-64884e580ad2   \n",
       "1372494   945c0e49-8d06-4f01-87cf-c2d82b00d5ac   \n",
       "1372970   1f4bf518-3aa3-4114-ada7-64884e580ad2   \n",
       "1373492   945c0e49-8d06-4f01-87cf-c2d82b00d5ac   \n",
       "1373526   1f4bf518-3aa3-4114-ada7-64884e580ad2   \n",
       "1374009                                    NaN   \n",
       "10975673                                   NaN   \n",
       "\n",
       "                                                artist_name track_id  \\\n",
       "1264044                                         The Sammies      NaN   \n",
       "1371571                                         Simon Dawes      NaN   \n",
       "1371606                                         Simon Dawes      NaN   \n",
       "1371738                                         Simon Dawes      NaN   \n",
       "1371955                                         Simon Dawes      NaN   \n",
       "1372180                                         The Sammies      NaN   \n",
       "1372494                                         Simon Dawes      NaN   \n",
       "1372970                                         The Sammies      NaN   \n",
       "1373492                                         Simon Dawes      NaN   \n",
       "1373526                                         The Sammies      NaN   \n",
       "1374009                       Go Gettas Entertainment Feat.      NaN   \n",
       "10975673  Silence'' Foundation Laboratory (Silentpoets)\\...      NaN   \n",
       "\n",
       "         track_name        date  \n",
       "1264044         NaN  2006-04-19  \n",
       "1371571         NaN  2006-06-08  \n",
       "1371606         NaN  2006-06-07  \n",
       "1371738         NaN  2006-06-06  \n",
       "1371955         NaN  2006-05-30  \n",
       "1372180         NaN  2006-05-25  \n",
       "1372494         NaN  2006-05-15  \n",
       "1372970         NaN  2006-04-13  \n",
       "1373492         NaN  2006-03-21  \n",
       "1373526         NaN  2006-03-20  \n",
       "1374009         NaN  2006-03-08  \n",
       "10975673        NaN  2009-01-14  "
      ]
     },
     "execution_count": 21,
     "metadata": {},
     "output_type": "execute_result"
    }
   ],
   "source": [
    "songs[songs.track_name.isna()]"
   ]
  },
  {
   "cell_type": "markdown",
   "id": "tight-ideal",
   "metadata": {},
   "source": [
    "The rows with missing track name look similar: most are from the same user and from the same artist."
   ]
  },
  {
   "cell_type": "markdown",
   "id": "ranging-breathing",
   "metadata": {},
   "source": [
    "# User demographics"
   ]
  },
  {
   "cell_type": "code",
   "execution_count": 22,
   "id": "connected-elder",
   "metadata": {
    "ExecuteTime": {
     "end_time": "2021-04-09T09:28:39.555466Z",
     "start_time": "2021-04-09T09:28:39.474399Z"
    }
   },
   "outputs": [
    {
     "data": {
      "text/html": [
       "<div>\n",
       "<style scoped>\n",
       "    .dataframe tbody tr th:only-of-type {\n",
       "        vertical-align: middle;\n",
       "    }\n",
       "\n",
       "    .dataframe tbody tr th {\n",
       "        vertical-align: top;\n",
       "    }\n",
       "\n",
       "    .dataframe thead th {\n",
       "        text-align: right;\n",
       "    }\n",
       "</style>\n",
       "<table border=\"1\" class=\"dataframe\">\n",
       "  <thead>\n",
       "    <tr style=\"text-align: right;\">\n",
       "      <th></th>\n",
       "      <th>user_id</th>\n",
       "      <th>gender</th>\n",
       "      <th>age</th>\n",
       "      <th>country</th>\n",
       "      <th>registered</th>\n",
       "    </tr>\n",
       "  </thead>\n",
       "  <tbody>\n",
       "    <tr>\n",
       "      <th>count</th>\n",
       "      <td>992</td>\n",
       "      <td>884</td>\n",
       "      <td>286.000000</td>\n",
       "      <td>907</td>\n",
       "      <td>984</td>\n",
       "    </tr>\n",
       "    <tr>\n",
       "      <th>unique</th>\n",
       "      <td>992</td>\n",
       "      <td>2</td>\n",
       "      <td>NaN</td>\n",
       "      <td>66</td>\n",
       "      <td>NaN</td>\n",
       "    </tr>\n",
       "    <tr>\n",
       "      <th>top</th>\n",
       "      <td>user_000001</td>\n",
       "      <td>m</td>\n",
       "      <td>NaN</td>\n",
       "      <td>United States</td>\n",
       "      <td>NaN</td>\n",
       "    </tr>\n",
       "    <tr>\n",
       "      <th>freq</th>\n",
       "      <td>1</td>\n",
       "      <td>502</td>\n",
       "      <td>NaN</td>\n",
       "      <td>228</td>\n",
       "      <td>NaN</td>\n",
       "    </tr>\n",
       "    <tr>\n",
       "      <th>mean</th>\n",
       "      <td>NaN</td>\n",
       "      <td>NaN</td>\n",
       "      <td>25.367132</td>\n",
       "      <td>NaN</td>\n",
       "      <td>2006-02-18 21:05:51.219512320</td>\n",
       "    </tr>\n",
       "    <tr>\n",
       "      <th>min</th>\n",
       "      <td>NaN</td>\n",
       "      <td>NaN</td>\n",
       "      <td>3.000000</td>\n",
       "      <td>NaN</td>\n",
       "      <td>2002-10-29 00:00:00</td>\n",
       "    </tr>\n",
       "    <tr>\n",
       "      <th>25%</th>\n",
       "      <td>NaN</td>\n",
       "      <td>NaN</td>\n",
       "      <td>21.000000</td>\n",
       "      <td>NaN</td>\n",
       "      <td>2005-08-14 00:00:00</td>\n",
       "    </tr>\n",
       "    <tr>\n",
       "      <th>50%</th>\n",
       "      <td>NaN</td>\n",
       "      <td>NaN</td>\n",
       "      <td>23.000000</td>\n",
       "      <td>NaN</td>\n",
       "      <td>2006-03-03 12:00:00</td>\n",
       "    </tr>\n",
       "    <tr>\n",
       "      <th>75%</th>\n",
       "      <td>NaN</td>\n",
       "      <td>NaN</td>\n",
       "      <td>28.000000</td>\n",
       "      <td>NaN</td>\n",
       "      <td>2006-08-30 06:00:00</td>\n",
       "    </tr>\n",
       "    <tr>\n",
       "      <th>max</th>\n",
       "      <td>NaN</td>\n",
       "      <td>NaN</td>\n",
       "      <td>103.000000</td>\n",
       "      <td>NaN</td>\n",
       "      <td>2009-11-05 00:00:00</td>\n",
       "    </tr>\n",
       "    <tr>\n",
       "      <th>std</th>\n",
       "      <td>NaN</td>\n",
       "      <td>NaN</td>\n",
       "      <td>8.314952</td>\n",
       "      <td>NaN</td>\n",
       "      <td>NaN</td>\n",
       "    </tr>\n",
       "  </tbody>\n",
       "</table>\n",
       "</div>"
      ],
      "text/plain": [
       "            user_id gender         age        country  \\\n",
       "count           992    884  286.000000            907   \n",
       "unique          992      2         NaN             66   \n",
       "top     user_000001      m         NaN  United States   \n",
       "freq              1    502         NaN            228   \n",
       "mean            NaN    NaN   25.367132            NaN   \n",
       "min             NaN    NaN    3.000000            NaN   \n",
       "25%             NaN    NaN   21.000000            NaN   \n",
       "50%             NaN    NaN   23.000000            NaN   \n",
       "75%             NaN    NaN   28.000000            NaN   \n",
       "max             NaN    NaN  103.000000            NaN   \n",
       "std             NaN    NaN    8.314952            NaN   \n",
       "\n",
       "                           registered  \n",
       "count                             984  \n",
       "unique                            NaN  \n",
       "top                               NaN  \n",
       "freq                              NaN  \n",
       "mean    2006-02-18 21:05:51.219512320  \n",
       "min               2002-10-29 00:00:00  \n",
       "25%               2005-08-14 00:00:00  \n",
       "50%               2006-03-03 12:00:00  \n",
       "75%               2006-08-30 06:00:00  \n",
       "max               2009-11-05 00:00:00  \n",
       "std                               NaN  "
      ]
     },
     "execution_count": 22,
     "metadata": {},
     "output_type": "execute_result"
    }
   ],
   "source": [
    "users.describe(include='all', datetime_is_numeric=True)"
   ]
  },
  {
   "cell_type": "code",
   "execution_count": 23,
   "id": "annual-luxembourg",
   "metadata": {
    "ExecuteTime": {
     "end_time": "2021-04-09T09:28:40.254640Z",
     "start_time": "2021-04-09T09:28:39.565662Z"
    }
   },
   "outputs": [
    {
     "data": {
      "image/png": "[encoded data removed]",
      "text/plain": [
       "<Figure size 1800x720 with 2 Axes>"
      ]
     },
     "metadata": {
      "needs_background": "light"
     },
     "output_type": "display_data"
    }
   ],
   "source": [
    "missingno.matrix(users)\n",
    "plt.show()"
   ]
  },
  {
   "cell_type": "code",
   "execution_count": 24,
   "id": "extra-walter",
   "metadata": {
    "ExecuteTime": {
     "end_time": "2021-04-09T09:28:40.476432Z",
     "start_time": "2021-04-09T09:28:40.261882Z"
    }
   },
   "outputs": [
    {
     "data": {
      "image/png": "[encoded data removed]",
      "text/plain": [
       "<Figure size 432x288 with 1 Axes>"
      ]
     },
     "metadata": {
      "needs_background": "light"
     },
     "output_type": "display_data"
    }
   ],
   "source": [
    "sns.countplot(data=users, x='gender');"
   ]
  },
  {
   "cell_type": "code",
   "execution_count": 24,
   "id": "activated-phrase",
   "metadata": {
    "ExecuteTime": {
     "end_time": "2021-06-09T14:23:09.515419Z",
     "start_time": "2021-06-09T14:23:08.650902Z"
    }
   },
   "outputs": [
    {
     "data": {
      "image/png": "[encoded data removed]",
      "text/plain": [
       "<Figure size 720x360 with 1 Axes>"
      ]
     },
     "metadata": {
      "needs_background": "light"
     },
     "output_type": "display_data"
    }
   ],
   "source": [
    "plt.figure(figsize=(10,5))\n",
    "sns.histplot(data=users, x='age');\n",
    "plt.ylabel(\"Count\", fontsize=14)\n",
    "plt.xlabel(\"Age\",fontsize=14)\n",
    "plt.savefig(\"age_distribution.png\", dpi=300, bbox_inches='tight')"
   ]
  },
  {
   "cell_type": "markdown",
   "id": "elementary-melissa",
   "metadata": {},
   "source": [
    "Interestingly, some users are really young and one is really old."
   ]
  },
  {
   "cell_type": "code",
   "execution_count": 26,
   "id": "crucial-framework",
   "metadata": {
    "ExecuteTime": {
     "end_time": "2021-04-09T09:28:43.006726Z",
     "start_time": "2021-04-09T09:28:40.826088Z"
    }
   },
   "outputs": [
    {
     "data": {
      "image/png": "[encoded data removed]",
      "text/plain": [
       "<Figure size 1080x1080 with 1 Axes>"
      ]
     },
     "metadata": {
      "needs_background": "light"
     },
     "output_type": "display_data"
    }
   ],
   "source": [
    "plt.figure(figsize=(15,15))\n",
    "sns.countplot(data=users, y='country', orient='h', \n",
    "              order = users['country'].value_counts().index);"
   ]
  },
  {
   "cell_type": "code",
   "execution_count": 27,
   "id": "generous-duration",
   "metadata": {
    "ExecuteTime": {
     "end_time": "2021-04-09T09:28:43.348516Z",
     "start_time": "2021-04-09T09:28:43.011980Z"
    }
   },
   "outputs": [
    {
     "data": {
      "image/png": "[encoded data removed]",
      "text/plain": [
       "<Figure size 1080x360 with 1 Axes>"
      ]
     },
     "metadata": {
      "needs_background": "light"
     },
     "output_type": "display_data"
    }
   ],
   "source": [
    "daily_entries = users.groupby(pd.Grouper(key='registered', freq='1M')).size().reset_index()\\\n",
    "                     .rename(columns={0:'Number of entries'})\n",
    "plt.figure(figsize=(15,5))\n",
    "sns.lineplot(data=daily_entries, x='registered', y='Number of entries')\n",
    "plt.title(\"Number of users registering per month\")\n",
    "plt.show()"
   ]
  },
  {
   "cell_type": "markdown",
   "id": "emotional-connecticut",
   "metadata": {},
   "source": [
    "Most user registered between 2005 to 2008. Note that while the track history goes up to 2014, the last user in the dataset registered in 2010."
   ]
  },
  {
   "cell_type": "markdown",
   "id": "sublime-international",
   "metadata": {},
   "source": [
    "# Last.fm API exploration"
   ]
  },
  {
   "cell_type": "code",
   "execution_count": 25,
   "id": "baking-justice",
   "metadata": {
    "ExecuteTime": {
     "end_time": "2021-04-15T22:23:26.592399Z",
     "start_time": "2021-04-15T22:23:25.841359Z"
    }
   },
   "outputs": [],
   "source": [
    "import requests\n",
    "import json\n",
    "import urllib.parse\n",
    "API_KEY = '471bf4b3afffd1b470553bbc6b26bef8'"
   ]
  },
  {
   "cell_type": "markdown",
   "id": "subjective-committee",
   "metadata": {},
   "source": [
    "## track.getTopTags"
   ]
  },
  {
   "cell_type": "code",
   "execution_count": 67,
   "id": "antique-material",
   "metadata": {
    "ExecuteTime": {
     "end_time": "2021-04-09T09:55:16.649997Z",
     "start_time": "2021-04-09T09:55:16.630812Z"
    }
   },
   "outputs": [
    {
     "data": {
      "text/html": [
       "<div>\n",
       "<style scoped>\n",
       "    .dataframe tbody tr th:only-of-type {\n",
       "        vertical-align: middle;\n",
       "    }\n",
       "\n",
       "    .dataframe tbody tr th {\n",
       "        vertical-align: top;\n",
       "    }\n",
       "\n",
       "    .dataframe thead th {\n",
       "        text-align: right;\n",
       "    }\n",
       "</style>\n",
       "<table border=\"1\" class=\"dataframe\">\n",
       "  <thead>\n",
       "    <tr style=\"text-align: right;\">\n",
       "      <th></th>\n",
       "      <th>user_id</th>\n",
       "      <th>timestamp</th>\n",
       "      <th>artist_id</th>\n",
       "      <th>artist_name</th>\n",
       "      <th>track_id</th>\n",
       "      <th>track_name</th>\n",
       "      <th>date</th>\n",
       "    </tr>\n",
       "  </thead>\n",
       "  <tbody>\n",
       "    <tr>\n",
       "      <th>19098848</th>\n",
       "      <td>user_001000</td>\n",
       "      <td>2008-01-27 22:02:35+00:00</td>\n",
       "      <td>9e53f84d-ef44-4c16-9677-5fd4d78cbd7d</td>\n",
       "      <td>Wilco</td>\n",
       "      <td>a490cabc-1e5c-4807-86c7-740c31a50009</td>\n",
       "      <td>Please Be Patient With Me</td>\n",
       "      <td>2008-01-27</td>\n",
       "    </tr>\n",
       "    <tr>\n",
       "      <th>19098849</th>\n",
       "      <td>user_001000</td>\n",
       "      <td>2008-01-27 21:56:52+00:00</td>\n",
       "      <td>9e53f84d-ef44-4c16-9677-5fd4d78cbd7d</td>\n",
       "      <td>Wilco</td>\n",
       "      <td>3e92e447-9e1f-440d-bc00-6734469880c5</td>\n",
       "      <td>Shake It Off</td>\n",
       "      <td>2008-01-27</td>\n",
       "    </tr>\n",
       "    <tr>\n",
       "      <th>19098850</th>\n",
       "      <td>user_001000</td>\n",
       "      <td>2008-01-27 21:52:36+00:00</td>\n",
       "      <td>9e53f84d-ef44-4c16-9677-5fd4d78cbd7d</td>\n",
       "      <td>Wilco</td>\n",
       "      <td>93d044e6-1bbb-46a6-ac8e-283382a89e6f</td>\n",
       "      <td>Side With The Seeds</td>\n",
       "      <td>2008-01-27</td>\n",
       "    </tr>\n",
       "    <tr>\n",
       "      <th>19098851</th>\n",
       "      <td>user_001000</td>\n",
       "      <td>2008-01-27 21:49:12+00:00</td>\n",
       "      <td>9e53f84d-ef44-4c16-9677-5fd4d78cbd7d</td>\n",
       "      <td>Wilco</td>\n",
       "      <td>5ac4386f-6146-4389-a762-4b43f362d2c8</td>\n",
       "      <td>Sky Blue Sky</td>\n",
       "      <td>2008-01-27</td>\n",
       "    </tr>\n",
       "    <tr>\n",
       "      <th>19098852</th>\n",
       "      <td>user_001000</td>\n",
       "      <td>2008-01-27 21:43:14+00:00</td>\n",
       "      <td>9e53f84d-ef44-4c16-9677-5fd4d78cbd7d</td>\n",
       "      <td>Wilco</td>\n",
       "      <td>3acc99bc-a349-420f-ad28-7095eb3533c9</td>\n",
       "      <td>Impossible Germany</td>\n",
       "      <td>2008-01-27</td>\n",
       "    </tr>\n",
       "  </tbody>\n",
       "</table>\n",
       "</div>"
      ],
      "text/plain": [
       "              user_id                 timestamp  \\\n",
       "19098848  user_001000 2008-01-27 22:02:35+00:00   \n",
       "19098849  user_001000 2008-01-27 21:56:52+00:00   \n",
       "19098850  user_001000 2008-01-27 21:52:36+00:00   \n",
       "19098851  user_001000 2008-01-27 21:49:12+00:00   \n",
       "19098852  user_001000 2008-01-27 21:43:14+00:00   \n",
       "\n",
       "                                     artist_id artist_name  \\\n",
       "19098848  9e53f84d-ef44-4c16-9677-5fd4d78cbd7d       Wilco   \n",
       "19098849  9e53f84d-ef44-4c16-9677-5fd4d78cbd7d       Wilco   \n",
       "19098850  9e53f84d-ef44-4c16-9677-5fd4d78cbd7d       Wilco   \n",
       "19098851  9e53f84d-ef44-4c16-9677-5fd4d78cbd7d       Wilco   \n",
       "19098852  9e53f84d-ef44-4c16-9677-5fd4d78cbd7d       Wilco   \n",
       "\n",
       "                                      track_id                 track_name  \\\n",
       "19098848  a490cabc-1e5c-4807-86c7-740c31a50009  Please Be Patient With Me   \n",
       "19098849  3e92e447-9e1f-440d-bc00-6734469880c5               Shake It Off   \n",
       "19098850  93d044e6-1bbb-46a6-ac8e-283382a89e6f        Side With The Seeds   \n",
       "19098851  5ac4386f-6146-4389-a762-4b43f362d2c8               Sky Blue Sky   \n",
       "19098852  3acc99bc-a349-420f-ad28-7095eb3533c9         Impossible Germany   \n",
       "\n",
       "                date  \n",
       "19098848  2008-01-27  \n",
       "19098849  2008-01-27  \n",
       "19098850  2008-01-27  \n",
       "19098851  2008-01-27  \n",
       "19098852  2008-01-27  "
      ]
     },
     "execution_count": 67,
     "metadata": {},
     "output_type": "execute_result"
    }
   ],
   "source": [
    "songs.tail()"
   ]
  },
  {
   "cell_type": "code",
   "execution_count": 89,
   "id": "rising-raleigh",
   "metadata": {
    "ExecuteTime": {
     "end_time": "2021-04-09T11:46:33.191487Z",
     "start_time": "2021-04-09T11:46:33.184938Z"
    }
   },
   "outputs": [],
   "source": [
    "def getTrackTags(artist=None, track=None, track_id=None, threshold=10):\n",
    "    artist = urllib.parse.quote(artist)\n",
    "    track = urllib.parse.quote(track)\n",
    "    url = f\"http://ws.audioscrobbler.com/2.0/?method=track.gettoptags&artist={artist}&track={track}&api_key={API_KEY}&format=json&autocorrect=1\"\n",
    "    response = requests.get(url).json()['toptags']\n",
    "    print(response['@attr']['artist'] + ' - '+ response['@attr']['track'])\n",
    "    for tag_item in response['tag']:\n",
    "        count = tag_item['count']\n",
    "        if count >= threshold:\n",
    "            print(tag_item['name'], count)\n",
    "    return response['tag']"
   ]
  },
  {
   "cell_type": "code",
   "execution_count": 76,
   "id": "electoral-romantic",
   "metadata": {
    "ExecuteTime": {
     "end_time": "2021-04-09T10:00:35.916678Z",
     "start_time": "2021-04-09T10:00:35.757680Z"
    }
   },
   "outputs": [
    {
     "name": "stdout",
     "output_type": "stream",
     "text": [
      "Radiohead - Paranoid Android\n",
      "alternative 100\n",
      "alternative rock 87\n",
      "rock 69\n",
      "radiohead 56\n",
      "indie 48\n",
      "90s 30\n",
      "british 28\n",
      "experimental 18\n",
      "indie rock 16\n",
      "electronic 12\n",
      "britpop 12\n",
      "epic 11\n",
      "Progressive rock 11\n",
      "favorites 10\n"
     ]
    }
   ],
   "source": [
    "getTrackTags('RadioHead', 'Paranoid Android')"
   ]
  },
  {
   "cell_type": "code",
   "execution_count": 82,
   "id": "smart-alias",
   "metadata": {
    "ExecuteTime": {
     "end_time": "2021-04-09T10:02:12.218490Z",
     "start_time": "2021-04-09T10:02:12.058801Z"
    }
   },
   "outputs": [
    {
     "name": "stdout",
     "output_type": "stream",
     "text": [
      "Frank Sinatra - My Way\n",
      "jazz 100\n",
      "oldies 81\n",
      "frank sinatra 81\n",
      "swing 60\n",
      "easy listening 45\n",
      "My Way 24\n",
      "60s 17\n",
      "classic 13\n",
      "vocal jazz 13\n",
      "male vocalists 13\n",
      "american 10\n"
     ]
    }
   ],
   "source": [
    "getTrackTags('Frank Sinatra', 'My way (Duet With Luciano Pavarotti)')"
   ]
  },
  {
   "cell_type": "code",
   "execution_count": 77,
   "id": "considered-owner",
   "metadata": {
    "ExecuteTime": {
     "end_time": "2021-04-09T10:00:37.437658Z",
     "start_time": "2021-04-09T10:00:37.281732Z"
    }
   },
   "outputs": [
    {
     "name": "stdout",
     "output_type": "stream",
     "text": [
      "坂本龍一 - composition 0919 (live_2009_4_15)\n"
     ]
    }
   ],
   "source": [
    "getTrackTags('坂本龍一', 'Composition 0919 (Live_2009_4_15)', threshold=1)"
   ]
  },
  {
   "cell_type": "code",
   "execution_count": 78,
   "id": "crucial-salmon",
   "metadata": {
    "ExecuteTime": {
     "end_time": "2021-04-09T10:00:42.158623Z",
     "start_time": "2021-04-09T10:00:42.004875Z"
    }
   },
   "outputs": [
    {
     "name": "stdout",
     "output_type": "stream",
     "text": [
      "Deep Dish - Fuck Me Im Famous (Pacha Ibiza)-09-28-2007\n",
      "dance 100\n",
      "House 100\n"
     ]
    }
   ],
   "source": [
    "getTrackTags('Deep Dish', 'Fuck Me Im Famous (Pacha Ibiza)-09-28-2007')"
   ]
  },
  {
   "cell_type": "markdown",
   "id": "literary-clearing",
   "metadata": {},
   "source": [
    "We can use the `autocorrect` parameter to have the right title names"
   ]
  },
  {
   "cell_type": "markdown",
   "id": "streaming-first",
   "metadata": {},
   "source": [
    "## Tag extraction"
   ]
  },
  {
   "cell_type": "code",
   "execution_count": 90,
   "id": "miniature-japanese",
   "metadata": {
    "ExecuteTime": {
     "end_time": "2021-04-09T11:46:41.597129Z",
     "start_time": "2021-04-09T11:46:41.329819Z"
    }
   },
   "outputs": [
    {
     "data": {
      "text/plain": [
       "[{'count': 100, 'name': 'dance', 'url': 'https://www.last.fm/tag/dance'},\n",
       " {'count': 100, 'name': 'House', 'url': 'https://www.last.fm/tag/House'}]"
      ]
     },
     "execution_count": 90,
     "metadata": {},
     "output_type": "execute_result"
    }
   ],
   "source": [
    "getTrackTags('Deep Dish', 'Fuck Me Im Famous (Pacha Ibiza)-09-28-2007')"
   ]
  },
  {
   "cell_type": "code",
   "execution_count": 9,
   "id": "advisory-operations",
   "metadata": {
    "ExecuteTime": {
     "end_time": "2021-04-15T22:22:23.828865Z",
     "start_time": "2021-04-15T22:22:20.749871Z"
    }
   },
   "outputs": [],
   "source": [
    "discography = songs[['artist_name', 'track_name']].drop_duplicates()"
   ]
  },
  {
   "cell_type": "code",
   "execution_count": 10,
   "id": "vietnamese-static",
   "metadata": {
    "ExecuteTime": {
     "end_time": "2021-04-15T22:22:23.849457Z",
     "start_time": "2021-04-15T22:22:23.832126Z"
    },
    "scrolled": false
   },
   "outputs": [
    {
     "data": {
      "text/html": [
       "<div>\n",
       "<style scoped>\n",
       "    .dataframe tbody tr th:only-of-type {\n",
       "        vertical-align: middle;\n",
       "    }\n",
       "\n",
       "    .dataframe tbody tr th {\n",
       "        vertical-align: top;\n",
       "    }\n",
       "\n",
       "    .dataframe thead th {\n",
       "        text-align: right;\n",
       "    }\n",
       "</style>\n",
       "<table border=\"1\" class=\"dataframe\">\n",
       "  <thead>\n",
       "    <tr style=\"text-align: right;\">\n",
       "      <th></th>\n",
       "      <th>artist_name</th>\n",
       "      <th>track_name</th>\n",
       "    </tr>\n",
       "  </thead>\n",
       "  <tbody>\n",
       "    <tr>\n",
       "      <th>0</th>\n",
       "      <td>Deep Dish</td>\n",
       "      <td>Fuck Me Im Famous (Pacha Ibiza)-09-28-2007</td>\n",
       "    </tr>\n",
       "    <tr>\n",
       "      <th>1</th>\n",
       "      <td>坂本龍一</td>\n",
       "      <td>Composition 0919 (Live_2009_4_15)</td>\n",
       "    </tr>\n",
       "    <tr>\n",
       "      <th>2</th>\n",
       "      <td>坂本龍一</td>\n",
       "      <td>Mc2 (Live_2009_4_15)</td>\n",
       "    </tr>\n",
       "    <tr>\n",
       "      <th>3</th>\n",
       "      <td>坂本龍一</td>\n",
       "      <td>Hibari (Live_2009_4_15)</td>\n",
       "    </tr>\n",
       "    <tr>\n",
       "      <th>4</th>\n",
       "      <td>坂本龍一</td>\n",
       "      <td>Mc1 (Live_2009_4_15)</td>\n",
       "    </tr>\n",
       "  </tbody>\n",
       "</table>\n",
       "</div>"
      ],
      "text/plain": [
       "  artist_name                                  track_name\n",
       "0   Deep Dish  Fuck Me Im Famous (Pacha Ibiza)-09-28-2007\n",
       "1        坂本龍一           Composition 0919 (Live_2009_4_15)\n",
       "2        坂本龍一                        Mc2 (Live_2009_4_15)\n",
       "3        坂本龍一                     Hibari (Live_2009_4_15)\n",
       "4        坂本龍一                        Mc1 (Live_2009_4_15)"
      ]
     },
     "execution_count": 10,
     "metadata": {},
     "output_type": "execute_result"
    }
   ],
   "source": [
    "discography.head()"
   ]
  },
  {
   "cell_type": "code",
   "execution_count": 11,
   "id": "optimum-liquid",
   "metadata": {
    "ExecuteTime": {
     "end_time": "2021-04-15T22:22:23.867843Z",
     "start_time": "2021-04-15T22:22:23.856631Z"
    }
   },
   "outputs": [],
   "source": [
    "def extract_track_tag(df):\n",
    "    data = []\n",
    "    for i, row in tqdm(df.iterrows()):\n",
    "        artist = row['artist_name']\n",
    "        track = row['track_name']\n",
    "        try:\n",
    "            res = getTrackTags(artist, track)\n",
    "            tags = {item['name']: item['count'] for item in res}\n",
    "            data.append([artist, track, tags])\n",
    "        except Exception:\n",
    "            print(f'Exception for {artist} - {track}')\n",
    "            continue\n",
    "\n",
    "    return pd.DataFrame(data=data, columns=['artist_name', 'track_name', 'tags'])"
   ]
  },
  {
   "cell_type": "code",
   "execution_count": 106,
   "id": "martial-works",
   "metadata": {
    "ExecuteTime": {
     "end_time": "2021-04-09T11:57:50.328452Z",
     "start_time": "2021-04-09T11:57:49.036059Z"
    }
   },
   "outputs": [
    {
     "name": "stderr",
     "output_type": "stream",
     "text": [
      "3it [00:01,  2.34it/s]"
     ]
    },
    {
     "name": "stdout",
     "output_type": "stream",
     "text": [
      "Exception for Spencer Bohren - Hip Hoperation/Plateau\n"
     ]
    },
    {
     "name": "stderr",
     "output_type": "stream",
     "text": [
      "\n"
     ]
    }
   ],
   "source": [
    "tags = extract_tag(discography.iloc[810:813])"
   ]
  },
  {
   "cell_type": "markdown",
   "id": "european-envelope",
   "metadata": {},
   "source": [
    "Extracting the tag runs at aroung 6 iterations per second. There is 1 million tracks, it would take 48 hours to extract all the tags."
   ]
  },
  {
   "cell_type": "markdown",
   "id": "earlier-cooling",
   "metadata": {},
   "source": [
    "# Artist tag extraction"
   ]
  },
  {
   "cell_type": "code",
   "execution_count": 12,
   "id": "floating-conservative",
   "metadata": {
    "ExecuteTime": {
     "end_time": "2021-04-15T22:22:27.298703Z",
     "start_time": "2021-04-15T22:22:27.218400Z"
    }
   },
   "outputs": [],
   "source": [
    "artists = discography.artist_name.drop_duplicates().to_frame()"
   ]
  },
  {
   "cell_type": "code",
   "execution_count": 13,
   "id": "republican-glasgow",
   "metadata": {
    "ExecuteTime": {
     "end_time": "2021-04-15T22:22:27.927892Z",
     "start_time": "2021-04-15T22:22:27.909493Z"
    }
   },
   "outputs": [
    {
     "data": {
      "text/html": [
       "<div>\n",
       "<style scoped>\n",
       "    .dataframe tbody tr th:only-of-type {\n",
       "        vertical-align: middle;\n",
       "    }\n",
       "\n",
       "    .dataframe tbody tr th {\n",
       "        vertical-align: top;\n",
       "    }\n",
       "\n",
       "    .dataframe thead th {\n",
       "        text-align: right;\n",
       "    }\n",
       "</style>\n",
       "<table border=\"1\" class=\"dataframe\">\n",
       "  <thead>\n",
       "    <tr style=\"text-align: right;\">\n",
       "      <th></th>\n",
       "      <th>artist_name</th>\n",
       "    </tr>\n",
       "  </thead>\n",
       "  <tbody>\n",
       "    <tr>\n",
       "      <th>0</th>\n",
       "      <td>Deep Dish</td>\n",
       "    </tr>\n",
       "    <tr>\n",
       "      <th>1</th>\n",
       "      <td>坂本龍一</td>\n",
       "    </tr>\n",
       "    <tr>\n",
       "      <th>14</th>\n",
       "      <td>Underworld</td>\n",
       "    </tr>\n",
       "    <tr>\n",
       "      <th>16</th>\n",
       "      <td>Ennio Morricone</td>\n",
       "    </tr>\n",
       "    <tr>\n",
       "      <th>17</th>\n",
       "      <td>Minus 8</td>\n",
       "    </tr>\n",
       "  </tbody>\n",
       "</table>\n",
       "</div>"
      ],
      "text/plain": [
       "        artist_name\n",
       "0         Deep Dish\n",
       "1              坂本龍一\n",
       "14       Underworld\n",
       "16  Ennio Morricone\n",
       "17          Minus 8"
      ]
     },
     "execution_count": 13,
     "metadata": {},
     "output_type": "execute_result"
    }
   ],
   "source": [
    "artists.head()"
   ]
  },
  {
   "cell_type": "code",
   "execution_count": 49,
   "id": "constant-chaos",
   "metadata": {
    "ExecuteTime": {
     "end_time": "2021-04-15T22:33:27.436472Z",
     "start_time": "2021-04-15T22:33:27.430306Z"
    }
   },
   "outputs": [],
   "source": [
    "def get_artist_tags(artist):\n",
    "    artist = urllib.parse.quote(artist)\n",
    "    url = f\"http://ws.audioscrobbler.com/2.0/?method=artist.gettoptags&artist={artist}&api_key={API_KEY}&format=json&autocorrect=1\"\n",
    "    response = requests.get(url).json()\n",
    "    if 'error' not in response:\n",
    "        return response['toptags']['tag']\n",
    "    else:\n",
    "        return None"
   ]
  },
  {
   "cell_type": "code",
   "execution_count": 50,
   "id": "filled-cradle",
   "metadata": {
    "ExecuteTime": {
     "end_time": "2021-04-15T22:33:27.914287Z",
     "start_time": "2021-04-15T22:33:27.903904Z"
    }
   },
   "outputs": [],
   "source": [
    "def extract_artist_tags(df):\n",
    "    data = []\n",
    "    for i, row in tqdm(df.iterrows()):\n",
    "        artist = row['artist_name']\n",
    "        try:\n",
    "            res = get_artist_tags(artist)\n",
    "            tags = {item['name']: item['count'] for item in res}\n",
    "            data.append([artist, res])\n",
    "        except Exception as e:\n",
    "            exception = e\n",
    "            print(f'Exception at index {i}: {artist}')\n",
    "            continue\n",
    "\n",
    "    pd.DataFrame(data=data, columns=['artist_name', 'tags']).to_csv(\"artist_tags.csv\")\n",
    "    return exception"
   ]
  },
  {
   "cell_type": "code",
   "execution_count": null,
   "id": "correct-doubt",
   "metadata": {
    "ExecuteTime": {
     "end_time": "2021-04-16T05:38:53.127406Z",
     "start_time": "2021-04-15T22:33:28.668245Z"
    }
   },
   "outputs": [],
   "source": [
    "exception = extract_artist_tags(artists)"
   ]
  },
  {
   "cell_type": "code",
   "execution_count": 52,
   "id": "least-czech",
   "metadata": {
    "ExecuteTime": {
     "end_time": "2021-04-16T05:38:53.141365Z",
     "start_time": "2021-04-16T05:38:53.132615Z"
    }
   },
   "outputs": [
    {
     "data": {
      "text/plain": [
       "TypeError(\"'NoneType' object is not iterable\")"
      ]
     },
     "execution_count": 52,
     "metadata": {},
     "output_type": "execute_result"
    }
   ],
   "source": [
    "exception"
   ]
  },
  {
   "cell_type": "markdown",
   "id": "unable-sacramento",
   "metadata": {},
   "source": [
    "Extracting all the artist tags would take around 8 hours."
   ]
  }
 ],
 "metadata": {
  "kernelspec": {
   "display_name": "mlbd",
   "language": "python",
   "name": "mlbd"
  },
  "language_info": {
   "codemirror_mode": {
    "name": "ipython",
    "version": 3
   },
   "file_extension": ".py",
   "mimetype": "text/x-python",
   "name": "python",
   "nbconvert_exporter": "python",
   "pygments_lexer": "ipython3",
   "version": "3.7.9"
  },
  "toc": {
   "base_numbering": 1,
   "nav_menu": {},
   "number_sections": true,
   "sideBar": true,
   "skip_h1_title": false,
   "title_cell": "Table of Contents",
   "title_sidebar": "Contents",
   "toc_cell": false,
   "toc_position": {},
   "toc_section_display": true,
   "toc_window_display": false
  }
 },
 "nbformat": 4,
 "nbformat_minor": 5
}
